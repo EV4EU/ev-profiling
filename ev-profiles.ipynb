{
 "cells": [
  {
   "cell_type": "code",
   "execution_count": 19,
   "outputs": [],
   "source": [
    "# Imports\n",
    "\n",
    "import numpy as np\n",
    "import pandas as pd\n",
    "import matplotlib.pyplot as plt\n",
    "import copy\n",
    "import secrets\n",
    "import datetime"
   ],
   "metadata": {
    "collapsed": false,
    "pycharm": {
     "name": "#%%\n"
    }
   }
  },
  {
   "cell_type": "code",
   "execution_count": 285,
   "outputs": [],
   "source": [
    "# Create an EV class with the following attributes:\n",
    "# - Brand\n",
    "# - Model\n",
    "# - Battery type\n",
    "# - Battery size\n",
    "# - Charging Efficiency\n",
    "# - Discharging Efficiency\n",
    "# - Energy per km\n",
    "# - SOC min\n",
    "# - SOC max\n",
    "# - Probability in population - this is the probability that a car of this type will be chosen from the population\n",
    "\n",
    "class EV:\n",
    "    def __init__(self, brand, model, battery_type, battery_size, charging_efficiency, discharging_efficiency, energy_per_km, soc_min, soc_max, probability_in_population, charging_probabilities=None):\n",
    "        self.brand = brand\n",
    "        self.model = model\n",
    "        self.battery_type = battery_type\n",
    "        self.battery_size = battery_size\n",
    "        self.charging_efficiency = charging_efficiency if charging_efficiency <= 1 or charging_efficiency >= 0 else 0.9\n",
    "        self.discharging_efficiency = discharging_efficiency if discharging_efficiency <= 1 or discharging_efficiency >= 0 else 0.9\n",
    "        self.energy_per_km = energy_per_km\n",
    "        self.soc_min = soc_min if soc_min >= 0.0 else 0.0\n",
    "        self.soc_max = soc_max if soc_max <= 1.0 else 1.0\n",
    "        self.probability_in_population = probability_in_population if probability_in_population <= 1.0 else 1.0\n",
    "\n",
    "        # Set charging probabilities or attribute values if None\n",
    "        if charging_probabilities is not None:\n",
    "            self.charging_probabilities = charging_probabilities\n",
    "        else:\n",
    "            self.charging_probabilities = {\"Fast\": 0.5, \"Slow\": 0.5}\n",
    "\n",
    "        # Attribute a charging type according to the probabilities in the charging_probabilities dictionary\n",
    "        self.charging_type = np.random.choice(list(self.charging_probabilities.keys()), p=list(self.charging_probabilities.values()))\n",
    "\n",
    "\n",
    "# Extend the class to create drivable EVs\n",
    "class DrivableEV(EV):\n",
    "\n",
    "    # __init__ method is inherited from EV class, extended with the state of charge. Creates the following attributes:\n",
    "    # - State of Charge\n",
    "    # - List of trips\n",
    "    # - Current trip\n",
    "    def __init__(self, brand, model, battery_type, battery_size, charging_efficiency, discharging_efficiency, energy_per_km, soc_min, soc_max, probability_in_population, charging_stations, initial_soc=None, stopping_soc=None, charging_probabilities=None):\n",
    "        super().__init__(brand, model, battery_type, battery_size, charging_efficiency, discharging_efficiency, energy_per_km, soc_min, soc_max, probability_in_population, charging_probabilities)\n",
    "\n",
    "        # EV ID\n",
    "        self.ev_id = secrets.token_hex(16)\n",
    "\n",
    "        # SOC variables\n",
    "        self.soc = [initial_soc]\n",
    "        self.current_soc = initial_soc\n",
    "        # Attribute a random SOC to stop the EV if none is provided\n",
    "        self.stopping_soc = stopping_soc if stopping_soc is not None else np.random.uniform(0.2, 0.3, 1)[0]\n",
    "\n",
    "        # List of trips and current trip\n",
    "        self.trips = []\n",
    "        self.split_trips = []\n",
    "\n",
    "        # Information about the charging stations\n",
    "        self.charging_stations = charging_stations\n",
    "\n",
    "        # Create a pool of possible charging stations according to EV charging type\n",
    "        self.default_charging_stations_pool = [charging_station for charging_station in self.charging_stations if\n",
    "                                               charging_station.charging_station_type == self.charging_type]\n",
    "\n",
    "        self.segment_charging_station_pool = [charging_station for charging_station in self.charging_stations if\n",
    "                                              charging_station.charging_station_type == 'Fast']\n",
    "\n",
    "        # Attribute a default charging station from the pool and attribute the EV ID to it\n",
    "        self.default_charging_station = np.random.choice(self.default_charging_stations_pool, 1)[0]\n",
    "        self.default_charging_station.ev_id = self.ev_id\n",
    "\n",
    "        # Attribute a random Fast charging station\n",
    "        self.segment_charging_station = np.random.choice(self.segment_charging_station_pool, 1)[0]\n",
    "        self.segment_charging_station.ev_id = self.ev_id\n",
    "\n",
    "        # Create a list of charging stations\n",
    "        self.charging_stations_list = [self.default_charging_station, self.segment_charging_station]\n",
    "\n",
    "        # Number of stops\n",
    "        self.number_of_stops = 0\n",
    "\n",
    "\n",
    "    # Format the print\n",
    "    def __repr__(self):\n",
    "        return f\"{self.brand} {self.model} with {self.battery_size} kWh battery\"\n",
    "\n",
    "    # Create a method to add a trip to the EV\n",
    "    def add_trip(self, trip):\n",
    "        self.trips.append(trip)\n",
    "\n",
    "\n",
    "    # Create a method to charge the EV\n",
    "    def charge(self, charge_amount):\n",
    "        self.current_soc += charge_amount * self.charging_efficiency\n",
    "\n",
    "        if self.current_soc > self.battery_size:\n",
    "            self.current_soc = self.battery_size\n",
    "\n",
    "        self.soc.append(self.current_soc)\n",
    "\n",
    "\n",
    "    # Create a method to discharge the EV\n",
    "    def discharge(self, discharge_amount):\n",
    "        self.current_soc -= discharge_amount / self.discharging_efficiency\n",
    "\n",
    "        if self.current_soc < 0:\n",
    "            self.current_soc = 0\n",
    "\n",
    "        self.soc.append(self.current_soc)\n",
    "\n",
    "\n",
    "    # Create a method to split the assigned trips in which the EV SOC is not enough to cover it\n",
    "    def split_ev_trips(self):\n",
    "        list_split_trips = []\n",
    "\n",
    "        # Create new DrivableTrip object based on assigned trips and append to the list:\n",
    "        # - Check if trip required energy is more than the EV SOC\n",
    "        # - If yes, segment the trip and calculate the covered trip length, the remaining trip length and the energy required for each until the EV SOC is enough to cover the remaining trip\n",
    "        # - If no, append the trip to the list\n",
    "        for trip in self.trips:\n",
    "\n",
    "            # Check need to split trip\n",
    "            if trip.trip_energy_consumption > (self.current_soc - self.stopping_soc) * self.discharging_efficiency:\n",
    "                # Initialize the covered trip length and remaining trip length\n",
    "                covered_trip_length = 0\n",
    "                remaining_trip_length = trip.trip_length\n",
    "\n",
    "                # Current time for trip start\n",
    "                current_time = trip.trip_start_time\n",
    "\n",
    "                # Initialize the energy required for the trip\n",
    "                energy_required = trip.trip_length * self.energy_per_km\n",
    "\n",
    "                # Loop to segment the trip until the EV SOC is enough to cover the remaining trip\n",
    "                while energy_required > (self.current_soc - self.stopping_soc) * self.discharging_efficiency:\n",
    "\n",
    "                    # Calculate the covered trip length\n",
    "                    covered_trip_length += (self.current_soc - self.stopping_soc) / self.energy_per_km\n",
    "                    remaining_trip_length -= (self.current_soc - self.stopping_soc) / self.energy_per_km\n",
    "                    energy_required -= (self.current_soc - self.stopping_soc) * self.discharging_efficiency\n",
    "                    self.discharge(self.current_soc - self.stopping_soc)\n",
    "\n",
    "                    # Calculate duration of covered distance as datetime\n",
    "                    covered_trip_duration = covered_trip_length / trip.trip_speed\n",
    "                    covered_trip_duration = datetime.timedelta(hours=covered_trip_duration)\n",
    "\n",
    "                    # Segment end time\n",
    "                    trip_end_time = current_time + covered_trip_duration\n",
    "\n",
    "                    drivable_trip = DrivableTrip(covered_trip_length, trip.trip_speed,\n",
    "                                                 current_time, trip_end_time, covered_trip_duration,\n",
    "                                                 profile=trip.profile,\n",
    "                                                 trip_id=trip.trip_id)\n",
    "\n",
    "                    # Add the EV information to the trip\n",
    "                    drivable_trip.ev = self\n",
    "                    drivable_trip.ev_id = self.ev_id\n",
    "                    drivable_trip.calculate_trip_energy_consumption()\n",
    "                    drivable_trip.calculate_trip_required_soc()\n",
    "                    drivable_trip.assign_ev_battery_size()\n",
    "\n",
    "                    list_split_trips.append(drivable_trip)\n",
    "\n",
    "                    # Charge the EV until it reaches 0.8 of the battery size\n",
    "                    self.charge(self.battery_size * 0.8 - self.current_soc)\n",
    "\n",
    "                    # Update the number of stops\n",
    "                    self.number_of_stops += 1\n",
    "\n",
    "                    # Determine the time to charge the EV\n",
    "                    charge_time = (self.battery_size * 0.8 - self.current_soc) / self.segment_charging_station.charging_station_power * self.segment_charging_station.charging_station_efficiency\n",
    "\n",
    "                    # Calculate the charge time as datetime\n",
    "                    charge_time = datetime.timedelta(hours=charge_time)\n",
    "\n",
    "                    # Calculate the end time of the charge\n",
    "                    charge_end_time = trip_end_time + charge_time\n",
    "\n",
    "                    # Update the current time\n",
    "                    current_time = charge_end_time\n",
    "\n",
    "                    # Update the charging station history\n",
    "                    self.segment_charging_station.update_history(trip_end_time, charge_end_time)\n",
    "\n",
    "                # Charge the EV at the end of trip to 0.8 of the battery size\n",
    "                self.charge(self.battery_size * 0.8 - self.current_soc)\n",
    "\n",
    "                # Update the time to charge the EV using the default charging station\n",
    "                charge_time = (self.battery_size * 0.8 - self.current_soc) / self.default_charging_station.charging_station_power * self.default_charging_station.charging_station_efficiency\n",
    "\n",
    "                # Update the default charging station history\n",
    "                self.default_charging_station.update_history(current_time, current_time + datetime.timedelta(hours=charge_time))\n",
    "\n",
    "\n",
    "            else:\n",
    "                # Simply add the trip to the list\n",
    "                list_split_trips.append(trip)\n",
    "\n",
    "                # Charge the EV at the end of trip to 0.8 of the battery size\n",
    "                self.charge(self.battery_size * 0.8 - self.current_soc)\n",
    "\n",
    "                # Update the time to charge the EV using the default charging station\n",
    "                charge_time = (self.battery_size * 0.8 - self.current_soc) / self.default_charging_station.charging_station_power * self.default_charging_station.charging_station_efficiency\n",
    "\n",
    "                # Update the time\n",
    "\n",
    "                # Update the default charging station history\n",
    "                self.default_charging_station.update_history(trip.trip_end_time, trip.trip_end_time + datetime.timedelta(hours=charge_time))\n",
    "\n",
    "        # Update the trips list\n",
    "        self.split_trips = list_split_trips\n"
   ],
   "metadata": {
    "collapsed": false,
    "pycharm": {
     "name": "#%%\n"
    }
   }
  },
  {
   "cell_type": "code",
   "execution_count": 329,
   "outputs": [],
   "source": [
    "# Define a Trip class, that will assign a trip to an EV. Has the following parameters:\n",
    "# - EV\n",
    "# - Trip length\n",
    "# - Trip start time (can be a range)\n",
    "# - Trip end time (can be a range)\n",
    "# - Trip start SOC\n",
    "# - Trip end SOC\n",
    "# - Trip energy consumption\n",
    "# - Trip stops\n",
    "\n",
    "class Trip:\n",
    "    def __init__(self, trip_length, trip_start_time, trip_end_time, trip_duration):\n",
    "        self.trip_length = trip_length\n",
    "        self.trip_start_time = trip_start_time\n",
    "        self.trip_end_time = trip_end_time\n",
    "        self.trip_duration = trip_duration\n",
    "\n",
    "\n",
    "class DrivableTrip(Trip):\n",
    "    # Init method is the same as Trip class\n",
    "    def __init__(self, trip_length, trip_speed, trip_start_time, trip_end_time, trip_duration, profile=None, trip_id=None):\n",
    "        super().__init__(trip_length, trip_start_time, trip_end_time, trip_duration)\n",
    "\n",
    "        # Information about EV\n",
    "        self.ev = None\n",
    "        self.ev_id = None\n",
    "\n",
    "        # Information about the trip\n",
    "        self.trip_speed = trip_speed\n",
    "        self.trip_energy_consumption = None\n",
    "        self.trip_required_soc = None\n",
    "        self.covered_trip_length = None\n",
    "        self.ev_battery_size = None\n",
    "        self.trip_estimate_arrival = trip_end_time\n",
    "        self.profile = profile\n",
    "\n",
    "        # Assign a trip ID\n",
    "        self.trip_id = trip_id if trip_id is not None else secrets.token_hex(16)\n",
    "\n",
    "\n",
    "    # Formatted print method\n",
    "    def __repr__(self):\n",
    "        return f'Trip length: {self.trip_length} km, trip start time: {self.trip_start_time}, ' \\\n",
    "               f'trip end time: {self.trip_end_time}, trip energy consumption: {self.trip_energy_consumption} kWh, ' \\\n",
    "               f'trip required SOC: {self.trip_required_soc} %'\n",
    "\n",
    "    # Create a method to calculate the trip energy consumption\n",
    "    def calculate_trip_energy_consumption(self):\n",
    "        self.trip_energy_consumption = self.trip_length * self.ev.energy_per_km\n",
    "\n",
    "\n",
    "    # Create a method to calculate the trip required SOC\n",
    "    def calculate_trip_required_soc(self):\n",
    "        self.trip_required_soc = self.trip_energy_consumption / self.ev.battery_size\n",
    "\n",
    "\n",
    "    # Create a method to assign the battery size of the EV to the trip\n",
    "    def assign_ev_battery_size(self):\n",
    "        self.ev_battery_size = self.ev.battery_size\n",
    "\n",
    "\n",
    "    # Create a method to add stops to the trip\n",
    "    def add_stop(self, stop):\n",
    "        self.trip_stops.append(stop)\n",
    "\n",
    "\n",
    "    # Create a method to update the covered trip length\n",
    "    def update_covered_trip_length(self, covered_trip_length):\n",
    "        self.covered_trip_length += covered_trip_length\n",
    "\n",
    "\n",
    "    # Create a method to update the required SOC\n",
    "    def update_trip_required_soc(self):\n",
    "        self.trip_required_soc = (self.trip_energy_consumption - self.covered_trip_length * self.ev.energy_per_km) / self.ev.battery_size\n"
   ],
   "metadata": {
    "collapsed": false,
    "pycharm": {
     "name": "#%%\n"
    }
   }
  },
  {
   "cell_type": "code",
   "execution_count": 330,
   "outputs": [],
   "source": [
    "# Define a Charging Station class, that will charge the EVs. Has the following parameters:\n",
    "# - Charging station name\n",
    "# - Charging station location\n",
    "# - Charging station type\n",
    "# - Charging station power\n",
    "# - Charging station efficiency\n",
    "# - Charging station availability\n",
    "# - Charging station cost\n",
    "\n",
    "class ChargingStation:\n",
    "    def __init__(self, charging_station_type, charging_station_power, charging_station_efficiency, charging_station_cost, charging_station_probability, ev_id=None):\n",
    "        # Parameters Assign\n",
    "        self.charging_station_type = charging_station_type\n",
    "        self.charging_station_power = charging_station_power\n",
    "        self.charging_station_cost = charging_station_cost\n",
    "        self.charging_station_efficiency = charging_station_efficiency\n",
    "        self.charging_station_probability = charging_station_probability\n",
    "\n",
    "        # Charging station history\n",
    "        self.charging_station_history = []\n",
    "\n",
    "        # EV ID\n",
    "        self.ev_id = ev_id\n",
    "\n",
    "\n",
    "    # Method to update the charging station history to store the logs\n",
    "    def update_history(self, start_time, end_time):\n",
    "        self.charging_station_history.append([start_time, end_time])\n"
   ],
   "metadata": {
    "collapsed": false,
    "pycharm": {
     "name": "#%%\n"
    }
   }
  },
  {
   "cell_type": "code",
   "execution_count": 331,
   "outputs": [],
   "source": [
    "# Define a User class, that will have the following parameters:\n",
    "# - User name\n",
    "# - User location\n",
    "# - User trips\n",
    "# - User EV\n",
    "# - User type\n",
    "\n",
    "class User:\n",
    "    def __init__(self, user_name, user_profile):\n",
    "        # Parameters Assign\n",
    "        self.user_name = user_name\n",
    "        self.user_profile = user_profile\n",
    "\n",
    "    # Method to assign an EV to the user\n",
    "    def assign_ev(self, ev):\n",
    "        self.user_ev = ev\n",
    "\n",
    "\n",
    "# Create a Profile class that will determine the behaviour of the Users. Has the following parameters:\n",
    "# - Profile name\n",
    "# - Profile type\n",
    "# - Profile trip schedule\n",
    "# - Trip type\n",
    "class Profile:\n",
    "    def __init__(self, profile_name, trip_type, profile_trip_schedule):\n",
    "        # Parameters Assign\n",
    "        self.profile_name = profile_name\n",
    "        self.trip_type = trip_type\n",
    "        self.profile_trip_schedule = profile_trip_schedule\n",
    "\n",
    "    # Format printing\n",
    "    def __repr__(self):\n",
    "        return f'N:{self.profile_name}, T:{self.trip_type}'\n",
    "\n",
    "\n",
    "# Create a Schedule class with the following parameters:\n",
    "# - Schedule start\n",
    "# - Schedule end\n",
    "class Schedule:\n",
    "    def __init__(self, schedule_start):\n",
    "        # Parameters Assign\n",
    "        self.schedule_start = schedule_start\n",
    "\n",
    "    # Format printing\n",
    "    def __repr__(self):\n",
    "        return f'Schedule start hours: {self.schedule_start}'"
   ],
   "metadata": {
    "collapsed": false,
    "pycharm": {
     "name": "#%%\n"
    }
   }
  },
  {
   "cell_type": "code",
   "execution_count": 332,
   "outputs": [],
   "source": [
    " # Define an Aggregator class, that will aggregate the trips and EVs. Has the following parameters:\n",
    "# - EVs\n",
    "# - Number of EVs\n",
    "class Aggregator:\n",
    "    def __init__(self, profiles, evs, charging_stations):\n",
    "        # Profile assign\n",
    "        self.profiles = profiles\n",
    "\n",
    "        # Assign the EVs to the aggregator\n",
    "        self.evs = evs\n",
    "\n",
    "        # Number of EVs of the simulation\n",
    "        self.number_of_evs = None\n",
    "\n",
    "        # Create a list of trips\n",
    "        self.trips = []\n",
    "        self.segments = []\n",
    "        self.population = None\n",
    "        self.assigned_evs = []\n",
    "\n",
    "        # Assign the charging stations to the aggregator\n",
    "        self.charging_stations = charging_stations\n",
    "\n",
    "    # Add an EV to the fleet\n",
    "    def add_ev(self, ev):\n",
    "        self.evs.append(ev)\n",
    "\n",
    "    # Assign a trip to an EV\n",
    "    def assign_trip(self, ev, trip):\n",
    "        ev.add_trip(trip)\n",
    "\n",
    "    # Assign a charging station to an EV, and charge the EV if:\n",
    "    # - The charging station is available\n",
    "    # - The charging station is of the correct type\n",
    "    # - The charging station has enough power to charge the EV\n",
    "    def assign_charging_station(self, ev, charging_station):\n",
    "        if charging_station.charging_station_availability == True and charging_station.charging_station_type == ev.battery_type and charging_station.charging_station_power >= ev.battery_size:\n",
    "            ev.current_charging_station = charging_station\n",
    "            ev.charge(charging_station.charging_station_power)\n",
    "            charging_station.charging_station_availability = False\n",
    "\n",
    "\n",
    "    # Create the population of DrivableEVs according to NumPy's random.choice\n",
    "    def create_evs(self, n_evs):\n",
    "        # Assign the number of EVs to the aggregator\n",
    "        self.number_of_evs = n_evs\n",
    "\n",
    "        # Create an EV population according to the given probabilities of the EVs\n",
    "        population_choice = np.random.choice(self.evs, n_evs,\n",
    "                                             p=[ev.probability_in_population for ev in self.evs])\n",
    "\n",
    "        # Create a list of DrivableEVs\n",
    "        self.population = [DrivableEV(ev.brand, ev.model, ev.battery_type, ev.battery_size,\n",
    "                                      ev.charging_efficiency, ev.discharging_efficiency,\n",
    "                                      ev.energy_per_km, ev.soc_min, ev.soc_max,\n",
    "                                      ev.probability_in_population,\n",
    "                                      self.charging_stations,\n",
    "                                      initial_soc=np.round(np.random.uniform(ev.soc_min,\n",
    "                                                                             ev.soc_max, 1)[0], 2))\n",
    "                           for ev in population_choice]\n",
    "\n",
    "\n",
    "    # Create DrivableTrips with gamma distribution for the trip length\n",
    "    # Create a gamma distribution for the trip length\n",
    "    def create_trips(self, n_trips, time_resolution=1, avg_speed_short=60, avg_speed_medium=80, avg_speed_long=100, medium_trip_min=50, medium_trip_max=100, trip_start_variation=1.0, avg_speed_variation=1.0):\n",
    "        shape, scale = 46.*.01, 46.*2\n",
    "        trip_lengths = np.round(np.random.gamma(shape, scale, n_trips), 2)\n",
    "\n",
    "        # Assign the trip lengths to the trips list\n",
    "        self.trips = [Trip(trip_length, None, None, None) for trip_length in trip_lengths]\n",
    "\n",
    "        # Create the DrivableTrips\n",
    "        for trip in range(n_trips):\n",
    "\n",
    "            # Calculate trip type based on distance\n",
    "            trip_type = 'Short' if trip_lengths[trip] <= medium_trip_min else 'Medium' if medium_trip_min < trip_lengths[trip] <= medium_trip_max else 'Long'\n",
    "\n",
    "            # Calculate average speed based on trip type\n",
    "            avg_speed = avg_speed_short if trip_type == 'Short' else avg_speed_medium if trip_type == 'Medium' else avg_speed_long\n",
    "\n",
    "            # Get the user profiles that match the trip type\n",
    "            user_profiles = [profile for profile in self.profiles if profile.trip_type == trip_type]\n",
    "\n",
    "            # Get the user profile based on the user profiles that match the trip type\n",
    "            user_profile = np.random.choice(user_profiles, 1)[0]\n",
    "\n",
    "            # Check how many trips the user has\n",
    "            user_trips = len(user_profile.profile_trip_schedule.schedule_start)\n",
    "\n",
    "            # If there are more than 1 trip, split into multiple trips\n",
    "            if user_trips > 1:\n",
    "\n",
    "                # Placeholder for list of segments of each trip. Each segment is a DrivableTrip\n",
    "                segment_list = []\n",
    "\n",
    "                # Calculate the required socs for trip segment\n",
    "                for i in range(user_trips):\n",
    "                    # Get a random start centered around schedule start\n",
    "                    segment_start = np.random.uniform(user_profile.profile_trip_schedule.schedule_start[i] - trip_start_variation,\n",
    "                                                      user_profile.profile_trip_schedule.schedule_start[i] + trip_start_variation, 1)[0]\n",
    "\n",
    "                    # Get a random average speed centered on avg_speed with variation\n",
    "                    segment_avg_speed = np.random.uniform(avg_speed - avg_speed_variation, avg_speed + avg_speed_variation, 1)[0] * time_resolution\n",
    "\n",
    "                    # Calculate the segment end\n",
    "                    segment_end = segment_start + trip_lengths[trip] / segment_avg_speed\n",
    "\n",
    "                    # Calculate the segment length\n",
    "                    duration = segment_end - segment_start if segment_end > segment_start else 0\n",
    "\n",
    "                    # Convert float values to timestamp\n",
    "                    segment_start = datetime.datetime(2023, 1, 1, int(segment_start), int((segment_start - int(segment_start)) * 60))\n",
    "                    segment_end = datetime.datetime(2023, 1, 1, int(segment_end), int((segment_end - int(segment_end)) * 60))\n",
    "                    duration = datetime.datetime(2023, 1, 1, int(duration), int((duration - int(duration)) * 60))\n",
    "\n",
    "                    # Create a DrivableTrip for each segment\n",
    "                    segment_list.append(DrivableTrip(trip_lengths[trip],\n",
    "                                                     segment_avg_speed,\n",
    "                                                     segment_start, segment_end,\n",
    "                                                     duration, profile=user_profile))\n",
    "\n",
    "                # Append to the trips list\n",
    "                self.segments.append(segment_list)\n",
    "\n",
    "            elif user_trips == 1:\n",
    "\n",
    "                # Get a random start centered around schedule start\n",
    "                segment_start = np.random.uniform(user_profile.profile_trip_schedule.schedule_start[0] - trip_start_variation,\n",
    "                                                  user_profile.profile_trip_schedule.schedule_start[0] + trip_start_variation, 1)[0]\n",
    "\n",
    "                # Get a random average speed centered on avg_speed with variation\n",
    "                segment_avg_speed = np.random.uniform(avg_speed - avg_speed_variation, avg_speed + avg_speed_variation, 1)[0] * time_resolution\n",
    "\n",
    "                # Calculate the segment end\n",
    "                segment_end = segment_start + trip_lengths[trip] / segment_avg_speed\n",
    "\n",
    "                # Calculate the segment length\n",
    "                duration = segment_end - segment_start if segment_end > segment_start else 0\n",
    "\n",
    "                # Convert float values to time\n",
    "                segment_start = datetime.datetime(2023, 1, 1, int(segment_start), int((segment_start - int(segment_start)) * 60))\n",
    "                segment_end = datetime.datetime(2023, 1, 1, int(segment_end), int((segment_end - int(segment_end)) * 60))\n",
    "                duration = datetime.datetime(2023, 1, 1, int(duration), int((duration - int(duration)) * 60))\n",
    "\n",
    "                # Create a DrivableTrip for the trip\n",
    "                drivable_trip = DrivableTrip(trip_lengths[trip],\n",
    "                                             segment_avg_speed,\n",
    "                                             segment_start, segment_end,\n",
    "                                             duration, profile=user_profile)\n",
    "\n",
    "                # Append to the segments list\n",
    "                self.segments.append([drivable_trip])\n",
    "\n",
    "\n",
    "    # Assign the larger trips to the EVs with larger battery sizes with a greater probability\n",
    "    def assign_trips(self):\n",
    "        # Create a copy of the population\n",
    "        population_copy = copy.deepcopy(self.population)\n",
    "        segments_copy = copy.deepcopy(self.segments)\n",
    "\n",
    "        # Assigned EVs and Trips\n",
    "        assigned_evs = []\n",
    "\n",
    "        # Create a list with the probabilities of the EVs to get a trip\n",
    "        probabilities = [ev.battery_size / sum([ev.battery_size for ev in self.population]) for ev in population_copy]\n",
    "\n",
    "        # Sort the segments by trip length and assign it to a temporary variable\n",
    "        sorted_segments = sorted(segments_copy, key=lambda x: x[0].trip_length, reverse=True)\n",
    "\n",
    "        # Assign the sorted trips to the EVs\n",
    "        for segment in sorted_segments:\n",
    "            # Choose an EV from the population\n",
    "            ev = np.random.choice(population_copy, 1, p=probabilities)[0]\n",
    "\n",
    "            for trip in segment:\n",
    "                # Assign the trip segments to the EV\n",
    "                trip.ev = ev\n",
    "                trip.ev_id = ev.ev_id\n",
    "                trip.calculate_trip_energy_consumption()\n",
    "                trip.calculate_trip_required_soc()\n",
    "                trip.assign_ev_battery_size()\n",
    "\n",
    "                # Add the trip to the EV\n",
    "                ev.add_trip(trip)\n",
    "\n",
    "                # Calculate the trip energy consumption and required SOC\n",
    "                trip.calculate_trip_energy_consumption()\n",
    "                trip.calculate_trip_required_soc()\n",
    "\n",
    "            # Split the trip into segments\n",
    "            ev.split_ev_trips()\n",
    "\n",
    "            # Remove the EV from the population\n",
    "            population_copy.remove(ev)\n",
    "\n",
    "            self.assigned_evs.append(ev)\n",
    "\n",
    "            # Recalculate the probabilities\n",
    "            probabilities = [ev.battery_size / sum([ev.battery_size for ev in population_copy]) for ev in population_copy]\n",
    "\n",
    "            # If the population is empty, break the loop\n",
    "            if len(population_copy) == 0:\n",
    "                break\n",
    "\n",
    "\n",
    "    # Create the charging stations\n",
    "    def create_cs(self, n_cs):\n",
    "        # Create a list of charging stations\n",
    "        charging_stations = []\n",
    "\n",
    "        # Create a list of charging station based on the CS profiles\n",
    "        for i in range(n_cs):\n",
    "            # Get a random CS profile\n",
    "            cs_profile = np.random.choice(self.charging_stations, 1)[0]\n",
    "\n",
    "            # Create a charging station\n",
    "            charging_station = ChargingStation(cs_profile.charging_station_type,\n",
    "                                               cs_profile.charging_station_power,\n",
    "                                               cs_profile.charging_station_efficiency,\n",
    "                                               cs_profile.charging_station_cost)\n",
    "\n",
    "            # Append to the list\n",
    "            charging_stations.append(charging_station)\n",
    "\n",
    "        # Assign the charging stations to the aggregator\n",
    "        self.charging_stations = charging_stations\n",
    "\n",
    "\n",
    "    # Add a stop to the trip and EVs when:\n",
    "    # if required SOC is > 1.0;\n",
    "    # required SOC > current SOC;\n",
    "    # current SOC <= 0.2\n",
    "    def add_stop(self):\n",
    "        # Check population for need to add a stop\n",
    "        for ev in self.population:\n",
    "            # Check if the trip requires a stop\n",
    "            if ev.trips[-1].required_soc > 1.0 or ev.trips[-1].required_soc > ev.soc or ev.soc <= 0.2:\n",
    "\n",
    "                # Create a list with available charging stations\n",
    "                available_charging_stations = [cs for cs in self.charging_stations if cs.charging_station_availability == True]\n",
    "\n",
    "                # If there are available stations, attribute the first to the EV\n",
    "                ev.trip.add_stop(available_charging_stations[0])\n",
    "\n",
    "                # Charge the EV\n",
    "                ev.charge(ev.current_charging_station.charging_station_power)\n",
    "\n",
    "                # Update the charging station availability\n",
    "                ev.current_charging_station.charging_station_availability = False\n",
    "\n",
    "\n",
    "    # Create a DataFrame of the population\n",
    "    def population_dataframe(self):\n",
    "        # Create a DataFrame of the population\n",
    "        population_dataframe = pd.DataFrame([ev.__dict__ for ev in self.population])\n",
    "\n",
    "        # Return the DataFrame\n",
    "        return population_dataframe\n",
    "\n",
    "\n",
    "    # Create a DataFrame of assigned EVs\n",
    "    def assigned_evs_dataframe(self):\n",
    "        # Create a DataFrame of the population\n",
    "        assigned_evs_dataframe = pd.DataFrame([ev.__dict__ for ev in self.assigned_evs])\n",
    "\n",
    "        # Return the DataFrame\n",
    "        return assigned_evs_dataframe\n",
    "\n",
    "\n",
    "    # Create a DataFrame of the trips\n",
    "    def assigned_trips_dataframe(self):\n",
    "        # Create a DataFrame of the trips\n",
    "        trips_dataframe = pd.DataFrame([trip.trip_length for trip in self.trips])\n",
    "        trips_dataframe.columns = [\"trip_length\"]\n",
    "\n",
    "        # Return the DataFrame\n",
    "        return trips_dataframe\n",
    "\n",
    "\n",
    "    # Create a DataFrame of assigned Trips and all the information in the list\n",
    "    def assigned_segments_dataframe(self):\n",
    "        # Create a DataFrame of the population\n",
    "        assigned_trips_dataframe = pd.DataFrame([trip.__dict__ for ev in self.assigned_evs for trip in ev.trips])\n",
    "\n",
    "        # Return the DataFrame\n",
    "        return assigned_trips_dataframe\n",
    "\n",
    "    # Create a DataFrame of the EVs' split trips\n",
    "    def assigned_split_trips_dataframe(self):\n",
    "        # Create a DataFrame of the population\n",
    "        assigned_split_trips_dataframe = pd.DataFrame([trip.__dict__ for ev in self.assigned_evs for trip in ev.split_trips])\n",
    "\n",
    "        # Return the DataFrame\n",
    "        return assigned_split_trips_dataframe\n",
    "\n",
    "\n",
    "    # Create a DataFrame of the charging stations used by the EVs\n",
    "    def assigned_cs_dataframe(self):\n",
    "        # Create a DataFrame of the population\n",
    "        assigned_cs_dataframe = pd.DataFrame([cs.__dict__ for ev in self.assigned_evs for cs in ev.charging_stations_list])\n",
    "\n",
    "        # Return the DataFrame\n",
    "        return assigned_cs_dataframe"
   ],
   "metadata": {
    "collapsed": false,
    "pycharm": {
     "name": "#%%\n"
    }
   }
  },
  {
   "cell_type": "code",
   "execution_count": 333,
   "outputs": [
    {
     "name": "stdout",
     "output_type": "stream",
     "text": [
      "1.0\n"
     ]
    }
   ],
   "source": [
    "# Create a list of EVs to use in the simulation\n",
    "\n",
    "EVs = [EV(brand='Nissan', model='Leaf', battery_type='BEV', battery_size=59,\n",
    "          charging_efficiency=0.9, discharging_efficiency=0.9,\n",
    "          probability_in_population=0.16, energy_per_km=0.17, soc_min=0.7, soc_max=1.0,\n",
    "          charging_probabilities={'Slow': 0.5, 'Fast': 0.5}),\n",
    "       EV(brand='Tesla', model='Model 3', battery_type='BEV', battery_size=95,\n",
    "          charging_efficiency=0.9, discharging_efficiency=0.9,\n",
    "          probability_in_population=0.13, energy_per_km=0.18, soc_min=0.7, soc_max=1.0,\n",
    "          charging_probabilities={'Slow': 0.5, 'Fast': 0.5}),\n",
    "       EV(brand='Peugeot', model='e-Expert', battery_type='BEV', battery_size=68,\n",
    "          charging_efficiency=0.9, discharging_efficiency=0.9,\n",
    "          probability_in_population=0.1, energy_per_km=0.26, soc_min=0.7, soc_max=1.0,\n",
    "          charging_probabilities={'Slow': 0.5, 'Fast': 0.5}),\n",
    "       EV(brand='Renault', model='Zoe', battery_type='BEV', battery_size=52,\n",
    "          charging_efficiency=0.9, discharging_efficiency=0.9,\n",
    "          probability_in_population=0.1, energy_per_km=0.17, soc_min=0.7, soc_max=1.0,\n",
    "          charging_probabilities={'Slow': 0.5, 'Fast': 0.5}),\n",
    "       EV(brand='Jaguar', model='I-Pace', battery_type='BEV', battery_size=85,\n",
    "          charging_efficiency=0.9, discharging_efficiency=0.9,\n",
    "          probability_in_population=0.09, energy_per_km=0.22, soc_min=0.7, soc_max=1.0,\n",
    "          charging_probabilities={'Slow': 0.5, 'Fast': 0.5}),\n",
    "       EV(brand='Mercedes', model='E300', battery_type='PHEV', battery_size=13.5,\n",
    "          charging_efficiency=0.9, discharging_efficiency=0.9,\n",
    "          probability_in_population=0.08, energy_per_km=0.18, soc_min=0.7, soc_max=1.0,\n",
    "          charging_probabilities={'Slow': 0.5, 'Fast': 0.5}),\n",
    "       EV(brand='BMW', model='530e', battery_type='PHEV', battery_size=70.2,\n",
    "          charging_efficiency=0.9, discharging_efficiency=0.9,\n",
    "          probability_in_population=0.08, energy_per_km=0.16, soc_min=0.7, soc_max=1.0,\n",
    "          charging_probabilities={'Slow': 0.5, 'Fast': 0.5}),\n",
    "       EV(brand='Audi Q4', model='e-tron', battery_type='PHEV', battery_size=55,\n",
    "          charging_efficiency=0.9, discharging_efficiency=0.9,\n",
    "          probability_in_population=0.07, energy_per_km=0.17, soc_min=0.7, soc_max=1.0,\n",
    "          charging_probabilities={'Slow': 0.5, 'Fast': 0.5}),\n",
    "       EV(brand='Hyundai', model='Kauai', battery_type='BEV', battery_size=74,\n",
    "          charging_efficiency=0.9, discharging_efficiency=0.9,\n",
    "          probability_in_population=0.06, energy_per_km=0.192, soc_min=0.7, soc_max=1.0,\n",
    "          charging_probabilities={'Slow': 0.5, 'Fast': 0.5}),\n",
    "       EV(brand='Volvo', model='XC40', battery_type='PHEV', battery_size=78,\n",
    "          charging_efficiency=0.9, discharging_efficiency=0.9,\n",
    "          probability_in_population=0.05, energy_per_km=0.176, soc_min=0.7, soc_max=1.0,\n",
    "          charging_probabilities={'Slow': 0.5, 'Fast': 0.5}),\n",
    "       EV(brand='Wolkswagen', model='ID.3', battery_type='PHEV', battery_size=58,\n",
    "          charging_efficiency=0.9, discharging_efficiency=0.9,\n",
    "          probability_in_population=0.05, energy_per_km=0.155, soc_min=0.7, soc_max=1.0,\n",
    "          charging_probabilities={'Slow': 0.5, 'Fast': 0.5}),\n",
    "       EV(brand='Others', model='Others', battery_type='PEV', battery_size=20,\n",
    "          charging_efficiency=0.9, discharging_efficiency=0.9,\n",
    "          probability_in_population=0.03, energy_per_km=0.2, soc_min=0.7, soc_max=1.0,\n",
    "          charging_probabilities={'Slow': 0.5, 'Fast': 0.5})]\n",
    "\n",
    "# Print the sum of the probabilities in the population of EVs\n",
    "sum_of_probabilities = 0\n",
    "for ev in EVs:\n",
    "    sum_of_probabilities += ev.probability_in_population\n",
    "print(sum_of_probabilities)"
   ],
   "metadata": {
    "collapsed": false,
    "pycharm": {
     "name": "#%%\n"
    }
   }
  },
  {
   "cell_type": "code",
   "execution_count": 334,
   "outputs": [],
   "source": [
    "# Create a list of Charging Stations to use in the simulation\n",
    "\n",
    "CS = [ChargingStation(charging_station_type='Slow',\n",
    "                      charging_station_power=3.6,\n",
    "                      charging_station_efficiency=0.9,\n",
    "                      charging_station_cost=0.15,\n",
    "                      charging_station_probability=0.25),\n",
    "      ChargingStation(charging_station_type='Slow',\n",
    "                      charging_station_power=7.2,\n",
    "                      charging_station_efficiency=0.9,\n",
    "                      charging_station_cost=0.15,\n",
    "                      charging_station_probability=0.25),\n",
    "      ChargingStation(charging_station_type='Fast',\n",
    "                      charging_station_power=3.6,\n",
    "                      charging_station_efficiency=0.9,\n",
    "                      charging_station_cost=0.15,\n",
    "                      charging_station_probability=0.25),\n",
    "      ChargingStation(charging_station_type='Fast',\n",
    "                      charging_station_power=7.2,\n",
    "                      charging_station_efficiency=0.9,\n",
    "                      charging_station_cost=0.15,\n",
    "                      charging_station_probability=0.25)]"
   ],
   "metadata": {
    "collapsed": false,
    "pycharm": {
     "name": "#%%\n"
    }
   }
  },
  {
   "cell_type": "code",
   "execution_count": 335,
   "outputs": [],
   "source": [
    "# Create the profiles to use in the simulation\n",
    "\n",
    "# Create a list of profiles\n",
    "PROFILES = [Profile(profile_name='Residential', profile_trip_schedule=Schedule([8, 16]), trip_type='Short'),\n",
    "            Profile(profile_name='Residential', profile_trip_schedule=Schedule([5, 18]), trip_type='Medium'),\n",
    "            Profile(profile_name='Shopping', profile_trip_schedule=Schedule([8, 18]), trip_type='Short'),\n",
    "            Profile(profile_name='Work', profile_trip_schedule=Schedule([8]), trip_type='Long')]"
   ],
   "metadata": {
    "collapsed": false,
    "pycharm": {
     "name": "#%%\n"
    }
   }
  },
  {
   "cell_type": "code",
   "execution_count": 336,
   "outputs": [],
   "source": [
    "# Create an Aggregator object\n",
    "aggregator = Aggregator(profiles=PROFILES, evs=EVs, charging_stations=CS)\n",
    "\n",
    "# Create the population of EVs\n",
    "aggregator.create_evs(n_evs=100)\n",
    "\n",
    "# Create the trips\n",
    "aggregator.create_trips(n_trips=100,\n",
    "                        avg_speed_short=60,\n",
    "                        avg_speed_medium=80,\n",
    "                        avg_speed_long=100)\n",
    "\n",
    "# Assign the EVs to the trips and calculate the trip energy consumption and required SOC.\n",
    "# Also, assign the trip to the EV\n",
    "aggregator.assign_trips()"
   ],
   "metadata": {
    "collapsed": false,
    "pycharm": {
     "name": "#%%\n"
    }
   }
  },
  {
   "cell_type": "code",
   "execution_count": 337,
   "outputs": [
    {
     "data": {
      "text/plain": "         brand   model battery_type  battery_size  charging_efficiency  \\\n0      Renault     Zoe          BEV          52.0                  0.9   \n1   Wolkswagen    ID.3         PHEV          58.0                  0.9   \n2          BMW    530e         PHEV          70.2                  0.9   \n3       Others  Others          PEV          20.0                  0.9   \n4      Audi Q4  e-tron         PHEV          55.0                  0.9   \n..         ...     ...          ...           ...                  ...   \n95      Jaguar  I-Pace          BEV          85.0                  0.9   \n96    Mercedes    E300         PHEV          13.5                  0.9   \n97      Jaguar  I-Pace          BEV          85.0                  0.9   \n98    Mercedes    E300         PHEV          13.5                  0.9   \n99    Mercedes    E300         PHEV          13.5                  0.9   \n\n    discharging_efficiency  energy_per_km  soc_min  soc_max  \\\n0                      0.9          0.170      0.7      1.0   \n1                      0.9          0.155      0.7      1.0   \n2                      0.9          0.160      0.7      1.0   \n3                      0.9          0.200      0.7      1.0   \n4                      0.9          0.170      0.7      1.0   \n..                     ...            ...      ...      ...   \n95                     0.9          0.220      0.7      1.0   \n96                     0.9          0.180      0.7      1.0   \n97                     0.9          0.220      0.7      1.0   \n98                     0.9          0.180      0.7      1.0   \n99                     0.9          0.180      0.7      1.0   \n\n    probability_in_population  ... stopping_soc trips split_trips  \\\n0                        0.10  ...     0.274134    []          []   \n1                        0.05  ...     0.272702    []          []   \n2                        0.08  ...     0.283959    []          []   \n3                        0.03  ...     0.236869    []          []   \n4                        0.07  ...     0.269316    []          []   \n..                        ...  ...          ...   ...         ...   \n95                       0.09  ...     0.226878    []          []   \n96                       0.08  ...     0.268659    []          []   \n97                       0.09  ...     0.235931    []          []   \n98                       0.08  ...     0.239108    []          []   \n99                       0.08  ...     0.265985    []          []   \n\n                                    charging_stations  \\\n0   [<__main__.ChargingStation object at 0x000001E...   \n1   [<__main__.ChargingStation object at 0x000001E...   \n2   [<__main__.ChargingStation object at 0x000001E...   \n3   [<__main__.ChargingStation object at 0x000001E...   \n4   [<__main__.ChargingStation object at 0x000001E...   \n..                                                ...   \n95  [<__main__.ChargingStation object at 0x000001E...   \n96  [<__main__.ChargingStation object at 0x000001E...   \n97  [<__main__.ChargingStation object at 0x000001E...   \n98  [<__main__.ChargingStation object at 0x000001E...   \n99  [<__main__.ChargingStation object at 0x000001E...   \n\n                       default_charging_stations_pool  \\\n0   [<__main__.ChargingStation object at 0x000001E...   \n1   [<__main__.ChargingStation object at 0x000001E...   \n2   [<__main__.ChargingStation object at 0x000001E...   \n3   [<__main__.ChargingStation object at 0x000001E...   \n4   [<__main__.ChargingStation object at 0x000001E...   \n..                                                ...   \n95  [<__main__.ChargingStation object at 0x000001E...   \n96  [<__main__.ChargingStation object at 0x000001E...   \n97  [<__main__.ChargingStation object at 0x000001E...   \n98  [<__main__.ChargingStation object at 0x000001E...   \n99  [<__main__.ChargingStation object at 0x000001E...   \n\n                        segment_charging_station_pool  \\\n0   [<__main__.ChargingStation object at 0x000001E...   \n1   [<__main__.ChargingStation object at 0x000001E...   \n2   [<__main__.ChargingStation object at 0x000001E...   \n3   [<__main__.ChargingStation object at 0x000001E...   \n4   [<__main__.ChargingStation object at 0x000001E...   \n..                                                ...   \n95  [<__main__.ChargingStation object at 0x000001E...   \n96  [<__main__.ChargingStation object at 0x000001E...   \n97  [<__main__.ChargingStation object at 0x000001E...   \n98  [<__main__.ChargingStation object at 0x000001E...   \n99  [<__main__.ChargingStation object at 0x000001E...   \n\n                             default_charging_station  \\\n0   <__main__.ChargingStation object at 0x000001E3...   \n1   <__main__.ChargingStation object at 0x000001E3...   \n2   <__main__.ChargingStation object at 0x000001E3...   \n3   <__main__.ChargingStation object at 0x000001E3...   \n4   <__main__.ChargingStation object at 0x000001E3...   \n..                                                ...   \n95  <__main__.ChargingStation object at 0x000001E3...   \n96  <__main__.ChargingStation object at 0x000001E3...   \n97  <__main__.ChargingStation object at 0x000001E3...   \n98  <__main__.ChargingStation object at 0x000001E3...   \n99  <__main__.ChargingStation object at 0x000001E3...   \n\n                             segment_charging_station  \\\n0   <__main__.ChargingStation object at 0x000001E3...   \n1   <__main__.ChargingStation object at 0x000001E3...   \n2   <__main__.ChargingStation object at 0x000001E3...   \n3   <__main__.ChargingStation object at 0x000001E3...   \n4   <__main__.ChargingStation object at 0x000001E3...   \n..                                                ...   \n95  <__main__.ChargingStation object at 0x000001E3...   \n96  <__main__.ChargingStation object at 0x000001E3...   \n97  <__main__.ChargingStation object at 0x000001E3...   \n98  <__main__.ChargingStation object at 0x000001E3...   \n99  <__main__.ChargingStation object at 0x000001E3...   \n\n                               charging_stations_list number_of_stops  \n0   [<__main__.ChargingStation object at 0x000001E...               0  \n1   [<__main__.ChargingStation object at 0x000001E...               0  \n2   [<__main__.ChargingStation object at 0x000001E...               0  \n3   [<__main__.ChargingStation object at 0x000001E...               0  \n4   [<__main__.ChargingStation object at 0x000001E...               0  \n..                                                ...             ...  \n95  [<__main__.ChargingStation object at 0x000001E...               0  \n96  [<__main__.ChargingStation object at 0x000001E...               0  \n97  [<__main__.ChargingStation object at 0x000001E...               0  \n98  [<__main__.ChargingStation object at 0x000001E...               0  \n99  [<__main__.ChargingStation object at 0x000001E...               0  \n\n[100 rows x 25 columns]",
      "text/html": "<div>\n<style scoped>\n    .dataframe tbody tr th:only-of-type {\n        vertical-align: middle;\n    }\n\n    .dataframe tbody tr th {\n        vertical-align: top;\n    }\n\n    .dataframe thead th {\n        text-align: right;\n    }\n</style>\n<table border=\"1\" class=\"dataframe\">\n  <thead>\n    <tr style=\"text-align: right;\">\n      <th></th>\n      <th>brand</th>\n      <th>model</th>\n      <th>battery_type</th>\n      <th>battery_size</th>\n      <th>charging_efficiency</th>\n      <th>discharging_efficiency</th>\n      <th>energy_per_km</th>\n      <th>soc_min</th>\n      <th>soc_max</th>\n      <th>probability_in_population</th>\n      <th>...</th>\n      <th>stopping_soc</th>\n      <th>trips</th>\n      <th>split_trips</th>\n      <th>charging_stations</th>\n      <th>default_charging_stations_pool</th>\n      <th>segment_charging_station_pool</th>\n      <th>default_charging_station</th>\n      <th>segment_charging_station</th>\n      <th>charging_stations_list</th>\n      <th>number_of_stops</th>\n    </tr>\n  </thead>\n  <tbody>\n    <tr>\n      <th>0</th>\n      <td>Renault</td>\n      <td>Zoe</td>\n      <td>BEV</td>\n      <td>52.0</td>\n      <td>0.9</td>\n      <td>0.9</td>\n      <td>0.170</td>\n      <td>0.7</td>\n      <td>1.0</td>\n      <td>0.10</td>\n      <td>...</td>\n      <td>0.274134</td>\n      <td>[]</td>\n      <td>[]</td>\n      <td>[&lt;__main__.ChargingStation object at 0x000001E...</td>\n      <td>[&lt;__main__.ChargingStation object at 0x000001E...</td>\n      <td>[&lt;__main__.ChargingStation object at 0x000001E...</td>\n      <td>&lt;__main__.ChargingStation object at 0x000001E3...</td>\n      <td>&lt;__main__.ChargingStation object at 0x000001E3...</td>\n      <td>[&lt;__main__.ChargingStation object at 0x000001E...</td>\n      <td>0</td>\n    </tr>\n    <tr>\n      <th>1</th>\n      <td>Wolkswagen</td>\n      <td>ID.3</td>\n      <td>PHEV</td>\n      <td>58.0</td>\n      <td>0.9</td>\n      <td>0.9</td>\n      <td>0.155</td>\n      <td>0.7</td>\n      <td>1.0</td>\n      <td>0.05</td>\n      <td>...</td>\n      <td>0.272702</td>\n      <td>[]</td>\n      <td>[]</td>\n      <td>[&lt;__main__.ChargingStation object at 0x000001E...</td>\n      <td>[&lt;__main__.ChargingStation object at 0x000001E...</td>\n      <td>[&lt;__main__.ChargingStation object at 0x000001E...</td>\n      <td>&lt;__main__.ChargingStation object at 0x000001E3...</td>\n      <td>&lt;__main__.ChargingStation object at 0x000001E3...</td>\n      <td>[&lt;__main__.ChargingStation object at 0x000001E...</td>\n      <td>0</td>\n    </tr>\n    <tr>\n      <th>2</th>\n      <td>BMW</td>\n      <td>530e</td>\n      <td>PHEV</td>\n      <td>70.2</td>\n      <td>0.9</td>\n      <td>0.9</td>\n      <td>0.160</td>\n      <td>0.7</td>\n      <td>1.0</td>\n      <td>0.08</td>\n      <td>...</td>\n      <td>0.283959</td>\n      <td>[]</td>\n      <td>[]</td>\n      <td>[&lt;__main__.ChargingStation object at 0x000001E...</td>\n      <td>[&lt;__main__.ChargingStation object at 0x000001E...</td>\n      <td>[&lt;__main__.ChargingStation object at 0x000001E...</td>\n      <td>&lt;__main__.ChargingStation object at 0x000001E3...</td>\n      <td>&lt;__main__.ChargingStation object at 0x000001E3...</td>\n      <td>[&lt;__main__.ChargingStation object at 0x000001E...</td>\n      <td>0</td>\n    </tr>\n    <tr>\n      <th>3</th>\n      <td>Others</td>\n      <td>Others</td>\n      <td>PEV</td>\n      <td>20.0</td>\n      <td>0.9</td>\n      <td>0.9</td>\n      <td>0.200</td>\n      <td>0.7</td>\n      <td>1.0</td>\n      <td>0.03</td>\n      <td>...</td>\n      <td>0.236869</td>\n      <td>[]</td>\n      <td>[]</td>\n      <td>[&lt;__main__.ChargingStation object at 0x000001E...</td>\n      <td>[&lt;__main__.ChargingStation object at 0x000001E...</td>\n      <td>[&lt;__main__.ChargingStation object at 0x000001E...</td>\n      <td>&lt;__main__.ChargingStation object at 0x000001E3...</td>\n      <td>&lt;__main__.ChargingStation object at 0x000001E3...</td>\n      <td>[&lt;__main__.ChargingStation object at 0x000001E...</td>\n      <td>0</td>\n    </tr>\n    <tr>\n      <th>4</th>\n      <td>Audi Q4</td>\n      <td>e-tron</td>\n      <td>PHEV</td>\n      <td>55.0</td>\n      <td>0.9</td>\n      <td>0.9</td>\n      <td>0.170</td>\n      <td>0.7</td>\n      <td>1.0</td>\n      <td>0.07</td>\n      <td>...</td>\n      <td>0.269316</td>\n      <td>[]</td>\n      <td>[]</td>\n      <td>[&lt;__main__.ChargingStation object at 0x000001E...</td>\n      <td>[&lt;__main__.ChargingStation object at 0x000001E...</td>\n      <td>[&lt;__main__.ChargingStation object at 0x000001E...</td>\n      <td>&lt;__main__.ChargingStation object at 0x000001E3...</td>\n      <td>&lt;__main__.ChargingStation object at 0x000001E3...</td>\n      <td>[&lt;__main__.ChargingStation object at 0x000001E...</td>\n      <td>0</td>\n    </tr>\n    <tr>\n      <th>...</th>\n      <td>...</td>\n      <td>...</td>\n      <td>...</td>\n      <td>...</td>\n      <td>...</td>\n      <td>...</td>\n      <td>...</td>\n      <td>...</td>\n      <td>...</td>\n      <td>...</td>\n      <td>...</td>\n      <td>...</td>\n      <td>...</td>\n      <td>...</td>\n      <td>...</td>\n      <td>...</td>\n      <td>...</td>\n      <td>...</td>\n      <td>...</td>\n      <td>...</td>\n      <td>...</td>\n    </tr>\n    <tr>\n      <th>95</th>\n      <td>Jaguar</td>\n      <td>I-Pace</td>\n      <td>BEV</td>\n      <td>85.0</td>\n      <td>0.9</td>\n      <td>0.9</td>\n      <td>0.220</td>\n      <td>0.7</td>\n      <td>1.0</td>\n      <td>0.09</td>\n      <td>...</td>\n      <td>0.226878</td>\n      <td>[]</td>\n      <td>[]</td>\n      <td>[&lt;__main__.ChargingStation object at 0x000001E...</td>\n      <td>[&lt;__main__.ChargingStation object at 0x000001E...</td>\n      <td>[&lt;__main__.ChargingStation object at 0x000001E...</td>\n      <td>&lt;__main__.ChargingStation object at 0x000001E3...</td>\n      <td>&lt;__main__.ChargingStation object at 0x000001E3...</td>\n      <td>[&lt;__main__.ChargingStation object at 0x000001E...</td>\n      <td>0</td>\n    </tr>\n    <tr>\n      <th>96</th>\n      <td>Mercedes</td>\n      <td>E300</td>\n      <td>PHEV</td>\n      <td>13.5</td>\n      <td>0.9</td>\n      <td>0.9</td>\n      <td>0.180</td>\n      <td>0.7</td>\n      <td>1.0</td>\n      <td>0.08</td>\n      <td>...</td>\n      <td>0.268659</td>\n      <td>[]</td>\n      <td>[]</td>\n      <td>[&lt;__main__.ChargingStation object at 0x000001E...</td>\n      <td>[&lt;__main__.ChargingStation object at 0x000001E...</td>\n      <td>[&lt;__main__.ChargingStation object at 0x000001E...</td>\n      <td>&lt;__main__.ChargingStation object at 0x000001E3...</td>\n      <td>&lt;__main__.ChargingStation object at 0x000001E3...</td>\n      <td>[&lt;__main__.ChargingStation object at 0x000001E...</td>\n      <td>0</td>\n    </tr>\n    <tr>\n      <th>97</th>\n      <td>Jaguar</td>\n      <td>I-Pace</td>\n      <td>BEV</td>\n      <td>85.0</td>\n      <td>0.9</td>\n      <td>0.9</td>\n      <td>0.220</td>\n      <td>0.7</td>\n      <td>1.0</td>\n      <td>0.09</td>\n      <td>...</td>\n      <td>0.235931</td>\n      <td>[]</td>\n      <td>[]</td>\n      <td>[&lt;__main__.ChargingStation object at 0x000001E...</td>\n      <td>[&lt;__main__.ChargingStation object at 0x000001E...</td>\n      <td>[&lt;__main__.ChargingStation object at 0x000001E...</td>\n      <td>&lt;__main__.ChargingStation object at 0x000001E3...</td>\n      <td>&lt;__main__.ChargingStation object at 0x000001E3...</td>\n      <td>[&lt;__main__.ChargingStation object at 0x000001E...</td>\n      <td>0</td>\n    </tr>\n    <tr>\n      <th>98</th>\n      <td>Mercedes</td>\n      <td>E300</td>\n      <td>PHEV</td>\n      <td>13.5</td>\n      <td>0.9</td>\n      <td>0.9</td>\n      <td>0.180</td>\n      <td>0.7</td>\n      <td>1.0</td>\n      <td>0.08</td>\n      <td>...</td>\n      <td>0.239108</td>\n      <td>[]</td>\n      <td>[]</td>\n      <td>[&lt;__main__.ChargingStation object at 0x000001E...</td>\n      <td>[&lt;__main__.ChargingStation object at 0x000001E...</td>\n      <td>[&lt;__main__.ChargingStation object at 0x000001E...</td>\n      <td>&lt;__main__.ChargingStation object at 0x000001E3...</td>\n      <td>&lt;__main__.ChargingStation object at 0x000001E3...</td>\n      <td>[&lt;__main__.ChargingStation object at 0x000001E...</td>\n      <td>0</td>\n    </tr>\n    <tr>\n      <th>99</th>\n      <td>Mercedes</td>\n      <td>E300</td>\n      <td>PHEV</td>\n      <td>13.5</td>\n      <td>0.9</td>\n      <td>0.9</td>\n      <td>0.180</td>\n      <td>0.7</td>\n      <td>1.0</td>\n      <td>0.08</td>\n      <td>...</td>\n      <td>0.265985</td>\n      <td>[]</td>\n      <td>[]</td>\n      <td>[&lt;__main__.ChargingStation object at 0x000001E...</td>\n      <td>[&lt;__main__.ChargingStation object at 0x000001E...</td>\n      <td>[&lt;__main__.ChargingStation object at 0x000001E...</td>\n      <td>&lt;__main__.ChargingStation object at 0x000001E3...</td>\n      <td>&lt;__main__.ChargingStation object at 0x000001E3...</td>\n      <td>[&lt;__main__.ChargingStation object at 0x000001E...</td>\n      <td>0</td>\n    </tr>\n  </tbody>\n</table>\n<p>100 rows × 25 columns</p>\n</div>"
     },
     "execution_count": 337,
     "metadata": {},
     "output_type": "execute_result"
    }
   ],
   "source": [
    "# Print the population\n",
    "aggregator.population_dataframe()"
   ],
   "metadata": {
    "collapsed": false,
    "pycharm": {
     "name": "#%%\n"
    }
   }
  },
  {
   "cell_type": "code",
   "execution_count": 338,
   "outputs": [
    {
     "data": {
      "text/plain": "         brand     model battery_type  battery_size  charging_efficiency  \\\n0   Wolkswagen      ID.3         PHEV          58.0                  0.9   \n1       Jaguar    I-Pace          BEV          85.0                  0.9   \n2        Tesla   Model 3          BEV          95.0                  0.9   \n3      Peugeot  e-Expert          BEV          68.0                  0.9   \n4      Renault       Zoe          BEV          52.0                  0.9   \n..         ...       ...          ...           ...                  ...   \n95     Renault       Zoe          BEV          52.0                  0.9   \n96  Wolkswagen      ID.3         PHEV          58.0                  0.9   \n97    Mercedes      E300         PHEV          13.5                  0.9   \n98      Others    Others          PEV          20.0                  0.9   \n99    Mercedes      E300         PHEV          13.5                  0.9   \n\n    discharging_efficiency  energy_per_km  soc_min  soc_max  \\\n0                      0.9          0.155      0.7      1.0   \n1                      0.9          0.220      0.7      1.0   \n2                      0.9          0.180      0.7      1.0   \n3                      0.9          0.260      0.7      1.0   \n4                      0.9          0.170      0.7      1.0   \n..                     ...            ...      ...      ...   \n95                     0.9          0.170      0.7      1.0   \n96                     0.9          0.155      0.7      1.0   \n97                     0.9          0.180      0.7      1.0   \n98                     0.9          0.200      0.7      1.0   \n99                     0.9          0.180      0.7      1.0   \n\n    probability_in_population  ... stopping_soc  \\\n0                        0.05  ...     0.290943   \n1                        0.09  ...     0.220604   \n2                        0.13  ...     0.242518   \n3                        0.10  ...     0.257083   \n4                        0.10  ...     0.268042   \n..                        ...  ...          ...   \n95                       0.10  ...     0.271061   \n96                       0.05  ...     0.265002   \n97                       0.08  ...     0.284289   \n98                       0.03  ...     0.236869   \n99                       0.08  ...     0.268659   \n\n                                                trips  \\\n0   [Trip length: 410.7 km, trip start time: 2023-...   \n1   [Trip length: 351.75 km, trip start time: 2023...   \n2   [Trip length: 329.54 km, trip start time: 2023...   \n3   [Trip length: 208.02 km, trip start time: 2023...   \n4   [Trip length: 149.37 km, trip start time: 2023...   \n..                                                ...   \n95  [Trip length: 0.08 km, trip start time: 2023-0...   \n96  [Trip length: 0.02 km, trip start time: 2023-0...   \n97  [Trip length: 0.01 km, trip start time: 2023-0...   \n98  [Trip length: 0.01 km, trip start time: 2023-0...   \n99  [Trip length: 0.0 km, trip start time: 2023-01...   \n\n                                          split_trips  \\\n0   [Trip length: 4.38101487946027 km, trip start ...   \n1   [Trip length: 2.406343957597508 km, trip start...   \n2   [Trip length: 4.15267972814266 km, trip start ...   \n3   [Trip length: 2.2804493426343146 km, trip star...   \n4   [Trip length: 4.187989241213467 km, trip start...   \n..                                                ...   \n95  [Trip length: 0.08 km, trip start time: 2023-0...   \n96  [Trip length: 0.02 km, trip start time: 2023-0...   \n97  [Trip length: 0.01 km, trip start time: 2023-0...   \n98  [Trip length: 0.01 km, trip start time: 2023-0...   \n99  [Trip length: 0.0 km, trip start time: 2023-01...   \n\n                                    charging_stations  \\\n0   [<__main__.ChargingStation object at 0x000001E...   \n1   [<__main__.ChargingStation object at 0x000001E...   \n2   [<__main__.ChargingStation object at 0x000001E...   \n3   [<__main__.ChargingStation object at 0x000001E...   \n4   [<__main__.ChargingStation object at 0x000001E...   \n..                                                ...   \n95  [<__main__.ChargingStation object at 0x000001E...   \n96  [<__main__.ChargingStation object at 0x000001E...   \n97  [<__main__.ChargingStation object at 0x000001E...   \n98  [<__main__.ChargingStation object at 0x000001E...   \n99  [<__main__.ChargingStation object at 0x000001E...   \n\n                       default_charging_stations_pool  \\\n0   [<__main__.ChargingStation object at 0x000001E...   \n1   [<__main__.ChargingStation object at 0x000001E...   \n2   [<__main__.ChargingStation object at 0x000001E...   \n3   [<__main__.ChargingStation object at 0x000001E...   \n4   [<__main__.ChargingStation object at 0x000001E...   \n..                                                ...   \n95  [<__main__.ChargingStation object at 0x000001E...   \n96  [<__main__.ChargingStation object at 0x000001E...   \n97  [<__main__.ChargingStation object at 0x000001E...   \n98  [<__main__.ChargingStation object at 0x000001E...   \n99  [<__main__.ChargingStation object at 0x000001E...   \n\n                        segment_charging_station_pool  \\\n0   [<__main__.ChargingStation object at 0x000001E...   \n1   [<__main__.ChargingStation object at 0x000001E...   \n2   [<__main__.ChargingStation object at 0x000001E...   \n3   [<__main__.ChargingStation object at 0x000001E...   \n4   [<__main__.ChargingStation object at 0x000001E...   \n..                                                ...   \n95  [<__main__.ChargingStation object at 0x000001E...   \n96  [<__main__.ChargingStation object at 0x000001E...   \n97  [<__main__.ChargingStation object at 0x000001E...   \n98  [<__main__.ChargingStation object at 0x000001E...   \n99  [<__main__.ChargingStation object at 0x000001E...   \n\n                             default_charging_station  \\\n0   <__main__.ChargingStation object at 0x000001E3...   \n1   <__main__.ChargingStation object at 0x000001E3...   \n2   <__main__.ChargingStation object at 0x000001E3...   \n3   <__main__.ChargingStation object at 0x000001E3...   \n4   <__main__.ChargingStation object at 0x000001E3...   \n..                                                ...   \n95  <__main__.ChargingStation object at 0x000001E3...   \n96  <__main__.ChargingStation object at 0x000001E3...   \n97  <__main__.ChargingStation object at 0x000001E3...   \n98  <__main__.ChargingStation object at 0x000001E3...   \n99  <__main__.ChargingStation object at 0x000001E3...   \n\n                             segment_charging_station  \\\n0   <__main__.ChargingStation object at 0x000001E3...   \n1   <__main__.ChargingStation object at 0x000001E3...   \n2   <__main__.ChargingStation object at 0x000001E3...   \n3   <__main__.ChargingStation object at 0x000001E3...   \n4   <__main__.ChargingStation object at 0x000001E3...   \n..                                                ...   \n95  <__main__.ChargingStation object at 0x000001E3...   \n96  <__main__.ChargingStation object at 0x000001E3...   \n97  <__main__.ChargingStation object at 0x000001E3...   \n98  <__main__.ChargingStation object at 0x000001E3...   \n99  <__main__.ChargingStation object at 0x000001E3...   \n\n                               charging_stations_list number_of_stops  \n0   [<__main__.ChargingStation object at 0x000001E...               2  \n1   [<__main__.ChargingStation object at 0x000001E...               2  \n2   [<__main__.ChargingStation object at 0x000001E...               1  \n3   [<__main__.ChargingStation object at 0x000001E...               2  \n4   [<__main__.ChargingStation object at 0x000001E...               1  \n..                                                ...             ...  \n95  [<__main__.ChargingStation object at 0x000001E...               0  \n96  [<__main__.ChargingStation object at 0x000001E...               0  \n97  [<__main__.ChargingStation object at 0x000001E...               0  \n98  [<__main__.ChargingStation object at 0x000001E...               0  \n99  [<__main__.ChargingStation object at 0x000001E...               0  \n\n[100 rows x 25 columns]",
      "text/html": "<div>\n<style scoped>\n    .dataframe tbody tr th:only-of-type {\n        vertical-align: middle;\n    }\n\n    .dataframe tbody tr th {\n        vertical-align: top;\n    }\n\n    .dataframe thead th {\n        text-align: right;\n    }\n</style>\n<table border=\"1\" class=\"dataframe\">\n  <thead>\n    <tr style=\"text-align: right;\">\n      <th></th>\n      <th>brand</th>\n      <th>model</th>\n      <th>battery_type</th>\n      <th>battery_size</th>\n      <th>charging_efficiency</th>\n      <th>discharging_efficiency</th>\n      <th>energy_per_km</th>\n      <th>soc_min</th>\n      <th>soc_max</th>\n      <th>probability_in_population</th>\n      <th>...</th>\n      <th>stopping_soc</th>\n      <th>trips</th>\n      <th>split_trips</th>\n      <th>charging_stations</th>\n      <th>default_charging_stations_pool</th>\n      <th>segment_charging_station_pool</th>\n      <th>default_charging_station</th>\n      <th>segment_charging_station</th>\n      <th>charging_stations_list</th>\n      <th>number_of_stops</th>\n    </tr>\n  </thead>\n  <tbody>\n    <tr>\n      <th>0</th>\n      <td>Wolkswagen</td>\n      <td>ID.3</td>\n      <td>PHEV</td>\n      <td>58.0</td>\n      <td>0.9</td>\n      <td>0.9</td>\n      <td>0.155</td>\n      <td>0.7</td>\n      <td>1.0</td>\n      <td>0.05</td>\n      <td>...</td>\n      <td>0.290943</td>\n      <td>[Trip length: 410.7 km, trip start time: 2023-...</td>\n      <td>[Trip length: 4.38101487946027 km, trip start ...</td>\n      <td>[&lt;__main__.ChargingStation object at 0x000001E...</td>\n      <td>[&lt;__main__.ChargingStation object at 0x000001E...</td>\n      <td>[&lt;__main__.ChargingStation object at 0x000001E...</td>\n      <td>&lt;__main__.ChargingStation object at 0x000001E3...</td>\n      <td>&lt;__main__.ChargingStation object at 0x000001E3...</td>\n      <td>[&lt;__main__.ChargingStation object at 0x000001E...</td>\n      <td>2</td>\n    </tr>\n    <tr>\n      <th>1</th>\n      <td>Jaguar</td>\n      <td>I-Pace</td>\n      <td>BEV</td>\n      <td>85.0</td>\n      <td>0.9</td>\n      <td>0.9</td>\n      <td>0.220</td>\n      <td>0.7</td>\n      <td>1.0</td>\n      <td>0.09</td>\n      <td>...</td>\n      <td>0.220604</td>\n      <td>[Trip length: 351.75 km, trip start time: 2023...</td>\n      <td>[Trip length: 2.406343957597508 km, trip start...</td>\n      <td>[&lt;__main__.ChargingStation object at 0x000001E...</td>\n      <td>[&lt;__main__.ChargingStation object at 0x000001E...</td>\n      <td>[&lt;__main__.ChargingStation object at 0x000001E...</td>\n      <td>&lt;__main__.ChargingStation object at 0x000001E3...</td>\n      <td>&lt;__main__.ChargingStation object at 0x000001E3...</td>\n      <td>[&lt;__main__.ChargingStation object at 0x000001E...</td>\n      <td>2</td>\n    </tr>\n    <tr>\n      <th>2</th>\n      <td>Tesla</td>\n      <td>Model 3</td>\n      <td>BEV</td>\n      <td>95.0</td>\n      <td>0.9</td>\n      <td>0.9</td>\n      <td>0.180</td>\n      <td>0.7</td>\n      <td>1.0</td>\n      <td>0.13</td>\n      <td>...</td>\n      <td>0.242518</td>\n      <td>[Trip length: 329.54 km, trip start time: 2023...</td>\n      <td>[Trip length: 4.15267972814266 km, trip start ...</td>\n      <td>[&lt;__main__.ChargingStation object at 0x000001E...</td>\n      <td>[&lt;__main__.ChargingStation object at 0x000001E...</td>\n      <td>[&lt;__main__.ChargingStation object at 0x000001E...</td>\n      <td>&lt;__main__.ChargingStation object at 0x000001E3...</td>\n      <td>&lt;__main__.ChargingStation object at 0x000001E3...</td>\n      <td>[&lt;__main__.ChargingStation object at 0x000001E...</td>\n      <td>1</td>\n    </tr>\n    <tr>\n      <th>3</th>\n      <td>Peugeot</td>\n      <td>e-Expert</td>\n      <td>BEV</td>\n      <td>68.0</td>\n      <td>0.9</td>\n      <td>0.9</td>\n      <td>0.260</td>\n      <td>0.7</td>\n      <td>1.0</td>\n      <td>0.10</td>\n      <td>...</td>\n      <td>0.257083</td>\n      <td>[Trip length: 208.02 km, trip start time: 2023...</td>\n      <td>[Trip length: 2.2804493426343146 km, trip star...</td>\n      <td>[&lt;__main__.ChargingStation object at 0x000001E...</td>\n      <td>[&lt;__main__.ChargingStation object at 0x000001E...</td>\n      <td>[&lt;__main__.ChargingStation object at 0x000001E...</td>\n      <td>&lt;__main__.ChargingStation object at 0x000001E3...</td>\n      <td>&lt;__main__.ChargingStation object at 0x000001E3...</td>\n      <td>[&lt;__main__.ChargingStation object at 0x000001E...</td>\n      <td>2</td>\n    </tr>\n    <tr>\n      <th>4</th>\n      <td>Renault</td>\n      <td>Zoe</td>\n      <td>BEV</td>\n      <td>52.0</td>\n      <td>0.9</td>\n      <td>0.9</td>\n      <td>0.170</td>\n      <td>0.7</td>\n      <td>1.0</td>\n      <td>0.10</td>\n      <td>...</td>\n      <td>0.268042</td>\n      <td>[Trip length: 149.37 km, trip start time: 2023...</td>\n      <td>[Trip length: 4.187989241213467 km, trip start...</td>\n      <td>[&lt;__main__.ChargingStation object at 0x000001E...</td>\n      <td>[&lt;__main__.ChargingStation object at 0x000001E...</td>\n      <td>[&lt;__main__.ChargingStation object at 0x000001E...</td>\n      <td>&lt;__main__.ChargingStation object at 0x000001E3...</td>\n      <td>&lt;__main__.ChargingStation object at 0x000001E3...</td>\n      <td>[&lt;__main__.ChargingStation object at 0x000001E...</td>\n      <td>1</td>\n    </tr>\n    <tr>\n      <th>...</th>\n      <td>...</td>\n      <td>...</td>\n      <td>...</td>\n      <td>...</td>\n      <td>...</td>\n      <td>...</td>\n      <td>...</td>\n      <td>...</td>\n      <td>...</td>\n      <td>...</td>\n      <td>...</td>\n      <td>...</td>\n      <td>...</td>\n      <td>...</td>\n      <td>...</td>\n      <td>...</td>\n      <td>...</td>\n      <td>...</td>\n      <td>...</td>\n      <td>...</td>\n      <td>...</td>\n    </tr>\n    <tr>\n      <th>95</th>\n      <td>Renault</td>\n      <td>Zoe</td>\n      <td>BEV</td>\n      <td>52.0</td>\n      <td>0.9</td>\n      <td>0.9</td>\n      <td>0.170</td>\n      <td>0.7</td>\n      <td>1.0</td>\n      <td>0.10</td>\n      <td>...</td>\n      <td>0.271061</td>\n      <td>[Trip length: 0.08 km, trip start time: 2023-0...</td>\n      <td>[Trip length: 0.08 km, trip start time: 2023-0...</td>\n      <td>[&lt;__main__.ChargingStation object at 0x000001E...</td>\n      <td>[&lt;__main__.ChargingStation object at 0x000001E...</td>\n      <td>[&lt;__main__.ChargingStation object at 0x000001E...</td>\n      <td>&lt;__main__.ChargingStation object at 0x000001E3...</td>\n      <td>&lt;__main__.ChargingStation object at 0x000001E3...</td>\n      <td>[&lt;__main__.ChargingStation object at 0x000001E...</td>\n      <td>0</td>\n    </tr>\n    <tr>\n      <th>96</th>\n      <td>Wolkswagen</td>\n      <td>ID.3</td>\n      <td>PHEV</td>\n      <td>58.0</td>\n      <td>0.9</td>\n      <td>0.9</td>\n      <td>0.155</td>\n      <td>0.7</td>\n      <td>1.0</td>\n      <td>0.05</td>\n      <td>...</td>\n      <td>0.265002</td>\n      <td>[Trip length: 0.02 km, trip start time: 2023-0...</td>\n      <td>[Trip length: 0.02 km, trip start time: 2023-0...</td>\n      <td>[&lt;__main__.ChargingStation object at 0x000001E...</td>\n      <td>[&lt;__main__.ChargingStation object at 0x000001E...</td>\n      <td>[&lt;__main__.ChargingStation object at 0x000001E...</td>\n      <td>&lt;__main__.ChargingStation object at 0x000001E3...</td>\n      <td>&lt;__main__.ChargingStation object at 0x000001E3...</td>\n      <td>[&lt;__main__.ChargingStation object at 0x000001E...</td>\n      <td>0</td>\n    </tr>\n    <tr>\n      <th>97</th>\n      <td>Mercedes</td>\n      <td>E300</td>\n      <td>PHEV</td>\n      <td>13.5</td>\n      <td>0.9</td>\n      <td>0.9</td>\n      <td>0.180</td>\n      <td>0.7</td>\n      <td>1.0</td>\n      <td>0.08</td>\n      <td>...</td>\n      <td>0.284289</td>\n      <td>[Trip length: 0.01 km, trip start time: 2023-0...</td>\n      <td>[Trip length: 0.01 km, trip start time: 2023-0...</td>\n      <td>[&lt;__main__.ChargingStation object at 0x000001E...</td>\n      <td>[&lt;__main__.ChargingStation object at 0x000001E...</td>\n      <td>[&lt;__main__.ChargingStation object at 0x000001E...</td>\n      <td>&lt;__main__.ChargingStation object at 0x000001E3...</td>\n      <td>&lt;__main__.ChargingStation object at 0x000001E3...</td>\n      <td>[&lt;__main__.ChargingStation object at 0x000001E...</td>\n      <td>0</td>\n    </tr>\n    <tr>\n      <th>98</th>\n      <td>Others</td>\n      <td>Others</td>\n      <td>PEV</td>\n      <td>20.0</td>\n      <td>0.9</td>\n      <td>0.9</td>\n      <td>0.200</td>\n      <td>0.7</td>\n      <td>1.0</td>\n      <td>0.03</td>\n      <td>...</td>\n      <td>0.236869</td>\n      <td>[Trip length: 0.01 km, trip start time: 2023-0...</td>\n      <td>[Trip length: 0.01 km, trip start time: 2023-0...</td>\n      <td>[&lt;__main__.ChargingStation object at 0x000001E...</td>\n      <td>[&lt;__main__.ChargingStation object at 0x000001E...</td>\n      <td>[&lt;__main__.ChargingStation object at 0x000001E...</td>\n      <td>&lt;__main__.ChargingStation object at 0x000001E3...</td>\n      <td>&lt;__main__.ChargingStation object at 0x000001E3...</td>\n      <td>[&lt;__main__.ChargingStation object at 0x000001E...</td>\n      <td>0</td>\n    </tr>\n    <tr>\n      <th>99</th>\n      <td>Mercedes</td>\n      <td>E300</td>\n      <td>PHEV</td>\n      <td>13.5</td>\n      <td>0.9</td>\n      <td>0.9</td>\n      <td>0.180</td>\n      <td>0.7</td>\n      <td>1.0</td>\n      <td>0.08</td>\n      <td>...</td>\n      <td>0.268659</td>\n      <td>[Trip length: 0.0 km, trip start time: 2023-01...</td>\n      <td>[Trip length: 0.0 km, trip start time: 2023-01...</td>\n      <td>[&lt;__main__.ChargingStation object at 0x000001E...</td>\n      <td>[&lt;__main__.ChargingStation object at 0x000001E...</td>\n      <td>[&lt;__main__.ChargingStation object at 0x000001E...</td>\n      <td>&lt;__main__.ChargingStation object at 0x000001E3...</td>\n      <td>&lt;__main__.ChargingStation object at 0x000001E3...</td>\n      <td>[&lt;__main__.ChargingStation object at 0x000001E...</td>\n      <td>0</td>\n    </tr>\n  </tbody>\n</table>\n<p>100 rows × 25 columns</p>\n</div>"
     },
     "execution_count": 338,
     "metadata": {},
     "output_type": "execute_result"
    }
   ],
   "source": [
    "# Print the assigned EVs\n",
    "\n",
    "aggregator.assigned_evs_dataframe()"
   ],
   "metadata": {
    "collapsed": false,
    "pycharm": {
     "name": "#%%\n"
    }
   }
  },
  {
   "cell_type": "code",
   "execution_count": 339,
   "outputs": [
    {
     "data": {
      "text/plain": "    trip_length\n0        106.15\n1         10.10\n2          3.84\n3         32.66\n4          1.81\n..          ...\n95         8.74\n96         2.97\n97        94.20\n98        91.70\n99        16.74\n\n[100 rows x 1 columns]",
      "text/html": "<div>\n<style scoped>\n    .dataframe tbody tr th:only-of-type {\n        vertical-align: middle;\n    }\n\n    .dataframe tbody tr th {\n        vertical-align: top;\n    }\n\n    .dataframe thead th {\n        text-align: right;\n    }\n</style>\n<table border=\"1\" class=\"dataframe\">\n  <thead>\n    <tr style=\"text-align: right;\">\n      <th></th>\n      <th>trip_length</th>\n    </tr>\n  </thead>\n  <tbody>\n    <tr>\n      <th>0</th>\n      <td>106.15</td>\n    </tr>\n    <tr>\n      <th>1</th>\n      <td>10.10</td>\n    </tr>\n    <tr>\n      <th>2</th>\n      <td>3.84</td>\n    </tr>\n    <tr>\n      <th>3</th>\n      <td>32.66</td>\n    </tr>\n    <tr>\n      <th>4</th>\n      <td>1.81</td>\n    </tr>\n    <tr>\n      <th>...</th>\n      <td>...</td>\n    </tr>\n    <tr>\n      <th>95</th>\n      <td>8.74</td>\n    </tr>\n    <tr>\n      <th>96</th>\n      <td>2.97</td>\n    </tr>\n    <tr>\n      <th>97</th>\n      <td>94.20</td>\n    </tr>\n    <tr>\n      <th>98</th>\n      <td>91.70</td>\n    </tr>\n    <tr>\n      <th>99</th>\n      <td>16.74</td>\n    </tr>\n  </tbody>\n</table>\n<p>100 rows × 1 columns</p>\n</div>"
     },
     "execution_count": 339,
     "metadata": {},
     "output_type": "execute_result"
    }
   ],
   "source": [
    "# Print the trips\n",
    "\n",
    "aggregator.assigned_trips_dataframe()"
   ],
   "metadata": {
    "collapsed": false,
    "pycharm": {
     "name": "#%%\n"
    }
   }
  },
  {
   "cell_type": "code",
   "execution_count": 340,
   "outputs": [
    {
     "data": {
      "text/plain": "     trip_length     trip_start_time       trip_end_time       trip_duration  \\\n0         410.70 2023-01-01 07:52:00 2023-01-01 12:01:00 2023-01-01 04:08:00   \n1         351.75 2023-01-01 08:55:00 2023-01-01 12:24:00 2023-01-01 03:29:00   \n2         329.54 2023-01-01 07:55:00 2023-01-01 11:13:00 2023-01-01 03:18:00   \n3         208.02 2023-01-01 08:31:00 2023-01-01 10:35:00 2023-01-01 02:03:00   \n4         149.37 2023-01-01 07:52:00 2023-01-01 09:21:00 2023-01-01 01:29:00   \n..           ...                 ...                 ...                 ...   \n182         0.01 2023-01-01 18:43:00 2023-01-01 18:43:00 2023-01-01 00:00:00   \n183         0.01 2023-01-01 07:27:00 2023-01-01 07:27:00 2023-01-01 00:00:00   \n184         0.01 2023-01-01 16:06:00 2023-01-01 16:06:00 2023-01-01 00:00:00   \n185         0.00 2023-01-01 07:53:00 2023-01-01 07:53:00 2023-01-01 00:00:00   \n186         0.00 2023-01-01 16:32:00 2023-01-01 16:32:00 2023-01-01 00:00:00   \n\n                                       ev                             ev_id  \\\n0     Wolkswagen ID.3 with 58 kWh battery  b2e4010d21f2718e1d4f23652bc03060   \n1       Jaguar I-Pace with 85 kWh battery  e5293529941040acd31999e1498b9a52   \n2       Tesla Model 3 with 95 kWh battery  a0943bf028856b846204cfbc099d9ea7   \n3    Peugeot e-Expert with 68 kWh battery  0031e44104cac619b9a7e601b8bd00ff   \n4         Renault Zoe with 52 kWh battery  01f2ad902e2dbdf0cb7a6c8fdb12b3f0   \n..                                    ...                               ...   \n182   Mercedes E300 with 13.5 kWh battery  fd5a5eaf164b3d244bafa932fc307caf   \n183     Others Others with 20 kWh battery  648dd5674bace1aaa96d76bab22da2b1   \n184     Others Others with 20 kWh battery  648dd5674bace1aaa96d76bab22da2b1   \n185   Mercedes E300 with 13.5 kWh battery  8395a80d55e4e9f9213e8e803b951cbe   \n186   Mercedes E300 with 13.5 kWh battery  8395a80d55e4e9f9213e8e803b951cbe   \n\n     trip_speed  trip_energy_consumption  trip_required_soc  \\\n0     99.117067                  63.6585           1.097560   \n1    100.752333                  77.3850           0.910412   \n2     99.745351                  59.3172           0.624392   \n3    100.695258                  54.0852           0.795371   \n4    100.616945                  25.3929           0.488325   \n..          ...                      ...                ...   \n182   59.274780                   0.0018           0.000133   \n183   60.441292                   0.0020           0.000100   \n184   59.394479                   0.0020           0.000100   \n185   59.700435                   0.0000           0.000000   \n186   59.213542                   0.0000           0.000000   \n\n    covered_trip_length  ev_battery_size trip_estimate_arrival  \\\n0                  None             58.0   2023-01-01 12:01:00   \n1                  None             85.0   2023-01-01 12:24:00   \n2                  None             95.0   2023-01-01 11:13:00   \n3                  None             68.0   2023-01-01 10:35:00   \n4                  None             52.0   2023-01-01 09:21:00   \n..                  ...              ...                   ...   \n182                None             13.5   2023-01-01 18:43:00   \n183                None             20.0   2023-01-01 07:27:00   \n184                None             20.0   2023-01-01 16:06:00   \n185                None             13.5   2023-01-01 07:53:00   \n186                None             13.5   2023-01-01 16:32:00   \n\n                    profile                           trip_id  \n0            N:Work, T:Long  8eb8685a00cb1f88e6ef4d26151d7857  \n1            N:Work, T:Long  842881efb6ef5dc6864e057bfc15a5b5  \n2            N:Work, T:Long  eec3a79f15a2ed512552e771edbf9eae  \n3            N:Work, T:Long  a8714111b0237ca7617ecb980309e47d  \n4            N:Work, T:Long  9fa91aaf51789167447547c05c25cead  \n..                      ...                               ...  \n182     N:Shopping, T:Short  9849724ec20b6882346b572ebdb998b1  \n183  N:Residential, T:Short  3833aad281a813596533c3d6c941c3c6  \n184  N:Residential, T:Short  4caf0eeabf5dabf2752e5ba348538614  \n185  N:Residential, T:Short  f823a5b51397329473995db3bc42f54e  \n186  N:Residential, T:Short  d437eeff6b41578cfa233b2f24779c53  \n\n[187 rows x 14 columns]",
      "text/html": "<div>\n<style scoped>\n    .dataframe tbody tr th:only-of-type {\n        vertical-align: middle;\n    }\n\n    .dataframe tbody tr th {\n        vertical-align: top;\n    }\n\n    .dataframe thead th {\n        text-align: right;\n    }\n</style>\n<table border=\"1\" class=\"dataframe\">\n  <thead>\n    <tr style=\"text-align: right;\">\n      <th></th>\n      <th>trip_length</th>\n      <th>trip_start_time</th>\n      <th>trip_end_time</th>\n      <th>trip_duration</th>\n      <th>ev</th>\n      <th>ev_id</th>\n      <th>trip_speed</th>\n      <th>trip_energy_consumption</th>\n      <th>trip_required_soc</th>\n      <th>covered_trip_length</th>\n      <th>ev_battery_size</th>\n      <th>trip_estimate_arrival</th>\n      <th>profile</th>\n      <th>trip_id</th>\n    </tr>\n  </thead>\n  <tbody>\n    <tr>\n      <th>0</th>\n      <td>410.70</td>\n      <td>2023-01-01 07:52:00</td>\n      <td>2023-01-01 12:01:00</td>\n      <td>2023-01-01 04:08:00</td>\n      <td>Wolkswagen ID.3 with 58 kWh battery</td>\n      <td>b2e4010d21f2718e1d4f23652bc03060</td>\n      <td>99.117067</td>\n      <td>63.6585</td>\n      <td>1.097560</td>\n      <td>None</td>\n      <td>58.0</td>\n      <td>2023-01-01 12:01:00</td>\n      <td>N:Work, T:Long</td>\n      <td>8eb8685a00cb1f88e6ef4d26151d7857</td>\n    </tr>\n    <tr>\n      <th>1</th>\n      <td>351.75</td>\n      <td>2023-01-01 08:55:00</td>\n      <td>2023-01-01 12:24:00</td>\n      <td>2023-01-01 03:29:00</td>\n      <td>Jaguar I-Pace with 85 kWh battery</td>\n      <td>e5293529941040acd31999e1498b9a52</td>\n      <td>100.752333</td>\n      <td>77.3850</td>\n      <td>0.910412</td>\n      <td>None</td>\n      <td>85.0</td>\n      <td>2023-01-01 12:24:00</td>\n      <td>N:Work, T:Long</td>\n      <td>842881efb6ef5dc6864e057bfc15a5b5</td>\n    </tr>\n    <tr>\n      <th>2</th>\n      <td>329.54</td>\n      <td>2023-01-01 07:55:00</td>\n      <td>2023-01-01 11:13:00</td>\n      <td>2023-01-01 03:18:00</td>\n      <td>Tesla Model 3 with 95 kWh battery</td>\n      <td>a0943bf028856b846204cfbc099d9ea7</td>\n      <td>99.745351</td>\n      <td>59.3172</td>\n      <td>0.624392</td>\n      <td>None</td>\n      <td>95.0</td>\n      <td>2023-01-01 11:13:00</td>\n      <td>N:Work, T:Long</td>\n      <td>eec3a79f15a2ed512552e771edbf9eae</td>\n    </tr>\n    <tr>\n      <th>3</th>\n      <td>208.02</td>\n      <td>2023-01-01 08:31:00</td>\n      <td>2023-01-01 10:35:00</td>\n      <td>2023-01-01 02:03:00</td>\n      <td>Peugeot e-Expert with 68 kWh battery</td>\n      <td>0031e44104cac619b9a7e601b8bd00ff</td>\n      <td>100.695258</td>\n      <td>54.0852</td>\n      <td>0.795371</td>\n      <td>None</td>\n      <td>68.0</td>\n      <td>2023-01-01 10:35:00</td>\n      <td>N:Work, T:Long</td>\n      <td>a8714111b0237ca7617ecb980309e47d</td>\n    </tr>\n    <tr>\n      <th>4</th>\n      <td>149.37</td>\n      <td>2023-01-01 07:52:00</td>\n      <td>2023-01-01 09:21:00</td>\n      <td>2023-01-01 01:29:00</td>\n      <td>Renault Zoe with 52 kWh battery</td>\n      <td>01f2ad902e2dbdf0cb7a6c8fdb12b3f0</td>\n      <td>100.616945</td>\n      <td>25.3929</td>\n      <td>0.488325</td>\n      <td>None</td>\n      <td>52.0</td>\n      <td>2023-01-01 09:21:00</td>\n      <td>N:Work, T:Long</td>\n      <td>9fa91aaf51789167447547c05c25cead</td>\n    </tr>\n    <tr>\n      <th>...</th>\n      <td>...</td>\n      <td>...</td>\n      <td>...</td>\n      <td>...</td>\n      <td>...</td>\n      <td>...</td>\n      <td>...</td>\n      <td>...</td>\n      <td>...</td>\n      <td>...</td>\n      <td>...</td>\n      <td>...</td>\n      <td>...</td>\n      <td>...</td>\n    </tr>\n    <tr>\n      <th>182</th>\n      <td>0.01</td>\n      <td>2023-01-01 18:43:00</td>\n      <td>2023-01-01 18:43:00</td>\n      <td>2023-01-01 00:00:00</td>\n      <td>Mercedes E300 with 13.5 kWh battery</td>\n      <td>fd5a5eaf164b3d244bafa932fc307caf</td>\n      <td>59.274780</td>\n      <td>0.0018</td>\n      <td>0.000133</td>\n      <td>None</td>\n      <td>13.5</td>\n      <td>2023-01-01 18:43:00</td>\n      <td>N:Shopping, T:Short</td>\n      <td>9849724ec20b6882346b572ebdb998b1</td>\n    </tr>\n    <tr>\n      <th>183</th>\n      <td>0.01</td>\n      <td>2023-01-01 07:27:00</td>\n      <td>2023-01-01 07:27:00</td>\n      <td>2023-01-01 00:00:00</td>\n      <td>Others Others with 20 kWh battery</td>\n      <td>648dd5674bace1aaa96d76bab22da2b1</td>\n      <td>60.441292</td>\n      <td>0.0020</td>\n      <td>0.000100</td>\n      <td>None</td>\n      <td>20.0</td>\n      <td>2023-01-01 07:27:00</td>\n      <td>N:Residential, T:Short</td>\n      <td>3833aad281a813596533c3d6c941c3c6</td>\n    </tr>\n    <tr>\n      <th>184</th>\n      <td>0.01</td>\n      <td>2023-01-01 16:06:00</td>\n      <td>2023-01-01 16:06:00</td>\n      <td>2023-01-01 00:00:00</td>\n      <td>Others Others with 20 kWh battery</td>\n      <td>648dd5674bace1aaa96d76bab22da2b1</td>\n      <td>59.394479</td>\n      <td>0.0020</td>\n      <td>0.000100</td>\n      <td>None</td>\n      <td>20.0</td>\n      <td>2023-01-01 16:06:00</td>\n      <td>N:Residential, T:Short</td>\n      <td>4caf0eeabf5dabf2752e5ba348538614</td>\n    </tr>\n    <tr>\n      <th>185</th>\n      <td>0.00</td>\n      <td>2023-01-01 07:53:00</td>\n      <td>2023-01-01 07:53:00</td>\n      <td>2023-01-01 00:00:00</td>\n      <td>Mercedes E300 with 13.5 kWh battery</td>\n      <td>8395a80d55e4e9f9213e8e803b951cbe</td>\n      <td>59.700435</td>\n      <td>0.0000</td>\n      <td>0.000000</td>\n      <td>None</td>\n      <td>13.5</td>\n      <td>2023-01-01 07:53:00</td>\n      <td>N:Residential, T:Short</td>\n      <td>f823a5b51397329473995db3bc42f54e</td>\n    </tr>\n    <tr>\n      <th>186</th>\n      <td>0.00</td>\n      <td>2023-01-01 16:32:00</td>\n      <td>2023-01-01 16:32:00</td>\n      <td>2023-01-01 00:00:00</td>\n      <td>Mercedes E300 with 13.5 kWh battery</td>\n      <td>8395a80d55e4e9f9213e8e803b951cbe</td>\n      <td>59.213542</td>\n      <td>0.0000</td>\n      <td>0.000000</td>\n      <td>None</td>\n      <td>13.5</td>\n      <td>2023-01-01 16:32:00</td>\n      <td>N:Residential, T:Short</td>\n      <td>d437eeff6b41578cfa233b2f24779c53</td>\n    </tr>\n  </tbody>\n</table>\n<p>187 rows × 14 columns</p>\n</div>"
     },
     "execution_count": 340,
     "metadata": {},
     "output_type": "execute_result"
    }
   ],
   "source": [
    "# Print trip segments\n",
    "\n",
    "aggregator.assigned_segments_dataframe()"
   ],
   "metadata": {
    "collapsed": false,
    "pycharm": {
     "name": "#%%\n"
    }
   }
  },
  {
   "cell_type": "code",
   "execution_count": 341,
   "outputs": [
    {
     "data": {
      "text/plain": "<Figure size 640x480 with 1 Axes>",
      "image/png": "[encoded data removed]"
     },
     "metadata": {},
     "output_type": "display_data"
    }
   ],
   "source": [
    "# Plot the population brand in a pie chart\n",
    "\n",
    "# Values of each group\n",
    "brand_values = aggregator.population_dataframe()['brand'].value_counts()\n",
    "plt.pie(brand_values, labels=brand_values.index, autopct='%1.1f%%')\n",
    "\n",
    "# View the plot\n",
    "plt.axis('equal')\n",
    "plt.show()"
   ],
   "metadata": {
    "collapsed": false,
    "pycharm": {
     "name": "#%%\n"
    }
   }
  },
  {
   "cell_type": "code",
   "execution_count": 342,
   "outputs": [
    {
     "data": {
      "text/plain": "<Figure size 640x480 with 1 Axes>",
      "image/png": "[encoded data removed]"
     },
     "metadata": {},
     "output_type": "display_data"
    }
   ],
   "source": [
    "# Plot the trip distances in a histogram\n",
    "plt.hist(aggregator.assigned_trips_dataframe()['trip_length'], bins=40)\n",
    "plt.show()"
   ],
   "metadata": {
    "collapsed": false,
    "pycharm": {
     "name": "#%%\n"
    }
   }
  },
  {
   "cell_type": "code",
   "execution_count": 343,
   "outputs": [
    {
     "data": {
      "text/plain": "<Figure size 640x480 with 1 Axes>",
      "image/png": "[encoded data removed]"
     },
     "metadata": {},
     "output_type": "display_data"
    }
   ],
   "source": [
    "# Plot the segment distances in a histogram\n",
    "plt.hist(aggregator.assigned_segments_dataframe()['trip_length'], bins=20)\n",
    "plt.show()"
   ],
   "metadata": {
    "collapsed": false,
    "pycharm": {
     "name": "#%%\n"
    }
   }
  },
  {
   "cell_type": "code",
   "execution_count": 344,
   "outputs": [
    {
     "data": {
      "text/plain": "44.7412"
     },
     "execution_count": 344,
     "metadata": {},
     "output_type": "execute_result"
    }
   ],
   "source": [
    "aggregator.assigned_trips_dataframe()['trip_length'].mean()"
   ],
   "metadata": {
    "collapsed": false,
    "pycharm": {
     "name": "#%%\n"
    }
   }
  },
  {
   "cell_type": "code",
   "execution_count": 345,
   "outputs": [
    {
     "data": {
      "text/plain": "     trip_length            trip_start_time              trip_end_time  \\\n0       4.381015 2023-01-01 07:52:00.000000 2023-01-01 07:54:39.121472   \n1     272.062347 2023-01-01 09:03:55.727203 2023-01-01 11:48:37.218655   \n2       2.406344 2023-01-01 08:55:00.000000 2023-01-01 08:56:25.981515   \n3     279.658953 2023-01-01 09:47:18.701299 2023-01-01 12:33:51.246363   \n4       4.152680 2023-01-01 07:55:00.000000 2023-01-01 07:57:29.878134   \n..           ...                        ...                        ...   \n187     0.010000 2023-01-01 18:43:00.000000 2023-01-01 18:43:00.000000   \n188     0.010000 2023-01-01 07:27:00.000000 2023-01-01 07:27:00.000000   \n189     0.010000 2023-01-01 16:06:00.000000 2023-01-01 16:06:00.000000   \n190     0.000000 2023-01-01 07:53:00.000000 2023-01-01 07:53:00.000000   \n191     0.000000 2023-01-01 16:32:00.000000 2023-01-01 16:32:00.000000   \n\n           trip_duration                                   ev  \\\n0         0:02:39.121472  Wolkswagen ID.3 with 58 kWh battery   \n1         2:44:41.491452  Wolkswagen ID.3 with 58 kWh battery   \n2         0:01:25.981515    Jaguar I-Pace with 85 kWh battery   \n3         2:46:32.545064    Jaguar I-Pace with 85 kWh battery   \n4         0:02:29.878134    Tesla Model 3 with 95 kWh battery   \n..                   ...                                  ...   \n187  2023-01-01 00:00:00  Mercedes E300 with 13.5 kWh battery   \n188  2023-01-01 00:00:00    Others Others with 20 kWh battery   \n189  2023-01-01 00:00:00    Others Others with 20 kWh battery   \n190  2023-01-01 00:00:00  Mercedes E300 with 13.5 kWh battery   \n191  2023-01-01 00:00:00  Mercedes E300 with 13.5 kWh battery   \n\n                                ev_id  trip_speed  trip_energy_consumption  \\\n0    b2e4010d21f2718e1d4f23652bc03060   99.117067                 0.679057   \n1    b2e4010d21f2718e1d4f23652bc03060   99.117067                42.169664   \n2    e5293529941040acd31999e1498b9a52  100.752333                 0.529396   \n3    e5293529941040acd31999e1498b9a52  100.752333                61.524970   \n4    a0943bf028856b846204cfbc099d9ea7   99.745351                 0.747482   \n..                                ...         ...                      ...   \n187  fd5a5eaf164b3d244bafa932fc307caf   59.274780                 0.001800   \n188  648dd5674bace1aaa96d76bab22da2b1   60.441292                 0.002000   \n189  648dd5674bace1aaa96d76bab22da2b1   59.394479                 0.002000   \n190  8395a80d55e4e9f9213e8e803b951cbe   59.700435                 0.000000   \n191  8395a80d55e4e9f9213e8e803b951cbe   59.213542                 0.000000   \n\n     trip_required_soc covered_trip_length  ev_battery_size  \\\n0             0.011708                None             58.0   \n1             0.727063                None             58.0   \n2             0.006228                None             85.0   \n3             0.723823                None             85.0   \n4             0.007868                None             95.0   \n..                 ...                 ...              ...   \n187           0.000133                None             13.5   \n188           0.000100                None             20.0   \n189           0.000100                None             20.0   \n190           0.000000                None             13.5   \n191           0.000000                None             13.5   \n\n         trip_estimate_arrival                 profile  \\\n0   2023-01-01 07:54:39.121472          N:Work, T:Long   \n1   2023-01-01 11:48:37.218655          N:Work, T:Long   \n2   2023-01-01 08:56:25.981515          N:Work, T:Long   \n3   2023-01-01 12:33:51.246363          N:Work, T:Long   \n4   2023-01-01 07:57:29.878134          N:Work, T:Long   \n..                         ...                     ...   \n187 2023-01-01 18:43:00.000000     N:Shopping, T:Short   \n188 2023-01-01 07:27:00.000000  N:Residential, T:Short   \n189 2023-01-01 16:06:00.000000  N:Residential, T:Short   \n190 2023-01-01 07:53:00.000000  N:Residential, T:Short   \n191 2023-01-01 16:32:00.000000  N:Residential, T:Short   \n\n                              trip_id  \n0    8eb8685a00cb1f88e6ef4d26151d7857  \n1    8eb8685a00cb1f88e6ef4d26151d7857  \n2    842881efb6ef5dc6864e057bfc15a5b5  \n3    842881efb6ef5dc6864e057bfc15a5b5  \n4    eec3a79f15a2ed512552e771edbf9eae  \n..                                ...  \n187  9849724ec20b6882346b572ebdb998b1  \n188  3833aad281a813596533c3d6c941c3c6  \n189  4caf0eeabf5dabf2752e5ba348538614  \n190  f823a5b51397329473995db3bc42f54e  \n191  d437eeff6b41578cfa233b2f24779c53  \n\n[192 rows x 14 columns]",
      "text/html": "<div>\n<style scoped>\n    .dataframe tbody tr th:only-of-type {\n        vertical-align: middle;\n    }\n\n    .dataframe tbody tr th {\n        vertical-align: top;\n    }\n\n    .dataframe thead th {\n        text-align: right;\n    }\n</style>\n<table border=\"1\" class=\"dataframe\">\n  <thead>\n    <tr style=\"text-align: right;\">\n      <th></th>\n      <th>trip_length</th>\n      <th>trip_start_time</th>\n      <th>trip_end_time</th>\n      <th>trip_duration</th>\n      <th>ev</th>\n      <th>ev_id</th>\n      <th>trip_speed</th>\n      <th>trip_energy_consumption</th>\n      <th>trip_required_soc</th>\n      <th>covered_trip_length</th>\n      <th>ev_battery_size</th>\n      <th>trip_estimate_arrival</th>\n      <th>profile</th>\n      <th>trip_id</th>\n    </tr>\n  </thead>\n  <tbody>\n    <tr>\n      <th>0</th>\n      <td>4.381015</td>\n      <td>2023-01-01 07:52:00.000000</td>\n      <td>2023-01-01 07:54:39.121472</td>\n      <td>0:02:39.121472</td>\n      <td>Wolkswagen ID.3 with 58 kWh battery</td>\n      <td>b2e4010d21f2718e1d4f23652bc03060</td>\n      <td>99.117067</td>\n      <td>0.679057</td>\n      <td>0.011708</td>\n      <td>None</td>\n      <td>58.0</td>\n      <td>2023-01-01 07:54:39.121472</td>\n      <td>N:Work, T:Long</td>\n      <td>8eb8685a00cb1f88e6ef4d26151d7857</td>\n    </tr>\n    <tr>\n      <th>1</th>\n      <td>272.062347</td>\n      <td>2023-01-01 09:03:55.727203</td>\n      <td>2023-01-01 11:48:37.218655</td>\n      <td>2:44:41.491452</td>\n      <td>Wolkswagen ID.3 with 58 kWh battery</td>\n      <td>b2e4010d21f2718e1d4f23652bc03060</td>\n      <td>99.117067</td>\n      <td>42.169664</td>\n      <td>0.727063</td>\n      <td>None</td>\n      <td>58.0</td>\n      <td>2023-01-01 11:48:37.218655</td>\n      <td>N:Work, T:Long</td>\n      <td>8eb8685a00cb1f88e6ef4d26151d7857</td>\n    </tr>\n    <tr>\n      <th>2</th>\n      <td>2.406344</td>\n      <td>2023-01-01 08:55:00.000000</td>\n      <td>2023-01-01 08:56:25.981515</td>\n      <td>0:01:25.981515</td>\n      <td>Jaguar I-Pace with 85 kWh battery</td>\n      <td>e5293529941040acd31999e1498b9a52</td>\n      <td>100.752333</td>\n      <td>0.529396</td>\n      <td>0.006228</td>\n      <td>None</td>\n      <td>85.0</td>\n      <td>2023-01-01 08:56:25.981515</td>\n      <td>N:Work, T:Long</td>\n      <td>842881efb6ef5dc6864e057bfc15a5b5</td>\n    </tr>\n    <tr>\n      <th>3</th>\n      <td>279.658953</td>\n      <td>2023-01-01 09:47:18.701299</td>\n      <td>2023-01-01 12:33:51.246363</td>\n      <td>2:46:32.545064</td>\n      <td>Jaguar I-Pace with 85 kWh battery</td>\n      <td>e5293529941040acd31999e1498b9a52</td>\n      <td>100.752333</td>\n      <td>61.524970</td>\n      <td>0.723823</td>\n      <td>None</td>\n      <td>85.0</td>\n      <td>2023-01-01 12:33:51.246363</td>\n      <td>N:Work, T:Long</td>\n      <td>842881efb6ef5dc6864e057bfc15a5b5</td>\n    </tr>\n    <tr>\n      <th>4</th>\n      <td>4.152680</td>\n      <td>2023-01-01 07:55:00.000000</td>\n      <td>2023-01-01 07:57:29.878134</td>\n      <td>0:02:29.878134</td>\n      <td>Tesla Model 3 with 95 kWh battery</td>\n      <td>a0943bf028856b846204cfbc099d9ea7</td>\n      <td>99.745351</td>\n      <td>0.747482</td>\n      <td>0.007868</td>\n      <td>None</td>\n      <td>95.0</td>\n      <td>2023-01-01 07:57:29.878134</td>\n      <td>N:Work, T:Long</td>\n      <td>eec3a79f15a2ed512552e771edbf9eae</td>\n    </tr>\n    <tr>\n      <th>...</th>\n      <td>...</td>\n      <td>...</td>\n      <td>...</td>\n      <td>...</td>\n      <td>...</td>\n      <td>...</td>\n      <td>...</td>\n      <td>...</td>\n      <td>...</td>\n      <td>...</td>\n      <td>...</td>\n      <td>...</td>\n      <td>...</td>\n      <td>...</td>\n    </tr>\n    <tr>\n      <th>187</th>\n      <td>0.010000</td>\n      <td>2023-01-01 18:43:00.000000</td>\n      <td>2023-01-01 18:43:00.000000</td>\n      <td>2023-01-01 00:00:00</td>\n      <td>Mercedes E300 with 13.5 kWh battery</td>\n      <td>fd5a5eaf164b3d244bafa932fc307caf</td>\n      <td>59.274780</td>\n      <td>0.001800</td>\n      <td>0.000133</td>\n      <td>None</td>\n      <td>13.5</td>\n      <td>2023-01-01 18:43:00.000000</td>\n      <td>N:Shopping, T:Short</td>\n      <td>9849724ec20b6882346b572ebdb998b1</td>\n    </tr>\n    <tr>\n      <th>188</th>\n      <td>0.010000</td>\n      <td>2023-01-01 07:27:00.000000</td>\n      <td>2023-01-01 07:27:00.000000</td>\n      <td>2023-01-01 00:00:00</td>\n      <td>Others Others with 20 kWh battery</td>\n      <td>648dd5674bace1aaa96d76bab22da2b1</td>\n      <td>60.441292</td>\n      <td>0.002000</td>\n      <td>0.000100</td>\n      <td>None</td>\n      <td>20.0</td>\n      <td>2023-01-01 07:27:00.000000</td>\n      <td>N:Residential, T:Short</td>\n      <td>3833aad281a813596533c3d6c941c3c6</td>\n    </tr>\n    <tr>\n      <th>189</th>\n      <td>0.010000</td>\n      <td>2023-01-01 16:06:00.000000</td>\n      <td>2023-01-01 16:06:00.000000</td>\n      <td>2023-01-01 00:00:00</td>\n      <td>Others Others with 20 kWh battery</td>\n      <td>648dd5674bace1aaa96d76bab22da2b1</td>\n      <td>59.394479</td>\n      <td>0.002000</td>\n      <td>0.000100</td>\n      <td>None</td>\n      <td>20.0</td>\n      <td>2023-01-01 16:06:00.000000</td>\n      <td>N:Residential, T:Short</td>\n      <td>4caf0eeabf5dabf2752e5ba348538614</td>\n    </tr>\n    <tr>\n      <th>190</th>\n      <td>0.000000</td>\n      <td>2023-01-01 07:53:00.000000</td>\n      <td>2023-01-01 07:53:00.000000</td>\n      <td>2023-01-01 00:00:00</td>\n      <td>Mercedes E300 with 13.5 kWh battery</td>\n      <td>8395a80d55e4e9f9213e8e803b951cbe</td>\n      <td>59.700435</td>\n      <td>0.000000</td>\n      <td>0.000000</td>\n      <td>None</td>\n      <td>13.5</td>\n      <td>2023-01-01 07:53:00.000000</td>\n      <td>N:Residential, T:Short</td>\n      <td>f823a5b51397329473995db3bc42f54e</td>\n    </tr>\n    <tr>\n      <th>191</th>\n      <td>0.000000</td>\n      <td>2023-01-01 16:32:00.000000</td>\n      <td>2023-01-01 16:32:00.000000</td>\n      <td>2023-01-01 00:00:00</td>\n      <td>Mercedes E300 with 13.5 kWh battery</td>\n      <td>8395a80d55e4e9f9213e8e803b951cbe</td>\n      <td>59.213542</td>\n      <td>0.000000</td>\n      <td>0.000000</td>\n      <td>None</td>\n      <td>13.5</td>\n      <td>2023-01-01 16:32:00.000000</td>\n      <td>N:Residential, T:Short</td>\n      <td>d437eeff6b41578cfa233b2f24779c53</td>\n    </tr>\n  </tbody>\n</table>\n<p>192 rows × 14 columns</p>\n</div>"
     },
     "execution_count": 345,
     "metadata": {},
     "output_type": "execute_result"
    }
   ],
   "source": [
    "# Check trip stops of EVs\n",
    "\n",
    "aggregator.assigned_split_trips_dataframe()"
   ],
   "metadata": {
    "collapsed": false,
    "pycharm": {
     "name": "#%%\n"
    }
   }
  },
  {
   "cell_type": "code",
   "execution_count": 346,
   "outputs": [
    {
     "data": {
      "text/plain": "    charging_station_type  charging_station_power  charging_station_cost  \\\n0                    Slow                     7.2                   0.15   \n1                    Fast                     3.6                   0.15   \n2                    Slow                     3.6                   0.15   \n3                    Fast                     7.2                   0.15   \n4                    Slow                     7.2                   0.15   \n..                    ...                     ...                    ...   \n195                  Fast                     3.6                   0.15   \n196                  Slow                     7.2                   0.15   \n197                  Fast                     3.6                   0.15   \n198                  Fast                     7.2                   0.15   \n199                  Fast                     7.2                   0.15   \n\n     charging_station_efficiency  charging_station_probability  \\\n0                            0.9                          0.25   \n1                            0.9                          0.25   \n2                            0.9                          0.25   \n3                            0.9                          0.25   \n4                            0.9                          0.25   \n..                           ...                           ...   \n195                          0.9                          0.25   \n196                          0.9                          0.25   \n197                          0.9                          0.25   \n198                          0.9                          0.25   \n199                          0.9                          0.25   \n\n                              charging_station_history  \\\n0    [[2023-01-01 12:58:13.218655, 2023-01-01 13:01...   \n1    [[2023-01-01 07:54:39.121472, 2023-01-01 09:03...   \n2    [[2023-01-01 13:24:51.246363, 2023-01-01 13:35...   \n3    [[2023-01-01 08:56:25.981515, 2023-01-01 09:47...   \n4    [[2023-01-01 12:58:13.218655, 2023-01-01 13:01...   \n..                                                 ...   \n195  [[2023-01-01 07:54:39.121472, 2023-01-01 09:03...   \n196  [[2023-01-01 12:58:13.218655, 2023-01-01 13:01...   \n197  [[2023-01-01 07:54:39.121472, 2023-01-01 09:03...   \n198  [[2023-01-01 08:56:25.981515, 2023-01-01 09:47...   \n199  [[2023-01-01 08:56:25.981515, 2023-01-01 09:47...   \n\n                                ev_id  \n0    4aa25adbd7e556183146163856300f78  \n1    92105cfd35ef66f278adc928f3376438  \n2    ba5d2bf7503723f6a11c82a8cf05b49b  \n3    65d1d0e8546823fb52c1f260d514932b  \n4    4aa25adbd7e556183146163856300f78  \n..                                ...  \n195  92105cfd35ef66f278adc928f3376438  \n196  4aa25adbd7e556183146163856300f78  \n197  92105cfd35ef66f278adc928f3376438  \n198  65d1d0e8546823fb52c1f260d514932b  \n199  65d1d0e8546823fb52c1f260d514932b  \n\n[200 rows x 7 columns]",
      "text/html": "<div>\n<style scoped>\n    .dataframe tbody tr th:only-of-type {\n        vertical-align: middle;\n    }\n\n    .dataframe tbody tr th {\n        vertical-align: top;\n    }\n\n    .dataframe thead th {\n        text-align: right;\n    }\n</style>\n<table border=\"1\" class=\"dataframe\">\n  <thead>\n    <tr style=\"text-align: right;\">\n      <th></th>\n      <th>charging_station_type</th>\n      <th>charging_station_power</th>\n      <th>charging_station_cost</th>\n      <th>charging_station_efficiency</th>\n      <th>charging_station_probability</th>\n      <th>charging_station_history</th>\n      <th>ev_id</th>\n    </tr>\n  </thead>\n  <tbody>\n    <tr>\n      <th>0</th>\n      <td>Slow</td>\n      <td>7.2</td>\n      <td>0.15</td>\n      <td>0.9</td>\n      <td>0.25</td>\n      <td>[[2023-01-01 12:58:13.218655, 2023-01-01 13:01...</td>\n      <td>4aa25adbd7e556183146163856300f78</td>\n    </tr>\n    <tr>\n      <th>1</th>\n      <td>Fast</td>\n      <td>3.6</td>\n      <td>0.15</td>\n      <td>0.9</td>\n      <td>0.25</td>\n      <td>[[2023-01-01 07:54:39.121472, 2023-01-01 09:03...</td>\n      <td>92105cfd35ef66f278adc928f3376438</td>\n    </tr>\n    <tr>\n      <th>2</th>\n      <td>Slow</td>\n      <td>3.6</td>\n      <td>0.15</td>\n      <td>0.9</td>\n      <td>0.25</td>\n      <td>[[2023-01-01 13:24:51.246363, 2023-01-01 13:35...</td>\n      <td>ba5d2bf7503723f6a11c82a8cf05b49b</td>\n    </tr>\n    <tr>\n      <th>3</th>\n      <td>Fast</td>\n      <td>7.2</td>\n      <td>0.15</td>\n      <td>0.9</td>\n      <td>0.25</td>\n      <td>[[2023-01-01 08:56:25.981515, 2023-01-01 09:47...</td>\n      <td>65d1d0e8546823fb52c1f260d514932b</td>\n    </tr>\n    <tr>\n      <th>4</th>\n      <td>Slow</td>\n      <td>7.2</td>\n      <td>0.15</td>\n      <td>0.9</td>\n      <td>0.25</td>\n      <td>[[2023-01-01 12:58:13.218655, 2023-01-01 13:01...</td>\n      <td>4aa25adbd7e556183146163856300f78</td>\n    </tr>\n    <tr>\n      <th>...</th>\n      <td>...</td>\n      <td>...</td>\n      <td>...</td>\n      <td>...</td>\n      <td>...</td>\n      <td>...</td>\n      <td>...</td>\n    </tr>\n    <tr>\n      <th>195</th>\n      <td>Fast</td>\n      <td>3.6</td>\n      <td>0.15</td>\n      <td>0.9</td>\n      <td>0.25</td>\n      <td>[[2023-01-01 07:54:39.121472, 2023-01-01 09:03...</td>\n      <td>92105cfd35ef66f278adc928f3376438</td>\n    </tr>\n    <tr>\n      <th>196</th>\n      <td>Slow</td>\n      <td>7.2</td>\n      <td>0.15</td>\n      <td>0.9</td>\n      <td>0.25</td>\n      <td>[[2023-01-01 12:58:13.218655, 2023-01-01 13:01...</td>\n      <td>4aa25adbd7e556183146163856300f78</td>\n    </tr>\n    <tr>\n      <th>197</th>\n      <td>Fast</td>\n      <td>3.6</td>\n      <td>0.15</td>\n      <td>0.9</td>\n      <td>0.25</td>\n      <td>[[2023-01-01 07:54:39.121472, 2023-01-01 09:03...</td>\n      <td>92105cfd35ef66f278adc928f3376438</td>\n    </tr>\n    <tr>\n      <th>198</th>\n      <td>Fast</td>\n      <td>7.2</td>\n      <td>0.15</td>\n      <td>0.9</td>\n      <td>0.25</td>\n      <td>[[2023-01-01 08:56:25.981515, 2023-01-01 09:47...</td>\n      <td>65d1d0e8546823fb52c1f260d514932b</td>\n    </tr>\n    <tr>\n      <th>199</th>\n      <td>Fast</td>\n      <td>7.2</td>\n      <td>0.15</td>\n      <td>0.9</td>\n      <td>0.25</td>\n      <td>[[2023-01-01 08:56:25.981515, 2023-01-01 09:47...</td>\n      <td>65d1d0e8546823fb52c1f260d514932b</td>\n    </tr>\n  </tbody>\n</table>\n<p>200 rows × 7 columns</p>\n</div>"
     },
     "execution_count": 346,
     "metadata": {},
     "output_type": "execute_result"
    }
   ],
   "source": [
    "# Dataframe of the used Charging Stations\n",
    "\n",
    "aggregator.assigned_cs_dataframe()"
   ],
   "metadata": {
    "collapsed": false,
    "pycharm": {
     "name": "#%%\n"
    }
   }
  },
  {
   "cell_type": "code",
   "execution_count": null,
   "outputs": [],
   "source": [],
   "metadata": {
    "collapsed": false,
    "pycharm": {
     "name": "#%%\n"
    }
   }
  }
 ],
 "metadata": {
  "kernelspec": {
   "display_name": "Python 3",
   "language": "python",
   "name": "python3"
  },
  "language_info": {
   "codemirror_mode": {
    "name": "ipython",
    "version": 2
   },
   "file_extension": ".py",
   "mimetype": "text/x-python",
   "name": "python",
   "nbconvert_exporter": "python",
   "pygments_lexer": "ipython2",
   "version": "2.7.6"
  }
 },
 "nbformat": 4,
 "nbformat_minor": 0
}