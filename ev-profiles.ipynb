{
 "cells": [
  {
   "cell_type": "code",
   "execution_count": 179,
   "outputs": [],
   "source": [
    "# Imports\n",
    "\n",
    "import numpy as np\n",
    "import pandas as pd\n",
    "import matplotlib.pyplot as plt\n",
    "import copy\n",
    "import secrets"
   ],
   "metadata": {
    "collapsed": false,
    "pycharm": {
     "name": "#%%\n"
    }
   }
  },
  {
   "cell_type": "code",
   "execution_count": 261,
   "outputs": [],
   "source": [
    "# Create an EV class with the following attributes:\n",
    "# - Brand\n",
    "# - Model\n",
    "# - Battery type\n",
    "# - Battery size\n",
    "# - Charging Efficiency\n",
    "# - Discharging Efficiency\n",
    "# - Energy per km\n",
    "# - SOC min\n",
    "# - SOC max\n",
    "# - Probability in population - this is the probability that a car of this type will be chosen from the population\n",
    "\n",
    "class EV:\n",
    "    def __init__(self, brand, model, battery_type, battery_size, charging_efficiency, discharging_efficiency, energy_per_km, soc_min, soc_max, probability_in_population):\n",
    "        self.brand = brand\n",
    "        self.model = model\n",
    "        self.battery_type = battery_type\n",
    "        self.battery_size = battery_size\n",
    "        self.charging_efficiency = charging_efficiency if charging_efficiency <= 1 or charging_efficiency >= 0 else 0.9\n",
    "        self.discharging_efficiency = discharging_efficiency if discharging_efficiency <= 1 or discharging_efficiency >= 0 else 0.9\n",
    "        self.energy_per_km = energy_per_km\n",
    "        self.soc_min = soc_min if soc_min >= 0.0 else 0.0\n",
    "        self.soc_max = soc_max if soc_max <= 1.0 else 1.0\n",
    "        self.probability_in_population = probability_in_population if probability_in_population <= 1.0 else 1.0\n",
    "\n",
    "\n",
    "# Extend the class to create drivable EVs\n",
    "class DrivableEV(EV):\n",
    "\n",
    "    # __init__ method is inherited from EV class, extended with the state of charge. Creates the following attributes:\n",
    "    # - State of Charge\n",
    "    # - List of trips\n",
    "    # - Current trip\n",
    "    def __init__(self, brand, model, battery_type, battery_size, charging_efficiency, discharging_efficiency, energy_per_km, soc_min, soc_max, probability_in_population, initial_soc=None):\n",
    "        super().__init__(brand, model, battery_type, battery_size, charging_efficiency, discharging_efficiency, energy_per_km, soc_min, soc_max, probability_in_population)\n",
    "\n",
    "        # EV ID\n",
    "        self.ev_id = secrets.token_hex(16)\n",
    "\n",
    "        # SOC variables\n",
    "        self.soc = [initial_soc]\n",
    "        self.current_soc = initial_soc\n",
    "\n",
    "        # List of trips and current trip\n",
    "        self.trips = []\n",
    "        self.current_trip = None\n",
    "\n",
    "        # Information about the charging stations\n",
    "        self.current_charging_station = None\n",
    "\n",
    "        # EV driving status\n",
    "        self.driving_status = 'Idle'\n",
    "\n",
    "\n",
    "    # Format the print\n",
    "    def __repr__(self):\n",
    "        return f\"{self.brand} {self.model} with {self.battery_size} kWh battery\"\n",
    "\n",
    "    # Create a method to add a trip to the EV\n",
    "    def add_trip(self, trip):\n",
    "        self.trips.append(trip)\n",
    "\n",
    "\n",
    "    # Create a method to charge the EV\n",
    "    def charge(self, charge_amount):\n",
    "        self.current_soc += charge_amount * self.charging_efficiency\n",
    "\n",
    "        if self.current_soc > self.battery_size:\n",
    "            self.current_soc = self.battery_size\n",
    "\n",
    "\n",
    "    # Create a method to discharge the EV\n",
    "    def discharge(self, discharge_amount):\n",
    "        self.current_soc -= discharge_amount * self.discharging_efficiency\n",
    "\n",
    "        if self.current_soc < 0:\n",
    "            self.current_soc = 0\n",
    "\n",
    "\n",
    "    # Create a method to update the state of charge according to current trip length\n",
    "    def update_soc(self):\n",
    "        self.current_soc -= self.current_trip.length * self.energy_per_km * self.discharging_efficiency\n",
    "\n",
    "        if self.current_soc < 0:\n",
    "            self.current_soc = 0\n",
    "\n"
   ],
   "metadata": {
    "collapsed": false,
    "pycharm": {
     "name": "#%%\n"
    }
   }
  },
  {
   "cell_type": "code",
   "execution_count": 262,
   "outputs": [],
   "source": [
    "# Define a Trip class, that will assign a trip to an EV. Has the following parameters:\n",
    "# - EV\n",
    "# - Trip length\n",
    "# - Trip start time (can be a range)\n",
    "# - Trip end time (can be a range)\n",
    "# - Trip start SOC\n",
    "# - Trip end SOC\n",
    "# - Trip energy consumption\n",
    "# - Trip stops\n",
    "\n",
    "class Trip:\n",
    "    def __init__(self, trip_length, trip_start_time, trip_end_time, trip_duration):\n",
    "        self.trip_length = trip_length\n",
    "        self.trip_start_time = trip_start_time\n",
    "        self.trip_end_time = trip_end_time\n",
    "        self.trip_duration = trip_duration\n",
    "\n",
    "\n",
    "class DrivableTrip(Trip):\n",
    "    # Init method is the same as Trip class\n",
    "    def __init__(self, trip_length, trip_start_time, trip_end_time, trip_duration, profile=None):\n",
    "        super().__init__(trip_length, trip_start_time, trip_end_time, trip_duration)\n",
    "\n",
    "        # Information about EV\n",
    "        self.ev = None\n",
    "        self.ev_id = None\n",
    "\n",
    "        # Information about the trip\n",
    "        self.trip_energy_consumption = None\n",
    "        self.trip_required_soc = None\n",
    "        self.covered_trip_length = None\n",
    "        self.ev_battery_size = None\n",
    "        self.trip_stops = []\n",
    "        self.trip_estimate_arrival = trip_end_time\n",
    "        self.profile = profile\n",
    "\n",
    "        # Completed trips\n",
    "        self.trip_status = 'Not started'\n",
    "\n",
    "\n",
    "    # Formatted print method\n",
    "    def __repr__(self):\n",
    "        return f'Trip length: {self.trip_length} km, trip start time: {self.trip_start_time}, ' \\\n",
    "               f'trip end time: {self.trip_end_time}, trip energy consumption: {self.trip_energy_consumption} kWh, ' \\\n",
    "               f'trip required SOC: {self.trip_required_soc} %, trip stops: {self.trip_stops}'\n",
    "\n",
    "    # Create a method to calculate the trip energy consumption\n",
    "    def calculate_trip_energy_consumption(self):\n",
    "        self.trip_energy_consumption = self.trip_length * self.ev.energy_per_km\n",
    "\n",
    "\n",
    "    # Create a method to calculate the trip required SOC\n",
    "    def calculate_trip_required_soc(self):\n",
    "        self.trip_required_soc = self.trip_energy_consumption / self.ev.battery_size\n",
    "\n",
    "\n",
    "    # Create a method to assign the battery size of the EV to the trip\n",
    "    def assign_ev_battery_size(self):\n",
    "        self.ev_battery_size = self.ev.battery_size\n",
    "\n",
    "\n",
    "    # Create a method to add stops to the trip\n",
    "    def add_stop(self, stop):\n",
    "        self.trip_stops.append(stop)\n",
    "\n",
    "\n",
    "    # Create a method to update the covered trip length\n",
    "    def update_covered_trip_length(self, covered_trip_length):\n",
    "        self.covered_trip_length += covered_trip_length\n",
    "\n",
    "\n",
    "    # Create a method to update the required SOC\n",
    "    def update_trip_required_soc(self):\n",
    "        self.trip_required_soc = (self.trip_energy_consumption - self.covered_trip_length * self.ev.energy_per_km) / self.ev.battery_size\n"
   ],
   "metadata": {
    "collapsed": false,
    "pycharm": {
     "name": "#%%\n"
    }
   }
  },
  {
   "cell_type": "code",
   "execution_count": 263,
   "outputs": [],
   "source": [
    "# Define a Charging Station class, that will charge the EVs. Has the following parameters:\n",
    "# - Charging station name\n",
    "# - Charging station location\n",
    "# - Charging station type\n",
    "# - Charging station power\n",
    "# - Charging station efficiency\n",
    "# - Charging station availability\n",
    "# - Charging station cost\n",
    "\n",
    "class ChargingStation:\n",
    "    def __init__(self, charging_station_type, charging_station_power, charging_station_efficiency, charging_station_cost):\n",
    "        # Parameters Assign\n",
    "        self.charging_station_type = charging_station_type\n",
    "        self.charging_station_power = charging_station_power\n",
    "        self.charging_station_cost = charging_station_cost\n",
    "        self.charging_station_efficiency = charging_station_efficiency\n",
    "\n",
    "        # Information about the charging station\n",
    "        self.charging_station_name = None\n",
    "        self.charging_station_location = None\n",
    "        self.charging_station_availability = None\n",
    "\n",
    "    # Method to set the name of the charging station\n",
    "    def set_charging_station_name(self, charging_station_name):\n",
    "        self.charging_station_name = charging_station_name\n",
    "\n",
    "    # Method to set the location of the charging station\n",
    "    def set_charging_station_location(self, charging_station_location):\n",
    "        self.charging_station_location = charging_station_location\n",
    "\n",
    "    # Method to set the availability of the charging station to either True or False\n",
    "    def set_charging_station_availability(self, charging_station_availability):\n",
    "        self.charging_station_availability = charging_station_availability.astype(bool)\n"
   ],
   "metadata": {
    "collapsed": false,
    "pycharm": {
     "name": "#%%\n"
    }
   }
  },
  {
   "cell_type": "code",
   "execution_count": 264,
   "outputs": [],
   "source": [
    "# Define a User class, that will have the following parameters:\n",
    "# - User name\n",
    "# - User location\n",
    "# - User trips\n",
    "# - User EV\n",
    "# - User type\n",
    "\n",
    "class User:\n",
    "    def __init__(self, user_name, user_profile):\n",
    "        # Parameters Assign\n",
    "        self.user_name = user_name\n",
    "        self.user_profile = user_profile\n",
    "\n",
    "    # Method to assign an EV to the user\n",
    "    def assign_ev(self, ev):\n",
    "        self.user_ev = ev\n",
    "\n",
    "\n",
    "# Create a Profile class that will determine the behaviour of the Users. Has the following parameters:\n",
    "# - Profile name\n",
    "# - Profile type\n",
    "# - Profile trip schedule\n",
    "# - Trip type\n",
    "class Profile:\n",
    "    def __init__(self, profile_name, trip_type, profile_trip_schedule):\n",
    "        # Parameters Assign\n",
    "        self.profile_name = profile_name\n",
    "        self.trip_type = trip_type\n",
    "        self.profile_trip_schedule = profile_trip_schedule\n",
    "\n",
    "    # Format printing\n",
    "    def __repr__(self):\n",
    "        return f'N:{self.profile_name}, T:{self.trip_type}'\n",
    "\n",
    "\n",
    "# Create a Schedule class with the following parameters:\n",
    "# - Schedule start\n",
    "# - Schedule end\n",
    "class Schedule:\n",
    "    def __init__(self, schedule_start, schedule_end):\n",
    "        # Parameters Assign\n",
    "        self.schedule_start = schedule_start\n",
    "        self.schedule_end = schedule_end\n",
    "\n",
    "    # Format printing\n",
    "    def __repr__(self):\n",
    "        return f'Schedule start: {self.schedule_start}, schedule end: {self.schedule_end}'"
   ],
   "metadata": {
    "collapsed": false,
    "pycharm": {
     "name": "#%%\n"
    }
   }
  },
  {
   "cell_type": "code",
   "execution_count": 265,
   "outputs": [],
   "source": [
    " # Define an Aggregator class, that will aggregate the trips and EVs. Has the following parameters:\n",
    "# - EVs\n",
    "# - Number of EVs\n",
    "class Aggregator:\n",
    "    def __init__(self, profiles, evs, charging_stations):\n",
    "        # Profile assign\n",
    "        self.profiles = profiles\n",
    "\n",
    "        # Assign the EVs to the aggregator\n",
    "        self.evs = evs\n",
    "\n",
    "        # Number of EVs of the simulation\n",
    "        self.number_of_evs = None\n",
    "\n",
    "        # Create a list of trips\n",
    "        self.trips = []\n",
    "        self.segments = []\n",
    "        self.population = None\n",
    "        self.assigned_evs = []\n",
    "\n",
    "        # Assign the charging stations to the aggregator\n",
    "        self.charging_stations = charging_stations\n",
    "\n",
    "    # Add an EV to the fleet\n",
    "    def add_ev(self, ev):\n",
    "        self.evs.append(ev)\n",
    "\n",
    "    # Assign a trip to an EV\n",
    "    def assign_trip(self, ev, trip):\n",
    "        ev.add_trip(trip)\n",
    "\n",
    "    # Assign a charging station to an EV, and charge the EV if:\n",
    "    # - The charging station is available\n",
    "    # - The charging station is of the correct type\n",
    "    # - The charging station has enough power to charge the EV\n",
    "    def assign_charging_station(self, ev, charging_station):\n",
    "        if charging_station.charging_station_availability == True and charging_station.charging_station_type == ev.battery_type and charging_station.charging_station_power >= ev.battery_size:\n",
    "            ev.current_charging_station = charging_station\n",
    "            ev.charge(charging_station.charging_station_power)\n",
    "            charging_station.charging_station_availability = False\n",
    "\n",
    "\n",
    "    # Create the population of DrivableEVs according to NumPy's random.choice\n",
    "    def create_evs(self, n_evs):\n",
    "        # Assign the number of EVs to the aggregator\n",
    "        self.number_of_evs = n_evs\n",
    "\n",
    "        # Create an EV population according to the given probabilities of the EVs\n",
    "        population_choice = np.random.choice(self.evs, n_evs,\n",
    "                                             p=[ev.probability_in_population for ev in self.evs])\n",
    "\n",
    "        # Create a list of DrivableEVs\n",
    "        self.population = [DrivableEV(ev.brand, ev.model, ev.battery_type, ev.battery_size,\n",
    "                                      ev.charging_efficiency, ev.discharging_efficiency,\n",
    "                                      ev.energy_per_km, ev.soc_min, ev.soc_max,\n",
    "                                      ev.probability_in_population,\n",
    "                                      initial_soc=np.round(np.random.uniform(ev.soc_min,\n",
    "                                                                             ev.soc_max, 1)[0], 2))\n",
    "                           for ev in population_choice]\n",
    "\n",
    "\n",
    "    # Create DrivableTrips with gamma distribution for the trip length\n",
    "    # Create a gamma distribution for the trip length\n",
    "    def create_trips(self, n_trips, avg_speed, medium_trip_min=50, medium_trip_max=100):\n",
    "        shape, scale = 41.*.035, 41.*2\n",
    "        trip_lengths = np.round(np.random.gamma(shape, scale, n_trips), 2)\n",
    "\n",
    "        # Assign the trip lengths to the trips list\n",
    "        self.trips = [Trip(trip_length, None, None, None) for trip_length in trip_lengths]\n",
    "\n",
    "        # Create the DrivableTrips\n",
    "        for trip in range(n_trips):\n",
    "\n",
    "            # Calculate trip type based on distance\n",
    "            trip_type = 'Short' if trip_lengths[trip] <= medium_trip_min else 'Medium' if medium_trip_min < trip_lengths[trip] <= medium_trip_max else 'Long'\n",
    "\n",
    "            # Get the user profiles that match the trip type\n",
    "            user_profiles = [profile for profile in self.profiles if profile.trip_type == trip_type]\n",
    "\n",
    "            # Get the user profile based on the user profiles that match the trip type\n",
    "            user_profile = np.random.choice(user_profiles, 1)[0]\n",
    "\n",
    "            # Check how many trips the user has\n",
    "            user_trips = len(user_profile.profile_trip_schedule)\n",
    "\n",
    "            # If there are more than 1 trip, split into multiple trips\n",
    "            if user_trips > 1:\n",
    "\n",
    "                # Placeholder for list of segments of each trip. Each segment is a DrivableTrip\n",
    "                segment_list = []\n",
    "\n",
    "                # Calculate the required socs for trip segment\n",
    "                for i in range(user_trips):\n",
    "                    # Get the start and end of the trip segment\n",
    "                    segment_start = user_profile.profile_trip_schedule[i].schedule_start\n",
    "                    segment_end = user_profile.profile_trip_schedule[i].schedule_end\n",
    "\n",
    "                    # Calculate the segment length\n",
    "                    duration = segment_end - segment_start if segment_end > segment_start else 0\n",
    "\n",
    "                    # Calculate the segment distance\n",
    "                    distance = duration * avg_speed\n",
    "\n",
    "                    # Create a DrivableTrip for each segment\n",
    "                    segment_list.append(DrivableTrip(distance, segment_start, segment_end, duration, profile=user_profile))\n",
    "\n",
    "                # Append to the trips list\n",
    "                self.segments.append(segment_list)\n",
    "\n",
    "            elif user_trips == 1:\n",
    "                # Calculate the trip duration\n",
    "                trip_duration = user_profile.profile_trip_schedule[0].schedule_end - user_profile.profile_trip_schedule[0].schedule_start\n",
    "\n",
    "                # Create a DrivableTrip for the trip\n",
    "                drivable_trip = DrivableTrip(trip_lengths[trip],\n",
    "                                             user_profile.profile_trip_schedule[0].schedule_start,\n",
    "                                             user_profile.profile_trip_schedule[0].schedule_end, trip_duration, profile=user_profile)\n",
    "\n",
    "                # Append to the segments list\n",
    "                self.segments.append([drivable_trip])\n",
    "\n",
    "\n",
    "    # Create DrivableTrips with a gamma distribution for the trip length\n",
    "    def create_trips_old(self, n_trips, start_period, end_period, avg_speed):\n",
    "\n",
    "        # Create a gamma distribution for the trip length\n",
    "        shape, scale = 41.*.035, 41.*2\n",
    "        trip_lengths = np.round(np.random.gamma(shape, scale, n_trips), 2)\n",
    "\n",
    "        # Create the DrivableTrips\n",
    "        for trip in range(n_trips):\n",
    "            # Calculate trip duration based on trip length and average speed\n",
    "            trip_duration = np.ceil(trip_lengths[trip] / avg_speed)\n",
    "\n",
    "            # Create a trip starting time\n",
    "            trip_start_time = np.random.randint(start_period, end_period)\n",
    "            trip_start_time = trip_start_time if trip_start_time + trip_duration <= end_period else trip_start_time - trip_duration\n",
    "\n",
    "            # Create a trip ending time\n",
    "            trip_end_time = trip_start_time + trip_duration\n",
    "\n",
    "            # Create the DrivableTrip object\n",
    "            drivable_trip = DrivableTrip(trip_lengths[trip], trip_start_time, trip_end_time, trip_duration)\n",
    "            self.trips.append(drivable_trip)\n",
    "\n",
    "\n",
    "    # Assign the larger trips to the EVs with larger battery sizes with a greater probability\n",
    "    def assign_trips(self):\n",
    "        # Create a copy of the population\n",
    "        population_copy = copy.deepcopy(self.population)\n",
    "\n",
    "        # Assigned EVs and Trips\n",
    "        assigned_evs = []\n",
    "\n",
    "        # Create a list with the probabilities of the EVs to get a trip\n",
    "        probabilities = [ev.battery_size / sum([ev.battery_size for ev in self.population]) for ev in population_copy]\n",
    "\n",
    "        # Assign the trips to the EVs\n",
    "        for segment in self.segments:\n",
    "            # Choose an EV from the population\n",
    "            ev = np.random.choice(population_copy, 1, p=probabilities)[0]\n",
    "\n",
    "            for trip in segment:\n",
    "                # Assign the trip segments to the EV\n",
    "                trip.ev = ev\n",
    "                trip.ev_id = ev.ev_id\n",
    "                trip.calculate_trip_energy_consumption()\n",
    "                trip.calculate_trip_required_soc()\n",
    "                trip.assign_ev_battery_size()\n",
    "\n",
    "                # Add the trip to the EV\n",
    "                ev.add_trip(trip)\n",
    "\n",
    "                # Calculate the trip energy consumption and required SOC\n",
    "                trip.calculate_trip_energy_consumption()\n",
    "                trip.calculate_trip_required_soc()\n",
    "\n",
    "            # Remove the EV from the population\n",
    "            population_copy.remove(ev)\n",
    "\n",
    "            self.assigned_evs.append(ev)\n",
    "\n",
    "            # Recalculate the probabilities\n",
    "            probabilities = [ev.battery_size / sum([ev.battery_size for ev in population_copy]) for ev in population_copy]\n",
    "\n",
    "            # If the population is empty, break the loop\n",
    "            if len(population_copy) == 0:\n",
    "                break\n",
    "\n",
    "\n",
    "    # Create the charging stations\n",
    "    def create_cs(self, n_cs):\n",
    "        # Create a list of charging stations\n",
    "        charging_stations = []\n",
    "\n",
    "        # Create the charging stations\n",
    "        for cs in range(n_cs):\n",
    "\n",
    "            # Create a charging station type\n",
    "            charging_station_type = np.random.choice([\"Lithium-Ion\", \"Lead-Acid\", \"Nickel-Metal Hydride\"])\n",
    "\n",
    "            # Create a charging station power\n",
    "            charging_station_power = np.random.randint(100, 1000)\n",
    "\n",
    "            # Create a charging station efficiency\n",
    "            charging_station_efficiency = np.random.uniform(0.8, 0.95)\n",
    "\n",
    "            # Create a charging station cost\n",
    "            charging_station_cost = np.random.randint(100, 1000)\n",
    "\n",
    "            # Create the charging station object\n",
    "            charging_station = ChargingStation(charging_station_type, charging_station_power, charging_station_efficiency, charging_station_cost)\n",
    "\n",
    "            # Add the charging station to the list\n",
    "            charging_stations.append(charging_station)\n",
    "\n",
    "        # Assign the charging stations to the aggregator\n",
    "        self.charging_stations = charging_stations\n",
    "\n",
    "\n",
    "    # Add a stop to the trip and EVs when:\n",
    "    # if required SOC is > 1.0;\n",
    "    # required SOC > current SOC;\n",
    "    # current SOC <= 0.2\n",
    "    def add_stop(self):\n",
    "        # Check population for need to add a stop\n",
    "        for ev in self.population:\n",
    "            # Check if the trip requires a stop\n",
    "            if ev.trips[-1].required_soc > 1.0 or ev.trips[-1].required_soc > ev.soc or ev.soc <= 0.2:\n",
    "\n",
    "                # Create a list with available charging stations\n",
    "                available_charging_stations = [cs for cs in self.charging_stations if cs.charging_station_availability == True]\n",
    "\n",
    "                # If there are available stations, attribute the first to the EV\n",
    "                ev.trip.add_stop(available_charging_stations[0])\n",
    "\n",
    "                # Charge the EV\n",
    "                ev.charge(ev.current_charging_station.charging_station_power)\n",
    "\n",
    "                # Update the charging station availability\n",
    "                ev.current_charging_station.charging_station_availability = False\n",
    "\n",
    "\n",
    "    # Run the simulation\n",
    "    def run_sim(self):\n",
    "        # Update the EVs SOC according to covered trip length\n",
    "        # Check if there are trips to be covered\n",
    "        for user in self.users:\n",
    "            pass\n",
    "\n",
    "\n",
    "    # Create a DataFrame of the population\n",
    "    def population_dataframe(self):\n",
    "        # Create a DataFrame of the population\n",
    "        population_dataframe = pd.DataFrame([ev.__dict__ for ev in self.population])\n",
    "\n",
    "        # Return the DataFrame\n",
    "        return population_dataframe\n",
    "\n",
    "\n",
    "    # Create a DataFrame of assigned EVs\n",
    "    def assigned_evs_dataframe(self):\n",
    "        # Create a DataFrame of the population\n",
    "        assigned_evs_dataframe = pd.DataFrame([ev.__dict__ for ev in self.assigned_evs])\n",
    "\n",
    "        # Return the DataFrame\n",
    "        return assigned_evs_dataframe\n",
    "\n",
    "\n",
    "    # Create a DataFrame of the trips\n",
    "    def assigned_trips_dataframe(self):\n",
    "        # Create a DataFrame of the trips\n",
    "        trips_dataframe = pd.DataFrame([trip.trip_length for trip in self.trips])\n",
    "        trips_dataframe.columns = [\"trip_length\"]\n",
    "\n",
    "        # Return the DataFrame\n",
    "        return trips_dataframe\n",
    "\n",
    "\n",
    "    # Create a DataFrame of assigned Trips and all the information in the list\n",
    "    def assigned_segments_dataframe(self):\n",
    "        # Create a DataFrame of the population\n",
    "        assigned_trips_dataframe = pd.DataFrame([trip.__dict__ for ev in self.assigned_evs for trip in ev.trips])\n",
    "\n",
    "        # Return the DataFrame\n",
    "        return assigned_trips_dataframe"
   ],
   "metadata": {
    "collapsed": false,
    "pycharm": {
     "name": "#%%\n"
    }
   }
  },
  {
   "cell_type": "code",
   "execution_count": 266,
   "outputs": [
    {
     "name": "stdout",
     "output_type": "stream",
     "text": [
      "1.0\n"
     ]
    }
   ],
   "source": [
    "# Create a list of EVs to use in the simulation\n",
    "\n",
    "EVs = [EV(brand='Nissan', model='Leaf', battery_type='BEV', battery_size=59,\n",
    "          charging_efficiency=0.9, discharging_efficiency=0.9,\n",
    "          probability_in_population=0.16, energy_per_km=0.17, soc_min=0.7, soc_max=1.0),\n",
    "       EV(brand='Tesla', model='Model 3', battery_type='BEV', battery_size=95,\n",
    "          charging_efficiency=0.9, discharging_efficiency=0.9,\n",
    "          probability_in_population=0.13, energy_per_km=0.18, soc_min=0.7, soc_max=1.0),\n",
    "       EV(brand='Peugeot', model='e-Expert', battery_type='BEV', battery_size=68,\n",
    "          charging_efficiency=0.9, discharging_efficiency=0.9,\n",
    "          probability_in_population=0.1, energy_per_km=0.26, soc_min=0.7, soc_max=1.0),\n",
    "       EV(brand='Renault', model='Zoe', battery_type='BEV', battery_size=52,\n",
    "          charging_efficiency=0.9, discharging_efficiency=0.9,\n",
    "          probability_in_population=0.1, energy_per_km=0.17, soc_min=0.7, soc_max=1.0),\n",
    "       EV(brand='Jaguar', model='I-Pace', battery_type='BEV', battery_size=85,\n",
    "          charging_efficiency=0.9, discharging_efficiency=0.9,\n",
    "          probability_in_population=0.09, energy_per_km=0.22, soc_min=0.7, soc_max=1.0),\n",
    "       EV(brand='Mercedes', model='E300', battery_type='PHEV', battery_size=13.5,\n",
    "          charging_efficiency=0.9, discharging_efficiency=0.9,\n",
    "          probability_in_population=0.08, energy_per_km=0.18, soc_min=0.7, soc_max=1.0),\n",
    "       EV(brand='BMW', model='530e', battery_type='PHEV', battery_size=70.2,\n",
    "          charging_efficiency=0.9, discharging_efficiency=0.9,\n",
    "          probability_in_population=0.08, energy_per_km=0.16, soc_min=0.7, soc_max=1.0),\n",
    "       EV(brand='Audi Q4', model='e-tron', battery_type='PHEV', battery_size=55,\n",
    "          charging_efficiency=0.9, discharging_efficiency=0.9,\n",
    "          probability_in_population=0.07, energy_per_km=0.17, soc_min=0.7, soc_max=1.0),\n",
    "       EV(brand='Hyundai', model='Kauai', battery_type='BEV', battery_size=74,\n",
    "          charging_efficiency=0.9, discharging_efficiency=0.9,\n",
    "          probability_in_population=0.06, energy_per_km=0.192, soc_min=0.7, soc_max=1.0),\n",
    "       EV(brand='Volvo', model='XC40', battery_type='PHEV', battery_size=78,\n",
    "          charging_efficiency=0.9, discharging_efficiency=0.9,\n",
    "          probability_in_population=0.05, energy_per_km=0.176, soc_min=0.7, soc_max=1.0),\n",
    "       EV(brand='Wolkswagen', model='ID.3', battery_type='PHEV', battery_size=58,\n",
    "          charging_efficiency=0.9, discharging_efficiency=0.9,\n",
    "          probability_in_population=0.05, energy_per_km=0.155, soc_min=0.7, soc_max=1.0),\n",
    "       EV(brand='Others', model='Others', battery_type='PEV', battery_size=20,\n",
    "          charging_efficiency=0.9, discharging_efficiency=0.9,\n",
    "          probability_in_population=0.03, energy_per_km=0.2, soc_min=0.7, soc_max=1.0)]\n",
    "\n",
    "# Print the sum of the probabilities in the population of EVs\n",
    "sum_of_probabilities = 0\n",
    "for ev in EVs:\n",
    "    sum_of_probabilities += ev.probability_in_population\n",
    "print(sum_of_probabilities)"
   ],
   "metadata": {
    "collapsed": false,
    "pycharm": {
     "name": "#%%\n"
    }
   }
  },
  {
   "cell_type": "code",
   "execution_count": 267,
   "outputs": [],
   "source": [
    "# Create a list of Charging Stations to use in the simulation\n",
    "\n",
    "CS = [ChargingStation(charging_station_type='Slow',\n",
    "                      charging_station_power=3.6,\n",
    "                      charging_station_efficiency=0.9,\n",
    "                      charging_station_cost=0.15),\n",
    "      ChargingStation(charging_station_type='Slow',\n",
    "                      charging_station_power=7.2,\n",
    "                      charging_station_efficiency=0.9,\n",
    "                      charging_station_cost=0.15),\n",
    "      ChargingStation(charging_station_type='Fast',\n",
    "                      charging_station_power=3.6,\n",
    "                      charging_station_efficiency=0.9,\n",
    "                      charging_station_cost=0.15),\n",
    "      ChargingStation(charging_station_type='Fast',\n",
    "                      charging_station_power=7.2,\n",
    "                      charging_station_efficiency=0.9,\n",
    "                      charging_station_cost=0.15)]"
   ],
   "metadata": {
    "collapsed": false,
    "pycharm": {
     "name": "#%%\n"
    }
   }
  },
  {
   "cell_type": "code",
   "execution_count": 268,
   "outputs": [],
   "source": [
    "# Create the profiles to use in the simulation\n",
    "\n",
    "# Create a list of profiles\n",
    "PROFILES = [Profile(profile_name='Residential', profile_trip_schedule=[Schedule(8, 9), Schedule(18, 19)], trip_type='Short'),\n",
    "            Profile(profile_name='Residential', profile_trip_schedule=[Schedule(5, 8), Schedule(18, 23)], trip_type='Medium'),\n",
    "            Profile(profile_name='Shopping', profile_trip_schedule=[Schedule(8, 10), Schedule(18, 20)], trip_type='Short'),\n",
    "            Profile(profile_name='Work', profile_trip_schedule=[Schedule(8, 20)], trip_type='Long')]"
   ],
   "metadata": {
    "collapsed": false,
    "pycharm": {
     "name": "#%%\n"
    }
   }
  },
  {
   "cell_type": "code",
   "execution_count": 269,
   "outputs": [],
   "source": [
    "# Create an Aggregator object\n",
    "aggregator = Aggregator(profiles=PROFILES, evs=EVs, charging_stations=CS)\n",
    "\n",
    "# Create the population of EVs\n",
    "aggregator.create_evs(n_evs=100)\n",
    "\n",
    "# Create the trips\n",
    "aggregator.create_trips(n_trips=100,\n",
    "                        avg_speed=60)\n",
    "\n",
    "# Assign the EVs to the trips and calculate the trip energy consumption and required SOC.\n",
    "# Also, assign the trip to the EV\n",
    "aggregator.assign_trips()"
   ],
   "metadata": {
    "collapsed": false,
    "pycharm": {
     "name": "#%%\n"
    }
   }
  },
  {
   "cell_type": "code",
   "execution_count": 270,
   "outputs": [
    {
     "data": {
      "text/plain": "         brand   model battery_type  battery_size  charging_efficiency  \\\n0     Mercedes    E300         PHEV          13.5                  0.9   \n1      Hyundai   Kauai          BEV          74.0                  0.9   \n2     Mercedes    E300         PHEV          13.5                  0.9   \n3       Jaguar  I-Pace          BEV          85.0                  0.9   \n4      Audi Q4  e-tron         PHEV          55.0                  0.9   \n..         ...     ...          ...           ...                  ...   \n95         BMW    530e         PHEV          70.2                  0.9   \n96         BMW    530e         PHEV          70.2                  0.9   \n97     Renault     Zoe          BEV          52.0                  0.9   \n98    Mercedes    E300         PHEV          13.5                  0.9   \n99  Wolkswagen    ID.3         PHEV          58.0                  0.9   \n\n    discharging_efficiency  energy_per_km  soc_min  soc_max  \\\n0                      0.9          0.180      0.7      1.0   \n1                      0.9          0.192      0.7      1.0   \n2                      0.9          0.180      0.7      1.0   \n3                      0.9          0.220      0.7      1.0   \n4                      0.9          0.170      0.7      1.0   \n..                     ...            ...      ...      ...   \n95                     0.9          0.160      0.7      1.0   \n96                     0.9          0.160      0.7      1.0   \n97                     0.9          0.170      0.7      1.0   \n98                     0.9          0.180      0.7      1.0   \n99                     0.9          0.155      0.7      1.0   \n\n    probability_in_population                             ev_id     soc  \\\n0                        0.08  78604c5189301bf084ec030ade46b514  [0.82]   \n1                        0.06  03845c6151a755f184cc95a45161b4bc  [0.87]   \n2                        0.08  75e664dcdb4c68e06315a865d145e853  [0.93]   \n3                        0.09  8ba85dd2e7cfb0435633492d05400026  [0.72]   \n4                        0.07  3fe948fa12febfc41641e7fa31a19a11  [0.83]   \n..                        ...                               ...     ...   \n95                       0.08  89a81eca6cf6ac4af23d175a0a936287  [0.95]   \n96                       0.08  819bc2a029c96e0a625eab98ef451834  [0.76]   \n97                       0.10  1a8f91a64676a7df702f6154caecacdb  [0.95]   \n98                       0.08  cdcdc84852593200d8c068729defbd20  [0.72]   \n99                       0.05  b0210c3c8f70e4cc80d34d86f9b75ca0  [0.81]   \n\n    current_soc trips current_trip current_charging_station driving_status  \n0          0.82    []         None                     None           Idle  \n1          0.87    []         None                     None           Idle  \n2          0.93    []         None                     None           Idle  \n3          0.72    []         None                     None           Idle  \n4          0.83    []         None                     None           Idle  \n..          ...   ...          ...                      ...            ...  \n95         0.95    []         None                     None           Idle  \n96         0.76    []         None                     None           Idle  \n97         0.95    []         None                     None           Idle  \n98         0.72    []         None                     None           Idle  \n99         0.81    []         None                     None           Idle  \n\n[100 rows x 17 columns]",
      "text/html": "<div>\n<style scoped>\n    .dataframe tbody tr th:only-of-type {\n        vertical-align: middle;\n    }\n\n    .dataframe tbody tr th {\n        vertical-align: top;\n    }\n\n    .dataframe thead th {\n        text-align: right;\n    }\n</style>\n<table border=\"1\" class=\"dataframe\">\n  <thead>\n    <tr style=\"text-align: right;\">\n      <th></th>\n      <th>brand</th>\n      <th>model</th>\n      <th>battery_type</th>\n      <th>battery_size</th>\n      <th>charging_efficiency</th>\n      <th>discharging_efficiency</th>\n      <th>energy_per_km</th>\n      <th>soc_min</th>\n      <th>soc_max</th>\n      <th>probability_in_population</th>\n      <th>ev_id</th>\n      <th>soc</th>\n      <th>current_soc</th>\n      <th>trips</th>\n      <th>current_trip</th>\n      <th>current_charging_station</th>\n      <th>driving_status</th>\n    </tr>\n  </thead>\n  <tbody>\n    <tr>\n      <th>0</th>\n      <td>Mercedes</td>\n      <td>E300</td>\n      <td>PHEV</td>\n      <td>13.5</td>\n      <td>0.9</td>\n      <td>0.9</td>\n      <td>0.180</td>\n      <td>0.7</td>\n      <td>1.0</td>\n      <td>0.08</td>\n      <td>78604c5189301bf084ec030ade46b514</td>\n      <td>[0.82]</td>\n      <td>0.82</td>\n      <td>[]</td>\n      <td>None</td>\n      <td>None</td>\n      <td>Idle</td>\n    </tr>\n    <tr>\n      <th>1</th>\n      <td>Hyundai</td>\n      <td>Kauai</td>\n      <td>BEV</td>\n      <td>74.0</td>\n      <td>0.9</td>\n      <td>0.9</td>\n      <td>0.192</td>\n      <td>0.7</td>\n      <td>1.0</td>\n      <td>0.06</td>\n      <td>03845c6151a755f184cc95a45161b4bc</td>\n      <td>[0.87]</td>\n      <td>0.87</td>\n      <td>[]</td>\n      <td>None</td>\n      <td>None</td>\n      <td>Idle</td>\n    </tr>\n    <tr>\n      <th>2</th>\n      <td>Mercedes</td>\n      <td>E300</td>\n      <td>PHEV</td>\n      <td>13.5</td>\n      <td>0.9</td>\n      <td>0.9</td>\n      <td>0.180</td>\n      <td>0.7</td>\n      <td>1.0</td>\n      <td>0.08</td>\n      <td>75e664dcdb4c68e06315a865d145e853</td>\n      <td>[0.93]</td>\n      <td>0.93</td>\n      <td>[]</td>\n      <td>None</td>\n      <td>None</td>\n      <td>Idle</td>\n    </tr>\n    <tr>\n      <th>3</th>\n      <td>Jaguar</td>\n      <td>I-Pace</td>\n      <td>BEV</td>\n      <td>85.0</td>\n      <td>0.9</td>\n      <td>0.9</td>\n      <td>0.220</td>\n      <td>0.7</td>\n      <td>1.0</td>\n      <td>0.09</td>\n      <td>8ba85dd2e7cfb0435633492d05400026</td>\n      <td>[0.72]</td>\n      <td>0.72</td>\n      <td>[]</td>\n      <td>None</td>\n      <td>None</td>\n      <td>Idle</td>\n    </tr>\n    <tr>\n      <th>4</th>\n      <td>Audi Q4</td>\n      <td>e-tron</td>\n      <td>PHEV</td>\n      <td>55.0</td>\n      <td>0.9</td>\n      <td>0.9</td>\n      <td>0.170</td>\n      <td>0.7</td>\n      <td>1.0</td>\n      <td>0.07</td>\n      <td>3fe948fa12febfc41641e7fa31a19a11</td>\n      <td>[0.83]</td>\n      <td>0.83</td>\n      <td>[]</td>\n      <td>None</td>\n      <td>None</td>\n      <td>Idle</td>\n    </tr>\n    <tr>\n      <th>...</th>\n      <td>...</td>\n      <td>...</td>\n      <td>...</td>\n      <td>...</td>\n      <td>...</td>\n      <td>...</td>\n      <td>...</td>\n      <td>...</td>\n      <td>...</td>\n      <td>...</td>\n      <td>...</td>\n      <td>...</td>\n      <td>...</td>\n      <td>...</td>\n      <td>...</td>\n      <td>...</td>\n      <td>...</td>\n    </tr>\n    <tr>\n      <th>95</th>\n      <td>BMW</td>\n      <td>530e</td>\n      <td>PHEV</td>\n      <td>70.2</td>\n      <td>0.9</td>\n      <td>0.9</td>\n      <td>0.160</td>\n      <td>0.7</td>\n      <td>1.0</td>\n      <td>0.08</td>\n      <td>89a81eca6cf6ac4af23d175a0a936287</td>\n      <td>[0.95]</td>\n      <td>0.95</td>\n      <td>[]</td>\n      <td>None</td>\n      <td>None</td>\n      <td>Idle</td>\n    </tr>\n    <tr>\n      <th>96</th>\n      <td>BMW</td>\n      <td>530e</td>\n      <td>PHEV</td>\n      <td>70.2</td>\n      <td>0.9</td>\n      <td>0.9</td>\n      <td>0.160</td>\n      <td>0.7</td>\n      <td>1.0</td>\n      <td>0.08</td>\n      <td>819bc2a029c96e0a625eab98ef451834</td>\n      <td>[0.76]</td>\n      <td>0.76</td>\n      <td>[]</td>\n      <td>None</td>\n      <td>None</td>\n      <td>Idle</td>\n    </tr>\n    <tr>\n      <th>97</th>\n      <td>Renault</td>\n      <td>Zoe</td>\n      <td>BEV</td>\n      <td>52.0</td>\n      <td>0.9</td>\n      <td>0.9</td>\n      <td>0.170</td>\n      <td>0.7</td>\n      <td>1.0</td>\n      <td>0.10</td>\n      <td>1a8f91a64676a7df702f6154caecacdb</td>\n      <td>[0.95]</td>\n      <td>0.95</td>\n      <td>[]</td>\n      <td>None</td>\n      <td>None</td>\n      <td>Idle</td>\n    </tr>\n    <tr>\n      <th>98</th>\n      <td>Mercedes</td>\n      <td>E300</td>\n      <td>PHEV</td>\n      <td>13.5</td>\n      <td>0.9</td>\n      <td>0.9</td>\n      <td>0.180</td>\n      <td>0.7</td>\n      <td>1.0</td>\n      <td>0.08</td>\n      <td>cdcdc84852593200d8c068729defbd20</td>\n      <td>[0.72]</td>\n      <td>0.72</td>\n      <td>[]</td>\n      <td>None</td>\n      <td>None</td>\n      <td>Idle</td>\n    </tr>\n    <tr>\n      <th>99</th>\n      <td>Wolkswagen</td>\n      <td>ID.3</td>\n      <td>PHEV</td>\n      <td>58.0</td>\n      <td>0.9</td>\n      <td>0.9</td>\n      <td>0.155</td>\n      <td>0.7</td>\n      <td>1.0</td>\n      <td>0.05</td>\n      <td>b0210c3c8f70e4cc80d34d86f9b75ca0</td>\n      <td>[0.81]</td>\n      <td>0.81</td>\n      <td>[]</td>\n      <td>None</td>\n      <td>None</td>\n      <td>Idle</td>\n    </tr>\n  </tbody>\n</table>\n<p>100 rows × 17 columns</p>\n</div>"
     },
     "execution_count": 270,
     "metadata": {},
     "output_type": "execute_result"
    }
   ],
   "source": [
    "# Print the population\n",
    "aggregator.population_dataframe()"
   ],
   "metadata": {
    "collapsed": false,
    "pycharm": {
     "name": "#%%\n"
    }
   }
  },
  {
   "cell_type": "code",
   "execution_count": 271,
   "outputs": [
    {
     "data": {
      "text/plain": "       brand    model battery_type  battery_size  charging_efficiency  \\\n0     Others   Others          PEV          20.0                  0.9   \n1      Tesla  Model 3          BEV          95.0                  0.9   \n2      Tesla  Model 3          BEV          95.0                  0.9   \n3     Nissan     Leaf          BEV          59.0                  0.9   \n4     Nissan     Leaf          BEV          59.0                  0.9   \n..       ...      ...          ...           ...                  ...   \n95    Nissan     Leaf          BEV          59.0                  0.9   \n96  Mercedes     E300         PHEV          13.5                  0.9   \n97  Mercedes     E300         PHEV          13.5                  0.9   \n98  Mercedes     E300         PHEV          13.5                  0.9   \n99  Mercedes     E300         PHEV          13.5                  0.9   \n\n    discharging_efficiency  energy_per_km  soc_min  soc_max  \\\n0                      0.9           0.20      0.7      1.0   \n1                      0.9           0.18      0.7      1.0   \n2                      0.9           0.18      0.7      1.0   \n3                      0.9           0.17      0.7      1.0   \n4                      0.9           0.17      0.7      1.0   \n..                     ...            ...      ...      ...   \n95                     0.9           0.17      0.7      1.0   \n96                     0.9           0.18      0.7      1.0   \n97                     0.9           0.18      0.7      1.0   \n98                     0.9           0.18      0.7      1.0   \n99                     0.9           0.18      0.7      1.0   \n\n    probability_in_population                             ev_id     soc  \\\n0                        0.03  a3f8e1422733dabd2796fe3d6c878c51  [0.99]   \n1                        0.13  76a12e09d954bffbd358c34729d6e0f1   [0.8]   \n2                        0.13  5ec8d776dc9a3a75486a7d2f7a58424c  [0.93]   \n3                        0.16  5174aa993a69964b1fdde6934db42df7  [0.97]   \n4                        0.16  8be3d05ecb1b5ad46cfdf12ead90e777  [0.95]   \n..                        ...                               ...     ...   \n95                       0.16  f01fb0a0a283dcd9518086f29c3fcb54  [0.74]   \n96                       0.08  8dacbfb43d85dd53f0ff23b266a79cf9  [0.97]   \n97                       0.08  81d8006cec8299998e45e14863faf3ab  [0.81]   \n98                       0.08  fa4c309572efd25acec059c4685a0423  [0.72]   \n99                       0.08  75e664dcdb4c68e06315a865d145e853  [0.93]   \n\n    current_soc                                              trips  \\\n0          0.99  [Trip length: 60 km, trip start time: 8, trip ...   \n1          0.80  [Trip length: 120 km, trip start time: 8, trip...   \n2          0.93  [Trip length: 229.4 km, trip start time: 8, tr...   \n3          0.97  [Trip length: 180 km, trip start time: 5, trip...   \n4          0.95  [Trip length: 228.55 km, trip start time: 8, t...   \n..          ...                                                ...   \n95         0.74  [Trip length: 351.88 km, trip start time: 8, t...   \n96         0.97  [Trip length: 180 km, trip start time: 5, trip...   \n97         0.81  [Trip length: 180 km, trip start time: 5, trip...   \n98         0.72  [Trip length: 180 km, trip start time: 5, trip...   \n99         0.93  [Trip length: 184.84 km, trip start time: 8, t...   \n\n   current_trip current_charging_station driving_status  \n0          None                     None           Idle  \n1          None                     None           Idle  \n2          None                     None           Idle  \n3          None                     None           Idle  \n4          None                     None           Idle  \n..          ...                      ...            ...  \n95         None                     None           Idle  \n96         None                     None           Idle  \n97         None                     None           Idle  \n98         None                     None           Idle  \n99         None                     None           Idle  \n\n[100 rows x 17 columns]",
      "text/html": "<div>\n<style scoped>\n    .dataframe tbody tr th:only-of-type {\n        vertical-align: middle;\n    }\n\n    .dataframe tbody tr th {\n        vertical-align: top;\n    }\n\n    .dataframe thead th {\n        text-align: right;\n    }\n</style>\n<table border=\"1\" class=\"dataframe\">\n  <thead>\n    <tr style=\"text-align: right;\">\n      <th></th>\n      <th>brand</th>\n      <th>model</th>\n      <th>battery_type</th>\n      <th>battery_size</th>\n      <th>charging_efficiency</th>\n      <th>discharging_efficiency</th>\n      <th>energy_per_km</th>\n      <th>soc_min</th>\n      <th>soc_max</th>\n      <th>probability_in_population</th>\n      <th>ev_id</th>\n      <th>soc</th>\n      <th>current_soc</th>\n      <th>trips</th>\n      <th>current_trip</th>\n      <th>current_charging_station</th>\n      <th>driving_status</th>\n    </tr>\n  </thead>\n  <tbody>\n    <tr>\n      <th>0</th>\n      <td>Others</td>\n      <td>Others</td>\n      <td>PEV</td>\n      <td>20.0</td>\n      <td>0.9</td>\n      <td>0.9</td>\n      <td>0.20</td>\n      <td>0.7</td>\n      <td>1.0</td>\n      <td>0.03</td>\n      <td>a3f8e1422733dabd2796fe3d6c878c51</td>\n      <td>[0.99]</td>\n      <td>0.99</td>\n      <td>[Trip length: 60 km, trip start time: 8, trip ...</td>\n      <td>None</td>\n      <td>None</td>\n      <td>Idle</td>\n    </tr>\n    <tr>\n      <th>1</th>\n      <td>Tesla</td>\n      <td>Model 3</td>\n      <td>BEV</td>\n      <td>95.0</td>\n      <td>0.9</td>\n      <td>0.9</td>\n      <td>0.18</td>\n      <td>0.7</td>\n      <td>1.0</td>\n      <td>0.13</td>\n      <td>76a12e09d954bffbd358c34729d6e0f1</td>\n      <td>[0.8]</td>\n      <td>0.80</td>\n      <td>[Trip length: 120 km, trip start time: 8, trip...</td>\n      <td>None</td>\n      <td>None</td>\n      <td>Idle</td>\n    </tr>\n    <tr>\n      <th>2</th>\n      <td>Tesla</td>\n      <td>Model 3</td>\n      <td>BEV</td>\n      <td>95.0</td>\n      <td>0.9</td>\n      <td>0.9</td>\n      <td>0.18</td>\n      <td>0.7</td>\n      <td>1.0</td>\n      <td>0.13</td>\n      <td>5ec8d776dc9a3a75486a7d2f7a58424c</td>\n      <td>[0.93]</td>\n      <td>0.93</td>\n      <td>[Trip length: 229.4 km, trip start time: 8, tr...</td>\n      <td>None</td>\n      <td>None</td>\n      <td>Idle</td>\n    </tr>\n    <tr>\n      <th>3</th>\n      <td>Nissan</td>\n      <td>Leaf</td>\n      <td>BEV</td>\n      <td>59.0</td>\n      <td>0.9</td>\n      <td>0.9</td>\n      <td>0.17</td>\n      <td>0.7</td>\n      <td>1.0</td>\n      <td>0.16</td>\n      <td>5174aa993a69964b1fdde6934db42df7</td>\n      <td>[0.97]</td>\n      <td>0.97</td>\n      <td>[Trip length: 180 km, trip start time: 5, trip...</td>\n      <td>None</td>\n      <td>None</td>\n      <td>Idle</td>\n    </tr>\n    <tr>\n      <th>4</th>\n      <td>Nissan</td>\n      <td>Leaf</td>\n      <td>BEV</td>\n      <td>59.0</td>\n      <td>0.9</td>\n      <td>0.9</td>\n      <td>0.17</td>\n      <td>0.7</td>\n      <td>1.0</td>\n      <td>0.16</td>\n      <td>8be3d05ecb1b5ad46cfdf12ead90e777</td>\n      <td>[0.95]</td>\n      <td>0.95</td>\n      <td>[Trip length: 228.55 km, trip start time: 8, t...</td>\n      <td>None</td>\n      <td>None</td>\n      <td>Idle</td>\n    </tr>\n    <tr>\n      <th>...</th>\n      <td>...</td>\n      <td>...</td>\n      <td>...</td>\n      <td>...</td>\n      <td>...</td>\n      <td>...</td>\n      <td>...</td>\n      <td>...</td>\n      <td>...</td>\n      <td>...</td>\n      <td>...</td>\n      <td>...</td>\n      <td>...</td>\n      <td>...</td>\n      <td>...</td>\n      <td>...</td>\n      <td>...</td>\n    </tr>\n    <tr>\n      <th>95</th>\n      <td>Nissan</td>\n      <td>Leaf</td>\n      <td>BEV</td>\n      <td>59.0</td>\n      <td>0.9</td>\n      <td>0.9</td>\n      <td>0.17</td>\n      <td>0.7</td>\n      <td>1.0</td>\n      <td>0.16</td>\n      <td>f01fb0a0a283dcd9518086f29c3fcb54</td>\n      <td>[0.74]</td>\n      <td>0.74</td>\n      <td>[Trip length: 351.88 km, trip start time: 8, t...</td>\n      <td>None</td>\n      <td>None</td>\n      <td>Idle</td>\n    </tr>\n    <tr>\n      <th>96</th>\n      <td>Mercedes</td>\n      <td>E300</td>\n      <td>PHEV</td>\n      <td>13.5</td>\n      <td>0.9</td>\n      <td>0.9</td>\n      <td>0.18</td>\n      <td>0.7</td>\n      <td>1.0</td>\n      <td>0.08</td>\n      <td>8dacbfb43d85dd53f0ff23b266a79cf9</td>\n      <td>[0.97]</td>\n      <td>0.97</td>\n      <td>[Trip length: 180 km, trip start time: 5, trip...</td>\n      <td>None</td>\n      <td>None</td>\n      <td>Idle</td>\n    </tr>\n    <tr>\n      <th>97</th>\n      <td>Mercedes</td>\n      <td>E300</td>\n      <td>PHEV</td>\n      <td>13.5</td>\n      <td>0.9</td>\n      <td>0.9</td>\n      <td>0.18</td>\n      <td>0.7</td>\n      <td>1.0</td>\n      <td>0.08</td>\n      <td>81d8006cec8299998e45e14863faf3ab</td>\n      <td>[0.81]</td>\n      <td>0.81</td>\n      <td>[Trip length: 180 km, trip start time: 5, trip...</td>\n      <td>None</td>\n      <td>None</td>\n      <td>Idle</td>\n    </tr>\n    <tr>\n      <th>98</th>\n      <td>Mercedes</td>\n      <td>E300</td>\n      <td>PHEV</td>\n      <td>13.5</td>\n      <td>0.9</td>\n      <td>0.9</td>\n      <td>0.18</td>\n      <td>0.7</td>\n      <td>1.0</td>\n      <td>0.08</td>\n      <td>fa4c309572efd25acec059c4685a0423</td>\n      <td>[0.72]</td>\n      <td>0.72</td>\n      <td>[Trip length: 180 km, trip start time: 5, trip...</td>\n      <td>None</td>\n      <td>None</td>\n      <td>Idle</td>\n    </tr>\n    <tr>\n      <th>99</th>\n      <td>Mercedes</td>\n      <td>E300</td>\n      <td>PHEV</td>\n      <td>13.5</td>\n      <td>0.9</td>\n      <td>0.9</td>\n      <td>0.18</td>\n      <td>0.7</td>\n      <td>1.0</td>\n      <td>0.08</td>\n      <td>75e664dcdb4c68e06315a865d145e853</td>\n      <td>[0.93]</td>\n      <td>0.93</td>\n      <td>[Trip length: 184.84 km, trip start time: 8, t...</td>\n      <td>None</td>\n      <td>None</td>\n      <td>Idle</td>\n    </tr>\n  </tbody>\n</table>\n<p>100 rows × 17 columns</p>\n</div>"
     },
     "execution_count": 271,
     "metadata": {},
     "output_type": "execute_result"
    }
   ],
   "source": [
    "# Print the assigned EVs\n",
    "\n",
    "aggregator.assigned_evs_dataframe()"
   ],
   "metadata": {
    "collapsed": false,
    "pycharm": {
     "name": "#%%\n"
    }
   }
  },
  {
   "cell_type": "code",
   "execution_count": 272,
   "outputs": [
    {
     "data": {
      "text/plain": "    trip_length\n0          6.70\n1         11.51\n2        229.40\n3         55.64\n4        228.55\n..          ...\n95       351.88\n96        69.93\n97        51.83\n98        81.05\n99       184.84\n\n[100 rows x 1 columns]",
      "text/html": "<div>\n<style scoped>\n    .dataframe tbody tr th:only-of-type {\n        vertical-align: middle;\n    }\n\n    .dataframe tbody tr th {\n        vertical-align: top;\n    }\n\n    .dataframe thead th {\n        text-align: right;\n    }\n</style>\n<table border=\"1\" class=\"dataframe\">\n  <thead>\n    <tr style=\"text-align: right;\">\n      <th></th>\n      <th>trip_length</th>\n    </tr>\n  </thead>\n  <tbody>\n    <tr>\n      <th>0</th>\n      <td>6.70</td>\n    </tr>\n    <tr>\n      <th>1</th>\n      <td>11.51</td>\n    </tr>\n    <tr>\n      <th>2</th>\n      <td>229.40</td>\n    </tr>\n    <tr>\n      <th>3</th>\n      <td>55.64</td>\n    </tr>\n    <tr>\n      <th>4</th>\n      <td>228.55</td>\n    </tr>\n    <tr>\n      <th>...</th>\n      <td>...</td>\n    </tr>\n    <tr>\n      <th>95</th>\n      <td>351.88</td>\n    </tr>\n    <tr>\n      <th>96</th>\n      <td>69.93</td>\n    </tr>\n    <tr>\n      <th>97</th>\n      <td>51.83</td>\n    </tr>\n    <tr>\n      <th>98</th>\n      <td>81.05</td>\n    </tr>\n    <tr>\n      <th>99</th>\n      <td>184.84</td>\n    </tr>\n  </tbody>\n</table>\n<p>100 rows × 1 columns</p>\n</div>"
     },
     "execution_count": 272,
     "metadata": {},
     "output_type": "execute_result"
    }
   ],
   "source": [
    "# Print the trips\n",
    "\n",
    "aggregator.assigned_trips_dataframe()"
   ],
   "metadata": {
    "collapsed": false,
    "pycharm": {
     "name": "#%%\n"
    }
   }
  },
  {
   "cell_type": "code",
   "execution_count": 273,
   "outputs": [
    {
     "data": {
      "text/plain": "     trip_length  trip_start_time  trip_end_time  trip_duration  \\\n0          60.00                8              9              1   \n1          60.00               18             19              1   \n2         120.00                8             10              2   \n3         120.00               18             20              2   \n4         229.40                8             20             12   \n..           ...              ...            ...            ...   \n151       180.00                5              8              3   \n152       300.00               18             23              5   \n153       180.00                5              8              3   \n154       300.00               18             23              5   \n155       184.84                8             20             12   \n\n                                      ev                             ev_id  \\\n0      Others Others with 20 kWh battery  a3f8e1422733dabd2796fe3d6c878c51   \n1      Others Others with 20 kWh battery  a3f8e1422733dabd2796fe3d6c878c51   \n2      Tesla Model 3 with 95 kWh battery  76a12e09d954bffbd358c34729d6e0f1   \n3      Tesla Model 3 with 95 kWh battery  76a12e09d954bffbd358c34729d6e0f1   \n4      Tesla Model 3 with 95 kWh battery  5ec8d776dc9a3a75486a7d2f7a58424c   \n..                                   ...                               ...   \n151  Mercedes E300 with 13.5 kWh battery  81d8006cec8299998e45e14863faf3ab   \n152  Mercedes E300 with 13.5 kWh battery  81d8006cec8299998e45e14863faf3ab   \n153  Mercedes E300 with 13.5 kWh battery  fa4c309572efd25acec059c4685a0423   \n154  Mercedes E300 with 13.5 kWh battery  fa4c309572efd25acec059c4685a0423   \n155  Mercedes E300 with 13.5 kWh battery  75e664dcdb4c68e06315a865d145e853   \n\n     trip_energy_consumption  trip_required_soc covered_trip_length  \\\n0                    12.0000           0.600000                None   \n1                    12.0000           0.600000                None   \n2                    21.6000           0.227368                None   \n3                    21.6000           0.227368                None   \n4                    41.2920           0.434653                None   \n..                       ...                ...                 ...   \n151                  32.4000           2.400000                None   \n152                  54.0000           4.000000                None   \n153                  32.4000           2.400000                None   \n154                  54.0000           4.000000                None   \n155                  33.2712           2.464533                None   \n\n     ev_battery_size trip_stops  trip_estimate_arrival  \\\n0               20.0         []                      9   \n1               20.0         []                     19   \n2               95.0         []                     10   \n3               95.0         []                     20   \n4               95.0         []                     20   \n..               ...        ...                    ...   \n151             13.5         []                      8   \n152             13.5         []                     23   \n153             13.5         []                      8   \n154             13.5         []                     23   \n155             13.5         []                     20   \n\n                     profile  trip_status  \n0     N:Residential, T:Short  Not started  \n1     N:Residential, T:Short  Not started  \n2        N:Shopping, T:Short  Not started  \n3        N:Shopping, T:Short  Not started  \n4             N:Work, T:Long  Not started  \n..                       ...          ...  \n151  N:Residential, T:Medium  Not started  \n152  N:Residential, T:Medium  Not started  \n153  N:Residential, T:Medium  Not started  \n154  N:Residential, T:Medium  Not started  \n155           N:Work, T:Long  Not started  \n\n[156 rows x 14 columns]",
      "text/html": "<div>\n<style scoped>\n    .dataframe tbody tr th:only-of-type {\n        vertical-align: middle;\n    }\n\n    .dataframe tbody tr th {\n        vertical-align: top;\n    }\n\n    .dataframe thead th {\n        text-align: right;\n    }\n</style>\n<table border=\"1\" class=\"dataframe\">\n  <thead>\n    <tr style=\"text-align: right;\">\n      <th></th>\n      <th>trip_length</th>\n      <th>trip_start_time</th>\n      <th>trip_end_time</th>\n      <th>trip_duration</th>\n      <th>ev</th>\n      <th>ev_id</th>\n      <th>trip_energy_consumption</th>\n      <th>trip_required_soc</th>\n      <th>covered_trip_length</th>\n      <th>ev_battery_size</th>\n      <th>trip_stops</th>\n      <th>trip_estimate_arrival</th>\n      <th>profile</th>\n      <th>trip_status</th>\n    </tr>\n  </thead>\n  <tbody>\n    <tr>\n      <th>0</th>\n      <td>60.00</td>\n      <td>8</td>\n      <td>9</td>\n      <td>1</td>\n      <td>Others Others with 20 kWh battery</td>\n      <td>a3f8e1422733dabd2796fe3d6c878c51</td>\n      <td>12.0000</td>\n      <td>0.600000</td>\n      <td>None</td>\n      <td>20.0</td>\n      <td>[]</td>\n      <td>9</td>\n      <td>N:Residential, T:Short</td>\n      <td>Not started</td>\n    </tr>\n    <tr>\n      <th>1</th>\n      <td>60.00</td>\n      <td>18</td>\n      <td>19</td>\n      <td>1</td>\n      <td>Others Others with 20 kWh battery</td>\n      <td>a3f8e1422733dabd2796fe3d6c878c51</td>\n      <td>12.0000</td>\n      <td>0.600000</td>\n      <td>None</td>\n      <td>20.0</td>\n      <td>[]</td>\n      <td>19</td>\n      <td>N:Residential, T:Short</td>\n      <td>Not started</td>\n    </tr>\n    <tr>\n      <th>2</th>\n      <td>120.00</td>\n      <td>8</td>\n      <td>10</td>\n      <td>2</td>\n      <td>Tesla Model 3 with 95 kWh battery</td>\n      <td>76a12e09d954bffbd358c34729d6e0f1</td>\n      <td>21.6000</td>\n      <td>0.227368</td>\n      <td>None</td>\n      <td>95.0</td>\n      <td>[]</td>\n      <td>10</td>\n      <td>N:Shopping, T:Short</td>\n      <td>Not started</td>\n    </tr>\n    <tr>\n      <th>3</th>\n      <td>120.00</td>\n      <td>18</td>\n      <td>20</td>\n      <td>2</td>\n      <td>Tesla Model 3 with 95 kWh battery</td>\n      <td>76a12e09d954bffbd358c34729d6e0f1</td>\n      <td>21.6000</td>\n      <td>0.227368</td>\n      <td>None</td>\n      <td>95.0</td>\n      <td>[]</td>\n      <td>20</td>\n      <td>N:Shopping, T:Short</td>\n      <td>Not started</td>\n    </tr>\n    <tr>\n      <th>4</th>\n      <td>229.40</td>\n      <td>8</td>\n      <td>20</td>\n      <td>12</td>\n      <td>Tesla Model 3 with 95 kWh battery</td>\n      <td>5ec8d776dc9a3a75486a7d2f7a58424c</td>\n      <td>41.2920</td>\n      <td>0.434653</td>\n      <td>None</td>\n      <td>95.0</td>\n      <td>[]</td>\n      <td>20</td>\n      <td>N:Work, T:Long</td>\n      <td>Not started</td>\n    </tr>\n    <tr>\n      <th>...</th>\n      <td>...</td>\n      <td>...</td>\n      <td>...</td>\n      <td>...</td>\n      <td>...</td>\n      <td>...</td>\n      <td>...</td>\n      <td>...</td>\n      <td>...</td>\n      <td>...</td>\n      <td>...</td>\n      <td>...</td>\n      <td>...</td>\n      <td>...</td>\n    </tr>\n    <tr>\n      <th>151</th>\n      <td>180.00</td>\n      <td>5</td>\n      <td>8</td>\n      <td>3</td>\n      <td>Mercedes E300 with 13.5 kWh battery</td>\n      <td>81d8006cec8299998e45e14863faf3ab</td>\n      <td>32.4000</td>\n      <td>2.400000</td>\n      <td>None</td>\n      <td>13.5</td>\n      <td>[]</td>\n      <td>8</td>\n      <td>N:Residential, T:Medium</td>\n      <td>Not started</td>\n    </tr>\n    <tr>\n      <th>152</th>\n      <td>300.00</td>\n      <td>18</td>\n      <td>23</td>\n      <td>5</td>\n      <td>Mercedes E300 with 13.5 kWh battery</td>\n      <td>81d8006cec8299998e45e14863faf3ab</td>\n      <td>54.0000</td>\n      <td>4.000000</td>\n      <td>None</td>\n      <td>13.5</td>\n      <td>[]</td>\n      <td>23</td>\n      <td>N:Residential, T:Medium</td>\n      <td>Not started</td>\n    </tr>\n    <tr>\n      <th>153</th>\n      <td>180.00</td>\n      <td>5</td>\n      <td>8</td>\n      <td>3</td>\n      <td>Mercedes E300 with 13.5 kWh battery</td>\n      <td>fa4c309572efd25acec059c4685a0423</td>\n      <td>32.4000</td>\n      <td>2.400000</td>\n      <td>None</td>\n      <td>13.5</td>\n      <td>[]</td>\n      <td>8</td>\n      <td>N:Residential, T:Medium</td>\n      <td>Not started</td>\n    </tr>\n    <tr>\n      <th>154</th>\n      <td>300.00</td>\n      <td>18</td>\n      <td>23</td>\n      <td>5</td>\n      <td>Mercedes E300 with 13.5 kWh battery</td>\n      <td>fa4c309572efd25acec059c4685a0423</td>\n      <td>54.0000</td>\n      <td>4.000000</td>\n      <td>None</td>\n      <td>13.5</td>\n      <td>[]</td>\n      <td>23</td>\n      <td>N:Residential, T:Medium</td>\n      <td>Not started</td>\n    </tr>\n    <tr>\n      <th>155</th>\n      <td>184.84</td>\n      <td>8</td>\n      <td>20</td>\n      <td>12</td>\n      <td>Mercedes E300 with 13.5 kWh battery</td>\n      <td>75e664dcdb4c68e06315a865d145e853</td>\n      <td>33.2712</td>\n      <td>2.464533</td>\n      <td>None</td>\n      <td>13.5</td>\n      <td>[]</td>\n      <td>20</td>\n      <td>N:Work, T:Long</td>\n      <td>Not started</td>\n    </tr>\n  </tbody>\n</table>\n<p>156 rows × 14 columns</p>\n</div>"
     },
     "execution_count": 273,
     "metadata": {},
     "output_type": "execute_result"
    }
   ],
   "source": [
    "# Print trip segments\n",
    "\n",
    "aggregator.assigned_segments_dataframe()"
   ],
   "metadata": {
    "collapsed": false,
    "pycharm": {
     "name": "#%%\n"
    }
   }
  },
  {
   "cell_type": "code",
   "execution_count": 252,
   "outputs": [
    {
     "data": {
      "text/plain": "<Figure size 640x480 with 1 Axes>",
      "image/png": "[encoded data removed]"
     },
     "metadata": {},
     "output_type": "display_data"
    }
   ],
   "source": [
    "# Plot the population brand in a pie chart\n",
    "\n",
    "# Values of each group\n",
    "brand_values = aggregator.population_dataframe()['brand'].value_counts()\n",
    "plt.pie(brand_values, labels=brand_values.index, autopct='%1.1f%%')\n",
    "\n",
    "# View the plot\n",
    "plt.axis('equal')\n",
    "plt.show()"
   ],
   "metadata": {
    "collapsed": false,
    "pycharm": {
     "name": "#%%\n"
    }
   }
  },
  {
   "cell_type": "code",
   "execution_count": 253,
   "outputs": [
    {
     "data": {
      "text/plain": "<Figure size 640x480 with 1 Axes>",
      "image/png": "[encoded data removed]"
     },
     "metadata": {},
     "output_type": "display_data"
    }
   ],
   "source": [
    "# Plot the trip distances in a histogram\n",
    "plt.hist(aggregator.assigned_trips_dataframe()['trip_length'], bins=20)\n",
    "plt.show()"
   ],
   "metadata": {
    "collapsed": false,
    "pycharm": {
     "name": "#%%\n"
    }
   }
  },
  {
   "cell_type": "code",
   "execution_count": 254,
   "outputs": [
    {
     "data": {
      "text/plain": "<Figure size 640x480 with 1 Axes>",
      "image/png": "[encoded data removed]"
     },
     "metadata": {},
     "output_type": "display_data"
    }
   ],
   "source": [
    "# Plot the segment distances in a histogram\n",
    "plt.hist(aggregator.assigned_segments_dataframe()['trip_length'], bins=20)\n",
    "plt.show()"
   ],
   "metadata": {
    "collapsed": false,
    "pycharm": {
     "name": "#%%\n"
    }
   }
  },
  {
   "cell_type": "code",
   "execution_count": null,
   "outputs": [],
   "source": [],
   "metadata": {
    "collapsed": false,
    "pycharm": {
     "name": "#%%\n"
    }
   }
  }
 ],
 "metadata": {
  "kernelspec": {
   "display_name": "Python 3",
   "language": "python",
   "name": "python3"
  },
  "language_info": {
   "codemirror_mode": {
    "name": "ipython",
    "version": 2
   },
   "file_extension": ".py",
   "mimetype": "text/x-python",
   "name": "python",
   "nbconvert_exporter": "python",
   "pygments_lexer": "ipython2",
   "version": "2.7.6"
  }
 },
 "nbformat": 4,
 "nbformat_minor": 0
}