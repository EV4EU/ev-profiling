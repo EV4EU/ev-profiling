{
 "cells": [
  {
   "cell_type": "code",
   "execution_count": 1,
   "outputs": [],
   "source": [
    "# Imports\n",
    "\n",
    "import numpy as np\n",
    "import pandas as pd\n",
    "import matplotlib.pyplot as plt\n",
    "import copy"
   ],
   "metadata": {
    "collapsed": false,
    "pycharm": {
     "name": "#%%\n"
    }
   }
  },
  {
   "cell_type": "code",
   "execution_count": 2,
   "outputs": [],
   "source": [
    "# Create an EV class with the following attributes:\n",
    "# - Brand\n",
    "# - Model\n",
    "# - Battery type\n",
    "# - Battery size\n",
    "# - Charging Efficiency\n",
    "# - Discharging Efficiency\n",
    "# - Energy per km\n",
    "# - SOC min\n",
    "# - SOC max\n",
    "# - Probability in population - this is the probability that a car of this type will be chosen from the population\n",
    "\n",
    "class EV:\n",
    "    def __init__(self, brand, model, battery_type, battery_size, charging_efficiency, discharging_efficiency, energy_per_km, soc_min, soc_max, probability_in_population):\n",
    "        self.brand = brand\n",
    "        self.model = model\n",
    "        self.battery_type = battery_type\n",
    "        self.battery_size = battery_size\n",
    "        self.charging_efficiency = charging_efficiency if charging_efficiency <= 1 or charging_efficiency >= 0 else 0.9\n",
    "        self.discharging_efficiency = discharging_efficiency if discharging_efficiency <= 1 or discharging_efficiency >= 0 else 0.9\n",
    "        self.energy_per_km = energy_per_km\n",
    "        self.soc_min = soc_min if soc_min >= 0.0 else 0.0\n",
    "        self.soc_max = soc_max if soc_max <= 1.0 else 1.0\n",
    "        self.probability_in_population = probability_in_population if probability_in_population <= 1.0 else 1.0\n",
    "\n",
    "\n",
    "# Extend the class to create drivable EVs\n",
    "class DrivableEV(EV):\n",
    "\n",
    "    # __init__ method is inherited from EV class, extended with the state of charge. Creates the following attributes:\n",
    "    # - State of Charge\n",
    "    # - List of trips\n",
    "    # - Current trip\n",
    "    def __init__(self, brand, model, battery_type, battery_size, charging_efficiency, discharging_efficiency, energy_per_km, soc_min, soc_max, probability_in_population, initial_soc=None):\n",
    "        super().__init__(brand, model, battery_type, battery_size, charging_efficiency, discharging_efficiency, energy_per_km, soc_min, soc_max, probability_in_population)\n",
    "\n",
    "        # SOC variables\n",
    "        self.soc = [initial_soc]\n",
    "        self.current_soc = initial_soc\n",
    "\n",
    "        # List of trips and current trip\n",
    "        self.trips = []\n",
    "        self.current_trip = None\n",
    "\n",
    "        # Information about the charging stations\n",
    "        self.current_charging_station = None\n",
    "\n",
    "\n",
    "    # Format the print\n",
    "    def __repr__(self):\n",
    "        return f\"{self.brand} {self.model} with {self.battery_size} kWh battery\"\n",
    "\n",
    "    # Create a method to add a trip to the EV\n",
    "    def add_trip(self, trip):\n",
    "        self.trips.append(trip)\n",
    "        self.current_trip = trip\n",
    "\n",
    "\n",
    "    # Create a method to charge the EV\n",
    "    def charge(self, charge_amount):\n",
    "        self.current_soc += charge_amount * self.charging_efficiency\n",
    "\n",
    "        if self.current_soc > self.battery_size:\n",
    "            self.current_soc = self.battery_size\n",
    "\n",
    "\n",
    "    # Create a method to discharge the EV\n",
    "    def discharge(self, discharge_amount):\n",
    "        self.current_soc -= discharge_amount * self.discharging_efficiency\n",
    "\n",
    "        if self.current_soc < 0:\n",
    "            self.current_soc = 0"
   ],
   "metadata": {
    "collapsed": false,
    "pycharm": {
     "name": "#%%\n"
    }
   }
  },
  {
   "cell_type": "code",
   "execution_count": 3,
   "outputs": [
    {
     "name": "stdout",
     "output_type": "stream",
     "text": [
      "1.0\n"
     ]
    }
   ],
   "source": [
    "# Create a list of EVs to use in the simulation\n",
    "\n",
    "EVs = [EV(brand='Nissa', model='Leaf', battery_type='BEV', battery_size=40,\n",
    "          charging_efficiency=0.9, discharging_efficiency=0.9,\n",
    "          probability_in_population=0.16, energy_per_km=0.2, soc_min=0.7, soc_max=1.0),\n",
    "       EV(brand='Tesla', model='Model 3', battery_type='BEV', battery_size=75,\n",
    "          charging_efficiency=0.9, discharging_efficiency=0.9,\n",
    "          probability_in_population=0.13, energy_per_km=0.2, soc_min=0.7, soc_max=1.0),\n",
    "       EV(brand='BMW', model='i3', battery_type='BEV', battery_size=42,\n",
    "          charging_efficiency=0.9, discharging_efficiency=0.9,\n",
    "          probability_in_population=0.1, energy_per_km=0.2, soc_min=0.7, soc_max=1.0),\n",
    "       EV(brand='Renault', model='Zoe', battery_type='BEV', battery_size=41,\n",
    "          charging_efficiency=0.9, discharging_efficiency=0.9,\n",
    "          probability_in_population=0.1, energy_per_km=0.2, soc_min=0.7, soc_max=1.0),\n",
    "       EV(brand='Jaguar', model='I-Pace', battery_type='BEV', battery_size=90,\n",
    "          charging_efficiency=0.9, discharging_efficiency=0.9,\n",
    "          probability_in_population=0.09, energy_per_km=0.2, soc_min=0.7, soc_max=1.0),\n",
    "       EV(brand='Mercedes', model='E300', battery_type='PHEV', battery_size=135,\n",
    "          charging_efficiency=0.9, discharging_efficiency=0.9,\n",
    "          probability_in_population=0.08, energy_per_km=0.2, soc_min=0.7, soc_max=1.0),\n",
    "       EV(brand='BMW', model='530e', battery_type='PHEV', battery_size=120,\n",
    "          charging_efficiency=0.9, discharging_efficiency=0.9,\n",
    "          probability_in_population=0.08, energy_per_km=0.2, soc_min=0.7, soc_max=1.0),\n",
    "       EV(brand='Mini', model='Countrymen', battery_type='PHEV', battery_size=76,\n",
    "          charging_efficiency=0.9, discharging_efficiency=0.9,\n",
    "          probability_in_population=0.07, energy_per_km=0.2, soc_min=0.7, soc_max=1.0),\n",
    "       EV(brand='Hyundai', model='Kauai', battery_type='BEV', battery_size=39,\n",
    "          charging_efficiency=0.9, discharging_efficiency=0.9,\n",
    "          probability_in_population=0.06, energy_per_km=0.2, soc_min=0.7, soc_max=1.0),\n",
    "       EV(brand='Mitshubishi', model='Outlander', battery_type='PHEV', battery_size=12,\n",
    "          charging_efficiency=0.9, discharging_efficiency=0.9,\n",
    "          probability_in_population=0.05, energy_per_km=0.2, soc_min=0.7, soc_max=1.0),\n",
    "       EV(brand='Smart', model='Fortwo', battery_type='PHEV', battery_size=17.6,\n",
    "          charging_efficiency=0.9, discharging_efficiency=0.9,\n",
    "          probability_in_population=0.05, energy_per_km=0.2, soc_min=0.7, soc_max=1.0),\n",
    "       EV(brand='Others', model='Others', battery_type='PEV', battery_size=20,\n",
    "          charging_efficiency=0.9, discharging_efficiency=0.9,\n",
    "          probability_in_population=0.03, energy_per_km=0.2, soc_min=0.7, soc_max=1.0)]\n",
    "\n",
    "# Print the sum of the probabilities in the population of EVs\n",
    "sum_of_probabilities = 0\n",
    "for ev in EVs:\n",
    "    sum_of_probabilities += ev.probability_in_population\n",
    "print(sum_of_probabilities)"
   ],
   "metadata": {
    "collapsed": false,
    "pycharm": {
     "name": "#%%\n"
    }
   }
  },
  {
   "cell_type": "code",
   "execution_count": 4,
   "outputs": [],
   "source": [
    "# Define a Trip class, that will assign a trip to an EV. Has the following parameters:\n",
    "# - EV\n",
    "# - Trip length\n",
    "# - Trip start time (can be a range)\n",
    "# - Trip end time (can be a range)\n",
    "# - Trip start SOC\n",
    "# - Trip end SOC\n",
    "# - Trip energy consumption\n",
    "# - Trip stops\n",
    "\n",
    "class Trip:\n",
    "    def __init__(self, trip_length, trip_start_time, trip_end_time, trip_duration):\n",
    "        self.ev = None\n",
    "        self.trip_length = trip_length\n",
    "        self.trip_start_time = trip_start_time\n",
    "        self.trip_end_time = trip_end_time\n",
    "        self.trip_duration = trip_duration\n",
    "\n",
    "\n",
    "class DrivableTrip(Trip):\n",
    "    # Init method is the same as Trip class\n",
    "    def __init__(self, trip_length, trip_start_time, trip_end_time, trip_duration):\n",
    "        super().__init__(trip_length, trip_start_time, trip_end_time, trip_duration)\n",
    "\n",
    "        # Information about the trip\n",
    "        self.trip_energy_consumption = None\n",
    "        self.trip_required_soc = None\n",
    "        self.ev_battery_size = None\n",
    "        self.trip_stops = []\n",
    "\n",
    "    # Formatted print method\n",
    "    def __repr__(self):\n",
    "        return f'Trip length: {self.trip_length} km, trip start time: {self.trip_start_time}, ' \\\n",
    "               f'trip end time: {self.trip_end_time}, trip energy consumption: {self.trip_energy_consumption} kWh, ' \\\n",
    "               f'trip required SOC: {self.trip_required_soc} %, trip stops: {self.trip_stops}'\n",
    "\n",
    "    # Create a method to calculate the trip energy consumption\n",
    "    def calculate_trip_energy_consumption(self):\n",
    "        self.trip_energy_consumption = self.trip_length * self.ev.energy_per_km\n",
    "\n",
    "    # Create a method to calculate the trip required SOC\n",
    "    def calculate_trip_required_soc(self):\n",
    "        self.trip_required_soc = self.trip_energy_consumption / self.ev.battery_size\n",
    "\n",
    "    # Create a method to assign the battery size of the EV to the trip\n",
    "    def assign_ev_battery_size(self):\n",
    "        self.ev_battery_size = self.ev.battery_size\n",
    "\n",
    "    # Create a method to add stops to the trip\n",
    "    def add_stop(self, stop):\n",
    "        self.trip_stops.append(stop)"
   ],
   "metadata": {
    "collapsed": false,
    "pycharm": {
     "name": "#%%\n"
    }
   }
  },
  {
   "cell_type": "code",
   "execution_count": 5,
   "outputs": [],
   "source": [
    "# Define a Charging Station class, that will charge the EVs. Has the following parameters:\n",
    "# - Charging station name\n",
    "# - Charging station location\n",
    "# - Charging station type\n",
    "# - Charging station power\n",
    "# - Charging station efficiency\n",
    "# - Charging station availability\n",
    "# - Charging station cost\n",
    "\n",
    "class ChargingStation:\n",
    "    def __init__(self, charging_station_name, charging_station_location, charging_station_type, charging_station_power, charging_station_efficiency, charging_station_availability, charging_station_cost):\n",
    "        self.charging_station_name = charging_station_name\n",
    "        self.charging_station_location = charging_station_location\n",
    "        self.charging_station_type = charging_station_type\n",
    "        self.charging_station_power = charging_station_power\n",
    "        self.charging_station_efficiency = charging_station_efficiency\n",
    "        self.charging_station_availability = charging_station_availability\n",
    "        self.charging_station_cost = charging_station_cost\n"
   ],
   "metadata": {
    "collapsed": false,
    "pycharm": {
     "name": "#%%\n"
    }
   }
  },
  {
   "cell_type": "code",
   "execution_count": 15,
   "outputs": [],
   "source": [
    "# Define an Aggregator class, that will aggregate the trips and EVs. Has the following parameters:\n",
    "# - EVs\n",
    "# - Trips\n",
    "# - Number of EVs\n",
    "\n",
    "class Aggregator:\n",
    "    def __init__(self, evs, trips, number_of_evs):\n",
    "        self.evs = evs\n",
    "        self.trips = trips\n",
    "        self.number_of_evs = number_of_evs\n",
    "        self.population = None\n",
    "        self.assigned_evs = []\n",
    "\n",
    "    # Add an EV to the fleet\n",
    "    def add_ev(self, ev):\n",
    "        self.evs.append(ev)\n",
    "\n",
    "    # Assign a trip to an EV\n",
    "    def assign_trip(self, ev, trip):\n",
    "        ev.add_trip(trip)\n",
    "\n",
    "    # Assign a charging station to an EV, and charge the EV if:\n",
    "    # - The charging station is available\n",
    "    # - The charging station is of the correct type\n",
    "    # - The charging station has enough power to charge the EV\n",
    "    def assign_charging_station(self, ev, charging_station):\n",
    "        if charging_station.charging_station_availability == True and charging_station.charging_station_type == ev.battery_type and charging_station.charging_station_power >= ev.battery_size:\n",
    "            ev.current_charging_station = charging_station\n",
    "            ev.charge(charging_station.charging_station_power)\n",
    "            charging_station.charging_station_availability = False\n",
    "\n",
    "\n",
    "    # Create the population of DrivableEVs according to NumPy's random.choice\n",
    "    def create_population(self):\n",
    "        population_choice = np.random.choice(self.evs, self.number_of_evs,\n",
    "                                             p=[ev.probability_in_population for ev in self.evs])\n",
    "\n",
    "        # Create a list of DrivableEVs\n",
    "        self.population = [DrivableEV(ev.brand, ev.model, ev.battery_type, ev.battery_size,\n",
    "                                      ev.charging_efficiency, ev.discharging_efficiency,\n",
    "                                      ev.energy_per_km, ev.soc_min, ev.soc_max,\n",
    "                                      ev.probability_in_population,\n",
    "                                      initial_soc=np.round(np.random.uniform(ev.soc_min,\n",
    "                                                                             ev.soc_max, 1)[0], 2))\n",
    "                           for ev in population_choice]\n",
    "\n",
    "\n",
    "    # Create DrivableTrips with a gamma distribution for the trip length\n",
    "    def create_trips(self, n_trips, start_period, end_period, avg_speed):\n",
    "\n",
    "        # Create a gamma distribution for the trip length\n",
    "        shape, scale = 41.*.035, 41.*2\n",
    "        trip_lengths = np.round(np.random.gamma(shape, scale, n_trips), 2)\n",
    "\n",
    "        # Create the DrivableTrips\n",
    "        for trip in range(n_trips):\n",
    "            # Calculate trip duration based on trip length and average speed\n",
    "            trip_duration = np.ceil(trip_lengths[trip] / avg_speed)\n",
    "\n",
    "            # Create a trip starting time\n",
    "            trip_start_time = np.random.randint(start_period, end_period)\n",
    "            trip_start_time = trip_start_time if trip_start_time + trip_duration <= end_period else trip_start_time - trip_duration\n",
    "\n",
    "            # Create a trip ending time\n",
    "            trip_end_time = trip_start_time + trip_duration\n",
    "\n",
    "            # Create the DrivableTrip object\n",
    "            drivable_trip = DrivableTrip(trip_lengths[trip], trip_start_time, trip_end_time, trip_duration)\n",
    "            self.trips.append(drivable_trip)\n",
    "\n",
    "\n",
    "    # Assign the larger trips to the EVs with larger battery sizes with a greater probability\n",
    "    def assign_trips(self):\n",
    "        # Create a copy of the population\n",
    "        population_copy = copy.deepcopy(self.population)\n",
    "\n",
    "        # Assigned EVs and Trips\n",
    "        assigned_evs = []\n",
    "\n",
    "        # Create a list with the probabilities of the EVs to get a trip\n",
    "        probabilities = [ev.battery_size / sum([ev.battery_size for ev in self.population]) for ev in population_copy]\n",
    "\n",
    "        # Assign the trips to the EVs\n",
    "        for trip in self.trips:\n",
    "            # Choose an EV from the population\n",
    "            ev = np.random.choice(population_copy, 1, p=probabilities)[0]\n",
    "\n",
    "            # Assign the trip to the EV\n",
    "            trip.ev = ev\n",
    "            trip.calculate_trip_energy_consumption()\n",
    "            trip.calculate_trip_required_soc()\n",
    "            trip.assign_ev_battery_size()\n",
    "\n",
    "            # Add the trip to the EV\n",
    "            ev.add_trip(trip)\n",
    "\n",
    "            # Calculate the trip energy consumption and required SOC\n",
    "            trip.calculate_trip_energy_consumption()\n",
    "            trip.calculate_trip_required_soc()\n",
    "\n",
    "            # Remove the EV from the population\n",
    "            population_copy.remove(ev)\n",
    "\n",
    "            self.assigned_evs.append(ev)\n",
    "\n",
    "            # Recalculate the probabilities\n",
    "            probabilities = [ev.battery_size / sum([ev.battery_size for ev in population_copy]) for ev in population_copy]\n",
    "\n",
    "            # If the population is empty, break the loop\n",
    "            if len(population_copy) == 0:\n",
    "                break\n",
    "\n",
    "\n",
    "    # Create a DataFrame of the population\n",
    "    def population_dataframe(self):\n",
    "        # Create a DataFrame of the population\n",
    "        population_dataframe = pd.DataFrame([ev.__dict__ for ev in self.population])\n",
    "\n",
    "        # Return the DataFrame\n",
    "        return population_dataframe\n",
    "\n",
    "\n",
    "    # Create a DataFrame of assigned EVs\n",
    "    def assigned_evs_dataframe(self):\n",
    "        # Create a DataFrame of the population\n",
    "        assigned_evs_dataframe = pd.DataFrame([ev.__dict__ for ev in self.assigned_evs])\n",
    "\n",
    "        # Return the DataFrame\n",
    "        return assigned_evs_dataframe\n",
    "\n",
    "    # Create a DataFrame of assigned Trips\n",
    "    def assigned_trips_dataframe(self):\n",
    "        # Create a DataFrame of the population\n",
    "        assigned_trips_dataframe = pd.DataFrame([trip.__dict__ for trip in self.trips])\n",
    "\n",
    "        # Return the DataFrame\n",
    "        return assigned_trips_dataframe"
   ],
   "metadata": {
    "collapsed": false,
    "pycharm": {
     "name": "#%%\n"
    }
   }
  },
  {
   "cell_type": "code",
   "execution_count": 19,
   "outputs": [],
   "source": [
    "# Create an Aggregator object\n",
    "aggregator = Aggregator(EVs, [], 100)\n",
    "\n",
    "# Create the population of EVs\n",
    "aggregator.create_population()\n",
    "\n",
    "# Create the trips\n",
    "aggregator.create_trips(n_trips=100,\n",
    "                        start_period=0,\n",
    "                        end_period=24,\n",
    "                        avg_speed=60)\n",
    "aggregator.assign_trips()"
   ],
   "metadata": {
    "collapsed": false,
    "pycharm": {
     "name": "#%%\n"
    }
   }
  },
  {
   "cell_type": "code",
   "execution_count": 20,
   "outputs": [
    {
     "data": {
      "text/plain": "      brand    model battery_type  battery_size  charging_efficiency  \\\n0     Smart   Fortwo         PHEV          17.6                  0.9   \n1    Jaguar   I-Pace          BEV          90.0                  0.9   \n2    Jaguar   I-Pace          BEV          90.0                  0.9   \n3   Renault      Zoe          BEV          41.0                  0.9   \n4     Tesla  Model 3          BEV          75.0                  0.9   \n..      ...      ...          ...           ...                  ...   \n95  Renault      Zoe          BEV          41.0                  0.9   \n96      BMW     530e         PHEV         120.0                  0.9   \n97  Hyundai    Kauai          BEV          39.0                  0.9   \n98      BMW       i3          BEV          42.0                  0.9   \n99   Jaguar   I-Pace          BEV          90.0                  0.9   \n\n    discharging_efficiency  energy_per_km  soc_min  soc_max  \\\n0                      0.9            0.2      0.7      1.0   \n1                      0.9            0.2      0.7      1.0   \n2                      0.9            0.2      0.7      1.0   \n3                      0.9            0.2      0.7      1.0   \n4                      0.9            0.2      0.7      1.0   \n..                     ...            ...      ...      ...   \n95                     0.9            0.2      0.7      1.0   \n96                     0.9            0.2      0.7      1.0   \n97                     0.9            0.2      0.7      1.0   \n98                     0.9            0.2      0.7      1.0   \n99                     0.9            0.2      0.7      1.0   \n\n    probability_in_population     soc  current_soc trips current_trip  \\\n0                        0.05  [0.89]         0.89    []         None   \n1                        0.09   [0.8]         0.80    []         None   \n2                        0.09  [0.73]         0.73    []         None   \n3                        0.10  [0.87]         0.87    []         None   \n4                        0.13  [0.97]         0.97    []         None   \n..                        ...     ...          ...   ...          ...   \n95                       0.10  [0.99]         0.99    []         None   \n96                       0.08  [0.96]         0.96    []         None   \n97                       0.06  [0.97]         0.97    []         None   \n98                       0.10  [0.75]         0.75    []         None   \n99                       0.09  [0.92]         0.92    []         None   \n\n   current_charging_station  \n0                      None  \n1                      None  \n2                      None  \n3                      None  \n4                      None  \n..                      ...  \n95                     None  \n96                     None  \n97                     None  \n98                     None  \n99                     None  \n\n[100 rows x 15 columns]",
      "text/html": "<div>\n<style scoped>\n    .dataframe tbody tr th:only-of-type {\n        vertical-align: middle;\n    }\n\n    .dataframe tbody tr th {\n        vertical-align: top;\n    }\n\n    .dataframe thead th {\n        text-align: right;\n    }\n</style>\n<table border=\"1\" class=\"dataframe\">\n  <thead>\n    <tr style=\"text-align: right;\">\n      <th></th>\n      <th>brand</th>\n      <th>model</th>\n      <th>battery_type</th>\n      <th>battery_size</th>\n      <th>charging_efficiency</th>\n      <th>discharging_efficiency</th>\n      <th>energy_per_km</th>\n      <th>soc_min</th>\n      <th>soc_max</th>\n      <th>probability_in_population</th>\n      <th>soc</th>\n      <th>current_soc</th>\n      <th>trips</th>\n      <th>current_trip</th>\n      <th>current_charging_station</th>\n    </tr>\n  </thead>\n  <tbody>\n    <tr>\n      <th>0</th>\n      <td>Smart</td>\n      <td>Fortwo</td>\n      <td>PHEV</td>\n      <td>17.6</td>\n      <td>0.9</td>\n      <td>0.9</td>\n      <td>0.2</td>\n      <td>0.7</td>\n      <td>1.0</td>\n      <td>0.05</td>\n      <td>[0.89]</td>\n      <td>0.89</td>\n      <td>[]</td>\n      <td>None</td>\n      <td>None</td>\n    </tr>\n    <tr>\n      <th>1</th>\n      <td>Jaguar</td>\n      <td>I-Pace</td>\n      <td>BEV</td>\n      <td>90.0</td>\n      <td>0.9</td>\n      <td>0.9</td>\n      <td>0.2</td>\n      <td>0.7</td>\n      <td>1.0</td>\n      <td>0.09</td>\n      <td>[0.8]</td>\n      <td>0.80</td>\n      <td>[]</td>\n      <td>None</td>\n      <td>None</td>\n    </tr>\n    <tr>\n      <th>2</th>\n      <td>Jaguar</td>\n      <td>I-Pace</td>\n      <td>BEV</td>\n      <td>90.0</td>\n      <td>0.9</td>\n      <td>0.9</td>\n      <td>0.2</td>\n      <td>0.7</td>\n      <td>1.0</td>\n      <td>0.09</td>\n      <td>[0.73]</td>\n      <td>0.73</td>\n      <td>[]</td>\n      <td>None</td>\n      <td>None</td>\n    </tr>\n    <tr>\n      <th>3</th>\n      <td>Renault</td>\n      <td>Zoe</td>\n      <td>BEV</td>\n      <td>41.0</td>\n      <td>0.9</td>\n      <td>0.9</td>\n      <td>0.2</td>\n      <td>0.7</td>\n      <td>1.0</td>\n      <td>0.10</td>\n      <td>[0.87]</td>\n      <td>0.87</td>\n      <td>[]</td>\n      <td>None</td>\n      <td>None</td>\n    </tr>\n    <tr>\n      <th>4</th>\n      <td>Tesla</td>\n      <td>Model 3</td>\n      <td>BEV</td>\n      <td>75.0</td>\n      <td>0.9</td>\n      <td>0.9</td>\n      <td>0.2</td>\n      <td>0.7</td>\n      <td>1.0</td>\n      <td>0.13</td>\n      <td>[0.97]</td>\n      <td>0.97</td>\n      <td>[]</td>\n      <td>None</td>\n      <td>None</td>\n    </tr>\n    <tr>\n      <th>...</th>\n      <td>...</td>\n      <td>...</td>\n      <td>...</td>\n      <td>...</td>\n      <td>...</td>\n      <td>...</td>\n      <td>...</td>\n      <td>...</td>\n      <td>...</td>\n      <td>...</td>\n      <td>...</td>\n      <td>...</td>\n      <td>...</td>\n      <td>...</td>\n      <td>...</td>\n    </tr>\n    <tr>\n      <th>95</th>\n      <td>Renault</td>\n      <td>Zoe</td>\n      <td>BEV</td>\n      <td>41.0</td>\n      <td>0.9</td>\n      <td>0.9</td>\n      <td>0.2</td>\n      <td>0.7</td>\n      <td>1.0</td>\n      <td>0.10</td>\n      <td>[0.99]</td>\n      <td>0.99</td>\n      <td>[]</td>\n      <td>None</td>\n      <td>None</td>\n    </tr>\n    <tr>\n      <th>96</th>\n      <td>BMW</td>\n      <td>530e</td>\n      <td>PHEV</td>\n      <td>120.0</td>\n      <td>0.9</td>\n      <td>0.9</td>\n      <td>0.2</td>\n      <td>0.7</td>\n      <td>1.0</td>\n      <td>0.08</td>\n      <td>[0.96]</td>\n      <td>0.96</td>\n      <td>[]</td>\n      <td>None</td>\n      <td>None</td>\n    </tr>\n    <tr>\n      <th>97</th>\n      <td>Hyundai</td>\n      <td>Kauai</td>\n      <td>BEV</td>\n      <td>39.0</td>\n      <td>0.9</td>\n      <td>0.9</td>\n      <td>0.2</td>\n      <td>0.7</td>\n      <td>1.0</td>\n      <td>0.06</td>\n      <td>[0.97]</td>\n      <td>0.97</td>\n      <td>[]</td>\n      <td>None</td>\n      <td>None</td>\n    </tr>\n    <tr>\n      <th>98</th>\n      <td>BMW</td>\n      <td>i3</td>\n      <td>BEV</td>\n      <td>42.0</td>\n      <td>0.9</td>\n      <td>0.9</td>\n      <td>0.2</td>\n      <td>0.7</td>\n      <td>1.0</td>\n      <td>0.10</td>\n      <td>[0.75]</td>\n      <td>0.75</td>\n      <td>[]</td>\n      <td>None</td>\n      <td>None</td>\n    </tr>\n    <tr>\n      <th>99</th>\n      <td>Jaguar</td>\n      <td>I-Pace</td>\n      <td>BEV</td>\n      <td>90.0</td>\n      <td>0.9</td>\n      <td>0.9</td>\n      <td>0.2</td>\n      <td>0.7</td>\n      <td>1.0</td>\n      <td>0.09</td>\n      <td>[0.92]</td>\n      <td>0.92</td>\n      <td>[]</td>\n      <td>None</td>\n      <td>None</td>\n    </tr>\n  </tbody>\n</table>\n<p>100 rows × 15 columns</p>\n</div>"
     },
     "execution_count": 20,
     "metadata": {},
     "output_type": "execute_result"
    }
   ],
   "source": [
    "# Print the population\n",
    "aggregator.population_dataframe()"
   ],
   "metadata": {
    "collapsed": false,
    "pycharm": {
     "name": "#%%\n"
    }
   }
  },
  {
   "cell_type": "code",
   "execution_count": 21,
   "outputs": [
    {
     "data": {
      "text/plain": "                                           ev  trip_length  trip_start_time  \\\n0          Smart Fortwo with 17.6 kWh battery       187.88              1.0   \n1               BMW 530e with 120 kWh battery       169.87              0.0   \n2               BMW 530e with 120 kWh battery       106.69              5.0   \n3              Nissa Leaf with 40 kWh battery        57.85             19.0   \n4           Jaguar I-Pace with 90 kWh battery       107.52              4.0   \n..                                        ...          ...              ...   \n95         Smart Fortwo with 17.6 kWh battery        76.62              8.0   \n96  Mitshubishi Outlander with 12 kWh battery        73.20             21.0   \n97  Mitshubishi Outlander with 12 kWh battery        12.60             19.0   \n98          Others Others with 20 kWh battery        60.81             21.0   \n99  Mitshubishi Outlander with 12 kWh battery        94.80             16.0   \n\n    trip_end_time  trip_duration  trip_energy_consumption  trip_required_soc  \\\n0             5.0            4.0                   37.576           2.135000   \n1             3.0            3.0                   33.974           0.283117   \n2             7.0            2.0                   21.338           0.177817   \n3            20.0            1.0                   11.570           0.289250   \n4             6.0            2.0                   21.504           0.238933   \n..            ...            ...                      ...                ...   \n95           10.0            2.0                   15.324           0.870682   \n96           23.0            2.0                   14.640           1.220000   \n97           20.0            1.0                    2.520           0.210000   \n98           23.0            2.0                   12.162           0.608100   \n99           18.0            2.0                   18.960           1.580000   \n\n    ev_battery_size trip_stops  \n0              17.6         []  \n1             120.0         []  \n2             120.0         []  \n3              40.0         []  \n4              90.0         []  \n..              ...        ...  \n95             17.6         []  \n96             12.0         []  \n97             12.0         []  \n98             20.0         []  \n99             12.0         []  \n\n[100 rows x 9 columns]",
      "text/html": "<div>\n<style scoped>\n    .dataframe tbody tr th:only-of-type {\n        vertical-align: middle;\n    }\n\n    .dataframe tbody tr th {\n        vertical-align: top;\n    }\n\n    .dataframe thead th {\n        text-align: right;\n    }\n</style>\n<table border=\"1\" class=\"dataframe\">\n  <thead>\n    <tr style=\"text-align: right;\">\n      <th></th>\n      <th>ev</th>\n      <th>trip_length</th>\n      <th>trip_start_time</th>\n      <th>trip_end_time</th>\n      <th>trip_duration</th>\n      <th>trip_energy_consumption</th>\n      <th>trip_required_soc</th>\n      <th>ev_battery_size</th>\n      <th>trip_stops</th>\n    </tr>\n  </thead>\n  <tbody>\n    <tr>\n      <th>0</th>\n      <td>Smart Fortwo with 17.6 kWh battery</td>\n      <td>187.88</td>\n      <td>1.0</td>\n      <td>5.0</td>\n      <td>4.0</td>\n      <td>37.576</td>\n      <td>2.135000</td>\n      <td>17.6</td>\n      <td>[]</td>\n    </tr>\n    <tr>\n      <th>1</th>\n      <td>BMW 530e with 120 kWh battery</td>\n      <td>169.87</td>\n      <td>0.0</td>\n      <td>3.0</td>\n      <td>3.0</td>\n      <td>33.974</td>\n      <td>0.283117</td>\n      <td>120.0</td>\n      <td>[]</td>\n    </tr>\n    <tr>\n      <th>2</th>\n      <td>BMW 530e with 120 kWh battery</td>\n      <td>106.69</td>\n      <td>5.0</td>\n      <td>7.0</td>\n      <td>2.0</td>\n      <td>21.338</td>\n      <td>0.177817</td>\n      <td>120.0</td>\n      <td>[]</td>\n    </tr>\n    <tr>\n      <th>3</th>\n      <td>Nissa Leaf with 40 kWh battery</td>\n      <td>57.85</td>\n      <td>19.0</td>\n      <td>20.0</td>\n      <td>1.0</td>\n      <td>11.570</td>\n      <td>0.289250</td>\n      <td>40.0</td>\n      <td>[]</td>\n    </tr>\n    <tr>\n      <th>4</th>\n      <td>Jaguar I-Pace with 90 kWh battery</td>\n      <td>107.52</td>\n      <td>4.0</td>\n      <td>6.0</td>\n      <td>2.0</td>\n      <td>21.504</td>\n      <td>0.238933</td>\n      <td>90.0</td>\n      <td>[]</td>\n    </tr>\n    <tr>\n      <th>...</th>\n      <td>...</td>\n      <td>...</td>\n      <td>...</td>\n      <td>...</td>\n      <td>...</td>\n      <td>...</td>\n      <td>...</td>\n      <td>...</td>\n      <td>...</td>\n    </tr>\n    <tr>\n      <th>95</th>\n      <td>Smart Fortwo with 17.6 kWh battery</td>\n      <td>76.62</td>\n      <td>8.0</td>\n      <td>10.0</td>\n      <td>2.0</td>\n      <td>15.324</td>\n      <td>0.870682</td>\n      <td>17.6</td>\n      <td>[]</td>\n    </tr>\n    <tr>\n      <th>96</th>\n      <td>Mitshubishi Outlander with 12 kWh battery</td>\n      <td>73.20</td>\n      <td>21.0</td>\n      <td>23.0</td>\n      <td>2.0</td>\n      <td>14.640</td>\n      <td>1.220000</td>\n      <td>12.0</td>\n      <td>[]</td>\n    </tr>\n    <tr>\n      <th>97</th>\n      <td>Mitshubishi Outlander with 12 kWh battery</td>\n      <td>12.60</td>\n      <td>19.0</td>\n      <td>20.0</td>\n      <td>1.0</td>\n      <td>2.520</td>\n      <td>0.210000</td>\n      <td>12.0</td>\n      <td>[]</td>\n    </tr>\n    <tr>\n      <th>98</th>\n      <td>Others Others with 20 kWh battery</td>\n      <td>60.81</td>\n      <td>21.0</td>\n      <td>23.0</td>\n      <td>2.0</td>\n      <td>12.162</td>\n      <td>0.608100</td>\n      <td>20.0</td>\n      <td>[]</td>\n    </tr>\n    <tr>\n      <th>99</th>\n      <td>Mitshubishi Outlander with 12 kWh battery</td>\n      <td>94.80</td>\n      <td>16.0</td>\n      <td>18.0</td>\n      <td>2.0</td>\n      <td>18.960</td>\n      <td>1.580000</td>\n      <td>12.0</td>\n      <td>[]</td>\n    </tr>\n  </tbody>\n</table>\n<p>100 rows × 9 columns</p>\n</div>"
     },
     "execution_count": 21,
     "metadata": {},
     "output_type": "execute_result"
    }
   ],
   "source": [
    "# Print the trips\n",
    "\n",
    "aggregator.assigned_trips_dataframe()"
   ],
   "metadata": {
    "collapsed": false,
    "pycharm": {
     "name": "#%%\n"
    }
   }
  },
  {
   "cell_type": "code",
   "execution_count": 22,
   "outputs": [
    {
     "data": {
      "text/plain": "<Figure size 640x480 with 1 Axes>",
      "image/png": "[encoded data removed]"
     },
     "metadata": {},
     "output_type": "display_data"
    }
   ],
   "source": [
    "# Plot the population brand in a pie chart\n",
    "\n",
    "# Values of each group\n",
    "brand_values = aggregator.population_dataframe()['brand'].value_counts()\n",
    "plt.pie(brand_values, labels=brand_values.index, autopct='%1.1f%%')\n",
    "\n",
    "# View the plot\n",
    "plt.axis('equal')\n",
    "plt.show()"
   ],
   "metadata": {
    "collapsed": false,
    "pycharm": {
     "name": "#%%\n"
    }
   }
  },
  {
   "cell_type": "code",
   "execution_count": 23,
   "outputs": [
    {
     "data": {
      "text/plain": "<Figure size 640x480 with 1 Axes>",
      "image/png": "[encoded data removed]"
     },
     "metadata": {},
     "output_type": "display_data"
    }
   ],
   "source": [
    "# Plot the trip distances in a histogram\n",
    "plt.hist(aggregator.assigned_trips_dataframe()['trip_length'], bins=20)\n",
    "plt.show()"
   ],
   "metadata": {
    "collapsed": false,
    "pycharm": {
     "name": "#%%\n"
    }
   }
  },
  {
   "cell_type": "code",
   "execution_count": null,
   "outputs": [],
   "source": [],
   "metadata": {
    "collapsed": false,
    "pycharm": {
     "name": "#%%\n"
    }
   }
  }
 ],
 "metadata": {
  "kernelspec": {
   "display_name": "Python 3",
   "language": "python",
   "name": "python3"
  },
  "language_info": {
   "codemirror_mode": {
    "name": "ipython",
    "version": 2
   },
   "file_extension": ".py",
   "mimetype": "text/x-python",
   "name": "python",
   "nbconvert_exporter": "python",
   "pygments_lexer": "ipython2",
   "version": "2.7.6"
  }
 },
 "nbformat": 4,
 "nbformat_minor": 0
}