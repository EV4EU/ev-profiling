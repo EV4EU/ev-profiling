{
 "cells": [
  {
   "cell_type": "code",
   "execution_count": 196,
   "outputs": [],
   "source": [
    "# Imports\n",
    "\n",
    "import numpy as np\n",
    "import pandas as pd\n",
    "import matplotlib.pyplot as plt\n",
    "import copy\n",
    "import secrets\n",
    "import datetime"
   ],
   "metadata": {
    "collapsed": false,
    "pycharm": {
     "name": "#%%\n"
    }
   }
  },
  {
   "cell_type": "code",
   "execution_count": 2,
   "outputs": [],
   "source": [
    "# Create an EV class with the following attributes:\n",
    "# - Brand\n",
    "# - Model\n",
    "# - Battery type\n",
    "# - Battery size\n",
    "# - Charging Efficiency\n",
    "# - Discharging Efficiency\n",
    "# - Energy per km\n",
    "# - SOC min\n",
    "# - SOC max\n",
    "# - Probability in population - this is the probability that a car of this type will be chosen from the population\n",
    "\n",
    "class EV:\n",
    "    def __init__(self, brand, model, battery_type, battery_size, charging_efficiency, discharging_efficiency, energy_per_km, soc_min, soc_max, probability_in_population):\n",
    "        self.brand = brand\n",
    "        self.model = model\n",
    "        self.battery_type = battery_type\n",
    "        self.battery_size = battery_size\n",
    "        self.charging_efficiency = charging_efficiency if charging_efficiency <= 1 or charging_efficiency >= 0 else 0.9\n",
    "        self.discharging_efficiency = discharging_efficiency if discharging_efficiency <= 1 or discharging_efficiency >= 0 else 0.9\n",
    "        self.energy_per_km = energy_per_km\n",
    "        self.soc_min = soc_min if soc_min >= 0.0 else 0.0\n",
    "        self.soc_max = soc_max if soc_max <= 1.0 else 1.0\n",
    "        self.probability_in_population = probability_in_population if probability_in_population <= 1.0 else 1.0\n",
    "\n",
    "\n",
    "# Extend the class to create drivable EVs\n",
    "class DrivableEV(EV):\n",
    "\n",
    "    # __init__ method is inherited from EV class, extended with the state of charge. Creates the following attributes:\n",
    "    # - State of Charge\n",
    "    # - List of trips\n",
    "    # - Current trip\n",
    "    def __init__(self, brand, model, battery_type, battery_size, charging_efficiency, discharging_efficiency, energy_per_km, soc_min, soc_max, probability_in_population, initial_soc=None):\n",
    "        super().__init__(brand, model, battery_type, battery_size, charging_efficiency, discharging_efficiency, energy_per_km, soc_min, soc_max, probability_in_population)\n",
    "\n",
    "        # EV ID\n",
    "        self.ev_id = secrets.token_hex(16)\n",
    "\n",
    "        # SOC variables\n",
    "        self.soc = [initial_soc]\n",
    "        self.current_soc = initial_soc\n",
    "\n",
    "        # List of trips and current trip\n",
    "        self.trips = []\n",
    "        self.current_trip = None\n",
    "\n",
    "        # Information about the charging stations\n",
    "        self.current_charging_station = None\n",
    "\n",
    "        # EV driving status\n",
    "        self.driving_status = 'Idle'\n",
    "\n",
    "\n",
    "    # Format the print\n",
    "    def __repr__(self):\n",
    "        return f\"{self.brand} {self.model} with {self.battery_size} kWh battery\"\n",
    "\n",
    "    # Create a method to add a trip to the EV\n",
    "    def add_trip(self, trip):\n",
    "        self.trips.append(trip)\n",
    "\n",
    "\n",
    "    # Create a method to charge the EV\n",
    "    def charge(self, charge_amount):\n",
    "        self.current_soc += charge_amount * self.charging_efficiency\n",
    "\n",
    "        if self.current_soc > self.battery_size:\n",
    "            self.current_soc = self.battery_size\n",
    "\n",
    "\n",
    "    # Create a method to discharge the EV\n",
    "    def discharge(self, discharge_amount):\n",
    "        self.current_soc -= discharge_amount * self.discharging_efficiency\n",
    "\n",
    "        if self.current_soc < 0:\n",
    "            self.current_soc = 0\n",
    "\n",
    "\n",
    "    # Create a method to update the state of charge according to current trip length\n",
    "    def update_soc(self):\n",
    "        self.current_soc -= self.current_trip.length * self.energy_per_km * self.discharging_efficiency\n",
    "\n",
    "        if self.current_soc < 0:\n",
    "            self.current_soc = 0\n",
    "\n"
   ],
   "metadata": {
    "collapsed": false,
    "pycharm": {
     "name": "#%%\n"
    }
   }
  },
  {
   "cell_type": "code",
   "execution_count": 162,
   "outputs": [],
   "source": [
    "# Define a Trip class, that will assign a trip to an EV. Has the following parameters:\n",
    "# - EV\n",
    "# - Trip length\n",
    "# - Trip start time (can be a range)\n",
    "# - Trip end time (can be a range)\n",
    "# - Trip start SOC\n",
    "# - Trip end SOC\n",
    "# - Trip energy consumption\n",
    "# - Trip stops\n",
    "\n",
    "class Trip:\n",
    "    def __init__(self, trip_length, trip_start_time, trip_end_time, trip_duration):\n",
    "        self.trip_length = trip_length\n",
    "        self.trip_start_time = trip_start_time\n",
    "        self.trip_end_time = trip_end_time\n",
    "        self.trip_duration = trip_duration\n",
    "\n",
    "\n",
    "class DrivableTrip(Trip):\n",
    "    # Init method is the same as Trip class\n",
    "    def __init__(self, trip_length, trip_speed, trip_start_time, trip_end_time, trip_duration, profile=None):\n",
    "        super().__init__(trip_length, trip_start_time, trip_end_time, trip_duration)\n",
    "\n",
    "        # Information about EV\n",
    "        self.ev = None\n",
    "        self.ev_id = None\n",
    "\n",
    "        # Information about the trip\n",
    "        self.trip_speed = trip_speed\n",
    "        self.trip_energy_consumption = None\n",
    "        self.trip_required_soc = None\n",
    "        self.covered_trip_length = None\n",
    "        self.ev_battery_size = None\n",
    "        self.trip_stops = []\n",
    "        self.trip_estimate_arrival = trip_end_time\n",
    "        self.profile = profile\n",
    "\n",
    "        # Completed trips\n",
    "        self.trip_status = 'Not started'\n",
    "\n",
    "\n",
    "    # Formatted print method\n",
    "    def __repr__(self):\n",
    "        return f'Trip length: {self.trip_length} km, trip start time: {self.trip_start_time}, ' \\\n",
    "               f'trip end time: {self.trip_end_time}, trip energy consumption: {self.trip_energy_consumption} kWh, ' \\\n",
    "               f'trip required SOC: {self.trip_required_soc} %, trip stops: {self.trip_stops}'\n",
    "\n",
    "    # Create a method to calculate the trip energy consumption\n",
    "    def calculate_trip_energy_consumption(self):\n",
    "        self.trip_energy_consumption = self.trip_length * self.ev.energy_per_km\n",
    "\n",
    "\n",
    "    # Create a method to calculate the trip required SOC\n",
    "    def calculate_trip_required_soc(self):\n",
    "        self.trip_required_soc = self.trip_energy_consumption / self.ev.battery_size\n",
    "\n",
    "\n",
    "    # Create a method to assign the battery size of the EV to the trip\n",
    "    def assign_ev_battery_size(self):\n",
    "        self.ev_battery_size = self.ev.battery_size\n",
    "\n",
    "\n",
    "    # Create a method to add stops to the trip\n",
    "    def add_stop(self, stop):\n",
    "        self.trip_stops.append(stop)\n",
    "\n",
    "\n",
    "    # Create a method to update the covered trip length\n",
    "    def update_covered_trip_length(self, covered_trip_length):\n",
    "        self.covered_trip_length += covered_trip_length\n",
    "\n",
    "\n",
    "    # Create a method to update the required SOC\n",
    "    def update_trip_required_soc(self):\n",
    "        self.trip_required_soc = (self.trip_energy_consumption - self.covered_trip_length * self.ev.energy_per_km) / self.ev.battery_size\n"
   ],
   "metadata": {
    "collapsed": false,
    "pycharm": {
     "name": "#%%\n"
    }
   }
  },
  {
   "cell_type": "code",
   "execution_count": 211,
   "outputs": [],
   "source": [
    "# Define a Charging Station class, that will charge the EVs. Has the following parameters:\n",
    "# - Charging station name\n",
    "# - Charging station location\n",
    "# - Charging station type\n",
    "# - Charging station power\n",
    "# - Charging station efficiency\n",
    "# - Charging station availability\n",
    "# - Charging station cost\n",
    "\n",
    "class ChargingStation:\n",
    "    def __init__(self, charging_station_type, charging_station_power, charging_station_efficiency, charging_station_cost, charging_station_probability):\n",
    "        # Parameters Assign\n",
    "        self.charging_station_type = charging_station_type\n",
    "        self.charging_station_power = charging_station_power\n",
    "        self.charging_station_cost = charging_station_cost\n",
    "        self.charging_station_efficiency = charging_station_efficiency\n",
    "        self.charging_station_probability = charging_station_probability\n",
    "\n",
    "        # Information about the charging station\n",
    "        self.charging_station_name = None\n",
    "        self.charging_station_location = None\n",
    "        self.charging_station_availability = None\n",
    "\n",
    "    # Method to set the name of the charging station\n",
    "    def set_charging_station_name(self, charging_station_name):\n",
    "        self.charging_station_name = charging_station_name\n",
    "\n",
    "    # Method to set the location of the charging station\n",
    "    def set_charging_station_location(self, charging_station_location):\n",
    "        self.charging_station_location = charging_station_location\n",
    "\n",
    "    # Method to set the availability of the charging station to either True or False\n",
    "    def set_charging_station_availability(self, charging_station_availability):\n",
    "        self.charging_station_availability = charging_station_availability.astype(bool)\n"
   ],
   "metadata": {
    "collapsed": false,
    "pycharm": {
     "name": "#%%\n"
    }
   }
  },
  {
   "cell_type": "code",
   "execution_count": 212,
   "outputs": [],
   "source": [
    "# Define a User class, that will have the following parameters:\n",
    "# - User name\n",
    "# - User location\n",
    "# - User trips\n",
    "# - User EV\n",
    "# - User type\n",
    "\n",
    "class User:\n",
    "    def __init__(self, user_name, user_profile):\n",
    "        # Parameters Assign\n",
    "        self.user_name = user_name\n",
    "        self.user_profile = user_profile\n",
    "\n",
    "    # Method to assign an EV to the user\n",
    "    def assign_ev(self, ev):\n",
    "        self.user_ev = ev\n",
    "\n",
    "\n",
    "# Create a Profile class that will determine the behaviour of the Users. Has the following parameters:\n",
    "# - Profile name\n",
    "# - Profile type\n",
    "# - Profile trip schedule\n",
    "# - Trip type\n",
    "class Profile:\n",
    "    def __init__(self, profile_name, trip_type, profile_trip_schedule):\n",
    "        # Parameters Assign\n",
    "        self.profile_name = profile_name\n",
    "        self.trip_type = trip_type\n",
    "        self.profile_trip_schedule = profile_trip_schedule\n",
    "\n",
    "    # Format printing\n",
    "    def __repr__(self):\n",
    "        return f'N:{self.profile_name}, T:{self.trip_type}'\n",
    "\n",
    "\n",
    "# Create a Schedule class with the following parameters:\n",
    "# - Schedule start\n",
    "# - Schedule end\n",
    "class Schedule:\n",
    "    def __init__(self, schedule_start):\n",
    "        # Parameters Assign\n",
    "        self.schedule_start = schedule_start\n",
    "\n",
    "    # Format printing\n",
    "    def __repr__(self):\n",
    "        return f'Schedule start hours: {self.schedule_start}'"
   ],
   "metadata": {
    "collapsed": false,
    "pycharm": {
     "name": "#%%\n"
    }
   }
  },
  {
   "cell_type": "code",
   "execution_count": 213,
   "outputs": [],
   "source": [
    " # Define an Aggregator class, that will aggregate the trips and EVs. Has the following parameters:\n",
    "# - EVs\n",
    "# - Number of EVs\n",
    "class Aggregator:\n",
    "    def __init__(self, profiles, evs, charging_stations):\n",
    "        # Profile assign\n",
    "        self.profiles = profiles\n",
    "\n",
    "        # Assign the EVs to the aggregator\n",
    "        self.evs = evs\n",
    "\n",
    "        # Number of EVs of the simulation\n",
    "        self.number_of_evs = None\n",
    "\n",
    "        # Create a list of trips\n",
    "        self.trips = []\n",
    "        self.segments = []\n",
    "        self.population = None\n",
    "        self.assigned_evs = []\n",
    "\n",
    "        # Assign the charging stations to the aggregator\n",
    "        self.charging_stations = charging_stations\n",
    "\n",
    "    # Add an EV to the fleet\n",
    "    def add_ev(self, ev):\n",
    "        self.evs.append(ev)\n",
    "\n",
    "    # Assign a trip to an EV\n",
    "    def assign_trip(self, ev, trip):\n",
    "        ev.add_trip(trip)\n",
    "\n",
    "    # Assign a charging station to an EV, and charge the EV if:\n",
    "    # - The charging station is available\n",
    "    # - The charging station is of the correct type\n",
    "    # - The charging station has enough power to charge the EV\n",
    "    def assign_charging_station(self, ev, charging_station):\n",
    "        if charging_station.charging_station_availability == True and charging_station.charging_station_type == ev.battery_type and charging_station.charging_station_power >= ev.battery_size:\n",
    "            ev.current_charging_station = charging_station\n",
    "            ev.charge(charging_station.charging_station_power)\n",
    "            charging_station.charging_station_availability = False\n",
    "\n",
    "\n",
    "    # Create the population of DrivableEVs according to NumPy's random.choice\n",
    "    def create_evs(self, n_evs):\n",
    "        # Assign the number of EVs to the aggregator\n",
    "        self.number_of_evs = n_evs\n",
    "\n",
    "        # Create an EV population according to the given probabilities of the EVs\n",
    "        population_choice = np.random.choice(self.evs, n_evs,\n",
    "                                             p=[ev.probability_in_population for ev in self.evs])\n",
    "\n",
    "        # Create a list of DrivableEVs\n",
    "        self.population = [DrivableEV(ev.brand, ev.model, ev.battery_type, ev.battery_size,\n",
    "                                      ev.charging_efficiency, ev.discharging_efficiency,\n",
    "                                      ev.energy_per_km, ev.soc_min, ev.soc_max,\n",
    "                                      ev.probability_in_population,\n",
    "                                      initial_soc=np.round(np.random.uniform(ev.soc_min,\n",
    "                                                                             ev.soc_max, 1)[0], 2))\n",
    "                           for ev in population_choice]\n",
    "\n",
    "\n",
    "    # Create DrivableTrips with gamma distribution for the trip length\n",
    "    # Create a gamma distribution for the trip length\n",
    "    def create_trips(self, n_trips, time_resolution=1, avg_speed_short=60, avg_speed_medium=80, avg_speed_long=100, medium_trip_min=50, medium_trip_max=100, trip_start_variation=1.0, avg_speed_variation=1.0):\n",
    "        shape, scale = 46.*.01, 46.*2\n",
    "        trip_lengths = np.round(np.random.gamma(shape, scale, n_trips), 2)\n",
    "\n",
    "        # Assign the trip lengths to the trips list\n",
    "        self.trips = [Trip(trip_length, None, None, None) for trip_length in trip_lengths]\n",
    "\n",
    "        # Create the DrivableTrips\n",
    "        for trip in range(n_trips):\n",
    "\n",
    "            # Calculate trip type based on distance\n",
    "            trip_type = 'Short' if trip_lengths[trip] <= medium_trip_min else 'Medium' if medium_trip_min < trip_lengths[trip] <= medium_trip_max else 'Long'\n",
    "\n",
    "            # Calculate average speed based on trip type\n",
    "            avg_speed = avg_speed_short if trip_type == 'Short' else avg_speed_medium if trip_type == 'Medium' else avg_speed_long\n",
    "\n",
    "            # Get the user profiles that match the trip type\n",
    "            user_profiles = [profile for profile in self.profiles if profile.trip_type == trip_type]\n",
    "\n",
    "            # Get the user profile based on the user profiles that match the trip type\n",
    "            user_profile = np.random.choice(user_profiles, 1)[0]\n",
    "\n",
    "            # Check how many trips the user has\n",
    "            user_trips = len(user_profile.profile_trip_schedule.schedule_start)\n",
    "\n",
    "            # If there are more than 1 trip, split into multiple trips\n",
    "            if user_trips > 1:\n",
    "\n",
    "                # Placeholder for list of segments of each trip. Each segment is a DrivableTrip\n",
    "                segment_list = []\n",
    "\n",
    "                # Calculate the required socs for trip segment\n",
    "                for i in range(user_trips):\n",
    "                    # Get a random start centered around schedule start\n",
    "                    segment_start = np.random.uniform(user_profile.profile_trip_schedule.schedule_start[i] - trip_start_variation,\n",
    "                                                      user_profile.profile_trip_schedule.schedule_start[i] + trip_start_variation, 1)[0]\n",
    "\n",
    "                    # Get a random average speed centered on avg_speed with variation\n",
    "                    segment_avg_speed = np.random.uniform(avg_speed - avg_speed_variation, avg_speed + avg_speed_variation, 1)[0] * time_resolution\n",
    "\n",
    "                    # Calculate the segment end\n",
    "                    segment_end = segment_start + trip_lengths[trip] / segment_avg_speed\n",
    "\n",
    "                    # Calculate the segment length\n",
    "                    duration = segment_end - segment_start if segment_end > segment_start else 0\n",
    "\n",
    "                    # Convert float values to time\n",
    "                    segment_start = datetime.time(int(segment_start), int((segment_start - int(segment_start)) * 60))\n",
    "                    segment_end = datetime.time(int(segment_end), int((segment_end - int(segment_end)) * 60))\n",
    "                    duration = datetime.time(int(duration), int((duration - int(duration)) * 60))\n",
    "\n",
    "                    # Create a DrivableTrip for each segment\n",
    "                    segment_list.append(DrivableTrip(trip_lengths[trip],\n",
    "                                                     segment_avg_speed,\n",
    "                                                     segment_start, segment_end,\n",
    "                                                     duration, profile=user_profile))\n",
    "\n",
    "                # Append to the trips list\n",
    "                self.segments.append(segment_list)\n",
    "\n",
    "            elif user_trips == 1:\n",
    "\n",
    "                # Get a random start centered around schedule start\n",
    "                segment_start = np.random.uniform(user_profile.profile_trip_schedule.schedule_start[0] - trip_start_variation,\n",
    "                                                  user_profile.profile_trip_schedule.schedule_start[0] + trip_start_variation, 1)[0]\n",
    "\n",
    "                # Get a random average speed centered on avg_speed with variation\n",
    "                segment_avg_speed = np.random.uniform(avg_speed - avg_speed_variation, avg_speed + avg_speed_variation, 1)[0] * time_resolution\n",
    "\n",
    "                # Calculate the segment end\n",
    "                segment_end = segment_start + trip_lengths[trip] / segment_avg_speed\n",
    "\n",
    "                # Calculate the segment length\n",
    "                duration = segment_end - segment_start if segment_end > segment_start else 0\n",
    "\n",
    "                # Convert float values to time\n",
    "                segment_start = datetime.time(int(segment_start), int((segment_start - int(segment_start)) * 60))\n",
    "                segment_end = datetime.time(int(segment_end), int((segment_end - int(segment_end)) * 60))\n",
    "                duration = datetime.time(int(duration), int((duration - int(duration)) * 60))\n",
    "\n",
    "                # Create a DrivableTrip for the trip\n",
    "                drivable_trip = DrivableTrip(trip_lengths[trip],\n",
    "                                             segment_avg_speed,\n",
    "                                             segment_start, segment_end,\n",
    "                                             duration, profile=user_profile)\n",
    "\n",
    "                # Append to the segments list\n",
    "                self.segments.append([drivable_trip])\n",
    "\n",
    "\n",
    "    # Assign the larger trips to the EVs with larger battery sizes with a greater probability\n",
    "    def assign_trips(self):\n",
    "        # Create a copy of the population\n",
    "        population_copy = copy.deepcopy(self.population)\n",
    "        segments_copy = copy.deepcopy(self.segments)\n",
    "\n",
    "        # Assigned EVs and Trips\n",
    "        assigned_evs = []\n",
    "\n",
    "        # Create a list with the probabilities of the EVs to get a trip\n",
    "        probabilities = [ev.battery_size / sum([ev.battery_size for ev in self.population]) for ev in population_copy]\n",
    "\n",
    "        # Sort the segments by trip length and assign it to a temporary variable\n",
    "        sorted_segments = sorted(segments_copy, key=lambda x: x[0].trip_length, reverse=True)\n",
    "\n",
    "        # Assign the sorted trips to the EVs\n",
    "        for segment in sorted_segments:\n",
    "            # Choose an EV from the population\n",
    "            ev = np.random.choice(population_copy, 1, p=probabilities)[0]\n",
    "\n",
    "            for trip in segment:\n",
    "                # Assign the trip segments to the EV\n",
    "                trip.ev = ev\n",
    "                trip.ev_id = ev.ev_id\n",
    "                trip.calculate_trip_energy_consumption()\n",
    "                trip.calculate_trip_required_soc()\n",
    "                trip.assign_ev_battery_size()\n",
    "\n",
    "                # Add the trip to the EV\n",
    "                ev.add_trip(trip)\n",
    "\n",
    "                # Calculate the trip energy consumption and required SOC\n",
    "                trip.calculate_trip_energy_consumption()\n",
    "                trip.calculate_trip_required_soc()\n",
    "\n",
    "            # Remove the EV from the population\n",
    "            population_copy.remove(ev)\n",
    "\n",
    "            self.assigned_evs.append(ev)\n",
    "\n",
    "            # Recalculate the probabilities\n",
    "            probabilities = [ev.battery_size / sum([ev.battery_size for ev in population_copy]) for ev in population_copy]\n",
    "\n",
    "            # If the population is empty, break the loop\n",
    "            if len(population_copy) == 0:\n",
    "                break\n",
    "\n",
    "\n",
    "    # Create the charging stations\n",
    "    def create_cs(self, n_cs):\n",
    "        # Create a list of charging stations\n",
    "        charging_stations = []\n",
    "\n",
    "        # Create a list of charging station based on the CS profiles\n",
    "        for i in range(n_cs):\n",
    "            # Get a random CS profile\n",
    "            cs_profile = np.random.choice(self.cs_profiles, 1)[0]\n",
    "\n",
    "            # Create a charging station\n",
    "            charging_station = ChargingStation(cs_profile.charging_station_type,\n",
    "                                               cs_profile.charging_station_power,\n",
    "                                               cs_profile.charging_station_efficiency,\n",
    "                                               cs_profile.charging_station_cost)\n",
    "\n",
    "            # Append to the list\n",
    "            charging_stations.append(charging_station)\n",
    "\n",
    "        # Assign the charging stations to the aggregator\n",
    "        self.charging_stations = charging_stations\n",
    "\n",
    "\n",
    "    # Add a stop to the trip and EVs when:\n",
    "    # if required SOC is > 1.0;\n",
    "    # required SOC > current SOC;\n",
    "    # current SOC <= 0.2\n",
    "    def add_stop(self):\n",
    "        # Check population for need to add a stop\n",
    "        for ev in self.population:\n",
    "            # Check if the trip requires a stop\n",
    "            if ev.trips[-1].required_soc > 1.0 or ev.trips[-1].required_soc > ev.soc or ev.soc <= 0.2:\n",
    "\n",
    "                # Create a list with available charging stations\n",
    "                available_charging_stations = [cs for cs in self.charging_stations if cs.charging_station_availability == True]\n",
    "\n",
    "                # If there are available stations, attribute the first to the EV\n",
    "                ev.trip.add_stop(available_charging_stations[0])\n",
    "\n",
    "                # Charge the EV\n",
    "                ev.charge(ev.current_charging_station.charging_station_power)\n",
    "\n",
    "                # Update the charging station availability\n",
    "                ev.current_charging_station.charging_station_availability = False\n",
    "\n",
    "\n",
    "    # Run the simulation\n",
    "    def run_sim(self):\n",
    "        # Update the EVs SOC according to covered trip length\n",
    "        # Check if there are trips to be covered\n",
    "        for user in self.users:\n",
    "            pass\n",
    "\n",
    "\n",
    "    # Create a DataFrame of the population\n",
    "    def population_dataframe(self):\n",
    "        # Create a DataFrame of the population\n",
    "        population_dataframe = pd.DataFrame([ev.__dict__ for ev in self.population])\n",
    "\n",
    "        # Return the DataFrame\n",
    "        return population_dataframe\n",
    "\n",
    "\n",
    "    # Create a DataFrame of assigned EVs\n",
    "    def assigned_evs_dataframe(self):\n",
    "        # Create a DataFrame of the population\n",
    "        assigned_evs_dataframe = pd.DataFrame([ev.__dict__ for ev in self.assigned_evs])\n",
    "\n",
    "        # Return the DataFrame\n",
    "        return assigned_evs_dataframe\n",
    "\n",
    "\n",
    "    # Create a DataFrame of the trips\n",
    "    def assigned_trips_dataframe(self):\n",
    "        # Create a DataFrame of the trips\n",
    "        trips_dataframe = pd.DataFrame([trip.trip_length for trip in self.trips])\n",
    "        trips_dataframe.columns = [\"trip_length\"]\n",
    "\n",
    "        # Return the DataFrame\n",
    "        return trips_dataframe\n",
    "\n",
    "\n",
    "    # Create a DataFrame of assigned Trips and all the information in the list\n",
    "    def assigned_segments_dataframe(self):\n",
    "        # Create a DataFrame of the population\n",
    "        assigned_trips_dataframe = pd.DataFrame([trip.__dict__ for ev in self.assigned_evs for trip in ev.trips])\n",
    "\n",
    "        # Return the DataFrame\n",
    "        return assigned_trips_dataframe\n"
   ],
   "metadata": {
    "collapsed": false,
    "pycharm": {
     "name": "#%%\n"
    }
   }
  },
  {
   "cell_type": "code",
   "execution_count": 214,
   "outputs": [
    {
     "name": "stdout",
     "output_type": "stream",
     "text": [
      "1.0\n"
     ]
    }
   ],
   "source": [
    "# Create a list of EVs to use in the simulation\n",
    "\n",
    "EVs = [EV(brand='Nissan', model='Leaf', battery_type='BEV', battery_size=59,\n",
    "          charging_efficiency=0.9, discharging_efficiency=0.9,\n",
    "          probability_in_population=0.16, energy_per_km=0.17, soc_min=0.7, soc_max=1.0),\n",
    "       EV(brand='Tesla', model='Model 3', battery_type='BEV', battery_size=95,\n",
    "          charging_efficiency=0.9, discharging_efficiency=0.9,\n",
    "          probability_in_population=0.13, energy_per_km=0.18, soc_min=0.7, soc_max=1.0),\n",
    "       EV(brand='Peugeot', model='e-Expert', battery_type='BEV', battery_size=68,\n",
    "          charging_efficiency=0.9, discharging_efficiency=0.9,\n",
    "          probability_in_population=0.1, energy_per_km=0.26, soc_min=0.7, soc_max=1.0),\n",
    "       EV(brand='Renault', model='Zoe', battery_type='BEV', battery_size=52,\n",
    "          charging_efficiency=0.9, discharging_efficiency=0.9,\n",
    "          probability_in_population=0.1, energy_per_km=0.17, soc_min=0.7, soc_max=1.0),\n",
    "       EV(brand='Jaguar', model='I-Pace', battery_type='BEV', battery_size=85,\n",
    "          charging_efficiency=0.9, discharging_efficiency=0.9,\n",
    "          probability_in_population=0.09, energy_per_km=0.22, soc_min=0.7, soc_max=1.0),\n",
    "       EV(brand='Mercedes', model='E300', battery_type='PHEV', battery_size=13.5,\n",
    "          charging_efficiency=0.9, discharging_efficiency=0.9,\n",
    "          probability_in_population=0.08, energy_per_km=0.18, soc_min=0.7, soc_max=1.0),\n",
    "       EV(brand='BMW', model='530e', battery_type='PHEV', battery_size=70.2,\n",
    "          charging_efficiency=0.9, discharging_efficiency=0.9,\n",
    "          probability_in_population=0.08, energy_per_km=0.16, soc_min=0.7, soc_max=1.0),\n",
    "       EV(brand='Audi Q4', model='e-tron', battery_type='PHEV', battery_size=55,\n",
    "          charging_efficiency=0.9, discharging_efficiency=0.9,\n",
    "          probability_in_population=0.07, energy_per_km=0.17, soc_min=0.7, soc_max=1.0),\n",
    "       EV(brand='Hyundai', model='Kauai', battery_type='BEV', battery_size=74,\n",
    "          charging_efficiency=0.9, discharging_efficiency=0.9,\n",
    "          probability_in_population=0.06, energy_per_km=0.192, soc_min=0.7, soc_max=1.0),\n",
    "       EV(brand='Volvo', model='XC40', battery_type='PHEV', battery_size=78,\n",
    "          charging_efficiency=0.9, discharging_efficiency=0.9,\n",
    "          probability_in_population=0.05, energy_per_km=0.176, soc_min=0.7, soc_max=1.0),\n",
    "       EV(brand='Wolkswagen', model='ID.3', battery_type='PHEV', battery_size=58,\n",
    "          charging_efficiency=0.9, discharging_efficiency=0.9,\n",
    "          probability_in_population=0.05, energy_per_km=0.155, soc_min=0.7, soc_max=1.0),\n",
    "       EV(brand='Others', model='Others', battery_type='PEV', battery_size=20,\n",
    "          charging_efficiency=0.9, discharging_efficiency=0.9,\n",
    "          probability_in_population=0.03, energy_per_km=0.2, soc_min=0.7, soc_max=1.0)]\n",
    "\n",
    "# Print the sum of the probabilities in the population of EVs\n",
    "sum_of_probabilities = 0\n",
    "for ev in EVs:\n",
    "    sum_of_probabilities += ev.probability_in_population\n",
    "print(sum_of_probabilities)"
   ],
   "metadata": {
    "collapsed": false,
    "pycharm": {
     "name": "#%%\n"
    }
   }
  },
  {
   "cell_type": "code",
   "execution_count": 215,
   "outputs": [],
   "source": [
    "# Create a list of Charging Stations to use in the simulation\n",
    "\n",
    "CS = [ChargingStation(charging_station_type='Slow',\n",
    "                      charging_station_power=3.6,\n",
    "                      charging_station_efficiency=0.9,\n",
    "                      charging_station_cost=0.15,\n",
    "                      charging_station_probability=0.25),\n",
    "      ChargingStation(charging_station_type='Slow',\n",
    "                      charging_station_power=7.2,\n",
    "                      charging_station_efficiency=0.9,\n",
    "                      charging_station_cost=0.15,\n",
    "                      charging_station_probability=0.25),\n",
    "      ChargingStation(charging_station_type='Fast',\n",
    "                      charging_station_power=3.6,\n",
    "                      charging_station_efficiency=0.9,\n",
    "                      charging_station_cost=0.15,\n",
    "                      charging_station_probability=0.25),\n",
    "      ChargingStation(charging_station_type='Fast',\n",
    "                      charging_station_power=7.2,\n",
    "                      charging_station_efficiency=0.9,\n",
    "                      charging_station_cost=0.15,\n",
    "                      charging_station_probability=0.25)]"
   ],
   "metadata": {
    "collapsed": false,
    "pycharm": {
     "name": "#%%\n"
    }
   }
  },
  {
   "cell_type": "code",
   "execution_count": 216,
   "outputs": [],
   "source": [
    "# Create the profiles to use in the simulation\n",
    "\n",
    "# Create a list of profiles\n",
    "PROFILES = [Profile(profile_name='Residential', profile_trip_schedule=Schedule([8, 16]), trip_type='Short'),\n",
    "            Profile(profile_name='Residential', profile_trip_schedule=Schedule([5, 18]), trip_type='Medium'),\n",
    "            Profile(profile_name='Shopping', profile_trip_schedule=Schedule([8, 18]), trip_type='Short'),\n",
    "            Profile(profile_name='Work', profile_trip_schedule=Schedule([8]), trip_type='Long')]"
   ],
   "metadata": {
    "collapsed": false,
    "pycharm": {
     "name": "#%%\n"
    }
   }
  },
  {
   "cell_type": "code",
   "execution_count": 217,
   "outputs": [],
   "source": [
    "# Create an Aggregator object\n",
    "aggregator = Aggregator(profiles=PROFILES, evs=EVs, charging_stations=CS)\n",
    "\n",
    "# Create the population of EVs\n",
    "aggregator.create_evs(n_evs=100)\n",
    "\n",
    "# Create the trips\n",
    "aggregator.create_trips(n_trips=100,\n",
    "                        avg_speed_short=60,\n",
    "                        avg_speed_medium=80,\n",
    "                        avg_speed_long=100)\n",
    "\n",
    "# Assign the EVs to the trips and calculate the trip energy consumption and required SOC.\n",
    "# Also, assign the trip to the EV\n",
    "aggregator.assign_trips()"
   ],
   "metadata": {
    "collapsed": false,
    "pycharm": {
     "name": "#%%\n"
    }
   }
  },
  {
   "cell_type": "code",
   "execution_count": 218,
   "outputs": [
    {
     "data": {
      "text/plain": "      brand    model battery_type  battery_size  charging_efficiency  \\\n0     Tesla  Model 3          BEV          95.0                  0.9   \n1     Volvo     XC40         PHEV          78.0                  0.9   \n2    Nissan     Leaf          BEV          59.0                  0.9   \n3    Nissan     Leaf          BEV          59.0                  0.9   \n4     Tesla  Model 3          BEV          95.0                  0.9   \n..      ...      ...          ...           ...                  ...   \n95  Renault      Zoe          BEV          52.0                  0.9   \n96      BMW     530e         PHEV          70.2                  0.9   \n97    Volvo     XC40         PHEV          78.0                  0.9   \n98   Nissan     Leaf          BEV          59.0                  0.9   \n99      BMW     530e         PHEV          70.2                  0.9   \n\n    discharging_efficiency  energy_per_km  soc_min  soc_max  \\\n0                      0.9          0.180      0.7      1.0   \n1                      0.9          0.176      0.7      1.0   \n2                      0.9          0.170      0.7      1.0   \n3                      0.9          0.170      0.7      1.0   \n4                      0.9          0.180      0.7      1.0   \n..                     ...            ...      ...      ...   \n95                     0.9          0.170      0.7      1.0   \n96                     0.9          0.160      0.7      1.0   \n97                     0.9          0.176      0.7      1.0   \n98                     0.9          0.170      0.7      1.0   \n99                     0.9          0.160      0.7      1.0   \n\n    probability_in_population                             ev_id     soc  \\\n0                        0.13  27bc22347e19acba71b1f5e697c8517b  [0.77]   \n1                        0.05  581800a03b290104c2f579e2fdb04c08  [0.72]   \n2                        0.16  5752f7760942d168f34632bd48f03ed4  [0.84]   \n3                        0.16  ef8e248079b65e035be19f56d7b8a161  [0.92]   \n4                        0.13  eccc53ca61b8a6300b44c55434f4921d  [0.86]   \n..                        ...                               ...     ...   \n95                       0.10  9aec5534b6daca43a77dde377b0a2769  [0.73]   \n96                       0.08  a3c11e96e033f4a66648cc7948e42f4c  [0.73]   \n97                       0.05  2380d8f7aa42cb12e84dc769ceeb1334  [0.94]   \n98                       0.16  2c45fed0687ab5b348a15ab5bc0770f4  [0.84]   \n99                       0.08  3495277e98166345d686cd2687f9b875  [0.74]   \n\n    current_soc trips current_trip current_charging_station driving_status  \n0          0.77    []         None                     None           Idle  \n1          0.72    []         None                     None           Idle  \n2          0.84    []         None                     None           Idle  \n3          0.92    []         None                     None           Idle  \n4          0.86    []         None                     None           Idle  \n..          ...   ...          ...                      ...            ...  \n95         0.73    []         None                     None           Idle  \n96         0.73    []         None                     None           Idle  \n97         0.94    []         None                     None           Idle  \n98         0.84    []         None                     None           Idle  \n99         0.74    []         None                     None           Idle  \n\n[100 rows x 17 columns]",
      "text/html": "<div>\n<style scoped>\n    .dataframe tbody tr th:only-of-type {\n        vertical-align: middle;\n    }\n\n    .dataframe tbody tr th {\n        vertical-align: top;\n    }\n\n    .dataframe thead th {\n        text-align: right;\n    }\n</style>\n<table border=\"1\" class=\"dataframe\">\n  <thead>\n    <tr style=\"text-align: right;\">\n      <th></th>\n      <th>brand</th>\n      <th>model</th>\n      <th>battery_type</th>\n      <th>battery_size</th>\n      <th>charging_efficiency</th>\n      <th>discharging_efficiency</th>\n      <th>energy_per_km</th>\n      <th>soc_min</th>\n      <th>soc_max</th>\n      <th>probability_in_population</th>\n      <th>ev_id</th>\n      <th>soc</th>\n      <th>current_soc</th>\n      <th>trips</th>\n      <th>current_trip</th>\n      <th>current_charging_station</th>\n      <th>driving_status</th>\n    </tr>\n  </thead>\n  <tbody>\n    <tr>\n      <th>0</th>\n      <td>Tesla</td>\n      <td>Model 3</td>\n      <td>BEV</td>\n      <td>95.0</td>\n      <td>0.9</td>\n      <td>0.9</td>\n      <td>0.180</td>\n      <td>0.7</td>\n      <td>1.0</td>\n      <td>0.13</td>\n      <td>27bc22347e19acba71b1f5e697c8517b</td>\n      <td>[0.77]</td>\n      <td>0.77</td>\n      <td>[]</td>\n      <td>None</td>\n      <td>None</td>\n      <td>Idle</td>\n    </tr>\n    <tr>\n      <th>1</th>\n      <td>Volvo</td>\n      <td>XC40</td>\n      <td>PHEV</td>\n      <td>78.0</td>\n      <td>0.9</td>\n      <td>0.9</td>\n      <td>0.176</td>\n      <td>0.7</td>\n      <td>1.0</td>\n      <td>0.05</td>\n      <td>581800a03b290104c2f579e2fdb04c08</td>\n      <td>[0.72]</td>\n      <td>0.72</td>\n      <td>[]</td>\n      <td>None</td>\n      <td>None</td>\n      <td>Idle</td>\n    </tr>\n    <tr>\n      <th>2</th>\n      <td>Nissan</td>\n      <td>Leaf</td>\n      <td>BEV</td>\n      <td>59.0</td>\n      <td>0.9</td>\n      <td>0.9</td>\n      <td>0.170</td>\n      <td>0.7</td>\n      <td>1.0</td>\n      <td>0.16</td>\n      <td>5752f7760942d168f34632bd48f03ed4</td>\n      <td>[0.84]</td>\n      <td>0.84</td>\n      <td>[]</td>\n      <td>None</td>\n      <td>None</td>\n      <td>Idle</td>\n    </tr>\n    <tr>\n      <th>3</th>\n      <td>Nissan</td>\n      <td>Leaf</td>\n      <td>BEV</td>\n      <td>59.0</td>\n      <td>0.9</td>\n      <td>0.9</td>\n      <td>0.170</td>\n      <td>0.7</td>\n      <td>1.0</td>\n      <td>0.16</td>\n      <td>ef8e248079b65e035be19f56d7b8a161</td>\n      <td>[0.92]</td>\n      <td>0.92</td>\n      <td>[]</td>\n      <td>None</td>\n      <td>None</td>\n      <td>Idle</td>\n    </tr>\n    <tr>\n      <th>4</th>\n      <td>Tesla</td>\n      <td>Model 3</td>\n      <td>BEV</td>\n      <td>95.0</td>\n      <td>0.9</td>\n      <td>0.9</td>\n      <td>0.180</td>\n      <td>0.7</td>\n      <td>1.0</td>\n      <td>0.13</td>\n      <td>eccc53ca61b8a6300b44c55434f4921d</td>\n      <td>[0.86]</td>\n      <td>0.86</td>\n      <td>[]</td>\n      <td>None</td>\n      <td>None</td>\n      <td>Idle</td>\n    </tr>\n    <tr>\n      <th>...</th>\n      <td>...</td>\n      <td>...</td>\n      <td>...</td>\n      <td>...</td>\n      <td>...</td>\n      <td>...</td>\n      <td>...</td>\n      <td>...</td>\n      <td>...</td>\n      <td>...</td>\n      <td>...</td>\n      <td>...</td>\n      <td>...</td>\n      <td>...</td>\n      <td>...</td>\n      <td>...</td>\n      <td>...</td>\n    </tr>\n    <tr>\n      <th>95</th>\n      <td>Renault</td>\n      <td>Zoe</td>\n      <td>BEV</td>\n      <td>52.0</td>\n      <td>0.9</td>\n      <td>0.9</td>\n      <td>0.170</td>\n      <td>0.7</td>\n      <td>1.0</td>\n      <td>0.10</td>\n      <td>9aec5534b6daca43a77dde377b0a2769</td>\n      <td>[0.73]</td>\n      <td>0.73</td>\n      <td>[]</td>\n      <td>None</td>\n      <td>None</td>\n      <td>Idle</td>\n    </tr>\n    <tr>\n      <th>96</th>\n      <td>BMW</td>\n      <td>530e</td>\n      <td>PHEV</td>\n      <td>70.2</td>\n      <td>0.9</td>\n      <td>0.9</td>\n      <td>0.160</td>\n      <td>0.7</td>\n      <td>1.0</td>\n      <td>0.08</td>\n      <td>a3c11e96e033f4a66648cc7948e42f4c</td>\n      <td>[0.73]</td>\n      <td>0.73</td>\n      <td>[]</td>\n      <td>None</td>\n      <td>None</td>\n      <td>Idle</td>\n    </tr>\n    <tr>\n      <th>97</th>\n      <td>Volvo</td>\n      <td>XC40</td>\n      <td>PHEV</td>\n      <td>78.0</td>\n      <td>0.9</td>\n      <td>0.9</td>\n      <td>0.176</td>\n      <td>0.7</td>\n      <td>1.0</td>\n      <td>0.05</td>\n      <td>2380d8f7aa42cb12e84dc769ceeb1334</td>\n      <td>[0.94]</td>\n      <td>0.94</td>\n      <td>[]</td>\n      <td>None</td>\n      <td>None</td>\n      <td>Idle</td>\n    </tr>\n    <tr>\n      <th>98</th>\n      <td>Nissan</td>\n      <td>Leaf</td>\n      <td>BEV</td>\n      <td>59.0</td>\n      <td>0.9</td>\n      <td>0.9</td>\n      <td>0.170</td>\n      <td>0.7</td>\n      <td>1.0</td>\n      <td>0.16</td>\n      <td>2c45fed0687ab5b348a15ab5bc0770f4</td>\n      <td>[0.84]</td>\n      <td>0.84</td>\n      <td>[]</td>\n      <td>None</td>\n      <td>None</td>\n      <td>Idle</td>\n    </tr>\n    <tr>\n      <th>99</th>\n      <td>BMW</td>\n      <td>530e</td>\n      <td>PHEV</td>\n      <td>70.2</td>\n      <td>0.9</td>\n      <td>0.9</td>\n      <td>0.160</td>\n      <td>0.7</td>\n      <td>1.0</td>\n      <td>0.08</td>\n      <td>3495277e98166345d686cd2687f9b875</td>\n      <td>[0.74]</td>\n      <td>0.74</td>\n      <td>[]</td>\n      <td>None</td>\n      <td>None</td>\n      <td>Idle</td>\n    </tr>\n  </tbody>\n</table>\n<p>100 rows × 17 columns</p>\n</div>"
     },
     "execution_count": 218,
     "metadata": {},
     "output_type": "execute_result"
    }
   ],
   "source": [
    "# Print the population\n",
    "aggregator.population_dataframe()"
   ],
   "metadata": {
    "collapsed": false,
    "pycharm": {
     "name": "#%%\n"
    }
   }
  },
  {
   "cell_type": "code",
   "execution_count": 219,
   "outputs": [
    {
     "data": {
      "text/plain": "       brand     model battery_type  battery_size  charging_efficiency  \\\n0     Jaguar    I-Pace          BEV          85.0                  0.9   \n1     Jaguar    I-Pace          BEV          85.0                  0.9   \n2     Jaguar    I-Pace          BEV          85.0                  0.9   \n3    Renault       Zoe          BEV          52.0                  0.9   \n4    Peugeot  e-Expert          BEV          68.0                  0.9   \n..       ...       ...          ...           ...                  ...   \n95  Mercedes      E300         PHEV          13.5                  0.9   \n96  Mercedes      E300         PHEV          13.5                  0.9   \n97  Mercedes      E300         PHEV          13.5                  0.9   \n98  Mercedes      E300         PHEV          13.5                  0.9   \n99  Mercedes      E300         PHEV          13.5                  0.9   \n\n    discharging_efficiency  energy_per_km  soc_min  soc_max  \\\n0                      0.9           0.22      0.7      1.0   \n1                      0.9           0.22      0.7      1.0   \n2                      0.9           0.22      0.7      1.0   \n3                      0.9           0.17      0.7      1.0   \n4                      0.9           0.26      0.7      1.0   \n..                     ...            ...      ...      ...   \n95                     0.9           0.18      0.7      1.0   \n96                     0.9           0.18      0.7      1.0   \n97                     0.9           0.18      0.7      1.0   \n98                     0.9           0.18      0.7      1.0   \n99                     0.9           0.18      0.7      1.0   \n\n    probability_in_population                             ev_id     soc  \\\n0                        0.09  00a9532144baae4e52f3dea76c071adf  [0.81]   \n1                        0.09  fe94393dc9512a85967fc34b49e31c0f  [0.83]   \n2                        0.09  01314021e7733facb3f31679af357eb5  [0.75]   \n3                        0.10  8bfb4af64f17fd425d3731d798b82359  [0.88]   \n4                        0.10  5aae9c122b22213d70da376cb4d29dbf  [0.88]   \n..                        ...                               ...     ...   \n95                       0.08  927f1dcd8cd90a590ef2d1636e53f93c  [0.79]   \n96                       0.08  3a661242f82ef9c01372b20f29f4945a  [0.84]   \n97                       0.08  f47a775ed08550fbaa870a22cbee1474  [0.88]   \n98                       0.08  978ec4d8c9ca85d55948cf4a6f61f1ab  [0.88]   \n99                       0.08  7c79d3b83b6f382bc2c4ef9129d7050c  [0.88]   \n\n    current_soc                                              trips  \\\n0          0.81  [Trip length: 295.39 km, trip start time: 08:0...   \n1          0.83  [Trip length: 261.49 km, trip start time: 07:5...   \n2          0.75  [Trip length: 257.1 km, trip start time: 07:37...   \n3          0.88  [Trip length: 222.57 km, trip start time: 08:0...   \n4          0.88  [Trip length: 199.39 km, trip start time: 07:0...   \n..          ...                                                ...   \n95         0.79  [Trip length: 0.11 km, trip start time: 07:37:...   \n96         0.84  [Trip length: 0.09 km, trip start time: 08:28:...   \n97         0.88  [Trip length: 0.05 km, trip start time: 08:35:...   \n98         0.88  [Trip length: 0.01 km, trip start time: 07:36:...   \n99         0.88  [Trip length: 0.0 km, trip start time: 08:59:0...   \n\n   current_trip current_charging_station driving_status  \n0          None                     None           Idle  \n1          None                     None           Idle  \n2          None                     None           Idle  \n3          None                     None           Idle  \n4          None                     None           Idle  \n..          ...                      ...            ...  \n95         None                     None           Idle  \n96         None                     None           Idle  \n97         None                     None           Idle  \n98         None                     None           Idle  \n99         None                     None           Idle  \n\n[100 rows x 17 columns]",
      "text/html": "<div>\n<style scoped>\n    .dataframe tbody tr th:only-of-type {\n        vertical-align: middle;\n    }\n\n    .dataframe tbody tr th {\n        vertical-align: top;\n    }\n\n    .dataframe thead th {\n        text-align: right;\n    }\n</style>\n<table border=\"1\" class=\"dataframe\">\n  <thead>\n    <tr style=\"text-align: right;\">\n      <th></th>\n      <th>brand</th>\n      <th>model</th>\n      <th>battery_type</th>\n      <th>battery_size</th>\n      <th>charging_efficiency</th>\n      <th>discharging_efficiency</th>\n      <th>energy_per_km</th>\n      <th>soc_min</th>\n      <th>soc_max</th>\n      <th>probability_in_population</th>\n      <th>ev_id</th>\n      <th>soc</th>\n      <th>current_soc</th>\n      <th>trips</th>\n      <th>current_trip</th>\n      <th>current_charging_station</th>\n      <th>driving_status</th>\n    </tr>\n  </thead>\n  <tbody>\n    <tr>\n      <th>0</th>\n      <td>Jaguar</td>\n      <td>I-Pace</td>\n      <td>BEV</td>\n      <td>85.0</td>\n      <td>0.9</td>\n      <td>0.9</td>\n      <td>0.22</td>\n      <td>0.7</td>\n      <td>1.0</td>\n      <td>0.09</td>\n      <td>00a9532144baae4e52f3dea76c071adf</td>\n      <td>[0.81]</td>\n      <td>0.81</td>\n      <td>[Trip length: 295.39 km, trip start time: 08:0...</td>\n      <td>None</td>\n      <td>None</td>\n      <td>Idle</td>\n    </tr>\n    <tr>\n      <th>1</th>\n      <td>Jaguar</td>\n      <td>I-Pace</td>\n      <td>BEV</td>\n      <td>85.0</td>\n      <td>0.9</td>\n      <td>0.9</td>\n      <td>0.22</td>\n      <td>0.7</td>\n      <td>1.0</td>\n      <td>0.09</td>\n      <td>fe94393dc9512a85967fc34b49e31c0f</td>\n      <td>[0.83]</td>\n      <td>0.83</td>\n      <td>[Trip length: 261.49 km, trip start time: 07:5...</td>\n      <td>None</td>\n      <td>None</td>\n      <td>Idle</td>\n    </tr>\n    <tr>\n      <th>2</th>\n      <td>Jaguar</td>\n      <td>I-Pace</td>\n      <td>BEV</td>\n      <td>85.0</td>\n      <td>0.9</td>\n      <td>0.9</td>\n      <td>0.22</td>\n      <td>0.7</td>\n      <td>1.0</td>\n      <td>0.09</td>\n      <td>01314021e7733facb3f31679af357eb5</td>\n      <td>[0.75]</td>\n      <td>0.75</td>\n      <td>[Trip length: 257.1 km, trip start time: 07:37...</td>\n      <td>None</td>\n      <td>None</td>\n      <td>Idle</td>\n    </tr>\n    <tr>\n      <th>3</th>\n      <td>Renault</td>\n      <td>Zoe</td>\n      <td>BEV</td>\n      <td>52.0</td>\n      <td>0.9</td>\n      <td>0.9</td>\n      <td>0.17</td>\n      <td>0.7</td>\n      <td>1.0</td>\n      <td>0.10</td>\n      <td>8bfb4af64f17fd425d3731d798b82359</td>\n      <td>[0.88]</td>\n      <td>0.88</td>\n      <td>[Trip length: 222.57 km, trip start time: 08:0...</td>\n      <td>None</td>\n      <td>None</td>\n      <td>Idle</td>\n    </tr>\n    <tr>\n      <th>4</th>\n      <td>Peugeot</td>\n      <td>e-Expert</td>\n      <td>BEV</td>\n      <td>68.0</td>\n      <td>0.9</td>\n      <td>0.9</td>\n      <td>0.26</td>\n      <td>0.7</td>\n      <td>1.0</td>\n      <td>0.10</td>\n      <td>5aae9c122b22213d70da376cb4d29dbf</td>\n      <td>[0.88]</td>\n      <td>0.88</td>\n      <td>[Trip length: 199.39 km, trip start time: 07:0...</td>\n      <td>None</td>\n      <td>None</td>\n      <td>Idle</td>\n    </tr>\n    <tr>\n      <th>...</th>\n      <td>...</td>\n      <td>...</td>\n      <td>...</td>\n      <td>...</td>\n      <td>...</td>\n      <td>...</td>\n      <td>...</td>\n      <td>...</td>\n      <td>...</td>\n      <td>...</td>\n      <td>...</td>\n      <td>...</td>\n      <td>...</td>\n      <td>...</td>\n      <td>...</td>\n      <td>...</td>\n      <td>...</td>\n    </tr>\n    <tr>\n      <th>95</th>\n      <td>Mercedes</td>\n      <td>E300</td>\n      <td>PHEV</td>\n      <td>13.5</td>\n      <td>0.9</td>\n      <td>0.9</td>\n      <td>0.18</td>\n      <td>0.7</td>\n      <td>1.0</td>\n      <td>0.08</td>\n      <td>927f1dcd8cd90a590ef2d1636e53f93c</td>\n      <td>[0.79]</td>\n      <td>0.79</td>\n      <td>[Trip length: 0.11 km, trip start time: 07:37:...</td>\n      <td>None</td>\n      <td>None</td>\n      <td>Idle</td>\n    </tr>\n    <tr>\n      <th>96</th>\n      <td>Mercedes</td>\n      <td>E300</td>\n      <td>PHEV</td>\n      <td>13.5</td>\n      <td>0.9</td>\n      <td>0.9</td>\n      <td>0.18</td>\n      <td>0.7</td>\n      <td>1.0</td>\n      <td>0.08</td>\n      <td>3a661242f82ef9c01372b20f29f4945a</td>\n      <td>[0.84]</td>\n      <td>0.84</td>\n      <td>[Trip length: 0.09 km, trip start time: 08:28:...</td>\n      <td>None</td>\n      <td>None</td>\n      <td>Idle</td>\n    </tr>\n    <tr>\n      <th>97</th>\n      <td>Mercedes</td>\n      <td>E300</td>\n      <td>PHEV</td>\n      <td>13.5</td>\n      <td>0.9</td>\n      <td>0.9</td>\n      <td>0.18</td>\n      <td>0.7</td>\n      <td>1.0</td>\n      <td>0.08</td>\n      <td>f47a775ed08550fbaa870a22cbee1474</td>\n      <td>[0.88]</td>\n      <td>0.88</td>\n      <td>[Trip length: 0.05 km, trip start time: 08:35:...</td>\n      <td>None</td>\n      <td>None</td>\n      <td>Idle</td>\n    </tr>\n    <tr>\n      <th>98</th>\n      <td>Mercedes</td>\n      <td>E300</td>\n      <td>PHEV</td>\n      <td>13.5</td>\n      <td>0.9</td>\n      <td>0.9</td>\n      <td>0.18</td>\n      <td>0.7</td>\n      <td>1.0</td>\n      <td>0.08</td>\n      <td>978ec4d8c9ca85d55948cf4a6f61f1ab</td>\n      <td>[0.88]</td>\n      <td>0.88</td>\n      <td>[Trip length: 0.01 km, trip start time: 07:36:...</td>\n      <td>None</td>\n      <td>None</td>\n      <td>Idle</td>\n    </tr>\n    <tr>\n      <th>99</th>\n      <td>Mercedes</td>\n      <td>E300</td>\n      <td>PHEV</td>\n      <td>13.5</td>\n      <td>0.9</td>\n      <td>0.9</td>\n      <td>0.18</td>\n      <td>0.7</td>\n      <td>1.0</td>\n      <td>0.08</td>\n      <td>7c79d3b83b6f382bc2c4ef9129d7050c</td>\n      <td>[0.88]</td>\n      <td>0.88</td>\n      <td>[Trip length: 0.0 km, trip start time: 08:59:0...</td>\n      <td>None</td>\n      <td>None</td>\n      <td>Idle</td>\n    </tr>\n  </tbody>\n</table>\n<p>100 rows × 17 columns</p>\n</div>"
     },
     "execution_count": 219,
     "metadata": {},
     "output_type": "execute_result"
    }
   ],
   "source": [
    "# Print the assigned EVs\n",
    "\n",
    "aggregator.assigned_evs_dataframe()"
   ],
   "metadata": {
    "collapsed": false,
    "pycharm": {
     "name": "#%%\n"
    }
   }
  },
  {
   "cell_type": "code",
   "execution_count": 220,
   "outputs": [
    {
     "data": {
      "text/plain": "    trip_length\n0         10.22\n1          0.43\n2         20.72\n3         97.02\n4          6.59\n..          ...\n95        42.65\n96       156.44\n97         1.43\n98        15.70\n99        82.64\n\n[100 rows x 1 columns]",
      "text/html": "<div>\n<style scoped>\n    .dataframe tbody tr th:only-of-type {\n        vertical-align: middle;\n    }\n\n    .dataframe tbody tr th {\n        vertical-align: top;\n    }\n\n    .dataframe thead th {\n        text-align: right;\n    }\n</style>\n<table border=\"1\" class=\"dataframe\">\n  <thead>\n    <tr style=\"text-align: right;\">\n      <th></th>\n      <th>trip_length</th>\n    </tr>\n  </thead>\n  <tbody>\n    <tr>\n      <th>0</th>\n      <td>10.22</td>\n    </tr>\n    <tr>\n      <th>1</th>\n      <td>0.43</td>\n    </tr>\n    <tr>\n      <th>2</th>\n      <td>20.72</td>\n    </tr>\n    <tr>\n      <th>3</th>\n      <td>97.02</td>\n    </tr>\n    <tr>\n      <th>4</th>\n      <td>6.59</td>\n    </tr>\n    <tr>\n      <th>...</th>\n      <td>...</td>\n    </tr>\n    <tr>\n      <th>95</th>\n      <td>42.65</td>\n    </tr>\n    <tr>\n      <th>96</th>\n      <td>156.44</td>\n    </tr>\n    <tr>\n      <th>97</th>\n      <td>1.43</td>\n    </tr>\n    <tr>\n      <th>98</th>\n      <td>15.70</td>\n    </tr>\n    <tr>\n      <th>99</th>\n      <td>82.64</td>\n    </tr>\n  </tbody>\n</table>\n<p>100 rows × 1 columns</p>\n</div>"
     },
     "execution_count": 220,
     "metadata": {},
     "output_type": "execute_result"
    }
   ],
   "source": [
    "# Print the trips\n",
    "\n",
    "aggregator.assigned_trips_dataframe()"
   ],
   "metadata": {
    "collapsed": false,
    "pycharm": {
     "name": "#%%\n"
    }
   }
  },
  {
   "cell_type": "code",
   "execution_count": 221,
   "outputs": [
    {
     "data": {
      "text/plain": "     trip_length trip_start_time trip_end_time trip_duration  \\\n0         295.39        08:01:00      10:58:00      02:56:00   \n1         261.49        07:59:00      10:37:00      02:37:00   \n2         257.10        07:37:00      10:13:00      02:35:00   \n3         222.57        08:00:00      10:14:00      02:14:00   \n4         199.39        07:03:00      09:04:00      02:00:00   \n..           ...             ...           ...           ...   \n179         0.05        16:09:00      16:09:00      00:00:00   \n180         0.01        07:36:00      07:36:00      00:00:00   \n181         0.01        16:55:00      16:55:00      00:00:00   \n182         0.00        08:59:00      08:59:00      00:00:00   \n183         0.00        18:13:00      18:13:00      00:00:00   \n\n                                       ev                             ev_id  \\\n0       Jaguar I-Pace with 85 kWh battery  00a9532144baae4e52f3dea76c071adf   \n1       Jaguar I-Pace with 85 kWh battery  fe94393dc9512a85967fc34b49e31c0f   \n2       Jaguar I-Pace with 85 kWh battery  01314021e7733facb3f31679af357eb5   \n3         Renault Zoe with 52 kWh battery  8bfb4af64f17fd425d3731d798b82359   \n4    Peugeot e-Expert with 68 kWh battery  5aae9c122b22213d70da376cb4d29dbf   \n..                                    ...                               ...   \n179   Mercedes E300 with 13.5 kWh battery  f47a775ed08550fbaa870a22cbee1474   \n180   Mercedes E300 with 13.5 kWh battery  978ec4d8c9ca85d55948cf4a6f61f1ab   \n181   Mercedes E300 with 13.5 kWh battery  978ec4d8c9ca85d55948cf4a6f61f1ab   \n182   Mercedes E300 with 13.5 kWh battery  7c79d3b83b6f382bc2c4ef9129d7050c   \n183   Mercedes E300 with 13.5 kWh battery  7c79d3b83b6f382bc2c4ef9129d7050c   \n\n     trip_speed  trip_energy_consumption  trip_required_soc  \\\n0    100.215926                  64.9858           0.764539   \n1     99.381199                  57.5278           0.676798   \n2     99.056912                  56.5620           0.665435   \n3     99.585495                  37.8369           0.727633   \n4     99.065389                  51.8414           0.762374   \n..          ...                      ...                ...   \n179   59.368586                   0.0090           0.000667   \n180   60.637110                   0.0018           0.000133   \n181   60.586781                   0.0018           0.000133   \n182   60.366791                   0.0000           0.000000   \n183   60.307150                   0.0000           0.000000   \n\n    covered_trip_length  ev_battery_size trip_stops trip_estimate_arrival  \\\n0                  None             85.0         []              10:58:00   \n1                  None             85.0         []              10:37:00   \n2                  None             85.0         []              10:13:00   \n3                  None             52.0         []              10:14:00   \n4                  None             68.0         []              09:04:00   \n..                  ...              ...        ...                   ...   \n179                None             13.5         []              16:09:00   \n180                None             13.5         []              07:36:00   \n181                None             13.5         []              16:55:00   \n182                None             13.5         []              08:59:00   \n183                None             13.5         []              18:13:00   \n\n                    profile  trip_status  \n0            N:Work, T:Long  Not started  \n1            N:Work, T:Long  Not started  \n2            N:Work, T:Long  Not started  \n3            N:Work, T:Long  Not started  \n4            N:Work, T:Long  Not started  \n..                      ...          ...  \n179  N:Residential, T:Short  Not started  \n180  N:Residential, T:Short  Not started  \n181  N:Residential, T:Short  Not started  \n182     N:Shopping, T:Short  Not started  \n183     N:Shopping, T:Short  Not started  \n\n[184 rows x 15 columns]",
      "text/html": "<div>\n<style scoped>\n    .dataframe tbody tr th:only-of-type {\n        vertical-align: middle;\n    }\n\n    .dataframe tbody tr th {\n        vertical-align: top;\n    }\n\n    .dataframe thead th {\n        text-align: right;\n    }\n</style>\n<table border=\"1\" class=\"dataframe\">\n  <thead>\n    <tr style=\"text-align: right;\">\n      <th></th>\n      <th>trip_length</th>\n      <th>trip_start_time</th>\n      <th>trip_end_time</th>\n      <th>trip_duration</th>\n      <th>ev</th>\n      <th>ev_id</th>\n      <th>trip_speed</th>\n      <th>trip_energy_consumption</th>\n      <th>trip_required_soc</th>\n      <th>covered_trip_length</th>\n      <th>ev_battery_size</th>\n      <th>trip_stops</th>\n      <th>trip_estimate_arrival</th>\n      <th>profile</th>\n      <th>trip_status</th>\n    </tr>\n  </thead>\n  <tbody>\n    <tr>\n      <th>0</th>\n      <td>295.39</td>\n      <td>08:01:00</td>\n      <td>10:58:00</td>\n      <td>02:56:00</td>\n      <td>Jaguar I-Pace with 85 kWh battery</td>\n      <td>00a9532144baae4e52f3dea76c071adf</td>\n      <td>100.215926</td>\n      <td>64.9858</td>\n      <td>0.764539</td>\n      <td>None</td>\n      <td>85.0</td>\n      <td>[]</td>\n      <td>10:58:00</td>\n      <td>N:Work, T:Long</td>\n      <td>Not started</td>\n    </tr>\n    <tr>\n      <th>1</th>\n      <td>261.49</td>\n      <td>07:59:00</td>\n      <td>10:37:00</td>\n      <td>02:37:00</td>\n      <td>Jaguar I-Pace with 85 kWh battery</td>\n      <td>fe94393dc9512a85967fc34b49e31c0f</td>\n      <td>99.381199</td>\n      <td>57.5278</td>\n      <td>0.676798</td>\n      <td>None</td>\n      <td>85.0</td>\n      <td>[]</td>\n      <td>10:37:00</td>\n      <td>N:Work, T:Long</td>\n      <td>Not started</td>\n    </tr>\n    <tr>\n      <th>2</th>\n      <td>257.10</td>\n      <td>07:37:00</td>\n      <td>10:13:00</td>\n      <td>02:35:00</td>\n      <td>Jaguar I-Pace with 85 kWh battery</td>\n      <td>01314021e7733facb3f31679af357eb5</td>\n      <td>99.056912</td>\n      <td>56.5620</td>\n      <td>0.665435</td>\n      <td>None</td>\n      <td>85.0</td>\n      <td>[]</td>\n      <td>10:13:00</td>\n      <td>N:Work, T:Long</td>\n      <td>Not started</td>\n    </tr>\n    <tr>\n      <th>3</th>\n      <td>222.57</td>\n      <td>08:00:00</td>\n      <td>10:14:00</td>\n      <td>02:14:00</td>\n      <td>Renault Zoe with 52 kWh battery</td>\n      <td>8bfb4af64f17fd425d3731d798b82359</td>\n      <td>99.585495</td>\n      <td>37.8369</td>\n      <td>0.727633</td>\n      <td>None</td>\n      <td>52.0</td>\n      <td>[]</td>\n      <td>10:14:00</td>\n      <td>N:Work, T:Long</td>\n      <td>Not started</td>\n    </tr>\n    <tr>\n      <th>4</th>\n      <td>199.39</td>\n      <td>07:03:00</td>\n      <td>09:04:00</td>\n      <td>02:00:00</td>\n      <td>Peugeot e-Expert with 68 kWh battery</td>\n      <td>5aae9c122b22213d70da376cb4d29dbf</td>\n      <td>99.065389</td>\n      <td>51.8414</td>\n      <td>0.762374</td>\n      <td>None</td>\n      <td>68.0</td>\n      <td>[]</td>\n      <td>09:04:00</td>\n      <td>N:Work, T:Long</td>\n      <td>Not started</td>\n    </tr>\n    <tr>\n      <th>...</th>\n      <td>...</td>\n      <td>...</td>\n      <td>...</td>\n      <td>...</td>\n      <td>...</td>\n      <td>...</td>\n      <td>...</td>\n      <td>...</td>\n      <td>...</td>\n      <td>...</td>\n      <td>...</td>\n      <td>...</td>\n      <td>...</td>\n      <td>...</td>\n      <td>...</td>\n    </tr>\n    <tr>\n      <th>179</th>\n      <td>0.05</td>\n      <td>16:09:00</td>\n      <td>16:09:00</td>\n      <td>00:00:00</td>\n      <td>Mercedes E300 with 13.5 kWh battery</td>\n      <td>f47a775ed08550fbaa870a22cbee1474</td>\n      <td>59.368586</td>\n      <td>0.0090</td>\n      <td>0.000667</td>\n      <td>None</td>\n      <td>13.5</td>\n      <td>[]</td>\n      <td>16:09:00</td>\n      <td>N:Residential, T:Short</td>\n      <td>Not started</td>\n    </tr>\n    <tr>\n      <th>180</th>\n      <td>0.01</td>\n      <td>07:36:00</td>\n      <td>07:36:00</td>\n      <td>00:00:00</td>\n      <td>Mercedes E300 with 13.5 kWh battery</td>\n      <td>978ec4d8c9ca85d55948cf4a6f61f1ab</td>\n      <td>60.637110</td>\n      <td>0.0018</td>\n      <td>0.000133</td>\n      <td>None</td>\n      <td>13.5</td>\n      <td>[]</td>\n      <td>07:36:00</td>\n      <td>N:Residential, T:Short</td>\n      <td>Not started</td>\n    </tr>\n    <tr>\n      <th>181</th>\n      <td>0.01</td>\n      <td>16:55:00</td>\n      <td>16:55:00</td>\n      <td>00:00:00</td>\n      <td>Mercedes E300 with 13.5 kWh battery</td>\n      <td>978ec4d8c9ca85d55948cf4a6f61f1ab</td>\n      <td>60.586781</td>\n      <td>0.0018</td>\n      <td>0.000133</td>\n      <td>None</td>\n      <td>13.5</td>\n      <td>[]</td>\n      <td>16:55:00</td>\n      <td>N:Residential, T:Short</td>\n      <td>Not started</td>\n    </tr>\n    <tr>\n      <th>182</th>\n      <td>0.00</td>\n      <td>08:59:00</td>\n      <td>08:59:00</td>\n      <td>00:00:00</td>\n      <td>Mercedes E300 with 13.5 kWh battery</td>\n      <td>7c79d3b83b6f382bc2c4ef9129d7050c</td>\n      <td>60.366791</td>\n      <td>0.0000</td>\n      <td>0.000000</td>\n      <td>None</td>\n      <td>13.5</td>\n      <td>[]</td>\n      <td>08:59:00</td>\n      <td>N:Shopping, T:Short</td>\n      <td>Not started</td>\n    </tr>\n    <tr>\n      <th>183</th>\n      <td>0.00</td>\n      <td>18:13:00</td>\n      <td>18:13:00</td>\n      <td>00:00:00</td>\n      <td>Mercedes E300 with 13.5 kWh battery</td>\n      <td>7c79d3b83b6f382bc2c4ef9129d7050c</td>\n      <td>60.307150</td>\n      <td>0.0000</td>\n      <td>0.000000</td>\n      <td>None</td>\n      <td>13.5</td>\n      <td>[]</td>\n      <td>18:13:00</td>\n      <td>N:Shopping, T:Short</td>\n      <td>Not started</td>\n    </tr>\n  </tbody>\n</table>\n<p>184 rows × 15 columns</p>\n</div>"
     },
     "execution_count": 221,
     "metadata": {},
     "output_type": "execute_result"
    }
   ],
   "source": [
    "# Print trip segments\n",
    "\n",
    "aggregator.assigned_segments_dataframe()"
   ],
   "metadata": {
    "collapsed": false,
    "pycharm": {
     "name": "#%%\n"
    }
   }
  },
  {
   "cell_type": "code",
   "execution_count": 222,
   "outputs": [
    {
     "data": {
      "text/plain": "<Figure size 640x480 with 1 Axes>",
      "image/png": "[encoded data removed]"
     },
     "metadata": {},
     "output_type": "display_data"
    }
   ],
   "source": [
    "# Plot the population brand in a pie chart\n",
    "\n",
    "# Values of each group\n",
    "brand_values = aggregator.population_dataframe()['brand'].value_counts()\n",
    "plt.pie(brand_values, labels=brand_values.index, autopct='%1.1f%%')\n",
    "\n",
    "# View the plot\n",
    "plt.axis('equal')\n",
    "plt.show()"
   ],
   "metadata": {
    "collapsed": false,
    "pycharm": {
     "name": "#%%\n"
    }
   }
  },
  {
   "cell_type": "code",
   "execution_count": 223,
   "outputs": [
    {
     "data": {
      "text/plain": "<Figure size 640x480 with 1 Axes>",
      "image/png": "[encoded data removed]"
     },
     "metadata": {},
     "output_type": "display_data"
    }
   ],
   "source": [
    "# Plot the trip distances in a histogram\n",
    "plt.hist(aggregator.assigned_trips_dataframe()['trip_length'], bins=40)\n",
    "plt.show()"
   ],
   "metadata": {
    "collapsed": false,
    "pycharm": {
     "name": "#%%\n"
    }
   }
  },
  {
   "cell_type": "code",
   "execution_count": 224,
   "outputs": [
    {
     "data": {
      "text/plain": "<Figure size 640x480 with 1 Axes>",
      "image/png": "[encoded data removed]"
     },
     "metadata": {},
     "output_type": "display_data"
    }
   ],
   "source": [
    "# Plot the segment distances in a histogram\n",
    "plt.hist(aggregator.assigned_segments_dataframe()['trip_length'], bins=20)\n",
    "plt.show()"
   ],
   "metadata": {
    "collapsed": false,
    "pycharm": {
     "name": "#%%\n"
    }
   }
  },
  {
   "cell_type": "code",
   "execution_count": 225,
   "outputs": [
    {
     "data": {
      "text/plain": "44.475"
     },
     "execution_count": 225,
     "metadata": {},
     "output_type": "execute_result"
    }
   ],
   "source": [
    "aggregator.assigned_trips_dataframe()['trip_length'].mean()"
   ],
   "metadata": {
    "collapsed": false,
    "pycharm": {
     "name": "#%%\n"
    }
   }
  },
  {
   "cell_type": "code",
   "execution_count": null,
   "outputs": [],
   "source": [],
   "metadata": {
    "collapsed": false,
    "pycharm": {
     "name": "#%%\n"
    }
   }
  }
 ],
 "metadata": {
  "kernelspec": {
   "display_name": "Python 3",
   "language": "python",
   "name": "python3"
  },
  "language_info": {
   "codemirror_mode": {
    "name": "ipython",
    "version": 2
   },
   "file_extension": ".py",
   "mimetype": "text/x-python",
   "name": "python",
   "nbconvert_exporter": "python",
   "pygments_lexer": "ipython2",
   "version": "2.7.6"
  }
 },
 "nbformat": 4,
 "nbformat_minor": 0
}