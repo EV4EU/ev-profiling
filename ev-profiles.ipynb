{
 "cells": [
  {
   "cell_type": "code",
   "execution_count": 1,
   "outputs": [],
   "source": [
    "# Imports\n",
    "\n",
    "import numpy as np\n",
    "import pandas as pd\n",
    "import matplotlib.pyplot as plt\n",
    "import secrets\n",
    "import datetime\n",
    "import tqdm.notebook as tqdm"
   ],
   "metadata": {
    "collapsed": false,
    "pycharm": {
     "name": "#%%\n"
    }
   }
  },
  {
   "cell_type": "code",
   "execution_count": 2,
   "outputs": [],
   "source": [
    "# Create an EV class with the following attributes:\n",
    "# - Brand\n",
    "# - Model\n",
    "# - Battery type\n",
    "# - Battery size\n",
    "# - Charging Efficiency\n",
    "# - Discharging Efficiency\n",
    "# - Energy per km\n",
    "# - SOC min\n",
    "# - SOC max\n",
    "# - Probability in population - this is the probability that a car of this type will be chosen from the population\n",
    "\n",
    "class EV:\n",
    "    def __init__(self, brand, model, battery_type, battery_size, charging_efficiency, discharging_efficiency, energy_per_km, soc_min, soc_max, probability_in_population):\n",
    "        self.brand = brand\n",
    "        self.model = model\n",
    "        self.battery_type = battery_type\n",
    "        self.battery_size = battery_size\n",
    "        self.charging_efficiency = charging_efficiency if charging_efficiency <= 1 or charging_efficiency >= 0 else 0.9\n",
    "        self.discharging_efficiency = discharging_efficiency if discharging_efficiency <= 1 or discharging_efficiency >= 0 else 0.9\n",
    "        self.energy_per_km = energy_per_km\n",
    "        self.soc_min = soc_min if soc_min >= 0.0 else 0.0\n",
    "        self.soc_max = soc_max if soc_max <= 1.0 else 1.0\n",
    "        self.probability_in_population = probability_in_population if probability_in_population <= 1.0 else 1.0\n",
    "\n",
    "\n",
    "# Extend the class to create drivable EVs\n",
    "class DrivableEV(EV):\n",
    "\n",
    "    # __init__ method is inherited from EV class, extended with the state of charge. Creates the following attributes:\n",
    "    # - State of Charge\n",
    "    # - List of trips\n",
    "    # - Current trip\n",
    "    def __init__(self, brand, model, battery_type, battery_size, charging_efficiency, discharging_efficiency, energy_per_km, soc_min, soc_max, probability_in_population, initial_soc=None, stopping_soc=None):\n",
    "        super().__init__(brand, model, battery_type, battery_size, charging_efficiency, discharging_efficiency, energy_per_km, soc_min, soc_max, probability_in_population)\n",
    "\n",
    "        # EV ID\n",
    "        self.ev_id = secrets.token_hex(16)\n",
    "\n",
    "        # SOC variables\n",
    "        self.soc = [initial_soc]\n",
    "        self.current_soc = initial_soc\n",
    "        # Attribute a random SOC to stop the EV if none is provided\n",
    "        self.stopping_soc = stopping_soc if stopping_soc is not None else np.random.uniform(0.2, 0.3, 1)[0]\n",
    "\n",
    "        # List of trips and current trip\n",
    "        self.trips = []\n",
    "        self.split_trips = []\n",
    "\n",
    "        # User profile\n",
    "        self.user_profile = None\n",
    "\n",
    "        # Placeholder for the charging station pools that the EV will use\n",
    "        self.default_charging_stations_pool = None\n",
    "        self.segment_charging_stations_pool = None\n",
    "\n",
    "        # Placeholder for the charging station that the EV will use\n",
    "        self.default_charging_station = None\n",
    "        self.segment_charging_station = None\n",
    "\n",
    "        # Create a list of charging stations\n",
    "        self.charging_stations_list = []\n",
    "\n",
    "        # Number of stops\n",
    "        self.number_of_stops = 0\n",
    "\n",
    "        # Charging times\n",
    "        self.charging_start_time = []\n",
    "        self.charging_end_time = []\n",
    "        self.charging_type = []\n",
    "        self.charging_power = []\n",
    "        self.charging_start_soc = []\n",
    "        self.charging_end_soc = []\n",
    "\n",
    "        # Driving Logs\n",
    "        self.driving_start_time = []\n",
    "        self.driving_end_time = []\n",
    "        self.driving_start_soc = []\n",
    "        self.driving_end_soc = []\n",
    "        self.driving_distance = []\n",
    "        self.driving_energy_consumption = []\n",
    "\n",
    "        # Flexibility logs\n",
    "        self.flexibility_start_time = []\n",
    "        self.flexibility_end_time = []\n",
    "        self.flexibility_type = []\n",
    "        self.flexibility_power = []\n",
    "        self.flexibility_start_soc = []\n",
    "        self.flexibility_end_soc = []\n",
    "\n",
    "\n",
    "    # Format the print\n",
    "    def __repr__(self):\n",
    "        return f\"{self.brand} {self.model} with {self.battery_size} kWh battery\"\n",
    "\n",
    "\n",
    "    # Create a method to add a trip to the EV\n",
    "    def add_trip(self, trip):\n",
    "        self.trips.append(trip)\n",
    "\n",
    "\n",
    "    # Create a method to charge the EV\n",
    "    def charge(self, charge_amount):\n",
    "        self.current_soc += charge_amount * self.charging_efficiency\n",
    "\n",
    "        if self.current_soc > 1.0:\n",
    "            self.current_soc = 1.0\n",
    "\n",
    "        self.soc.append(self.current_soc)\n",
    "\n",
    "\n",
    "    # Create a method to charge the EV to a certain SOC. This is used for the segment charging and outputs the amount of energy charged and time taken to charge\n",
    "    def charge_to_soc(self, target_soc, cs_charging_power, cs_charging_efficiency, charge_ev=True):\n",
    "        # Calculate the amount of energy needed to charge the EV\n",
    "        energy_needed = (target_soc - self.current_soc) * self.battery_size if target_soc > self.current_soc else 0.0\n",
    "\n",
    "        cs_charging_efficiency = min(cs_charging_efficiency, self.charging_efficiency)\n",
    "\n",
    "        # Calculate the time needed to charge the EV\n",
    "        time_needed = energy_needed / (cs_charging_power * cs_charging_efficiency)\n",
    "        time_needed = datetime.timedelta(hours=time_needed)\n",
    "\n",
    "        # Charge the EV\n",
    "        if charge_ev:\n",
    "            self.charge(energy_needed / self.battery_size)\n",
    "\n",
    "        return energy_needed, time_needed\n",
    "\n",
    "\n",
    "    # Create a method to log the charging of the EV\n",
    "    def log_charging(self, charging_start_time, charging_end_time, charging_type, charging_power, charging_start_soc, charging_end_soc):\n",
    "        self.charging_start_time.append(charging_start_time)\n",
    "        self.charging_end_time.append(charging_end_time)\n",
    "        self.charging_type.append(charging_type)\n",
    "        self.charging_power.append(charging_power)\n",
    "        self.charging_start_soc.append(charging_start_soc)\n",
    "        self.charging_end_soc.append(charging_end_soc)\n",
    "\n",
    "\n",
    "    # Create a method to log the flexibility of charge of the EV\n",
    "    def log_flexibility(self, flexibility_start_time, flexibility_end_time, flexibility_type, flexibility_power, flexibility_start_soc, flexibility_end_soc):\n",
    "        self.flexibility_start_time.append(flexibility_start_time)\n",
    "        self.flexibility_end_time.append(flexibility_end_time)\n",
    "        self.flexibility_type.append(flexibility_type)\n",
    "        self.flexibility_power.append(flexibility_power)\n",
    "        self.flexibility_start_soc.append(flexibility_start_soc)\n",
    "        self.flexibility_end_soc.append(flexibility_end_soc)\n",
    "\n",
    "\n",
    "    # Create a method to log the driving of the EV\n",
    "    def log_driving(self, driving_start_time, driving_end_time, driving_start_soc, driving_end_soc, driving_distance, driving_energy_consumption):\n",
    "        self.driving_start_time.append(driving_start_time)\n",
    "        self.driving_end_time.append(driving_end_time)\n",
    "        self.driving_start_soc.append(driving_start_soc)\n",
    "        self.driving_end_soc.append(driving_end_soc)\n",
    "        self.driving_distance.append(driving_distance)\n",
    "        self.driving_energy_consumption.append(driving_energy_consumption)\n",
    "\n",
    "\n",
    "    # Create a method to discharge the EV\n",
    "    def discharge(self, discharge_amount):\n",
    "        self.current_soc -= discharge_amount / self.discharging_efficiency\n",
    "\n",
    "        if self.current_soc < 0:\n",
    "            self.current_soc = 0\n",
    "\n",
    "        self.soc.append(self.current_soc)\n",
    "\n",
    "\n",
    "    # Create a method to assign the allowed charging stations by the profile\n",
    "    def assign_charging_stations(self):\n",
    "\n",
    "        # Check if charging stations were already assigned\n",
    "        if len(self.charging_stations_list) > 0:\n",
    "            return\n",
    "\n",
    "        # Get the charging stations from the profile\n",
    "        allowed_charging_stations = self.trips[0].profile.allowed_charging_stations\n",
    "\n",
    "        # Default stations\n",
    "        self.default_charging_stations_pool = allowed_charging_stations['Default']\n",
    "\n",
    "        # Segment stations\n",
    "        self.segment_charging_stations_pool = allowed_charging_stations['Segment']\n",
    "\n",
    "        # Pick the default charging station\n",
    "        self.default_charging_station = np.random.choice(self.default_charging_stations_pool, 1,\n",
    "                                                         p=[x.charging_station_probability for x in self.default_charging_stations_pool])[0]\n",
    "        self.default_charging_station.ev_id = self.ev_id\n",
    "\n",
    "        # Pick the segment charging station\n",
    "        self.segment_charging_station = np.random.choice(self.segment_charging_stations_pool, 1,\n",
    "                                                         p=[x.charging_station_probability for x in self.segment_charging_stations_pool])[0]\n",
    "        self.segment_charging_station.ev_id = self.ev_id\n",
    "\n",
    "        # Create a list of charging stations\n",
    "        self.charging_stations_list = [self.default_charging_station, self.segment_charging_station]\n",
    "\n",
    "\n",
    "    # Create a method to check necessity of trip splitting and charging\n",
    "    def trip_splitting(self):\n",
    "\n",
    "        # Placeholder for the list of trips\n",
    "        list_split_trips = []\n",
    "\n",
    "        # Placeholder for the current time\n",
    "        current_time = datetime.datetime(2023, 1, 1, 0, 0, 0)\n",
    "\n",
    "        # Check if the profile allows charging during the day\n",
    "        charge_during_day = self.user_profile.charge_during_day\n",
    "        charge_during_night = self.user_profile.charge_during_night\n",
    "        soc_min_tocharge = self.user_profile.soc_min_tocharge\n",
    "\n",
    "        # Check if SOC is below the minimum. If yes, charge the EV to capacity specified on the Profile.\n",
    "        if self.current_soc < self.stopping_soc:\n",
    "\n",
    "            temp_soc = self.current_soc\n",
    "\n",
    "            charge_energy, charge_time = self.charge_to_soc(soc_min_tocharge,\n",
    "                                                            self.default_charging_station.charging_station_power,\n",
    "                                                            self.default_charging_station.charging_station_efficiency)\n",
    "            self.log_charging(current_time, current_time + charge_time,\n",
    "                              self.default_charging_station.charging_station_type,\n",
    "                              self.default_charging_station.charging_station_power,\n",
    "                              temp_soc,\n",
    "                              self.current_soc)\n",
    "\n",
    "            # Update current time\n",
    "            current_time += charge_time\n",
    "\n",
    "        # Loop over the trips\n",
    "        for i in range(len(self.trips)):\n",
    "\n",
    "            trip = self.trips[i]\n",
    "\n",
    "            # Check how much the EV can cover with the current SOC\n",
    "            possible_trip_length = np.round((self.current_soc - self.stopping_soc) * self.battery_size / self.energy_per_km, 2)\n",
    "\n",
    "            # If the trip can be covered, add it to the list\n",
    "            if possible_trip_length >= trip.trip_length:\n",
    "                list_split_trips.append(trip)\n",
    "\n",
    "                # SOC before the trip\n",
    "                temp_soc = self.current_soc\n",
    "\n",
    "                # Discharge the required SOC\n",
    "                self.discharge(trip.trip_required_soc)\n",
    "\n",
    "                # Register driving logs\n",
    "                self.log_driving(trip.trip_start_time, trip.trip_end_time,\n",
    "                                 temp_soc, self.current_soc, trip.trip_length, trip.trip_required_soc)\n",
    "\n",
    "                # Update the current time\n",
    "                current_time = trip.trip_end_time\n",
    "\n",
    "                trip.covered_distance = trip.trip_length\n",
    "\n",
    "            # If the trip cannot be covered, split it\n",
    "            else:\n",
    "\n",
    "                current_covered_distance = 0\n",
    "                current_trip_start_time = trip.trip_start_time\n",
    "\n",
    "                # Loop over the trip\n",
    "                while current_covered_distance < trip.trip_length:\n",
    "\n",
    "                    # Calculate the possible trip length\n",
    "                    possible_trip_length = np.round((self.current_soc - self.stopping_soc) * self.battery_size / self.energy_per_km, 2)\n",
    "\n",
    "                    # Calculate the trip length\n",
    "                    trip_length = min(possible_trip_length, trip.trip_length - current_covered_distance)\n",
    "\n",
    "                    # Calculate the trip duration\n",
    "                    trip_duration = datetime.timedelta(hours=trip_length / trip.trip_speed)\n",
    "\n",
    "                    # Calculate the trip end time\n",
    "                    trip_end_time = current_trip_start_time + trip_duration\n",
    "\n",
    "                    # Create a new trip\n",
    "                    new_trip = DrivableTrip(trip_length, trip.trip_speed,\n",
    "                                            current_trip_start_time, trip_end_time,\n",
    "                                            trip_duration, profile=trip.profile, trip_id=trip.trip_id)\n",
    "                    new_trip.ev = self\n",
    "                    new_trip.ev_id = self.ev_id\n",
    "                    new_trip.trip_energy_consumption = trip_length * self.energy_per_km\n",
    "                    new_trip.trip_required_soc = new_trip.trip_energy_consumption / self.battery_size\n",
    "                    new_trip.assign_ev_battery_size()\n",
    "                    new_trip.covered_trip_length = trip_length\n",
    "\n",
    "\n",
    "                    # Add the trip to the list\n",
    "                    list_split_trips.append(new_trip)\n",
    "\n",
    "                    # SOC before the trip\n",
    "                    temp_soc = self.current_soc\n",
    "\n",
    "                    # Discharge the required SOC\n",
    "                    self.discharge(new_trip.trip_required_soc)\n",
    "\n",
    "                    # Register driving logs\n",
    "                    self.log_driving(new_trip.trip_start_time, new_trip.trip_end_time,\n",
    "                                     temp_soc, self.current_soc, new_trip.trip_length, new_trip.trip_required_soc)\n",
    "\n",
    "                    # Update the current time\n",
    "                    current_time = new_trip.trip_end_time\n",
    "\n",
    "                    # Update the current covered distance\n",
    "                    current_covered_distance += trip_length\n",
    "\n",
    "                    # Charge the EV using a segment charging station\n",
    "                    charge_energy, charge_time = self.charge_to_soc(soc_min_tocharge,\n",
    "                                                                    self.segment_charging_station.charging_station_power,\n",
    "                                                                    self.segment_charging_station.charging_station_efficiency)\n",
    "\n",
    "                    # Register charging logs\n",
    "                    self.log_charging(current_time, current_time + charge_time,\n",
    "                                      self.segment_charging_station.charging_station_type,\n",
    "                                      self.segment_charging_station.charging_station_power,\n",
    "                                      temp_soc,\n",
    "                                      self.current_soc)\n",
    "\n",
    "                    # Update the current time\n",
    "                    current_time += charge_time\n",
    "\n",
    "                    # Update the current trip start time\n",
    "                    current_trip_start_time = current_time\n",
    "\n",
    "                    # Break the loop if the trip is the last one\n",
    "                    if current_covered_distance >= trip.trip_length:\n",
    "                        break\n",
    "\n",
    "            # Check if there are more trips\n",
    "            if i == len(self.trips) - 1:\n",
    "                break\n",
    "\n",
    "            # Check if the next trip is in the same day as this one\n",
    "            if self.trips[i + 1].trip_start_time.day == trip.trip_start_time.day:\n",
    "                # Check if can charge during day\n",
    "                if charge_during_day & (self.current_soc <= soc_min_tocharge):\n",
    "\n",
    "                    # Log the flexibility\n",
    "                    self.log_flexibility(current_time, self.trips[i + 1].trip_start_time,\n",
    "                                         self.default_charging_station.charging_station_type,\n",
    "                                         self.default_charging_station.charging_station_power,\n",
    "                                         0.0,\n",
    "                                         0.0)\n",
    "\n",
    "                    # Get the current soc\n",
    "                    temp_soc = self.current_soc\n",
    "\n",
    "                    # Charge the EV using a segment charging station\n",
    "                    charge_energy, charge_time = self.charge_to_soc(soc_min_tocharge,\n",
    "                                                                    self.default_charging_station.charging_station_power,\n",
    "                                                                    self.default_charging_station.charging_station_efficiency)\n",
    "\n",
    "                    # Register charging logs\n",
    "                    self.log_charging(current_time, current_time + charge_time,\n",
    "                                      self.default_charging_station.charging_station_type,\n",
    "                                      self.default_charging_station.charging_station_power,\n",
    "                                      temp_soc,\n",
    "                                      self.current_soc)\n",
    "\n",
    "                    # Update the current time\n",
    "                    current_time += charge_time\n",
    "\n",
    "            # If the next trip is in the next day, charge the EV using a default charging station\n",
    "            else:\n",
    "                # Check if can charge during night\n",
    "                if charge_during_night & (self.current_soc <= soc_min_tocharge):\n",
    "\n",
    "                    #rint('during night')\n",
    "\n",
    "                    # Log the flexibility\n",
    "                    self.log_flexibility(current_time, self.trips[i + 1].trip_start_time,\n",
    "                                         self.default_charging_station.charging_station_type,\n",
    "                                         self.default_charging_station.charging_station_power,\n",
    "                                         0.0,\n",
    "                                         0.0)\n",
    "\n",
    "                    # Get the current soc\n",
    "                    temp_soc = self.current_soc\n",
    "\n",
    "                    # Charge the EV using a default charging station\n",
    "                    charge_energy, charge_time = self.charge_to_soc(soc_min_tocharge,\n",
    "                                                                    self.default_charging_station.charging_station_power,\n",
    "                                                                    self.default_charging_station.charging_station_efficiency)\n",
    "\n",
    "                    # Register charging logs\n",
    "                    self.log_charging(current_time, current_time + charge_time,\n",
    "                                      self.default_charging_station.charging_station_type,\n",
    "                                      self.default_charging_station.charging_station_power,\n",
    "                                      temp_soc,\n",
    "                                      self.current_soc)\n",
    "\n",
    "                    # Update the current time\n",
    "                    current_time += charge_time\n",
    "\n",
    "        # Update the trips\n",
    "        self.split_trips = list_split_trips\n",
    "\n",
    "\n",
    "    # Assign a profile if none is assigned\n",
    "    def assign_profile(self, profile):\n",
    "        # Check if the profile is already assigned\n",
    "        if self.user_profile is None:\n",
    "            # Assign the profile\n",
    "            self.user_profile = profile\n"
   ],
   "metadata": {
    "collapsed": false,
    "pycharm": {
     "name": "#%%\n"
    }
   }
  },
  {
   "cell_type": "code",
   "execution_count": 3,
   "outputs": [],
   "source": [
    "# Define a Trip class, that will assign a trip to an EV. Has the following parameters:\n",
    "# - EV\n",
    "# - Trip length\n",
    "# - Trip start time (can be a range)\n",
    "# - Trip end time (can be a range)\n",
    "# - Trip start SOC\n",
    "# - Trip end SOC\n",
    "# - Trip energy consumption\n",
    "# - Trip stops\n",
    "\n",
    "class Trip:\n",
    "    def __init__(self, trip_length, trip_start_time, trip_end_time, trip_duration):\n",
    "        self.trip_length = trip_length\n",
    "        self.trip_start_time = trip_start_time\n",
    "        self.trip_end_time = trip_end_time\n",
    "        self.trip_duration = trip_duration\n",
    "\n",
    "\n",
    "class DrivableTrip(Trip):\n",
    "    # Init method is the same as Trip class\n",
    "    def __init__(self, trip_length, trip_speed, trip_start_time, trip_end_time, trip_duration, profile=None, trip_id=None):\n",
    "        super().__init__(trip_length, trip_start_time, trip_end_time, trip_duration)\n",
    "\n",
    "        # Information about EV\n",
    "        self.ev = None\n",
    "        self.ev_id = None\n",
    "\n",
    "        # Information about the trip\n",
    "        self.trip_speed = trip_speed\n",
    "        self.trip_energy_consumption = None\n",
    "        self.trip_required_soc = None\n",
    "        self.ev_battery_size = None\n",
    "        self.trip_estimate_arrival = trip_end_time\n",
    "        self.profile = profile\n",
    "\n",
    "        # Assign a trip ID\n",
    "        self.trip_id = trip_id if trip_id is not None else secrets.token_hex(16)\n",
    "\n",
    "\n",
    "    # Formatted print method\n",
    "    def __repr__(self):\n",
    "        return f'Trip length: {self.trip_length} km, trip start time: {self.trip_start_time}, ' \\\n",
    "               f'trip end time: {self.trip_end_time}, trip energy consumption: {self.trip_energy_consumption} kWh, ' \\\n",
    "               f'trip required SOC: {self.trip_required_soc} %'\n",
    "\n",
    "    # Create a method to calculate the trip energy consumption\n",
    "    def calculate_trip_energy_consumption(self):\n",
    "        self.trip_energy_consumption = self.trip_length * self.ev.energy_per_km\n",
    "\n",
    "\n",
    "    # Create a method to calculate the trip required SOC\n",
    "    def calculate_trip_required_soc(self):\n",
    "        self.trip_required_soc = self.trip_energy_consumption / self.ev.battery_size\n",
    "\n",
    "\n",
    "    # Create a method to assign the battery size of the EV to the trip\n",
    "    def assign_ev_battery_size(self):\n",
    "        self.ev_battery_size = self.ev.battery_size\n"
   ],
   "metadata": {
    "collapsed": false,
    "pycharm": {
     "name": "#%%\n"
    }
   }
  },
  {
   "cell_type": "code",
   "execution_count": 4,
   "outputs": [],
   "source": [
    "# Define a Charging Station class, that will charge the EVs. Has the following parameters:\n",
    "# - Charging station name\n",
    "# - Charging station location\n",
    "# - Charging station type\n",
    "# - Charging station power\n",
    "# - Charging station efficiency\n",
    "# - Charging station availability\n",
    "# - Charging station cost\n",
    "\n",
    "class ChargingStation:\n",
    "    def __init__(self, charging_station_type, charging_station_power, charging_station_efficiency, charging_station_cost,\n",
    "                 charging_station_probability, ev_id=None):\n",
    "        # Parameters Assign\n",
    "        self.charging_station_type = charging_station_type\n",
    "        self.charging_station_power = charging_station_power\n",
    "        self.charging_station_cost = charging_station_cost\n",
    "        self.charging_station_efficiency = charging_station_efficiency\n",
    "        self.charging_station_probability = charging_station_probability\n",
    "\n",
    "        # Charging station history\n",
    "        self.charging_station_history = []\n",
    "\n",
    "        # EV ID\n",
    "        self.ev_id = ev_id\n",
    "\n",
    "\n",
    "    # Formatted print method\n",
    "    def __repr__(self):\n",
    "        return f'Charging station type: {self.charging_station_type}, charging station power: {self.charging_station_power}'\n"
   ],
   "metadata": {
    "collapsed": false,
    "pycharm": {
     "name": "#%%\n"
    }
   }
  },
  {
   "cell_type": "code",
   "execution_count": 5,
   "outputs": [],
   "source": [
    "# Define a User class, that will have the following parameters:\n",
    "# - User name\n",
    "# - User location\n",
    "# - User trips\n",
    "# - User EV\n",
    "# - User type\n",
    "\n",
    "class User:\n",
    "    def __init__(self, user_name, user_profile):\n",
    "        # Parameters Assign\n",
    "        self.user_ev = None\n",
    "        self.user_name = user_name\n",
    "        self.user_profile = user_profile\n",
    "\n",
    "    # Method to assign an EV to the user\n",
    "    def assign_ev(self, ev):\n",
    "        self.user_ev = ev\n",
    "\n",
    "\n",
    "# Create a Profile class that will determine the behaviour of the Users. Has the following parameters:\n",
    "# - Profile name\n",
    "# - Profile type\n",
    "# - Profile trip schedule\n",
    "# - Trip type\n",
    "\n",
    "#TODO: charge_during_night\n",
    "class Profile:\n",
    "    def __init__(self, profile_name, trip_type, profile_trip_schedule, allowed_charging_stations, charge_during_day=True, charge_during_night=True, soc_min_tocharge=0.2, profile_probability=0.2):\n",
    "        # Parameters Assign\n",
    "        self.profile_name = profile_name\n",
    "        self.trip_type = trip_type\n",
    "        self.profile_trip_schedule = profile_trip_schedule\n",
    "        self.allowed_charging_stations = allowed_charging_stations\n",
    "        self.charge_during_day = charge_during_day\n",
    "        self.charge_during_night = charge_during_night\n",
    "        self.soc_min_tocharge = soc_min_tocharge\n",
    "        self.profile_probability = profile_probability\n",
    "\n",
    "    # Format printing\n",
    "    def __repr__(self):\n",
    "        return f'N:{self.profile_name}, T:{self.trip_type}'\n",
    "\n",
    "\n",
    "# Create a Schedule class with the following parameters:\n",
    "# - Schedule start\n",
    "# - Schedule end\n",
    "class Schedule:\n",
    "    def __init__(self, schedule_start):\n",
    "        # Parameters Assign\n",
    "        self.schedule_start = schedule_start\n",
    "\n",
    "    # Format printing\n",
    "    def __repr__(self):\n",
    "        return f'Schedule start hours: {self.schedule_start}'"
   ],
   "metadata": {
    "collapsed": false,
    "pycharm": {
     "name": "#%%\n"
    }
   }
  },
  {
   "cell_type": "code",
   "execution_count": 130,
   "outputs": [],
   "source": [
    " # Define an Aggregator class, that will aggregate the trips and EVs. Has the following parameters:\n",
    "# - EVs\n",
    "# - Number of EVs\n",
    "class Aggregator:\n",
    "    def __init__(self, profiles, evs,\n",
    "                 n_evs=1, time_resolution=1,\n",
    "                 avg_speed_short=60, avg_speed_medium=80, avg_speed_long=100,\n",
    "                 medium_trip_min=50, medium_trip_max=100, trip_length_variation=0.05, trip_start_variation=1.0, avg_speed_variation=1.0,\n",
    "                 simulation_cycles=1, show_progress=True):\n",
    "        # Profile assign\n",
    "        self.profiles = profiles\n",
    "\n",
    "        # Temporal resolution\n",
    "        self.time_resolution = time_resolution\n",
    "\n",
    "        # Simulation cycle definition\n",
    "        self.simulation_cycles = simulation_cycles\n",
    "\n",
    "        # Assign the EVs to the aggregator\n",
    "        self.evs = evs\n",
    "\n",
    "        # Number of EVs of the simulation\n",
    "        self.number_of_evs = n_evs\n",
    "\n",
    "        # Create a list of trips\n",
    "        self.trips = None\n",
    "        self.segments = []\n",
    "        self.population = None\n",
    "        self.assigned_evs = []\n",
    "\n",
    "        # Trip creation parameters\n",
    "        self.avg_speed_short = avg_speed_short\n",
    "        self.avg_speed_medium = avg_speed_medium\n",
    "        self.avg_speed_long = avg_speed_long\n",
    "        self.medium_trip_min = medium_trip_min\n",
    "        self.medium_trip_max = medium_trip_max\n",
    "        self.trip_length_variation = trip_length_variation\n",
    "        self.trip_start_variation = trip_start_variation\n",
    "        self.avg_speed_variation = avg_speed_variation\n",
    "\n",
    "        # Placeholder for simulation results\n",
    "        self.simulation_variables = {}\n",
    "        self.simulation_dataframes = {}\n",
    "        self.simulation_step = 1\n",
    "\n",
    "        # Verbose flags\n",
    "        self.show_progress = show_progress\n",
    "        self.show_bars = np.logical_not(show_progress)\n",
    "\n",
    "    # Add an EV to the fleet\n",
    "    def add_ev(self, ev):\n",
    "        self.evs.append(ev)\n",
    "\n",
    "\n",
    "    # Assign a trip to an EV\n",
    "    def assign_trip(self, ev, trip):\n",
    "        ev.add_trip(trip)\n",
    "\n",
    "\n",
    "    # Create the population of DrivableEVs according to NumPy's random.choice\n",
    "    def create_evs(self, n_evs):\n",
    "        # Assign the number of EVs to the aggregator\n",
    "        self.number_of_evs = n_evs\n",
    "\n",
    "        # Print the progress\n",
    "        if self.show_progress:\n",
    "            print('Creating EVs...')\n",
    "\n",
    "        # Create an EV population according to the given probabilities of the EVs\n",
    "        population_choice = np.random.choice(self.evs, n_evs,\n",
    "                                             p=[ev.probability_in_population for ev in self.evs])\n",
    "\n",
    "        # Create a list of DrivableEVs\n",
    "        self.population = np.array([DrivableEV(ev.brand, ev.model, ev.battery_type, ev.battery_size,\n",
    "                                      ev.charging_efficiency, ev.discharging_efficiency,\n",
    "                                      ev.energy_per_km, ev.soc_min, ev.soc_max,\n",
    "                                      ev.probability_in_population,\n",
    "                                      initial_soc=np.round(np.random.uniform(ev.soc_min,\n",
    "                                                                             ev.soc_max, 1)[0], 2))\n",
    "                                    for ev in tqdm.tqdm(population_choice, disable=self.show_bars)])\n",
    "\n",
    "\n",
    "    # Create trips for a day based on the number of EVs\n",
    "    def generate_trips_distances(self):\n",
    "\n",
    "        # Based on a Gamma distribution\n",
    "        shape, scale = 46.*.01, 46.*2\n",
    "        trip_lengths = np.round(np.random.gamma(shape, scale, self.number_of_evs), 2)\n",
    "\n",
    "        return trip_lengths\n",
    "\n",
    "\n",
    "    # Get a user profile based on the trip type\n",
    "    def get_user_profile(self, trip_type):\n",
    "        user_profiles = [profile for profile in self.profiles if profile.trip_type == trip_type]\n",
    "        user_profile = np.random.choice(user_profiles, 1)[0]\n",
    "        return user_profile\n",
    "\n",
    "\n",
    "    # Trips for all the simulated days\n",
    "    def create_all_trips(self):\n",
    "\n",
    "        # Show progress\n",
    "        if self.show_progress:\n",
    "            print('Creating trips...')\n",
    "\n",
    "        # Placeholder for all the trips\n",
    "        self.trips = []\n",
    "\n",
    "        # Get the generated trips for a day\n",
    "        trip_lengths = self.generate_trips_distances()\n",
    "\n",
    "        # Create the initial trip objects\n",
    "        self.trips = [Trip(trip_length, None, None, None) for trip_length in trip_lengths]\n",
    "        return\n",
    "\n",
    "\n",
    "    # Create the drivable trips for the EV based on the profile\n",
    "    def create_drivable_trip(self, ev, trip, day, user_profile):\n",
    "\n",
    "        # Calculate trip type based on distance\n",
    "        trip_type = 'Short' if trip.trip_length <= self.medium_trip_min else 'Medium' if self.medium_trip_min < trip.trip_length <= self.medium_trip_max else 'Long'\n",
    "\n",
    "        # Get the trip length\n",
    "        trip_length = trip.trip_length\n",
    "\n",
    "        # Add some variation to the trip length\n",
    "        trip_length = np.round(trip_length * np.random.uniform(1 - self.trip_length_variation,\n",
    "                                                               1 + self.trip_length_variation, 1)[0], 2)\n",
    "\n",
    "        # Set the trip length while respecting the type\n",
    "        if trip_type == 'Short':\n",
    "            if trip_length > self.medium_trip_min:\n",
    "                trip_length = self.medium_trip_min\n",
    "        elif trip_type == 'Medium':\n",
    "            if trip_length < self.medium_trip_min:\n",
    "                trip_length = self.medium_trip_min\n",
    "            elif trip_length > self.medium_trip_max:\n",
    "                trip_length = self.medium_trip_max\n",
    "        elif trip_type == 'Long':\n",
    "            if trip_length < self.medium_trip_max:\n",
    "                trip_length = self.medium_trip_max\n",
    "\n",
    "        # Check how many trips the user has\n",
    "        user_trips = len(user_profile.profile_trip_schedule.schedule_start)\n",
    "\n",
    "        # Calculate average speed based on trip type\n",
    "        avg_speed = self.avg_speed_short if trip_type == 'Short' else self.avg_speed_medium if trip_type == 'Medium' else self.avg_speed_long\n",
    "\n",
    "        # Calculate the required socs for trip segment\n",
    "        for i in range(user_trips):\n",
    "            # Get a random start centered around schedule start\n",
    "            segment_start = np.random.uniform(user_profile.profile_trip_schedule.schedule_start[i] - self.trip_start_variation,\n",
    "                                              user_profile.profile_trip_schedule.schedule_start[i] + self.trip_start_variation, 1)[0]\n",
    "\n",
    "            # Segment start in datetime\n",
    "            segment_start = datetime.datetime(2023, 1, 1, int(segment_start), int((segment_start - int(segment_start)) * 60))\n",
    "            segment_start = segment_start + datetime.timedelta(days=day)\n",
    "\n",
    "\n",
    "            # Get a random average speed centered on avg_speed with variation\n",
    "            segment_avg_speed = np.random.uniform(avg_speed - self.avg_speed_variation,\n",
    "                                                  avg_speed + self.avg_speed_variation, 1)[0]\n",
    "\n",
    "            # Duration is the trip length divided by the average speed\n",
    "            duration = trip_length / user_trips / segment_avg_speed if segment_avg_speed > 0 else trip_length / avg_speed\n",
    "            duration = datetime.timedelta(hours=duration)\n",
    "\n",
    "            # Segment end in datetime\n",
    "            segment_end = segment_start + duration\n",
    "\n",
    "\n",
    "            # Create the drivable trip\n",
    "            drivable_trip = DrivableTrip(trip_length / user_trips,\n",
    "                                         segment_avg_speed,\n",
    "                                         segment_start, segment_end,\n",
    "                                         duration, profile=user_profile)\n",
    "\n",
    "            # Establish the required parameters for the trip\n",
    "            drivable_trip.ev = ev\n",
    "            drivable_trip.ev_id = ev.ev_id\n",
    "            drivable_trip.calculate_trip_energy_consumption()\n",
    "            drivable_trip.calculate_trip_required_soc()\n",
    "            drivable_trip.assign_ev_battery_size()\n",
    "\n",
    "            # Append the drivable trip to the EV\n",
    "            ev.add_trip(drivable_trip)\n",
    "            ev.assign_charging_stations()\n",
    "\n",
    "        return\n",
    "\n",
    "\n",
    "    # Assign all the trips for all the days\n",
    "    def assign_all_trips(self):\n",
    "\n",
    "        # Show progress\n",
    "        if self.show_progress:\n",
    "            print('Assigning trips to EVs...')\n",
    "\n",
    "        # Assigned EVs\n",
    "        ev_ids = [ev.ev_id for ev in self.population]\n",
    "\n",
    "        # Get the sum of the battery sizes\n",
    "        battery_sizes = np.array([ev.battery_size for ev in self.population])\n",
    "        battery_sizes_unique = np.unique(battery_sizes)\n",
    "\n",
    "        # Sum of unique battery sizes\n",
    "        battery_sizes_unique_sum = sum(battery_sizes_unique)\n",
    "\n",
    "        # Create a dictionary with the battery sizes and their index in the population\n",
    "        battery_sizes_dict = {}\n",
    "        for i in range(len(battery_sizes_unique)):\n",
    "            battery_sizes_dict['B{}'.format(battery_sizes_unique[i])] = [ev for ev in self.population if ev.battery_size == battery_sizes_unique[i]]\n",
    "\n",
    "        # Create a list with the probabilities of the EVs to get a trip\n",
    "        probabilities = battery_sizes_unique  / battery_sizes_unique_sum\n",
    "\n",
    "        # Sort the segments by trip length and assign it to a temporary variable\n",
    "        sorted_trips = sorted(self.trips, key=lambda x: x.trip_length, reverse=True)\n",
    "        #print([trip.trip_length for trip in sorted_trips])\n",
    "        #trip_type = ['Short' if trip.trip_length <= self.medium_trip_min else 'Medium' if self.medium_trip_min < trip.trip_length <= self.medium_trip_max else 'Long' for trip in sorted_trips]\n",
    "        #user_profiles = [self.get_user_profile(trip_type) for trip_type in trip_type]\n",
    "\n",
    "        # Created profiles\n",
    "        user_profiles = []\n",
    "        for profile in self.profiles:\n",
    "            # Append the profile to the created profiles, based on the probability and the number of EVs\n",
    "            user_profiles += [profile] * int(np.round(profile.profile_probability * self.number_of_evs))\n",
    "\n",
    "        # Sort the profiles by trip length\n",
    "        user_profiles = sorted(user_profiles, key=lambda x: x.trip_type, reverse=False)\n",
    "\n",
    "        for idx in tqdm.tqdm(range(len(sorted_trips)), disable=self.show_bars):\n",
    "            #for idx in range(len(sorted_trips)):\n",
    "            trip = sorted_trips[idx]\n",
    "            user_profile = user_profiles[idx]\n",
    "\n",
    "            # Choose an EV from the population based on the battery size\n",
    "            chosen_battery_size = np.random.choice(battery_sizes_unique, 1, p=probabilities)[0]\n",
    "\n",
    "            # Get a random EV from the population with the chosen battery size\n",
    "            choice_ev = np.random.choice(battery_sizes_dict['B{}'.format(chosen_battery_size)], 1)[0]\n",
    "\n",
    "            # Get the respective EV from the assigned EVs\n",
    "            ev = self.population[ev_ids.index(choice_ev.ev_id)]\n",
    "\n",
    "            # Assign the profile to the EV\n",
    "            ev.assign_profile(user_profile)\n",
    "\n",
    "            for day in range(self.simulation_cycles):\n",
    "                # Create the drivable trip\n",
    "                self.create_drivable_trip(ev, trip, day, user_profile)\n",
    "\n",
    "\n",
    "            # Remove the EV from the population\n",
    "            battery_sizes_dict['B{}'.format(chosen_battery_size)].remove(choice_ev)\n",
    "\n",
    "            # Update the probabilities\n",
    "            if len(battery_sizes_dict['B{}'.format(chosen_battery_size)]) == 0:\n",
    "                battery_sizes_unique = np.delete(battery_sizes_unique, np.where(battery_sizes_unique == chosen_battery_size)[0][0])\n",
    "                battery_sizes_unique_sum = sum(battery_sizes_unique)\n",
    "                probabilities = battery_sizes_unique  / battery_sizes_unique_sum\n",
    "\n",
    "\n",
    "        return\n",
    "\n",
    "\n",
    "    # Split the EV trips\n",
    "    def split_all_trips(self):\n",
    "\n",
    "        if self.show_progress:\n",
    "            print('Splitting trips...')\n",
    "\n",
    "        for ev in tqdm.tqdm(self.population, disable=self.show_bars):\n",
    "            ev.trip_splitting()\n",
    "\n",
    "\n",
    "    def run_sim(self):\n",
    "        # If the simulation's number of days is less than 1, set to 1 and run the first day\n",
    "        if self.simulation_cycles < 1:\n",
    "            print('Simulation days must be greater than 0. Setting to 1.')\n",
    "            self.simulation_cycles = 1\n",
    "\n",
    "        # Print the simulation progress\n",
    "        if self.show_progress:\n",
    "            print('Simulating  {:003d} cycles...'.format(self.simulation_cycles))\n",
    "\n",
    "        # Run the simulation\n",
    "        self.create_evs(self.number_of_evs)\n",
    "        self.create_all_trips()\n",
    "        self.assign_all_trips()\n",
    "        self.split_all_trips()\n",
    "\n",
    "        self.simulation_dataframes = self.get_dataframes()\n",
    "\n",
    "\n",
    "    # Create a DataFrame of the population\n",
    "    def population_dataframe(self):\n",
    "        # Create a DataFrame of the population\n",
    "        population_dataframe = pd.DataFrame([ev.__dict__ for ev in self.population])\n",
    "\n",
    "        # Return the DataFrame\n",
    "        return population_dataframe\n",
    "\n",
    "\n",
    "    # Create a DataFrame of the trips\n",
    "    def assigned_trips_dataframe(self):\n",
    "        # Create a DataFrame of the trips\n",
    "        trips_dataframe = pd.DataFrame([trip.trip_length for trip in self.trips])\n",
    "        trips_dataframe.columns = [\"trip_length\"]\n",
    "\n",
    "        # Return the DataFrame\n",
    "        return trips_dataframe\n",
    "\n",
    "\n",
    "    # Create a DataFrame of assigned Trips and all the information in the list\n",
    "    def assigned_segments_dataframe(self):\n",
    "        # Create a DataFrame of the population\n",
    "        assigned_trips_dataframe = pd.DataFrame([trip.__dict__ for ev in self.population for trip in ev.trips])\n",
    "\n",
    "        # Return the DataFrame\n",
    "        return assigned_trips_dataframe\n",
    "\n",
    "\n",
    "    # Create a DataFrame of the EVs' split trips\n",
    "    def assigned_split_trips_dataframe(self):\n",
    "        # Create a DataFrame of the population\n",
    "        assigned_split_trips_dataframe = pd.DataFrame([trip.__dict__ for ev in self.population for trip in ev.split_trips])\n",
    "\n",
    "        # Return the DataFrame\n",
    "        return assigned_split_trips_dataframe\n",
    "\n",
    "\n",
    "    # Create a DataFrame of the charging stations used by the EVs\n",
    "    def assigned_cs_dataframe(self):\n",
    "        # Create a DataFrame of the population\n",
    "        assigned_cs_dataframe = pd.DataFrame([cs.__dict__ for ev in self.assigned_evs for cs in ev.charging_stations_list])\n",
    "\n",
    "        # Return the DataFrame\n",
    "        return assigned_cs_dataframe\n",
    "\n",
    "\n",
    "    # Create a DataFrame composed by:\n",
    "    # EV charging start time, EV charging end time, EV charging start soc, EV charging end soc, EV ID\n",
    "    def cs_charging_dataframe(self):\n",
    "\n",
    "        # Create placeholder lists\n",
    "        start_times = []\n",
    "        end_times = []\n",
    "\n",
    "        station_type = []\n",
    "        station_power = []\n",
    "\n",
    "        start_socs = []\n",
    "        end_socs = []\n",
    "\n",
    "        ev_ids = []\n",
    "\n",
    "        # Iterate through the EVs\n",
    "        for ev in self.population:\n",
    "\n",
    "            # Check if there were any events\n",
    "            if len(ev.charging_start_time) == 0:\n",
    "                continue\n",
    "\n",
    "            # Iterate through the events\n",
    "            for i in range(len(ev.charging_start_time)):\n",
    "                start_times.append(ev.charging_start_time[i])\n",
    "                end_times.append(ev.charging_end_time[i])\n",
    "\n",
    "                station_type.append(ev.charging_type[i])\n",
    "                station_power.append(ev.charging_power[i])\n",
    "\n",
    "                start_socs.append(ev.charging_start_soc[i])\n",
    "                end_socs.append(ev.charging_end_soc[i])\n",
    "\n",
    "                ev_ids.append(ev.ev_id)\n",
    "\n",
    "        # Create the DataFrame\n",
    "        charging_dataframe = pd.DataFrame({\"start_time\": start_times, \"end_time\": end_times, \"start_soc\": start_socs,\n",
    "                                           \"end_soc\": end_socs, \"ev_id\": ev_ids, \"station_type\": station_type, \"station_power\": station_power})\n",
    "\n",
    "        # Return the DataFrame\n",
    "        return charging_dataframe\n",
    "\n",
    "\n",
    "    # Create a DataFrame of EV charging history\n",
    "    def ev_charging_history_dataframe(self):\n",
    "\n",
    "        # Create a date range with a frequency of 1 hour\n",
    "        date_range = pd.date_range(start='1/1/2023', periods=aggregator.simulation_cycles * 24, freq='H')\n",
    "\n",
    "        # Create the index for the dataframe\n",
    "        cs_df = self.cs_charging_dataframe()\n",
    "        index = cs_df['ev_id'].unique()\n",
    "\n",
    "        # Create the dataframe\n",
    "        ev_charging_history = pd.DataFrame(index=index, columns=date_range)\n",
    "        ev_charging_type = pd.DataFrame(index=index, columns=date_range)\n",
    "\n",
    "        if self.show_progress:\n",
    "            print('Creating EV charging history DataFrame...')\n",
    "\n",
    "        # Fill the dataframe with the charging data\n",
    "        for i in tqdm.tqdm(range(len(cs_df)), disable=self.show_bars):\n",
    "            ev_id = cs_df['ev_id'][i]\n",
    "            start = pd.to_datetime(cs_df['start_time'][i]).floor('H')\n",
    "            end = pd.to_datetime(cs_df['end_time'][i]).floor('H')\n",
    "            #end = cs_df['end_time'][i]\n",
    "            power = cs_df['station_power'][i]\n",
    "            ev_charging_history.loc[ev_id, start:end] = power\n",
    "            ev_charging_type.loc[ev_id, start:end] = cs_df['station_type'][i]\n",
    "\n",
    "        # Fill the NaN values with 0\n",
    "        ev_charging_history.fillna(0.0, inplace=True)\n",
    "        ev_charging_type.fillna(0, inplace=True)\n",
    "\n",
    "        # Return the dataframe\n",
    "        return ev_charging_history, ev_charging_type\n",
    "\n",
    "\n",
    "    # Create a DataFrame of the EVs' driving history\n",
    "    def ev_driving_dataframe(self):\n",
    "\n",
    "        # Create placeholder lists\n",
    "        start_times = []\n",
    "        end_times = []\n",
    "\n",
    "        distance = []\n",
    "\n",
    "        ev_ids = []\n",
    "\n",
    "        # Iterate through the EVs\n",
    "        for ev in self.population:\n",
    "\n",
    "            # Check if there were any events\n",
    "            if len(ev.driving_start_time) == 0:\n",
    "                continue\n",
    "\n",
    "            # Iterate through the events\n",
    "            for i in range(len(ev.driving_start_time)):\n",
    "                start_times.append(ev.driving_start_time[i])\n",
    "                end_times.append(ev.driving_end_time[i])\n",
    "\n",
    "                distance.append(ev.driving_distance[i])\n",
    "\n",
    "                ev_ids.append(ev.ev_id)\n",
    "\n",
    "        # Create the DataFrame\n",
    "        driving_dataframe = pd.DataFrame({\"start_time\": start_times, \"end_time\": end_times, \"distance\": distance,\n",
    "                                          \"ev_id\": ev_ids})\n",
    "\n",
    "        # Return the DataFrame\n",
    "        return driving_dataframe\n",
    "\n",
    "\n",
    "    # Create a DataFrame of EV driving history\n",
    "    def ev_driving_history_dataframe(self):\n",
    "\n",
    "        # Create a date range with a frequency of 1 hour\n",
    "        date_range = pd.date_range(start='1/1/2023', periods=aggregator.simulation_cycles * 24, freq='H')\n",
    "\n",
    "        # Create the index for the dataframe\n",
    "        drv_df = self.ev_driving_dataframe()\n",
    "        index = drv_df['ev_id'].unique()\n",
    "\n",
    "        # Create the dataframe\n",
    "        ev_driving_history = pd.DataFrame(index=index, columns=date_range)\n",
    "\n",
    "        if self.show_progress:\n",
    "            print('Creating EV driving history DataFrame...')\n",
    "\n",
    "        # Fill the dataframe with the charging data\n",
    "        for i in tqdm.tqdm(range(len(drv_df)), disable=self.show_bars):\n",
    "            ev_id = drv_df['ev_id'][i]\n",
    "            start = pd.to_datetime(drv_df['start_time'][i]).floor('H')\n",
    "            end = pd.to_datetime(drv_df['end_time'][i]).floor('H')\n",
    "            ev_driving_history.loc[ev_id, start:end] = 1\n",
    "\n",
    "        # Fill the NaN values with 0\n",
    "        ev_driving_history.fillna(0, inplace=True)\n",
    "\n",
    "        # Return the dataframe\n",
    "        return ev_driving_history\n",
    "\n",
    "\n",
    "    # Create a DataFrame of when the EVs are not charging or driving\n",
    "    def ev_stopped(self):\n",
    "\n",
    "        # Create a date range with a frequency of 1 hour\n",
    "        date_range = pd.date_range(start='1/1/2023', periods=aggregator.simulation_cycles * 24, freq='H')\n",
    "\n",
    "        # Create the index for the dataframe\n",
    "        drv_df = self.ev_driving_dataframe()\n",
    "        index = drv_df['ev_id'].unique()\n",
    "\n",
    "        # Create the dataframe\n",
    "        ev_stopped = pd.DataFrame(index=index, columns=date_range)\n",
    "\n",
    "        if self.show_progress:\n",
    "            print('Creating EV stopped DataFrame...')\n",
    "\n",
    "        # Fill the dataframe with the driving data\n",
    "        for i in tqdm.tqdm(range(len(drv_df)), disable=self.show_bars):\n",
    "            ev_id = drv_df['ev_id'][i]\n",
    "            start = pd.to_datetime(drv_df['start_time'][i]).floor('H')\n",
    "            end = pd.to_datetime(drv_df['end_time'][i]).floor('H')\n",
    "            ev_stopped.loc[ev_id, start:end] = 1\n",
    "\n",
    "\n",
    "        # Reverse the dataframe for the driving information\n",
    "        ev_stopped = 1 - ev_stopped\n",
    "\n",
    "        # Do the same thing for the charging data\n",
    "        cs_df = self.cs_charging_dataframe()\n",
    "\n",
    "        for i in tqdm.tqdm(range(len(cs_df)), disable=self.show_bars):\n",
    "            ev_id = cs_df['ev_id'][i]\n",
    "            start = pd.to_datetime(cs_df['start_time'][i]).floor('H')\n",
    "            end = pd.to_datetime(cs_df['end_time'][i]).floor('H')\n",
    "            ev_stopped.loc[ev_id, start:end] = 1\n",
    "\n",
    "        # Fill the NaN values with 0\n",
    "        ev_stopped.fillna(0, inplace=True)\n",
    "\n",
    "        # Return the dataframe\n",
    "        return ev_stopped\n",
    "\n",
    "\n",
    "    # Create a DataFrame of EV driving history\n",
    "    def ev_flexibility_dataframe(self):\n",
    "\n",
    "        # Create placeholder lists\n",
    "        start_times = []\n",
    "        end_times = []\n",
    "\n",
    "        power = []\n",
    "\n",
    "        ev_ids = []\n",
    "\n",
    "        # Iterate through the EVs\n",
    "        for ev in self.population:\n",
    "\n",
    "            # Check if there were any events\n",
    "            if len(ev.flexibility_start_time) == 0:\n",
    "                continue\n",
    "\n",
    "            # Iterate through the events\n",
    "            for i in range(len(ev.flexibility_start_time)):\n",
    "                start_times.append(ev.flexibility_start_time[i])\n",
    "                end_times.append(ev.flexibility_end_time[i])\n",
    "\n",
    "                power.append(ev.flexibility_power[i])\n",
    "\n",
    "                ev_ids.append(ev.ev_id)\n",
    "\n",
    "        # Create the DataFrame\n",
    "        flex_dataframe = pd.DataFrame({\"start_time\": start_times, \"end_time\": end_times, \"power\": power,\n",
    "                                          \"ev_id\": ev_ids})\n",
    "\n",
    "        # Return the DataFrame\n",
    "        return flex_dataframe\n",
    "\n",
    "\n",
    "    # Create a DataFrame of EV flexibility\n",
    "    def ev_flexibility_history_dataframe(self):\n",
    "\n",
    "        # Create a date range with a frequency of 1 hour\n",
    "        date_range = pd.date_range(start='1/1/2023', periods=aggregator.simulation_cycles * 24, freq='H')\n",
    "\n",
    "        # Create the index for the dataframe\n",
    "        flex_df = self.ev_flexibility_dataframe()\n",
    "        index = flex_df['ev_id'].unique()\n",
    "\n",
    "        # Create the dataframe\n",
    "        ev_flex = pd.DataFrame(index=index, columns=date_range)\n",
    "\n",
    "        if self.show_progress:\n",
    "            print('Creating EV flexibility DataFrame...')\n",
    "\n",
    "\n",
    "        # Fill the dataframe with the driving data\n",
    "        for i in tqdm.tqdm(range(len(flex_df)), disable=self.show_bars):\n",
    "            ev_id = flex_df['ev_id'][i]\n",
    "            start = pd.to_datetime(flex_df['start_time'][i]).floor('H')\n",
    "            end = pd.to_datetime(flex_df['end_time'][i]).floor('H')\n",
    "            ev_flex.loc[ev_id, start:end] = 1\n",
    "\n",
    "        # Fill the NaN values with 0\n",
    "        ev_flex.fillna(0, inplace=True)\n",
    "\n",
    "        return ev_flex\n",
    "\n",
    "\n",
    "    # Get all the DataFrames for storage\n",
    "    def get_dataframes(self):\n",
    "\n",
    "        if self.show_progress:\n",
    "            print('Creating DataFrames...')\n",
    "\n",
    "        # Population DataFrame\n",
    "        population_dataframe = self.population_dataframe()\n",
    "\n",
    "        # Assigned Trips\n",
    "        assigned_trips_dataframe = self.assigned_trips_dataframe()\n",
    "\n",
    "        # Assigned Segments\n",
    "        assigned_segments_dataframe = self.assigned_segments_dataframe()\n",
    "\n",
    "        # Assigned Split Trips\n",
    "        assigned_split_trips_dataframe = self.assigned_split_trips_dataframe()\n",
    "\n",
    "        # Assigned Charging Stations\n",
    "        assigned_charging_stations_dataframe = self.assigned_cs_dataframe()\n",
    "\n",
    "\n",
    "        # Get the DataFrames\n",
    "        cs_history_dataframe = self.cs_charging_dataframe()\n",
    "        ev_charging_history_dataframe, ev_charging_type_dataframe = self.ev_charging_history_dataframe()\n",
    "        ev_driving_dataframe = self.ev_driving_dataframe()\n",
    "        ev_driving_history_dataframe = self.ev_driving_history_dataframe()\n",
    "        ev_stopped = self.ev_stopped()\n",
    "        ev_flex = self.ev_flexibility_history_dataframe()\n",
    "\n",
    "        ev_flex_power = ev_flex.copy(deep=True)\n",
    "        for id in ev_flex_power.index:\n",
    "            temp_power = self.population_dataframe().loc[self.population_dataframe()['ev_id'] == id]['default_charging_station'].values[0].charging_station_power\n",
    "            ev_flex_power.loc[ev_flex_power.index == id] = ev_flex_power.loc[ev_flex_power.index == id] * temp_power\n",
    "\n",
    "        # Place everything in a dictionary\n",
    "        dataframes = {\"population\": population_dataframe,\n",
    "                      \"assigned_trips\": assigned_trips_dataframe,\n",
    "                      \"assigned_segments\": assigned_segments_dataframe,\n",
    "                      \"assigned_split_trips\": assigned_split_trips_dataframe,\n",
    "                      \"assigned_charging_stations\": assigned_charging_stations_dataframe,\n",
    "                      \"cs_history\": cs_history_dataframe,\n",
    "                      \"ev_charging_history\": ev_charging_history_dataframe,\n",
    "                      \"ev_charging_type\": ev_charging_type_dataframe,\n",
    "                      \"ev_driving\": ev_driving_dataframe,\n",
    "                      \"ev_driving_history\": ev_driving_history_dataframe,\n",
    "                      \"ev_stopped\": ev_stopped,\n",
    "                      \"ev_flexibility\": ev_flex,\n",
    "                      \"ev_flexibility_power\": ev_flex_power}\n",
    "\n",
    "        # Return the DataFrames\n",
    "        return dataframes"
   ],
   "metadata": {
    "collapsed": false,
    "pycharm": {
     "name": "#%%\n"
    }
   }
  },
  {
   "cell_type": "code",
   "execution_count": 131,
   "outputs": [
    {
     "name": "stdout",
     "output_type": "stream",
     "text": [
      "1.0\n"
     ]
    }
   ],
   "source": [
    "# Create a list of EVs to use in the simulation\n",
    "\n",
    "EVs = [EV(brand='Nissan', model='Leaf', battery_type='BEV', battery_size=59,\n",
    "          charging_efficiency=0.9, discharging_efficiency=0.9,\n",
    "          probability_in_population=0.16, energy_per_km=0.17, soc_min=0.8, soc_max=1.0),\n",
    "       EV(brand='Tesla', model='Model 3', battery_type='BEV', battery_size=95,\n",
    "          charging_efficiency=0.9, discharging_efficiency=0.9,\n",
    "          probability_in_population=0.13, energy_per_km=0.18, soc_min=0.8, soc_max=1.0),\n",
    "       EV(brand='Peugeot', model='e-Expert', battery_type='BEV', battery_size=68,\n",
    "          charging_efficiency=0.9, discharging_efficiency=0.9,\n",
    "          probability_in_population=0.1, energy_per_km=0.26, soc_min=0.8, soc_max=1.0),\n",
    "       EV(brand='Renault', model='Zoe', battery_type='BEV', battery_size=52,\n",
    "          charging_efficiency=0.9, discharging_efficiency=0.9,\n",
    "          probability_in_population=0.1, energy_per_km=0.17, soc_min=0.8, soc_max=1.0),\n",
    "       EV(brand='Jaguar', model='I-Pace', battery_type='BEV', battery_size=85,\n",
    "          charging_efficiency=0.9, discharging_efficiency=0.9,\n",
    "          probability_in_population=0.09, energy_per_km=0.22, soc_min=0.8, soc_max=1.0),\n",
    "       EV(brand='Mercedes', model='E300', battery_type='PHEV', battery_size=13.5,\n",
    "          charging_efficiency=0.9, discharging_efficiency=0.9,\n",
    "          probability_in_population=0.08, energy_per_km=0.18, soc_min=0.8, soc_max=1.0),\n",
    "       EV(brand='BMW', model='530e', battery_type='PHEV', battery_size=70.2,\n",
    "          charging_efficiency=0.9, discharging_efficiency=0.9,\n",
    "          probability_in_population=0.08, energy_per_km=0.16, soc_min=0.8, soc_max=1.0),\n",
    "       EV(brand='Audi Q4', model='e-tron', battery_type='PHEV', battery_size=55,\n",
    "          charging_efficiency=0.9, discharging_efficiency=0.9,\n",
    "          probability_in_population=0.07, energy_per_km=0.17, soc_min=0.8, soc_max=1.0),\n",
    "       EV(brand='Hyundai', model='Kauai', battery_type='BEV', battery_size=74,\n",
    "          charging_efficiency=0.9, discharging_efficiency=0.9,\n",
    "          probability_in_population=0.06, energy_per_km=0.192, soc_min=0.8, soc_max=1.0),\n",
    "       EV(brand='Volvo', model='XC40', battery_type='PHEV', battery_size=78,\n",
    "          charging_efficiency=0.9, discharging_efficiency=0.9,\n",
    "          probability_in_population=0.05, energy_per_km=0.176, soc_min=0.8, soc_max=1.0),\n",
    "       EV(brand='Wolkswagen', model='ID.3', battery_type='PHEV', battery_size=58,\n",
    "          charging_efficiency=0.9, discharging_efficiency=0.9,\n",
    "          probability_in_population=0.05, energy_per_km=0.155, soc_min=0.8, soc_max=1.0),\n",
    "       EV(brand='Others', model='Others', battery_type='PEV', battery_size=20,\n",
    "          charging_efficiency=0.9, discharging_efficiency=0.9,\n",
    "          probability_in_population=0.03, energy_per_km=0.2, soc_min=0.8, soc_max=1.0)]\n",
    "\n",
    "# Print the sum of the probabilities in the population of EVs\n",
    "sum_of_probabilities = 0\n",
    "for ev in EVs:\n",
    "    sum_of_probabilities += ev.probability_in_population\n",
    "print(sum_of_probabilities)"
   ],
   "metadata": {
    "collapsed": false,
    "pycharm": {
     "name": "#%%\n"
    }
   }
  },
  {
   "cell_type": "code",
   "execution_count": 132,
   "outputs": [],
   "source": [
    "# Create a list of Charging Stations to use in the simulation\n",
    "\n",
    "CS = [ChargingStation(charging_station_type='Slow',\n",
    "                      charging_station_power=3.6,\n",
    "                      charging_station_efficiency=0.9,\n",
    "                      charging_station_cost=0.15,\n",
    "                      charging_station_probability=0.25),\n",
    "      ChargingStation(charging_station_type='Slow',\n",
    "                      charging_station_power=7.2,\n",
    "                      charging_station_efficiency=0.9,\n",
    "                      charging_station_cost=0.15,\n",
    "                      charging_station_probability=0.25),\n",
    "      ChargingStation(charging_station_type='Fast',\n",
    "                      charging_station_power=3.6,\n",
    "                      charging_station_efficiency=0.9,\n",
    "                      charging_station_cost=0.15,\n",
    "                      charging_station_probability=0.25),\n",
    "      ChargingStation(charging_station_type='Fast',\n",
    "                      charging_station_power=7.2,\n",
    "                      charging_station_efficiency=0.9,\n",
    "                      charging_station_cost=0.15,\n",
    "                      charging_station_probability=0.25)]\n"
   ],
   "metadata": {
    "collapsed": false,
    "pycharm": {
     "name": "#%%\n"
    }
   }
  },
  {
   "cell_type": "code",
   "execution_count": 133,
   "outputs": [],
   "source": [
    "# Create a list of Charging Stations to use in the simulation\n",
    "\n",
    "PUBLIC_STATIONS = [ChargingStation(charging_station_type='Public Ultrafast (150 kW)',\n",
    "                                   charging_station_power=150,\n",
    "                                   charging_station_efficiency=0.9,\n",
    "                                   charging_station_cost=0.297,\n",
    "                                   charging_station_probability=0.0233),\n",
    "                   ChargingStation(charging_station_type='Public Fast (50 kW)',\n",
    "                                   charging_station_power=50,\n",
    "                                   charging_station_efficiency=0.9,\n",
    "                                   charging_station_cost=0.297,\n",
    "                                   charging_station_probability=0.434),\n",
    "                   ChargingStation(charging_station_type='Public Semi-fast (22 kW)',\n",
    "                                   charging_station_power=22,\n",
    "                                   charging_station_efficiency=0.9,\n",
    "                                   charging_station_cost=0.297,\n",
    "                                   charging_station_probability=0.4394),\n",
    "                   ChargingStation(charging_station_type='Public Slow (7.2 kW)',\n",
    "                                   charging_station_power=7.2,\n",
    "                                   charging_station_efficiency=0.9,\n",
    "                                   charging_station_cost=0.297,\n",
    "                                   charging_station_probability=0.1033)]\n",
    "\n",
    "PRIVATE_STATIONS = [ChargingStation(charging_station_type='Private Fast (50 kW)',\n",
    "                                    charging_station_power=50,\n",
    "                                    charging_station_efficiency=0.9,\n",
    "                                    charging_station_cost=0.297,\n",
    "                                    charging_station_probability=0.0405),\n",
    "                    ChargingStation(charging_station_type='Private Semi-fast (22 kW)',\n",
    "                                    charging_station_power=22,\n",
    "                                    charging_station_efficiency=0.9,\n",
    "                                    charging_station_cost=0.297,\n",
    "                                    charging_station_probability=0.9595)]\n",
    "\n",
    "RESIDENTIAL_CS1 = [ChargingStation(charging_station_type='Residential Slow (3.6 kW)',\n",
    "                                   charging_station_power=3.6,\n",
    "                                   charging_station_efficiency=0.9,\n",
    "                                   charging_station_cost=0.297,\n",
    "                                   charging_station_probability=0.6),\n",
    "                   ChargingStation(charging_station_type='Residential Slow (7.2 kW)',\n",
    "                                   charging_station_power=7.2,\n",
    "                                   charging_station_efficiency=0.9,\n",
    "                                   charging_station_cost=0.297,\n",
    "                                   charging_station_probability=0.4)]\n",
    "\n",
    "RESIDENTIAL_CS2 = [ChargingStation(charging_station_type='Residential Slow (3.6 kW)',\n",
    "                                   charging_station_power=3.6,\n",
    "                                   charging_station_efficiency=0.9,\n",
    "                                   charging_station_cost=0.297,\n",
    "                                   charging_station_probability=0.3),\n",
    "                   ChargingStation(charging_station_type='Residential Slow (7.2 kW)',\n",
    "                                   charging_station_power=7.2,\n",
    "                                   charging_station_efficiency=0.9,\n",
    "                                   charging_station_cost=0.297,\n",
    "                                   charging_station_probability=0.6),\n",
    "                   ChargingStation(charging_station_type='Residential Semi-fast (22 kW)',\n",
    "                                   charging_station_power=22,\n",
    "                                   charging_station_efficiency=0.9,\n",
    "                                   charging_station_cost=0.297,\n",
    "                                   charging_station_probability=0.1)]\n"
   ],
   "metadata": {
    "collapsed": false,
    "pycharm": {
     "name": "#%%\n"
    }
   }
  },
  {
   "cell_type": "code",
   "execution_count": 134,
   "outputs": [],
   "source": [
    "# Create the profiles to use in the simulation\n",
    "\n",
    "# Create a list of profiles\n",
    "PROFILES = [Profile(profile_name='Residential1', profile_trip_schedule=Schedule([8, 18.5]), trip_type='Short',\n",
    "                    allowed_charging_stations={'Segment': PUBLIC_STATIONS, 'Default': RESIDENTIAL_CS1},\n",
    "                    charge_during_day=False, charge_during_night=True, soc_min_tocharge=1.0,\n",
    "                    profile_probability=0.3),\n",
    "            Profile(profile_name='Residential2', profile_trip_schedule=Schedule([5, 18.5]), trip_type='Medium',\n",
    "                    allowed_charging_stations={'Segment': PUBLIC_STATIONS, 'Default': RESIDENTIAL_CS1},\n",
    "                    charge_during_day=False, charge_during_night=True, soc_min_tocharge=1.0,\n",
    "                    profile_probability=0.2),\n",
    "            Profile(profile_name='Residential3', profile_trip_schedule=Schedule([8, 18.5]), trip_type='Short',\n",
    "                    allowed_charging_stations={'Segment': PUBLIC_STATIONS, 'Default': RESIDENTIAL_CS2},\n",
    "                    charge_during_day=False, charge_during_night=True, soc_min_tocharge=1.0,\n",
    "                    profile_probability=0.2),\n",
    "            Profile(profile_name='Residential4', profile_trip_schedule=Schedule([8, 18.5]), trip_type='Long',\n",
    "                    allowed_charging_stations={'Segment': PUBLIC_STATIONS, 'Default': RESIDENTIAL_CS2},\n",
    "                    charge_during_day=False, charge_during_night=True, soc_min_tocharge=1.0,\n",
    "                    profile_probability=0.2),\n",
    "            Profile(profile_name='Work1', profile_trip_schedule=Schedule([8, 13, 18.5]), trip_type='Long',\n",
    "                    allowed_charging_stations={'Segment': PUBLIC_STATIONS, 'Default': PRIVATE_STATIONS},\n",
    "                    charge_during_day=True, charge_during_night=False, soc_min_tocharge=1.0,\n",
    "                    profile_probability=0.1)]\n"
   ],
   "metadata": {
    "collapsed": false,
    "pycharm": {
     "name": "#%%\n"
    }
   }
  },
  {
   "cell_type": "code",
   "execution_count": 135,
   "outputs": [
    {
     "name": "stdout",
     "output_type": "stream",
     "text": [
      "Simulating  007 cycles...\n",
      "Creating EVs...\n"
     ]
    },
    {
     "data": {
      "text/plain": "  0%|          | 0/10 [00:00<?, ?it/s]",
      "application/vnd.jupyter.widget-view+json": {
       "version_major": 2,
       "version_minor": 0,
       "model_id": "56a76fc3fff64dba92c0a278e5152a01"
      }
     },
     "metadata": {},
     "output_type": "display_data"
    },
    {
     "name": "stdout",
     "output_type": "stream",
     "text": [
      "Creating trips...\n",
      "Assigning trips to EVs...\n"
     ]
    },
    {
     "data": {
      "text/plain": "  0%|          | 0/10 [00:00<?, ?it/s]",
      "application/vnd.jupyter.widget-view+json": {
       "version_major": 2,
       "version_minor": 0,
       "model_id": "b9cf4723e28b44bb95155d66d65baaa0"
      }
     },
     "metadata": {},
     "output_type": "display_data"
    },
    {
     "name": "stdout",
     "output_type": "stream",
     "text": [
      "Splitting trips...\n"
     ]
    },
    {
     "data": {
      "text/plain": "  0%|          | 0/10 [00:00<?, ?it/s]",
      "application/vnd.jupyter.widget-view+json": {
       "version_major": 2,
       "version_minor": 0,
       "model_id": "7dd8263c07534501a74bab131ed0988d"
      }
     },
     "metadata": {},
     "output_type": "display_data"
    },
    {
     "name": "stdout",
     "output_type": "stream",
     "text": [
      "Creating DataFrames...\n",
      "Creating EV charging history DataFrame...\n"
     ]
    },
    {
     "data": {
      "text/plain": "  0%|          | 0/82 [00:00<?, ?it/s]",
      "application/vnd.jupyter.widget-view+json": {
       "version_major": 2,
       "version_minor": 0,
       "model_id": "1dba96792c3c476bb8a6815149814e75"
      }
     },
     "metadata": {},
     "output_type": "display_data"
    },
    {
     "name": "stdout",
     "output_type": "stream",
     "text": [
      "Creating EV driving history DataFrame...\n"
     ]
    },
    {
     "data": {
      "text/plain": "  0%|          | 0/154 [00:00<?, ?it/s]",
      "application/vnd.jupyter.widget-view+json": {
       "version_major": 2,
       "version_minor": 0,
       "model_id": "3e990426cb9d412ea065868e090525fd"
      }
     },
     "metadata": {},
     "output_type": "display_data"
    },
    {
     "name": "stdout",
     "output_type": "stream",
     "text": [
      "Creating EV stopped DataFrame...\n"
     ]
    },
    {
     "data": {
      "text/plain": "  0%|          | 0/154 [00:00<?, ?it/s]",
      "application/vnd.jupyter.widget-view+json": {
       "version_major": 2,
       "version_minor": 0,
       "model_id": "dbeffff0b3bd47a08253b06b9e50e9a1"
      }
     },
     "metadata": {},
     "output_type": "display_data"
    },
    {
     "data": {
      "text/plain": "  0%|          | 0/82 [00:00<?, ?it/s]",
      "application/vnd.jupyter.widget-view+json": {
       "version_major": 2,
       "version_minor": 0,
       "model_id": "3dffe71636f3452cb1bc799fdf640360"
      }
     },
     "metadata": {},
     "output_type": "display_data"
    },
    {
     "name": "stdout",
     "output_type": "stream",
     "text": [
      "Creating EV flexibility DataFrame...\n"
     ]
    },
    {
     "data": {
      "text/plain": "  0%|          | 0/68 [00:00<?, ?it/s]",
      "application/vnd.jupyter.widget-view+json": {
       "version_major": 2,
       "version_minor": 0,
       "model_id": "142b3eb3f7fe486c86a1b867b805c02e"
      }
     },
     "metadata": {},
     "output_type": "display_data"
    }
   ],
   "source": [
    "# Create the simulation\n",
    "\n",
    "aggregator = Aggregator(profiles=PROFILES, evs=EVs, n_evs=10,\n",
    "                        avg_speed_short=60, avg_speed_medium=80, avg_speed_long=100, avg_speed_variation=1.0,\n",
    "                        simulation_cycles=7, show_progress=True, trip_start_variation=0.1)\n",
    "\n",
    "aggregator.run_sim()"
   ],
   "metadata": {
    "collapsed": false,
    "pycharm": {
     "name": "#%%\n"
    }
   }
  },
  {
   "cell_type": "code",
   "execution_count": 136,
   "outputs": [
    {
     "data": {
      "text/plain": "        brand     model battery_type  battery_size  charging_efficiency  \\\n0     Hyundai     Kauai          BEV            74                  0.9   \n1      Nissan      Leaf          BEV            59                  0.9   \n2  Wolkswagen      ID.3         PHEV            58                  0.9   \n3     Peugeot  e-Expert          BEV            68                  0.9   \n4       Tesla   Model 3          BEV            95                  0.9   \n5      Nissan      Leaf          BEV            59                  0.9   \n6     Peugeot  e-Expert          BEV            68                  0.9   \n7      Nissan      Leaf          BEV            59                  0.9   \n8     Peugeot  e-Expert          BEV            68                  0.9   \n9  Wolkswagen      ID.3         PHEV            58                  0.9   \n\n   discharging_efficiency  energy_per_km  soc_min  soc_max  \\\n0                     0.9          0.192      0.8      1.0   \n1                     0.9          0.170      0.8      1.0   \n2                     0.9          0.155      0.8      1.0   \n3                     0.9          0.260      0.8      1.0   \n4                     0.9          0.180      0.8      1.0   \n5                     0.9          0.170      0.8      1.0   \n6                     0.9          0.260      0.8      1.0   \n7                     0.9          0.170      0.8      1.0   \n8                     0.9          0.260      0.8      1.0   \n9                     0.9          0.155      0.8      1.0   \n\n   probability_in_population  ...  \\\n0                       0.06  ...   \n1                       0.16  ...   \n2                       0.05  ...   \n3                       0.10  ...   \n4                       0.13  ...   \n5                       0.16  ...   \n6                       0.10  ...   \n7                       0.16  ...   \n8                       0.10  ...   \n9                       0.05  ...   \n\n                                   driving_start_soc  \\\n0  [0.97, 0.7003495495495495, 0.9430699099099099,...   \n1  [0.87, 0.8502787193973634, 0.9830557438794727,...   \n2  [0.92, 0.91991091954023, 0.991982183908046, 0....   \n3  [0.9, 0.8732352941176471, 0.9846470588235294, ...   \n4  [0.91, 0.9804743859649123, 0.9875218245614035,...   \n5  [0.99, 0.9887674199623352, 0.998753483992467, ...   \n6  [0.82, 0.7922581699346405, 0.9764516339869281,...   \n7  [0.86, 0.7476111111111111, 0.9635222222222222,...   \n8  [0.9, 0.35096241830065356, 0.9185700980392157,...   \n9  [0.85, 0.7527983716475095, 0.9655596743295018,...   \n\n                                     driving_end_soc  \\\n0  [0.7003495495495495, 0.4306990990990991, 0.685...   \n1  [0.8502787193973634, 0.8305574387947269, 0.961...   \n2  [0.91991091954023, 0.9198218390804599, 0.99189...   \n3  [0.8732352941176471, 0.8464705882352942, 0.958...   \n4  [0.8047438596491229, 0.8752182456140352, 0.882...   \n5  [0.9887674199623352, 0.9875348399246704, 0.997...   \n6  [0.7922581699346405, 0.764516339869281, 0.9493...   \n7  [0.7476111111111111, 0.6352222222222222, 0.849...   \n8  [0.35096241830065356, 0.1857009803921568, 0.53...   \n9  [0.7527983716475095, 0.655596743295019, 0.8659...   \n\n                                    driving_distance  \\\n0  [93.535, 93.535, 89.205, 89.205, 95.495, 95.49...   \n1  [6.16, 6.16, 6.625, 6.625, 6.135, 6.135, 6.375...   \n2  [0.03, 0.03, 0.03, 0.03, 0.03, 0.03, 0.03, 0.0...   \n3  [6.3, 6.3, 6.255, 6.255, 6.245, 6.245, 6.01, 6...   \n4  [49.99666666666667, 49.99666666666667, 49.9966...   \n5  [0.385, 0.385, 0.38, 0.38, 0.375, 0.375, 0.35,...   \n6  [6.53, 6.53, 6.39, 6.39, 6.245, 6.245, 6.18, 6...   \n7  [35.105, 35.105, 35.765, 35.765, 34.98, 34.98,...   \n8  [129.235, 38.9, 90.33500000000001, 134.17, 58....   \n9  [32.735, 32.735, 33.535, 33.535, 31.36, 31.36,...   \n\n                          driving_energy_consumption  \\\n0  [0.2426854054054054, 0.2426854054054054, 0.231...   \n1  [0.017749152542372883, 0.017749152542372883, 0...   \n2  [8.017241379310344e-05, 8.017241379310344e-05,...   \n3  [0.024088235294117646, 0.024088235294117646, 0...   \n4  [0.09473052631578947, 0.09473052631578947, 0.0...   \n5  [0.0011093220338983052, 0.0011093220338983052,...   \n6  [0.024967647058823532, 0.024967647058823532, 0...   \n7  [0.10115, 0.10115, 0.10305169491525425, 0.1030...   \n8  [0.4941338235294118, 0.14873529411764708, 0.34...   \n9  [0.08748146551724138, 0.08748146551724138, 0.0...   \n\n                              flexibility_start_time  \\\n0  [2023-01-01 19:19:50.513960, 2023-01-02 19:24:...   \n1  [2023-01-01 18:41:09.447567, 2023-01-02 18:36:...   \n2  [2023-01-01 18:25:01.808264, 2023-01-02 18:32:...   \n3  [2023-01-01 18:39:18.682379, 2023-01-02 18:34:...   \n4  [2023-01-01 08:29:46.603847, 2023-01-01 13:23:...   \n5  [2023-01-01 18:25:22.995805, 2023-01-02 18:28:...   \n6  [2023-01-01 18:34:30.480863, 2023-01-02 18:32:...   \n7  [2023-01-01 19:00:24.161107, 2023-01-02 18:54:...   \n8  [2023-01-01 21:44:02.742526, 2023-01-02 21:42:...   \n9  [2023-01-01 18:48:50.928915, 2023-01-02 18:54:...   \n\n                                flexibility_end_time  \\\n0  [2023-01-02 08:04:00, 2023-01-03 07:55:00, 202...   \n1  [2023-01-02 08:03:00, 2023-01-03 08:03:00, 202...   \n2  [2023-01-02 07:56:00, 2023-01-03 08:01:00, 202...   \n3  [2023-01-02 08:03:00, 2023-01-03 07:54:00, 202...   \n4  [2023-01-01 12:54:00, 2023-01-01 18:30:00, 202...   \n5  [2023-01-02 07:54:00, 2023-01-03 08:01:00, 202...   \n6  [2023-01-02 08:03:00, 2023-01-03 07:59:00, 202...   \n7  [2023-01-02 04:57:00, 2023-01-03 04:59:00, 202...   \n8  [2023-01-02 07:57:00, 2023-01-03 07:54:00, 202...   \n9  [2023-01-02 04:57:00, 2023-01-03 05:05:00, 202...   \n\n                                    flexibility_type  \\\n0  [Residential Semi-fast (22 kW), Residential Se...   \n1  [Residential Slow (7.2 kW), Residential Slow (...   \n2  [Residential Slow (7.2 kW), Residential Slow (...   \n3  [Residential Slow (3.6 kW), Residential Slow (...   \n4  [Private Semi-fast (22 kW), Private Semi-fast ...   \n5  [Residential Slow (3.6 kW), Residential Slow (...   \n6  [Residential Slow (3.6 kW), Residential Slow (...   \n7  [Residential Slow (3.6 kW), Residential Slow (...   \n8  [Residential Semi-fast (22 kW), Residential Se...   \n9  [Residential Slow (3.6 kW), Residential Slow (...   \n\n                                   flexibility_power  \\\n0                           [22, 22, 22, 22, 22, 22]   \n1                     [7.2, 7.2, 7.2, 7.2, 7.2, 7.2]   \n2                     [7.2, 7.2, 7.2, 7.2, 7.2, 7.2]   \n3                     [3.6, 3.6, 3.6, 3.6, 3.6, 3.6]   \n4  [22, 22, 22, 22, 22, 22, 22, 22, 22, 22, 22, 2...   \n5                     [3.6, 3.6, 3.6, 3.6, 3.6, 3.6]   \n6                     [3.6, 3.6, 3.6, 3.6, 3.6, 3.6]   \n7                     [3.6, 3.6, 3.6, 3.6, 3.6, 3.6]   \n8                           [22, 22, 22, 22, 22, 22]   \n9                     [3.6, 3.6, 3.6, 3.6, 3.6, 3.6]   \n\n                               flexibility_start_soc  \\\n0                     [0.0, 0.0, 0.0, 0.0, 0.0, 0.0]   \n1                     [0.0, 0.0, 0.0, 0.0, 0.0, 0.0]   \n2                     [0.0, 0.0, 0.0, 0.0, 0.0, 0.0]   \n3                     [0.0, 0.0, 0.0, 0.0, 0.0, 0.0]   \n4  [0.0, 0.0, 0.0, 0.0, 0.0, 0.0, 0.0, 0.0, 0.0, ...   \n5                     [0.0, 0.0, 0.0, 0.0, 0.0, 0.0]   \n6                     [0.0, 0.0, 0.0, 0.0, 0.0, 0.0]   \n7                     [0.0, 0.0, 0.0, 0.0, 0.0, 0.0]   \n8                     [0.0, 0.0, 0.0, 0.0, 0.0, 0.0]   \n9                     [0.0, 0.0, 0.0, 0.0, 0.0, 0.0]   \n\n                                 flexibility_end_soc  \n0                     [0.0, 0.0, 0.0, 0.0, 0.0, 0.0]  \n1                     [0.0, 0.0, 0.0, 0.0, 0.0, 0.0]  \n2                     [0.0, 0.0, 0.0, 0.0, 0.0, 0.0]  \n3                     [0.0, 0.0, 0.0, 0.0, 0.0, 0.0]  \n4  [0.0, 0.0, 0.0, 0.0, 0.0, 0.0, 0.0, 0.0, 0.0, ...  \n5                     [0.0, 0.0, 0.0, 0.0, 0.0, 0.0]  \n6                     [0.0, 0.0, 0.0, 0.0, 0.0, 0.0]  \n7                     [0.0, 0.0, 0.0, 0.0, 0.0, 0.0]  \n8                     [0.0, 0.0, 0.0, 0.0, 0.0, 0.0]  \n9                     [0.0, 0.0, 0.0, 0.0, 0.0, 0.0]  \n\n[10 rows x 41 columns]",
      "text/html": "<div>\n<style scoped>\n    .dataframe tbody tr th:only-of-type {\n        vertical-align: middle;\n    }\n\n    .dataframe tbody tr th {\n        vertical-align: top;\n    }\n\n    .dataframe thead th {\n        text-align: right;\n    }\n</style>\n<table border=\"1\" class=\"dataframe\">\n  <thead>\n    <tr style=\"text-align: right;\">\n      <th></th>\n      <th>brand</th>\n      <th>model</th>\n      <th>battery_type</th>\n      <th>battery_size</th>\n      <th>charging_efficiency</th>\n      <th>discharging_efficiency</th>\n      <th>energy_per_km</th>\n      <th>soc_min</th>\n      <th>soc_max</th>\n      <th>probability_in_population</th>\n      <th>...</th>\n      <th>driving_start_soc</th>\n      <th>driving_end_soc</th>\n      <th>driving_distance</th>\n      <th>driving_energy_consumption</th>\n      <th>flexibility_start_time</th>\n      <th>flexibility_end_time</th>\n      <th>flexibility_type</th>\n      <th>flexibility_power</th>\n      <th>flexibility_start_soc</th>\n      <th>flexibility_end_soc</th>\n    </tr>\n  </thead>\n  <tbody>\n    <tr>\n      <th>0</th>\n      <td>Hyundai</td>\n      <td>Kauai</td>\n      <td>BEV</td>\n      <td>74</td>\n      <td>0.9</td>\n      <td>0.9</td>\n      <td>0.192</td>\n      <td>0.8</td>\n      <td>1.0</td>\n      <td>0.06</td>\n      <td>...</td>\n      <td>[0.97, 0.7003495495495495, 0.9430699099099099,...</td>\n      <td>[0.7003495495495495, 0.4306990990990991, 0.685...</td>\n      <td>[93.535, 93.535, 89.205, 89.205, 95.495, 95.49...</td>\n      <td>[0.2426854054054054, 0.2426854054054054, 0.231...</td>\n      <td>[2023-01-01 19:19:50.513960, 2023-01-02 19:24:...</td>\n      <td>[2023-01-02 08:04:00, 2023-01-03 07:55:00, 202...</td>\n      <td>[Residential Semi-fast (22 kW), Residential Se...</td>\n      <td>[22, 22, 22, 22, 22, 22]</td>\n      <td>[0.0, 0.0, 0.0, 0.0, 0.0, 0.0]</td>\n      <td>[0.0, 0.0, 0.0, 0.0, 0.0, 0.0]</td>\n    </tr>\n    <tr>\n      <th>1</th>\n      <td>Nissan</td>\n      <td>Leaf</td>\n      <td>BEV</td>\n      <td>59</td>\n      <td>0.9</td>\n      <td>0.9</td>\n      <td>0.170</td>\n      <td>0.8</td>\n      <td>1.0</td>\n      <td>0.16</td>\n      <td>...</td>\n      <td>[0.87, 0.8502787193973634, 0.9830557438794727,...</td>\n      <td>[0.8502787193973634, 0.8305574387947269, 0.961...</td>\n      <td>[6.16, 6.16, 6.625, 6.625, 6.135, 6.135, 6.375...</td>\n      <td>[0.017749152542372883, 0.017749152542372883, 0...</td>\n      <td>[2023-01-01 18:41:09.447567, 2023-01-02 18:36:...</td>\n      <td>[2023-01-02 08:03:00, 2023-01-03 08:03:00, 202...</td>\n      <td>[Residential Slow (7.2 kW), Residential Slow (...</td>\n      <td>[7.2, 7.2, 7.2, 7.2, 7.2, 7.2]</td>\n      <td>[0.0, 0.0, 0.0, 0.0, 0.0, 0.0]</td>\n      <td>[0.0, 0.0, 0.0, 0.0, 0.0, 0.0]</td>\n    </tr>\n    <tr>\n      <th>2</th>\n      <td>Wolkswagen</td>\n      <td>ID.3</td>\n      <td>PHEV</td>\n      <td>58</td>\n      <td>0.9</td>\n      <td>0.9</td>\n      <td>0.155</td>\n      <td>0.8</td>\n      <td>1.0</td>\n      <td>0.05</td>\n      <td>...</td>\n      <td>[0.92, 0.91991091954023, 0.991982183908046, 0....</td>\n      <td>[0.91991091954023, 0.9198218390804599, 0.99189...</td>\n      <td>[0.03, 0.03, 0.03, 0.03, 0.03, 0.03, 0.03, 0.0...</td>\n      <td>[8.017241379310344e-05, 8.017241379310344e-05,...</td>\n      <td>[2023-01-01 18:25:01.808264, 2023-01-02 18:32:...</td>\n      <td>[2023-01-02 07:56:00, 2023-01-03 08:01:00, 202...</td>\n      <td>[Residential Slow (7.2 kW), Residential Slow (...</td>\n      <td>[7.2, 7.2, 7.2, 7.2, 7.2, 7.2]</td>\n      <td>[0.0, 0.0, 0.0, 0.0, 0.0, 0.0]</td>\n      <td>[0.0, 0.0, 0.0, 0.0, 0.0, 0.0]</td>\n    </tr>\n    <tr>\n      <th>3</th>\n      <td>Peugeot</td>\n      <td>e-Expert</td>\n      <td>BEV</td>\n      <td>68</td>\n      <td>0.9</td>\n      <td>0.9</td>\n      <td>0.260</td>\n      <td>0.8</td>\n      <td>1.0</td>\n      <td>0.10</td>\n      <td>...</td>\n      <td>[0.9, 0.8732352941176471, 0.9846470588235294, ...</td>\n      <td>[0.8732352941176471, 0.8464705882352942, 0.958...</td>\n      <td>[6.3, 6.3, 6.255, 6.255, 6.245, 6.245, 6.01, 6...</td>\n      <td>[0.024088235294117646, 0.024088235294117646, 0...</td>\n      <td>[2023-01-01 18:39:18.682379, 2023-01-02 18:34:...</td>\n      <td>[2023-01-02 08:03:00, 2023-01-03 07:54:00, 202...</td>\n      <td>[Residential Slow (3.6 kW), Residential Slow (...</td>\n      <td>[3.6, 3.6, 3.6, 3.6, 3.6, 3.6]</td>\n      <td>[0.0, 0.0, 0.0, 0.0, 0.0, 0.0]</td>\n      <td>[0.0, 0.0, 0.0, 0.0, 0.0, 0.0]</td>\n    </tr>\n    <tr>\n      <th>4</th>\n      <td>Tesla</td>\n      <td>Model 3</td>\n      <td>BEV</td>\n      <td>95</td>\n      <td>0.9</td>\n      <td>0.9</td>\n      <td>0.180</td>\n      <td>0.8</td>\n      <td>1.0</td>\n      <td>0.13</td>\n      <td>...</td>\n      <td>[0.91, 0.9804743859649123, 0.9875218245614035,...</td>\n      <td>[0.8047438596491229, 0.8752182456140352, 0.882...</td>\n      <td>[49.99666666666667, 49.99666666666667, 49.9966...</td>\n      <td>[0.09473052631578947, 0.09473052631578947, 0.0...</td>\n      <td>[2023-01-01 08:29:46.603847, 2023-01-01 13:23:...</td>\n      <td>[2023-01-01 12:54:00, 2023-01-01 18:30:00, 202...</td>\n      <td>[Private Semi-fast (22 kW), Private Semi-fast ...</td>\n      <td>[22, 22, 22, 22, 22, 22, 22, 22, 22, 22, 22, 2...</td>\n      <td>[0.0, 0.0, 0.0, 0.0, 0.0, 0.0, 0.0, 0.0, 0.0, ...</td>\n      <td>[0.0, 0.0, 0.0, 0.0, 0.0, 0.0, 0.0, 0.0, 0.0, ...</td>\n    </tr>\n    <tr>\n      <th>5</th>\n      <td>Nissan</td>\n      <td>Leaf</td>\n      <td>BEV</td>\n      <td>59</td>\n      <td>0.9</td>\n      <td>0.9</td>\n      <td>0.170</td>\n      <td>0.8</td>\n      <td>1.0</td>\n      <td>0.16</td>\n      <td>...</td>\n      <td>[0.99, 0.9887674199623352, 0.998753483992467, ...</td>\n      <td>[0.9887674199623352, 0.9875348399246704, 0.997...</td>\n      <td>[0.385, 0.385, 0.38, 0.38, 0.375, 0.375, 0.35,...</td>\n      <td>[0.0011093220338983052, 0.0011093220338983052,...</td>\n      <td>[2023-01-01 18:25:22.995805, 2023-01-02 18:28:...</td>\n      <td>[2023-01-02 07:54:00, 2023-01-03 08:01:00, 202...</td>\n      <td>[Residential Slow (3.6 kW), Residential Slow (...</td>\n      <td>[3.6, 3.6, 3.6, 3.6, 3.6, 3.6]</td>\n      <td>[0.0, 0.0, 0.0, 0.0, 0.0, 0.0]</td>\n      <td>[0.0, 0.0, 0.0, 0.0, 0.0, 0.0]</td>\n    </tr>\n    <tr>\n      <th>6</th>\n      <td>Peugeot</td>\n      <td>e-Expert</td>\n      <td>BEV</td>\n      <td>68</td>\n      <td>0.9</td>\n      <td>0.9</td>\n      <td>0.260</td>\n      <td>0.8</td>\n      <td>1.0</td>\n      <td>0.10</td>\n      <td>...</td>\n      <td>[0.82, 0.7922581699346405, 0.9764516339869281,...</td>\n      <td>[0.7922581699346405, 0.764516339869281, 0.9493...</td>\n      <td>[6.53, 6.53, 6.39, 6.39, 6.245, 6.245, 6.18, 6...</td>\n      <td>[0.024967647058823532, 0.024967647058823532, 0...</td>\n      <td>[2023-01-01 18:34:30.480863, 2023-01-02 18:32:...</td>\n      <td>[2023-01-02 08:03:00, 2023-01-03 07:59:00, 202...</td>\n      <td>[Residential Slow (3.6 kW), Residential Slow (...</td>\n      <td>[3.6, 3.6, 3.6, 3.6, 3.6, 3.6]</td>\n      <td>[0.0, 0.0, 0.0, 0.0, 0.0, 0.0]</td>\n      <td>[0.0, 0.0, 0.0, 0.0, 0.0, 0.0]</td>\n    </tr>\n    <tr>\n      <th>7</th>\n      <td>Nissan</td>\n      <td>Leaf</td>\n      <td>BEV</td>\n      <td>59</td>\n      <td>0.9</td>\n      <td>0.9</td>\n      <td>0.170</td>\n      <td>0.8</td>\n      <td>1.0</td>\n      <td>0.16</td>\n      <td>...</td>\n      <td>[0.86, 0.7476111111111111, 0.9635222222222222,...</td>\n      <td>[0.7476111111111111, 0.6352222222222222, 0.849...</td>\n      <td>[35.105, 35.105, 35.765, 35.765, 34.98, 34.98,...</td>\n      <td>[0.10115, 0.10115, 0.10305169491525425, 0.1030...</td>\n      <td>[2023-01-01 19:00:24.161107, 2023-01-02 18:54:...</td>\n      <td>[2023-01-02 04:57:00, 2023-01-03 04:59:00, 202...</td>\n      <td>[Residential Slow (3.6 kW), Residential Slow (...</td>\n      <td>[3.6, 3.6, 3.6, 3.6, 3.6, 3.6]</td>\n      <td>[0.0, 0.0, 0.0, 0.0, 0.0, 0.0]</td>\n      <td>[0.0, 0.0, 0.0, 0.0, 0.0, 0.0]</td>\n    </tr>\n    <tr>\n      <th>8</th>\n      <td>Peugeot</td>\n      <td>e-Expert</td>\n      <td>BEV</td>\n      <td>68</td>\n      <td>0.9</td>\n      <td>0.9</td>\n      <td>0.260</td>\n      <td>0.8</td>\n      <td>1.0</td>\n      <td>0.10</td>\n      <td>...</td>\n      <td>[0.9, 0.35096241830065356, 0.9185700980392157,...</td>\n      <td>[0.35096241830065356, 0.1857009803921568, 0.53...</td>\n      <td>[129.235, 38.9, 90.33500000000001, 134.17, 58....</td>\n      <td>[0.4941338235294118, 0.14873529411764708, 0.34...</td>\n      <td>[2023-01-01 21:44:02.742526, 2023-01-02 21:42:...</td>\n      <td>[2023-01-02 07:57:00, 2023-01-03 07:54:00, 202...</td>\n      <td>[Residential Semi-fast (22 kW), Residential Se...</td>\n      <td>[22, 22, 22, 22, 22, 22]</td>\n      <td>[0.0, 0.0, 0.0, 0.0, 0.0, 0.0]</td>\n      <td>[0.0, 0.0, 0.0, 0.0, 0.0, 0.0]</td>\n    </tr>\n    <tr>\n      <th>9</th>\n      <td>Wolkswagen</td>\n      <td>ID.3</td>\n      <td>PHEV</td>\n      <td>58</td>\n      <td>0.9</td>\n      <td>0.9</td>\n      <td>0.155</td>\n      <td>0.8</td>\n      <td>1.0</td>\n      <td>0.05</td>\n      <td>...</td>\n      <td>[0.85, 0.7527983716475095, 0.9655596743295018,...</td>\n      <td>[0.7527983716475095, 0.655596743295019, 0.8659...</td>\n      <td>[32.735, 32.735, 33.535, 33.535, 31.36, 31.36,...</td>\n      <td>[0.08748146551724138, 0.08748146551724138, 0.0...</td>\n      <td>[2023-01-01 18:48:50.928915, 2023-01-02 18:54:...</td>\n      <td>[2023-01-02 04:57:00, 2023-01-03 05:05:00, 202...</td>\n      <td>[Residential Slow (3.6 kW), Residential Slow (...</td>\n      <td>[3.6, 3.6, 3.6, 3.6, 3.6, 3.6]</td>\n      <td>[0.0, 0.0, 0.0, 0.0, 0.0, 0.0]</td>\n      <td>[0.0, 0.0, 0.0, 0.0, 0.0, 0.0]</td>\n    </tr>\n  </tbody>\n</table>\n<p>10 rows × 41 columns</p>\n</div>"
     },
     "execution_count": 136,
     "metadata": {},
     "output_type": "execute_result"
    }
   ],
   "source": [
    "# Print the population\n",
    "aggregator.simulation_dataframes['population']"
   ],
   "metadata": {
    "collapsed": false,
    "pycharm": {
     "name": "#%%\n"
    }
   }
  },
  {
   "cell_type": "code",
   "execution_count": 137,
   "outputs": [
    {
     "name": "stdout",
     "output_type": "stream",
     "text": [
      "[63.99, 12.73, 72.45, 151.66, 182.94, 0.74, 12.98, 0.06, 257.81, 12.51]\n"
     ]
    }
   ],
   "source": [
    "print([trip.trip_length for trip in aggregator.trips])"
   ],
   "metadata": {
    "collapsed": false,
    "pycharm": {
     "name": "#%%\n"
    }
   }
  },
  {
   "cell_type": "code",
   "execution_count": 138,
   "outputs": [
    {
     "data": {
      "text/plain": "     trip_length     trip_start_time              trip_end_time  \\\n0         93.535 2023-01-01 08:04:00 2023-01-01 09:00:06.162750   \n1         93.535 2023-01-01 18:24:00 2023-01-01 19:19:50.513960   \n2         89.205 2023-01-02 08:04:00 2023-01-02 08:57:46.351726   \n3         89.205 2023-01-02 18:31:00 2023-01-02 19:24:23.035712   \n4         95.495 2023-01-03 07:55:00 2023-01-03 08:52:02.805665   \n..           ...                 ...                        ...   \n142       31.865 2023-01-05 18:35:00 2023-01-05 18:59:08.235540   \n143       30.890 2023-01-06 04:59:00 2023-01-06 05:22:13.109012   \n144       30.890 2023-01-06 18:31:00 2023-01-06 18:54:04.717370   \n145       30.425 2023-01-07 05:00:00 2023-01-07 05:22:44.857555   \n146       30.425 2023-01-07 18:24:00 2023-01-07 18:46:45.799812   \n\n             trip_duration                                   ev  \\\n0   0 days 00:56:06.162750    Hyundai Kauai with 74 kWh battery   \n1   0 days 00:55:50.513960    Hyundai Kauai with 74 kWh battery   \n2   0 days 00:53:46.351726    Hyundai Kauai with 74 kWh battery   \n3   0 days 00:53:23.035712    Hyundai Kauai with 74 kWh battery   \n4   0 days 00:57:02.805665    Hyundai Kauai with 74 kWh battery   \n..                     ...                                  ...   \n142 0 days 00:24:08.235540  Wolkswagen ID.3 with 58 kWh battery   \n143 0 days 00:23:13.109012  Wolkswagen ID.3 with 58 kWh battery   \n144 0 days 00:23:04.717370  Wolkswagen ID.3 with 58 kWh battery   \n145 0 days 00:22:44.857555  Wolkswagen ID.3 with 58 kWh battery   \n146 0 days 00:22:45.799812  Wolkswagen ID.3 with 58 kWh battery   \n\n                                ev_id  trip_speed  trip_energy_consumption  \\\n0    4203ddc00280e94fd40564a2c4e77168  100.032596                17.958720   \n1    4203ddc00280e94fd40564a2c4e77168  100.499805                17.958720   \n2    4203ddc00280e94fd40564a2c4e77168   99.535955                17.127360   \n3    4203ddc00280e94fd40564a2c4e77168  100.260512                17.127360   \n4    4203ddc00280e94fd40564a2c4e77168  100.438656                18.335040   \n..                                ...         ...                      ...   \n142  ee07ccd67756841e3264fcb247c6b3f9   79.209491                 4.939075   \n143  ee07ccd67756841e3264fcb247c6b3f9   79.824335                 4.787950   \n144  ee07ccd67756841e3264fcb247c6b3f9   80.308085                 4.787950   \n145  ee07ccd67756841e3264fcb247c6b3f9   80.250133                 4.715875   \n146  ee07ccd67756841e3264fcb247c6b3f9   80.194769                 4.715875   \n\n     trip_required_soc  ev_battery_size      trip_estimate_arrival  \\\n0             0.242685               74 2023-01-01 09:00:06.162750   \n1             0.242685               74 2023-01-01 19:19:50.513960   \n2             0.231451               74 2023-01-02 08:57:46.351726   \n3             0.231451               74 2023-01-02 19:24:23.035712   \n4             0.247771               74 2023-01-03 08:52:02.805665   \n..                 ...              ...                        ...   \n142           0.085156               58 2023-01-05 18:59:08.235540   \n143           0.082551               58 2023-01-06 05:22:13.109012   \n144           0.082551               58 2023-01-06 18:54:04.717370   \n145           0.081308               58 2023-01-07 05:22:44.857555   \n146           0.081308               58 2023-01-07 18:46:45.799812   \n\n                      profile                           trip_id  \\\n0      N:Residential4, T:Long  692edaf5f07d58319d6d071ff7dfdff3   \n1      N:Residential4, T:Long  72c089d4cb7d5128a1e98b3a9abab833   \n2      N:Residential4, T:Long  8e85a2f3f15fbd9f78a8ec34b627f5c6   \n3      N:Residential4, T:Long  78d9308cd0092a7b4e116fb0b50877e0   \n4      N:Residential4, T:Long  06b6958d75dfa312014dfebf78ad4857   \n..                        ...                               ...   \n142  N:Residential2, T:Medium  b24ba3d1ff56b17e50e8173b1d4a94af   \n143  N:Residential2, T:Medium  6ffa68f12e76f96f2366e6807a16fba1   \n144  N:Residential2, T:Medium  6ff3a68710f86e94bb44d9b85dd4cb85   \n145  N:Residential2, T:Medium  3b1094dab9e9d69436a5c12558719ddf   \n146  N:Residential2, T:Medium  fd309be0ea1735a7021943acce897ca4   \n\n     covered_distance  \n0              93.535  \n1              93.535  \n2              89.205  \n3              89.205  \n4              95.495  \n..                ...  \n142            31.865  \n143            30.890  \n144            30.890  \n145            30.425  \n146            30.425  \n\n[147 rows x 14 columns]",
      "text/html": "<div>\n<style scoped>\n    .dataframe tbody tr th:only-of-type {\n        vertical-align: middle;\n    }\n\n    .dataframe tbody tr th {\n        vertical-align: top;\n    }\n\n    .dataframe thead th {\n        text-align: right;\n    }\n</style>\n<table border=\"1\" class=\"dataframe\">\n  <thead>\n    <tr style=\"text-align: right;\">\n      <th></th>\n      <th>trip_length</th>\n      <th>trip_start_time</th>\n      <th>trip_end_time</th>\n      <th>trip_duration</th>\n      <th>ev</th>\n      <th>ev_id</th>\n      <th>trip_speed</th>\n      <th>trip_energy_consumption</th>\n      <th>trip_required_soc</th>\n      <th>ev_battery_size</th>\n      <th>trip_estimate_arrival</th>\n      <th>profile</th>\n      <th>trip_id</th>\n      <th>covered_distance</th>\n    </tr>\n  </thead>\n  <tbody>\n    <tr>\n      <th>0</th>\n      <td>93.535</td>\n      <td>2023-01-01 08:04:00</td>\n      <td>2023-01-01 09:00:06.162750</td>\n      <td>0 days 00:56:06.162750</td>\n      <td>Hyundai Kauai with 74 kWh battery</td>\n      <td>4203ddc00280e94fd40564a2c4e77168</td>\n      <td>100.032596</td>\n      <td>17.958720</td>\n      <td>0.242685</td>\n      <td>74</td>\n      <td>2023-01-01 09:00:06.162750</td>\n      <td>N:Residential4, T:Long</td>\n      <td>692edaf5f07d58319d6d071ff7dfdff3</td>\n      <td>93.535</td>\n    </tr>\n    <tr>\n      <th>1</th>\n      <td>93.535</td>\n      <td>2023-01-01 18:24:00</td>\n      <td>2023-01-01 19:19:50.513960</td>\n      <td>0 days 00:55:50.513960</td>\n      <td>Hyundai Kauai with 74 kWh battery</td>\n      <td>4203ddc00280e94fd40564a2c4e77168</td>\n      <td>100.499805</td>\n      <td>17.958720</td>\n      <td>0.242685</td>\n      <td>74</td>\n      <td>2023-01-01 19:19:50.513960</td>\n      <td>N:Residential4, T:Long</td>\n      <td>72c089d4cb7d5128a1e98b3a9abab833</td>\n      <td>93.535</td>\n    </tr>\n    <tr>\n      <th>2</th>\n      <td>89.205</td>\n      <td>2023-01-02 08:04:00</td>\n      <td>2023-01-02 08:57:46.351726</td>\n      <td>0 days 00:53:46.351726</td>\n      <td>Hyundai Kauai with 74 kWh battery</td>\n      <td>4203ddc00280e94fd40564a2c4e77168</td>\n      <td>99.535955</td>\n      <td>17.127360</td>\n      <td>0.231451</td>\n      <td>74</td>\n      <td>2023-01-02 08:57:46.351726</td>\n      <td>N:Residential4, T:Long</td>\n      <td>8e85a2f3f15fbd9f78a8ec34b627f5c6</td>\n      <td>89.205</td>\n    </tr>\n    <tr>\n      <th>3</th>\n      <td>89.205</td>\n      <td>2023-01-02 18:31:00</td>\n      <td>2023-01-02 19:24:23.035712</td>\n      <td>0 days 00:53:23.035712</td>\n      <td>Hyundai Kauai with 74 kWh battery</td>\n      <td>4203ddc00280e94fd40564a2c4e77168</td>\n      <td>100.260512</td>\n      <td>17.127360</td>\n      <td>0.231451</td>\n      <td>74</td>\n      <td>2023-01-02 19:24:23.035712</td>\n      <td>N:Residential4, T:Long</td>\n      <td>78d9308cd0092a7b4e116fb0b50877e0</td>\n      <td>89.205</td>\n    </tr>\n    <tr>\n      <th>4</th>\n      <td>95.495</td>\n      <td>2023-01-03 07:55:00</td>\n      <td>2023-01-03 08:52:02.805665</td>\n      <td>0 days 00:57:02.805665</td>\n      <td>Hyundai Kauai with 74 kWh battery</td>\n      <td>4203ddc00280e94fd40564a2c4e77168</td>\n      <td>100.438656</td>\n      <td>18.335040</td>\n      <td>0.247771</td>\n      <td>74</td>\n      <td>2023-01-03 08:52:02.805665</td>\n      <td>N:Residential4, T:Long</td>\n      <td>06b6958d75dfa312014dfebf78ad4857</td>\n      <td>95.495</td>\n    </tr>\n    <tr>\n      <th>...</th>\n      <td>...</td>\n      <td>...</td>\n      <td>...</td>\n      <td>...</td>\n      <td>...</td>\n      <td>...</td>\n      <td>...</td>\n      <td>...</td>\n      <td>...</td>\n      <td>...</td>\n      <td>...</td>\n      <td>...</td>\n      <td>...</td>\n      <td>...</td>\n    </tr>\n    <tr>\n      <th>142</th>\n      <td>31.865</td>\n      <td>2023-01-05 18:35:00</td>\n      <td>2023-01-05 18:59:08.235540</td>\n      <td>0 days 00:24:08.235540</td>\n      <td>Wolkswagen ID.3 with 58 kWh battery</td>\n      <td>ee07ccd67756841e3264fcb247c6b3f9</td>\n      <td>79.209491</td>\n      <td>4.939075</td>\n      <td>0.085156</td>\n      <td>58</td>\n      <td>2023-01-05 18:59:08.235540</td>\n      <td>N:Residential2, T:Medium</td>\n      <td>b24ba3d1ff56b17e50e8173b1d4a94af</td>\n      <td>31.865</td>\n    </tr>\n    <tr>\n      <th>143</th>\n      <td>30.890</td>\n      <td>2023-01-06 04:59:00</td>\n      <td>2023-01-06 05:22:13.109012</td>\n      <td>0 days 00:23:13.109012</td>\n      <td>Wolkswagen ID.3 with 58 kWh battery</td>\n      <td>ee07ccd67756841e3264fcb247c6b3f9</td>\n      <td>79.824335</td>\n      <td>4.787950</td>\n      <td>0.082551</td>\n      <td>58</td>\n      <td>2023-01-06 05:22:13.109012</td>\n      <td>N:Residential2, T:Medium</td>\n      <td>6ffa68f12e76f96f2366e6807a16fba1</td>\n      <td>30.890</td>\n    </tr>\n    <tr>\n      <th>144</th>\n      <td>30.890</td>\n      <td>2023-01-06 18:31:00</td>\n      <td>2023-01-06 18:54:04.717370</td>\n      <td>0 days 00:23:04.717370</td>\n      <td>Wolkswagen ID.3 with 58 kWh battery</td>\n      <td>ee07ccd67756841e3264fcb247c6b3f9</td>\n      <td>80.308085</td>\n      <td>4.787950</td>\n      <td>0.082551</td>\n      <td>58</td>\n      <td>2023-01-06 18:54:04.717370</td>\n      <td>N:Residential2, T:Medium</td>\n      <td>6ff3a68710f86e94bb44d9b85dd4cb85</td>\n      <td>30.890</td>\n    </tr>\n    <tr>\n      <th>145</th>\n      <td>30.425</td>\n      <td>2023-01-07 05:00:00</td>\n      <td>2023-01-07 05:22:44.857555</td>\n      <td>0 days 00:22:44.857555</td>\n      <td>Wolkswagen ID.3 with 58 kWh battery</td>\n      <td>ee07ccd67756841e3264fcb247c6b3f9</td>\n      <td>80.250133</td>\n      <td>4.715875</td>\n      <td>0.081308</td>\n      <td>58</td>\n      <td>2023-01-07 05:22:44.857555</td>\n      <td>N:Residential2, T:Medium</td>\n      <td>3b1094dab9e9d69436a5c12558719ddf</td>\n      <td>30.425</td>\n    </tr>\n    <tr>\n      <th>146</th>\n      <td>30.425</td>\n      <td>2023-01-07 18:24:00</td>\n      <td>2023-01-07 18:46:45.799812</td>\n      <td>0 days 00:22:45.799812</td>\n      <td>Wolkswagen ID.3 with 58 kWh battery</td>\n      <td>ee07ccd67756841e3264fcb247c6b3f9</td>\n      <td>80.194769</td>\n      <td>4.715875</td>\n      <td>0.081308</td>\n      <td>58</td>\n      <td>2023-01-07 18:46:45.799812</td>\n      <td>N:Residential2, T:Medium</td>\n      <td>fd309be0ea1735a7021943acce897ca4</td>\n      <td>30.425</td>\n    </tr>\n  </tbody>\n</table>\n<p>147 rows × 14 columns</p>\n</div>"
     },
     "execution_count": 138,
     "metadata": {},
     "output_type": "execute_result"
    }
   ],
   "source": [
    "# Assigned segments\n",
    "aggregator.simulation_dataframes['assigned_segments']"
   ],
   "metadata": {
    "collapsed": false,
    "pycharm": {
     "name": "#%%\n"
    }
   }
  },
  {
   "cell_type": "code",
   "execution_count": 139,
   "outputs": [
    {
     "data": {
      "text/plain": "                   start_time                   end_time  start_soc   end_soc  \\\n0  2023-01-01 19:19:50.513960 2023-01-01 21:27:30.198808   0.430699  0.943070   \n1  2023-01-02 19:24:23.035712 2023-01-02 21:32:29.149651   0.428735  0.942873   \n2  2023-01-03 19:28:54.651562 2023-01-03 21:45:11.359926   0.392272  0.939227   \n3  2023-01-04 19:18:25.141326 2023-01-04 21:25:30.472768   0.433252  0.943325   \n4  2023-01-05 19:19:44.505313 2023-01-05 21:30:10.311185   0.418352  0.941835   \n..                        ...                        ...        ...       ...   \n77 2023-01-02 18:54:07.456429 2023-01-02 23:05:01.326799   0.766405  0.976641   \n78 2023-01-03 18:49:43.448094 2023-01-03 22:34:50.810440   0.790403  0.979040   \n79 2023-01-04 18:56:28.639441 2023-01-04 22:48:14.375676   0.784221  0.978422   \n80 2023-01-05 18:59:08.235540 2023-01-05 22:45:34.056077   0.789186  0.978919   \n81 2023-01-06 18:54:04.717370 2023-01-06 22:33:45.398189   0.795472  0.979547   \n\n                               ev_id                   station_type  \\\n0   4203ddc00280e94fd40564a2c4e77168  Residential Semi-fast (22 kW)   \n1   4203ddc00280e94fd40564a2c4e77168  Residential Semi-fast (22 kW)   \n2   4203ddc00280e94fd40564a2c4e77168  Residential Semi-fast (22 kW)   \n3   4203ddc00280e94fd40564a2c4e77168  Residential Semi-fast (22 kW)   \n4   4203ddc00280e94fd40564a2c4e77168  Residential Semi-fast (22 kW)   \n..                               ...                            ...   \n77  ee07ccd67756841e3264fcb247c6b3f9      Residential Slow (3.6 kW)   \n78  ee07ccd67756841e3264fcb247c6b3f9      Residential Slow (3.6 kW)   \n79  ee07ccd67756841e3264fcb247c6b3f9      Residential Slow (3.6 kW)   \n80  ee07ccd67756841e3264fcb247c6b3f9      Residential Slow (3.6 kW)   \n81  ee07ccd67756841e3264fcb247c6b3f9      Residential Slow (3.6 kW)   \n\n    station_power  \n0            22.0  \n1            22.0  \n2            22.0  \n3            22.0  \n4            22.0  \n..            ...  \n77            3.6  \n78            3.6  \n79            3.6  \n80            3.6  \n81            3.6  \n\n[82 rows x 7 columns]",
      "text/html": "<div>\n<style scoped>\n    .dataframe tbody tr th:only-of-type {\n        vertical-align: middle;\n    }\n\n    .dataframe tbody tr th {\n        vertical-align: top;\n    }\n\n    .dataframe thead th {\n        text-align: right;\n    }\n</style>\n<table border=\"1\" class=\"dataframe\">\n  <thead>\n    <tr style=\"text-align: right;\">\n      <th></th>\n      <th>start_time</th>\n      <th>end_time</th>\n      <th>start_soc</th>\n      <th>end_soc</th>\n      <th>ev_id</th>\n      <th>station_type</th>\n      <th>station_power</th>\n    </tr>\n  </thead>\n  <tbody>\n    <tr>\n      <th>0</th>\n      <td>2023-01-01 19:19:50.513960</td>\n      <td>2023-01-01 21:27:30.198808</td>\n      <td>0.430699</td>\n      <td>0.943070</td>\n      <td>4203ddc00280e94fd40564a2c4e77168</td>\n      <td>Residential Semi-fast (22 kW)</td>\n      <td>22.0</td>\n    </tr>\n    <tr>\n      <th>1</th>\n      <td>2023-01-02 19:24:23.035712</td>\n      <td>2023-01-02 21:32:29.149651</td>\n      <td>0.428735</td>\n      <td>0.942873</td>\n      <td>4203ddc00280e94fd40564a2c4e77168</td>\n      <td>Residential Semi-fast (22 kW)</td>\n      <td>22.0</td>\n    </tr>\n    <tr>\n      <th>2</th>\n      <td>2023-01-03 19:28:54.651562</td>\n      <td>2023-01-03 21:45:11.359926</td>\n      <td>0.392272</td>\n      <td>0.939227</td>\n      <td>4203ddc00280e94fd40564a2c4e77168</td>\n      <td>Residential Semi-fast (22 kW)</td>\n      <td>22.0</td>\n    </tr>\n    <tr>\n      <th>3</th>\n      <td>2023-01-04 19:18:25.141326</td>\n      <td>2023-01-04 21:25:30.472768</td>\n      <td>0.433252</td>\n      <td>0.943325</td>\n      <td>4203ddc00280e94fd40564a2c4e77168</td>\n      <td>Residential Semi-fast (22 kW)</td>\n      <td>22.0</td>\n    </tr>\n    <tr>\n      <th>4</th>\n      <td>2023-01-05 19:19:44.505313</td>\n      <td>2023-01-05 21:30:10.311185</td>\n      <td>0.418352</td>\n      <td>0.941835</td>\n      <td>4203ddc00280e94fd40564a2c4e77168</td>\n      <td>Residential Semi-fast (22 kW)</td>\n      <td>22.0</td>\n    </tr>\n    <tr>\n      <th>...</th>\n      <td>...</td>\n      <td>...</td>\n      <td>...</td>\n      <td>...</td>\n      <td>...</td>\n      <td>...</td>\n      <td>...</td>\n    </tr>\n    <tr>\n      <th>77</th>\n      <td>2023-01-02 18:54:07.456429</td>\n      <td>2023-01-02 23:05:01.326799</td>\n      <td>0.766405</td>\n      <td>0.976641</td>\n      <td>ee07ccd67756841e3264fcb247c6b3f9</td>\n      <td>Residential Slow (3.6 kW)</td>\n      <td>3.6</td>\n    </tr>\n    <tr>\n      <th>78</th>\n      <td>2023-01-03 18:49:43.448094</td>\n      <td>2023-01-03 22:34:50.810440</td>\n      <td>0.790403</td>\n      <td>0.979040</td>\n      <td>ee07ccd67756841e3264fcb247c6b3f9</td>\n      <td>Residential Slow (3.6 kW)</td>\n      <td>3.6</td>\n    </tr>\n    <tr>\n      <th>79</th>\n      <td>2023-01-04 18:56:28.639441</td>\n      <td>2023-01-04 22:48:14.375676</td>\n      <td>0.784221</td>\n      <td>0.978422</td>\n      <td>ee07ccd67756841e3264fcb247c6b3f9</td>\n      <td>Residential Slow (3.6 kW)</td>\n      <td>3.6</td>\n    </tr>\n    <tr>\n      <th>80</th>\n      <td>2023-01-05 18:59:08.235540</td>\n      <td>2023-01-05 22:45:34.056077</td>\n      <td>0.789186</td>\n      <td>0.978919</td>\n      <td>ee07ccd67756841e3264fcb247c6b3f9</td>\n      <td>Residential Slow (3.6 kW)</td>\n      <td>3.6</td>\n    </tr>\n    <tr>\n      <th>81</th>\n      <td>2023-01-06 18:54:04.717370</td>\n      <td>2023-01-06 22:33:45.398189</td>\n      <td>0.795472</td>\n      <td>0.979547</td>\n      <td>ee07ccd67756841e3264fcb247c6b3f9</td>\n      <td>Residential Slow (3.6 kW)</td>\n      <td>3.6</td>\n    </tr>\n  </tbody>\n</table>\n<p>82 rows × 7 columns</p>\n</div>"
     },
     "execution_count": 139,
     "metadata": {},
     "output_type": "execute_result"
    }
   ],
   "source": [
    "# Print the charging stations\n",
    "\n",
    "aggregator.simulation_dataframes['cs_history']"
   ],
   "metadata": {
    "collapsed": false,
    "pycharm": {
     "name": "#%%\n"
    }
   }
  },
  {
   "cell_type": "code",
   "execution_count": 140,
   "outputs": [
    {
     "data": {
      "text/plain": "                     4203ddc00280e94fd40564a2c4e77168  \\\n2023-01-01 00:00:00                               0.0   \n2023-01-01 01:00:00                               0.0   \n2023-01-01 02:00:00                               0.0   \n2023-01-01 03:00:00                               0.0   \n2023-01-01 04:00:00                               0.0   \n...                                               ...   \n2023-01-07 19:00:00                               0.0   \n2023-01-07 20:00:00                               0.0   \n2023-01-07 21:00:00                               0.0   \n2023-01-07 22:00:00                               0.0   \n2023-01-07 23:00:00                               0.0   \n\n                     c3bdb2b4133c785067b090b83b25245c  \\\n2023-01-01 00:00:00                               0.0   \n2023-01-01 01:00:00                               0.0   \n2023-01-01 02:00:00                               0.0   \n2023-01-01 03:00:00                               0.0   \n2023-01-01 04:00:00                               0.0   \n...                                               ...   \n2023-01-07 19:00:00                               0.0   \n2023-01-07 20:00:00                               0.0   \n2023-01-07 21:00:00                               0.0   \n2023-01-07 22:00:00                               0.0   \n2023-01-07 23:00:00                               0.0   \n\n                     880dce00cd783e072875369b92198054  \\\n2023-01-01 00:00:00                               0.0   \n2023-01-01 01:00:00                               0.0   \n2023-01-01 02:00:00                               0.0   \n2023-01-01 03:00:00                               0.0   \n2023-01-01 04:00:00                               0.0   \n...                                               ...   \n2023-01-07 19:00:00                               0.0   \n2023-01-07 20:00:00                               0.0   \n2023-01-07 21:00:00                               0.0   \n2023-01-07 22:00:00                               0.0   \n2023-01-07 23:00:00                               0.0   \n\n                     1a59bc663ed5d1b7c78dbe329aaaba81  \\\n2023-01-01 00:00:00                               0.0   \n2023-01-01 01:00:00                               0.0   \n2023-01-01 02:00:00                               0.0   \n2023-01-01 03:00:00                               0.0   \n2023-01-01 04:00:00                               0.0   \n...                                               ...   \n2023-01-07 19:00:00                               0.0   \n2023-01-07 20:00:00                               0.0   \n2023-01-07 21:00:00                               0.0   \n2023-01-07 22:00:00                               0.0   \n2023-01-07 23:00:00                               0.0   \n\n                     0a82095e858d37b29296aaa41da89fb3  \\\n2023-01-01 00:00:00                               0.0   \n2023-01-01 01:00:00                               0.0   \n2023-01-01 02:00:00                               0.0   \n2023-01-01 03:00:00                               0.0   \n2023-01-01 04:00:00                               0.0   \n...                                               ...   \n2023-01-07 19:00:00                               0.0   \n2023-01-07 20:00:00                               0.0   \n2023-01-07 21:00:00                               0.0   \n2023-01-07 22:00:00                               0.0   \n2023-01-07 23:00:00                               0.0   \n\n                     1ef20796a48bc68def0ea6c72ac15a57  \\\n2023-01-01 00:00:00                               0.0   \n2023-01-01 01:00:00                               0.0   \n2023-01-01 02:00:00                               0.0   \n2023-01-01 03:00:00                               0.0   \n2023-01-01 04:00:00                               0.0   \n...                                               ...   \n2023-01-07 19:00:00                               0.0   \n2023-01-07 20:00:00                               0.0   \n2023-01-07 21:00:00                               0.0   \n2023-01-07 22:00:00                               0.0   \n2023-01-07 23:00:00                               0.0   \n\n                     6072d6ba636b772e4631eb25826b1571  \\\n2023-01-01 00:00:00                               0.0   \n2023-01-01 01:00:00                               0.0   \n2023-01-01 02:00:00                               0.0   \n2023-01-01 03:00:00                               0.0   \n2023-01-01 04:00:00                               0.0   \n...                                               ...   \n2023-01-07 19:00:00                               0.0   \n2023-01-07 20:00:00                               0.0   \n2023-01-07 21:00:00                               0.0   \n2023-01-07 22:00:00                               0.0   \n2023-01-07 23:00:00                               0.0   \n\n                     3aec5551abb6897284e3ea54cb125310  \\\n2023-01-01 00:00:00                               0.0   \n2023-01-01 01:00:00                               0.0   \n2023-01-01 02:00:00                               0.0   \n2023-01-01 03:00:00                               0.0   \n2023-01-01 04:00:00                               0.0   \n...                                               ...   \n2023-01-07 19:00:00                               0.0   \n2023-01-07 20:00:00                               0.0   \n2023-01-07 21:00:00                               0.0   \n2023-01-07 22:00:00                               0.0   \n2023-01-07 23:00:00                               0.0   \n\n                     6dabcf8d0dad7012a9c4c67ad21363c6  \\\n2023-01-01 00:00:00                               0.0   \n2023-01-01 01:00:00                               0.0   \n2023-01-01 02:00:00                               0.0   \n2023-01-01 03:00:00                               0.0   \n2023-01-01 04:00:00                               0.0   \n...                                               ...   \n2023-01-07 19:00:00                              50.0   \n2023-01-07 20:00:00                              50.0   \n2023-01-07 21:00:00                              50.0   \n2023-01-07 22:00:00                               0.0   \n2023-01-07 23:00:00                               0.0   \n\n                     ee07ccd67756841e3264fcb247c6b3f9  \n2023-01-01 00:00:00                               0.0  \n2023-01-01 01:00:00                               0.0  \n2023-01-01 02:00:00                               0.0  \n2023-01-01 03:00:00                               0.0  \n2023-01-01 04:00:00                               0.0  \n...                                               ...  \n2023-01-07 19:00:00                               0.0  \n2023-01-07 20:00:00                               0.0  \n2023-01-07 21:00:00                               0.0  \n2023-01-07 22:00:00                               0.0  \n2023-01-07 23:00:00                               0.0  \n\n[168 rows x 10 columns]",
      "text/html": "<div>\n<style scoped>\n    .dataframe tbody tr th:only-of-type {\n        vertical-align: middle;\n    }\n\n    .dataframe tbody tr th {\n        vertical-align: top;\n    }\n\n    .dataframe thead th {\n        text-align: right;\n    }\n</style>\n<table border=\"1\" class=\"dataframe\">\n  <thead>\n    <tr style=\"text-align: right;\">\n      <th></th>\n      <th>4203ddc00280e94fd40564a2c4e77168</th>\n      <th>c3bdb2b4133c785067b090b83b25245c</th>\n      <th>880dce00cd783e072875369b92198054</th>\n      <th>1a59bc663ed5d1b7c78dbe329aaaba81</th>\n      <th>0a82095e858d37b29296aaa41da89fb3</th>\n      <th>1ef20796a48bc68def0ea6c72ac15a57</th>\n      <th>6072d6ba636b772e4631eb25826b1571</th>\n      <th>3aec5551abb6897284e3ea54cb125310</th>\n      <th>6dabcf8d0dad7012a9c4c67ad21363c6</th>\n      <th>ee07ccd67756841e3264fcb247c6b3f9</th>\n    </tr>\n  </thead>\n  <tbody>\n    <tr>\n      <th>2023-01-01 00:00:00</th>\n      <td>0.0</td>\n      <td>0.0</td>\n      <td>0.0</td>\n      <td>0.0</td>\n      <td>0.0</td>\n      <td>0.0</td>\n      <td>0.0</td>\n      <td>0.0</td>\n      <td>0.0</td>\n      <td>0.0</td>\n    </tr>\n    <tr>\n      <th>2023-01-01 01:00:00</th>\n      <td>0.0</td>\n      <td>0.0</td>\n      <td>0.0</td>\n      <td>0.0</td>\n      <td>0.0</td>\n      <td>0.0</td>\n      <td>0.0</td>\n      <td>0.0</td>\n      <td>0.0</td>\n      <td>0.0</td>\n    </tr>\n    <tr>\n      <th>2023-01-01 02:00:00</th>\n      <td>0.0</td>\n      <td>0.0</td>\n      <td>0.0</td>\n      <td>0.0</td>\n      <td>0.0</td>\n      <td>0.0</td>\n      <td>0.0</td>\n      <td>0.0</td>\n      <td>0.0</td>\n      <td>0.0</td>\n    </tr>\n    <tr>\n      <th>2023-01-01 03:00:00</th>\n      <td>0.0</td>\n      <td>0.0</td>\n      <td>0.0</td>\n      <td>0.0</td>\n      <td>0.0</td>\n      <td>0.0</td>\n      <td>0.0</td>\n      <td>0.0</td>\n      <td>0.0</td>\n      <td>0.0</td>\n    </tr>\n    <tr>\n      <th>2023-01-01 04:00:00</th>\n      <td>0.0</td>\n      <td>0.0</td>\n      <td>0.0</td>\n      <td>0.0</td>\n      <td>0.0</td>\n      <td>0.0</td>\n      <td>0.0</td>\n      <td>0.0</td>\n      <td>0.0</td>\n      <td>0.0</td>\n    </tr>\n    <tr>\n      <th>...</th>\n      <td>...</td>\n      <td>...</td>\n      <td>...</td>\n      <td>...</td>\n      <td>...</td>\n      <td>...</td>\n      <td>...</td>\n      <td>...</td>\n      <td>...</td>\n      <td>...</td>\n    </tr>\n    <tr>\n      <th>2023-01-07 19:00:00</th>\n      <td>0.0</td>\n      <td>0.0</td>\n      <td>0.0</td>\n      <td>0.0</td>\n      <td>0.0</td>\n      <td>0.0</td>\n      <td>0.0</td>\n      <td>0.0</td>\n      <td>50.0</td>\n      <td>0.0</td>\n    </tr>\n    <tr>\n      <th>2023-01-07 20:00:00</th>\n      <td>0.0</td>\n      <td>0.0</td>\n      <td>0.0</td>\n      <td>0.0</td>\n      <td>0.0</td>\n      <td>0.0</td>\n      <td>0.0</td>\n      <td>0.0</td>\n      <td>50.0</td>\n      <td>0.0</td>\n    </tr>\n    <tr>\n      <th>2023-01-07 21:00:00</th>\n      <td>0.0</td>\n      <td>0.0</td>\n      <td>0.0</td>\n      <td>0.0</td>\n      <td>0.0</td>\n      <td>0.0</td>\n      <td>0.0</td>\n      <td>0.0</td>\n      <td>50.0</td>\n      <td>0.0</td>\n    </tr>\n    <tr>\n      <th>2023-01-07 22:00:00</th>\n      <td>0.0</td>\n      <td>0.0</td>\n      <td>0.0</td>\n      <td>0.0</td>\n      <td>0.0</td>\n      <td>0.0</td>\n      <td>0.0</td>\n      <td>0.0</td>\n      <td>0.0</td>\n      <td>0.0</td>\n    </tr>\n    <tr>\n      <th>2023-01-07 23:00:00</th>\n      <td>0.0</td>\n      <td>0.0</td>\n      <td>0.0</td>\n      <td>0.0</td>\n      <td>0.0</td>\n      <td>0.0</td>\n      <td>0.0</td>\n      <td>0.0</td>\n      <td>0.0</td>\n      <td>0.0</td>\n    </tr>\n  </tbody>\n</table>\n<p>168 rows × 10 columns</p>\n</div>"
     },
     "execution_count": 140,
     "metadata": {},
     "output_type": "execute_result"
    }
   ],
   "source": [
    "# Print the EV charging history\n",
    "\n",
    "aggregator.simulation_dataframes['ev_charging_history'].transpose()"
   ],
   "metadata": {
    "collapsed": false,
    "pycharm": {
     "name": "#%%\n"
    }
   }
  },
  {
   "cell_type": "code",
   "execution_count": 141,
   "outputs": [
    {
     "data": {
      "text/plain": "             start_time                   end_time  distance  \\\n0   2023-01-01 08:04:00 2023-01-01 09:00:06.162750    93.535   \n1   2023-01-01 18:24:00 2023-01-01 19:19:50.513960    93.535   \n2   2023-01-02 08:04:00 2023-01-02 08:57:46.351726    89.205   \n3   2023-01-02 18:31:00 2023-01-02 19:24:23.035712    89.205   \n4   2023-01-03 07:55:00 2023-01-03 08:52:02.805665    95.495   \n..                  ...                        ...       ...   \n149 2023-01-05 18:35:00 2023-01-05 18:59:08.235540    31.865   \n150 2023-01-06 04:59:00 2023-01-06 05:22:13.109012    30.890   \n151 2023-01-06 18:31:00 2023-01-06 18:54:04.717370    30.890   \n152 2023-01-07 05:00:00 2023-01-07 05:22:44.857555    30.425   \n153 2023-01-07 18:24:00 2023-01-07 18:46:45.799812    30.425   \n\n                                ev_id  \n0    4203ddc00280e94fd40564a2c4e77168  \n1    4203ddc00280e94fd40564a2c4e77168  \n2    4203ddc00280e94fd40564a2c4e77168  \n3    4203ddc00280e94fd40564a2c4e77168  \n4    4203ddc00280e94fd40564a2c4e77168  \n..                                ...  \n149  ee07ccd67756841e3264fcb247c6b3f9  \n150  ee07ccd67756841e3264fcb247c6b3f9  \n151  ee07ccd67756841e3264fcb247c6b3f9  \n152  ee07ccd67756841e3264fcb247c6b3f9  \n153  ee07ccd67756841e3264fcb247c6b3f9  \n\n[154 rows x 4 columns]",
      "text/html": "<div>\n<style scoped>\n    .dataframe tbody tr th:only-of-type {\n        vertical-align: middle;\n    }\n\n    .dataframe tbody tr th {\n        vertical-align: top;\n    }\n\n    .dataframe thead th {\n        text-align: right;\n    }\n</style>\n<table border=\"1\" class=\"dataframe\">\n  <thead>\n    <tr style=\"text-align: right;\">\n      <th></th>\n      <th>start_time</th>\n      <th>end_time</th>\n      <th>distance</th>\n      <th>ev_id</th>\n    </tr>\n  </thead>\n  <tbody>\n    <tr>\n      <th>0</th>\n      <td>2023-01-01 08:04:00</td>\n      <td>2023-01-01 09:00:06.162750</td>\n      <td>93.535</td>\n      <td>4203ddc00280e94fd40564a2c4e77168</td>\n    </tr>\n    <tr>\n      <th>1</th>\n      <td>2023-01-01 18:24:00</td>\n      <td>2023-01-01 19:19:50.513960</td>\n      <td>93.535</td>\n      <td>4203ddc00280e94fd40564a2c4e77168</td>\n    </tr>\n    <tr>\n      <th>2</th>\n      <td>2023-01-02 08:04:00</td>\n      <td>2023-01-02 08:57:46.351726</td>\n      <td>89.205</td>\n      <td>4203ddc00280e94fd40564a2c4e77168</td>\n    </tr>\n    <tr>\n      <th>3</th>\n      <td>2023-01-02 18:31:00</td>\n      <td>2023-01-02 19:24:23.035712</td>\n      <td>89.205</td>\n      <td>4203ddc00280e94fd40564a2c4e77168</td>\n    </tr>\n    <tr>\n      <th>4</th>\n      <td>2023-01-03 07:55:00</td>\n      <td>2023-01-03 08:52:02.805665</td>\n      <td>95.495</td>\n      <td>4203ddc00280e94fd40564a2c4e77168</td>\n    </tr>\n    <tr>\n      <th>...</th>\n      <td>...</td>\n      <td>...</td>\n      <td>...</td>\n      <td>...</td>\n    </tr>\n    <tr>\n      <th>149</th>\n      <td>2023-01-05 18:35:00</td>\n      <td>2023-01-05 18:59:08.235540</td>\n      <td>31.865</td>\n      <td>ee07ccd67756841e3264fcb247c6b3f9</td>\n    </tr>\n    <tr>\n      <th>150</th>\n      <td>2023-01-06 04:59:00</td>\n      <td>2023-01-06 05:22:13.109012</td>\n      <td>30.890</td>\n      <td>ee07ccd67756841e3264fcb247c6b3f9</td>\n    </tr>\n    <tr>\n      <th>151</th>\n      <td>2023-01-06 18:31:00</td>\n      <td>2023-01-06 18:54:04.717370</td>\n      <td>30.890</td>\n      <td>ee07ccd67756841e3264fcb247c6b3f9</td>\n    </tr>\n    <tr>\n      <th>152</th>\n      <td>2023-01-07 05:00:00</td>\n      <td>2023-01-07 05:22:44.857555</td>\n      <td>30.425</td>\n      <td>ee07ccd67756841e3264fcb247c6b3f9</td>\n    </tr>\n    <tr>\n      <th>153</th>\n      <td>2023-01-07 18:24:00</td>\n      <td>2023-01-07 18:46:45.799812</td>\n      <td>30.425</td>\n      <td>ee07ccd67756841e3264fcb247c6b3f9</td>\n    </tr>\n  </tbody>\n</table>\n<p>154 rows × 4 columns</p>\n</div>"
     },
     "execution_count": 141,
     "metadata": {},
     "output_type": "execute_result"
    }
   ],
   "source": [
    "# Print the EV driving history\n",
    "\n",
    "aggregator.simulation_dataframes['ev_driving']"
   ],
   "metadata": {
    "collapsed": false,
    "pycharm": {
     "name": "#%%\n"
    }
   }
  },
  {
   "cell_type": "code",
   "execution_count": 142,
   "outputs": [
    {
     "data": {
      "text/plain": "                     4203ddc00280e94fd40564a2c4e77168  \\\n2023-01-01 00:00:00                                 0   \n2023-01-01 01:00:00                                 0   \n2023-01-01 02:00:00                                 0   \n2023-01-01 03:00:00                                 0   \n2023-01-01 04:00:00                                 0   \n...                                               ...   \n2023-01-07 19:00:00                                 1   \n2023-01-07 20:00:00                                 0   \n2023-01-07 21:00:00                                 0   \n2023-01-07 22:00:00                                 0   \n2023-01-07 23:00:00                                 0   \n\n                     c3bdb2b4133c785067b090b83b25245c  \\\n2023-01-01 00:00:00                                 0   \n2023-01-01 01:00:00                                 0   \n2023-01-01 02:00:00                                 0   \n2023-01-01 03:00:00                                 0   \n2023-01-01 04:00:00                                 0   \n...                                               ...   \n2023-01-07 19:00:00                                 0   \n2023-01-07 20:00:00                                 0   \n2023-01-07 21:00:00                                 0   \n2023-01-07 22:00:00                                 0   \n2023-01-07 23:00:00                                 0   \n\n                     880dce00cd783e072875369b92198054  \\\n2023-01-01 00:00:00                                 0   \n2023-01-01 01:00:00                                 0   \n2023-01-01 02:00:00                                 0   \n2023-01-01 03:00:00                                 0   \n2023-01-01 04:00:00                                 0   \n...                                               ...   \n2023-01-07 19:00:00                                 0   \n2023-01-07 20:00:00                                 0   \n2023-01-07 21:00:00                                 0   \n2023-01-07 22:00:00                                 0   \n2023-01-07 23:00:00                                 0   \n\n                     1a59bc663ed5d1b7c78dbe329aaaba81  \\\n2023-01-01 00:00:00                                 0   \n2023-01-01 01:00:00                                 0   \n2023-01-01 02:00:00                                 0   \n2023-01-01 03:00:00                                 0   \n2023-01-01 04:00:00                                 0   \n...                                               ...   \n2023-01-07 19:00:00                                 0   \n2023-01-07 20:00:00                                 0   \n2023-01-07 21:00:00                                 0   \n2023-01-07 22:00:00                                 0   \n2023-01-07 23:00:00                                 0   \n\n                     0a82095e858d37b29296aaa41da89fb3  \\\n2023-01-01 00:00:00                                 0   \n2023-01-01 01:00:00                                 0   \n2023-01-01 02:00:00                                 0   \n2023-01-01 03:00:00                                 0   \n2023-01-01 04:00:00                                 0   \n...                                               ...   \n2023-01-07 19:00:00                                 1   \n2023-01-07 20:00:00                                 0   \n2023-01-07 21:00:00                                 0   \n2023-01-07 22:00:00                                 0   \n2023-01-07 23:00:00                                 0   \n\n                     1ef20796a48bc68def0ea6c72ac15a57  \\\n2023-01-01 00:00:00                                 0   \n2023-01-01 01:00:00                                 0   \n2023-01-01 02:00:00                                 0   \n2023-01-01 03:00:00                                 0   \n2023-01-01 04:00:00                                 0   \n...                                               ...   \n2023-01-07 19:00:00                                 0   \n2023-01-07 20:00:00                                 0   \n2023-01-07 21:00:00                                 0   \n2023-01-07 22:00:00                                 0   \n2023-01-07 23:00:00                                 0   \n\n                     6072d6ba636b772e4631eb25826b1571  \\\n2023-01-01 00:00:00                                 0   \n2023-01-01 01:00:00                                 0   \n2023-01-01 02:00:00                                 0   \n2023-01-01 03:00:00                                 0   \n2023-01-01 04:00:00                                 0   \n...                                               ...   \n2023-01-07 19:00:00                                 0   \n2023-01-07 20:00:00                                 0   \n2023-01-07 21:00:00                                 0   \n2023-01-07 22:00:00                                 0   \n2023-01-07 23:00:00                                 0   \n\n                     3aec5551abb6897284e3ea54cb125310  \\\n2023-01-01 00:00:00                                 0   \n2023-01-01 01:00:00                                 0   \n2023-01-01 02:00:00                                 0   \n2023-01-01 03:00:00                                 0   \n2023-01-01 04:00:00                                 1   \n...                                               ...   \n2023-01-07 19:00:00                                 0   \n2023-01-07 20:00:00                                 0   \n2023-01-07 21:00:00                                 0   \n2023-01-07 22:00:00                                 0   \n2023-01-07 23:00:00                                 0   \n\n                     6dabcf8d0dad7012a9c4c67ad21363c6  \\\n2023-01-01 00:00:00                                 0   \n2023-01-01 01:00:00                                 0   \n2023-01-01 02:00:00                                 0   \n2023-01-01 03:00:00                                 0   \n2023-01-01 04:00:00                                 0   \n...                                               ...   \n2023-01-07 19:00:00                                 1   \n2023-01-07 20:00:00                                 1   \n2023-01-07 21:00:00                                 1   \n2023-01-07 22:00:00                                 0   \n2023-01-07 23:00:00                                 0   \n\n                     ee07ccd67756841e3264fcb247c6b3f9  \n2023-01-01 00:00:00                                 0  \n2023-01-01 01:00:00                                 0  \n2023-01-01 02:00:00                                 0  \n2023-01-01 03:00:00                                 0  \n2023-01-01 04:00:00                                 0  \n...                                               ...  \n2023-01-07 19:00:00                                 0  \n2023-01-07 20:00:00                                 0  \n2023-01-07 21:00:00                                 0  \n2023-01-07 22:00:00                                 0  \n2023-01-07 23:00:00                                 0  \n\n[168 rows x 10 columns]",
      "text/html": "<div>\n<style scoped>\n    .dataframe tbody tr th:only-of-type {\n        vertical-align: middle;\n    }\n\n    .dataframe tbody tr th {\n        vertical-align: top;\n    }\n\n    .dataframe thead th {\n        text-align: right;\n    }\n</style>\n<table border=\"1\" class=\"dataframe\">\n  <thead>\n    <tr style=\"text-align: right;\">\n      <th></th>\n      <th>4203ddc00280e94fd40564a2c4e77168</th>\n      <th>c3bdb2b4133c785067b090b83b25245c</th>\n      <th>880dce00cd783e072875369b92198054</th>\n      <th>1a59bc663ed5d1b7c78dbe329aaaba81</th>\n      <th>0a82095e858d37b29296aaa41da89fb3</th>\n      <th>1ef20796a48bc68def0ea6c72ac15a57</th>\n      <th>6072d6ba636b772e4631eb25826b1571</th>\n      <th>3aec5551abb6897284e3ea54cb125310</th>\n      <th>6dabcf8d0dad7012a9c4c67ad21363c6</th>\n      <th>ee07ccd67756841e3264fcb247c6b3f9</th>\n    </tr>\n  </thead>\n  <tbody>\n    <tr>\n      <th>2023-01-01 00:00:00</th>\n      <td>0</td>\n      <td>0</td>\n      <td>0</td>\n      <td>0</td>\n      <td>0</td>\n      <td>0</td>\n      <td>0</td>\n      <td>0</td>\n      <td>0</td>\n      <td>0</td>\n    </tr>\n    <tr>\n      <th>2023-01-01 01:00:00</th>\n      <td>0</td>\n      <td>0</td>\n      <td>0</td>\n      <td>0</td>\n      <td>0</td>\n      <td>0</td>\n      <td>0</td>\n      <td>0</td>\n      <td>0</td>\n      <td>0</td>\n    </tr>\n    <tr>\n      <th>2023-01-01 02:00:00</th>\n      <td>0</td>\n      <td>0</td>\n      <td>0</td>\n      <td>0</td>\n      <td>0</td>\n      <td>0</td>\n      <td>0</td>\n      <td>0</td>\n      <td>0</td>\n      <td>0</td>\n    </tr>\n    <tr>\n      <th>2023-01-01 03:00:00</th>\n      <td>0</td>\n      <td>0</td>\n      <td>0</td>\n      <td>0</td>\n      <td>0</td>\n      <td>0</td>\n      <td>0</td>\n      <td>0</td>\n      <td>0</td>\n      <td>0</td>\n    </tr>\n    <tr>\n      <th>2023-01-01 04:00:00</th>\n      <td>0</td>\n      <td>0</td>\n      <td>0</td>\n      <td>0</td>\n      <td>0</td>\n      <td>0</td>\n      <td>0</td>\n      <td>1</td>\n      <td>0</td>\n      <td>0</td>\n    </tr>\n    <tr>\n      <th>...</th>\n      <td>...</td>\n      <td>...</td>\n      <td>...</td>\n      <td>...</td>\n      <td>...</td>\n      <td>...</td>\n      <td>...</td>\n      <td>...</td>\n      <td>...</td>\n      <td>...</td>\n    </tr>\n    <tr>\n      <th>2023-01-07 19:00:00</th>\n      <td>1</td>\n      <td>0</td>\n      <td>0</td>\n      <td>0</td>\n      <td>1</td>\n      <td>0</td>\n      <td>0</td>\n      <td>0</td>\n      <td>1</td>\n      <td>0</td>\n    </tr>\n    <tr>\n      <th>2023-01-07 20:00:00</th>\n      <td>0</td>\n      <td>0</td>\n      <td>0</td>\n      <td>0</td>\n      <td>0</td>\n      <td>0</td>\n      <td>0</td>\n      <td>0</td>\n      <td>1</td>\n      <td>0</td>\n    </tr>\n    <tr>\n      <th>2023-01-07 21:00:00</th>\n      <td>0</td>\n      <td>0</td>\n      <td>0</td>\n      <td>0</td>\n      <td>0</td>\n      <td>0</td>\n      <td>0</td>\n      <td>0</td>\n      <td>1</td>\n      <td>0</td>\n    </tr>\n    <tr>\n      <th>2023-01-07 22:00:00</th>\n      <td>0</td>\n      <td>0</td>\n      <td>0</td>\n      <td>0</td>\n      <td>0</td>\n      <td>0</td>\n      <td>0</td>\n      <td>0</td>\n      <td>0</td>\n      <td>0</td>\n    </tr>\n    <tr>\n      <th>2023-01-07 23:00:00</th>\n      <td>0</td>\n      <td>0</td>\n      <td>0</td>\n      <td>0</td>\n      <td>0</td>\n      <td>0</td>\n      <td>0</td>\n      <td>0</td>\n      <td>0</td>\n      <td>0</td>\n    </tr>\n  </tbody>\n</table>\n<p>168 rows × 10 columns</p>\n</div>"
     },
     "execution_count": 142,
     "metadata": {},
     "output_type": "execute_result"
    }
   ],
   "source": [
    "# Print the EV driving timeseries\n",
    "\n",
    "aggregator.simulation_dataframes['ev_driving_history'].transpose()"
   ],
   "metadata": {
    "collapsed": false,
    "pycharm": {
     "name": "#%%\n"
    }
   }
  },
  {
   "cell_type": "code",
   "execution_count": 143,
   "outputs": [
    {
     "data": {
      "text/plain": "<Figure size 432x288 with 1 Axes>",
      "image/png": "[encoded data removed]"
     },
     "metadata": {},
     "output_type": "display_data"
    }
   ],
   "source": [
    "# Plot the population brand in a pie chart\n",
    "\n",
    "# Values of each group\n",
    "brand_values = aggregator.simulation_dataframes['population']['brand'].value_counts()\n",
    "plt.pie(brand_values, labels=brand_values.index, autopct='%1.1f%%')\n",
    "\n",
    "# View the plot\n",
    "plt.axis('equal')\n",
    "plt.show()"
   ],
   "metadata": {
    "collapsed": false,
    "pycharm": {
     "name": "#%%\n"
    }
   }
  },
  {
   "cell_type": "code",
   "execution_count": 144,
   "outputs": [
    {
     "data": {
      "text/plain": "<Figure size 432x288 with 1 Axes>",
      "image/png": "[encoded data removed]"
     },
     "metadata": {
      "needs_background": "light"
     },
     "output_type": "display_data"
    }
   ],
   "source": [
    "# Plot the trip distances in a histogram\n",
    "plt.hist(aggregator.simulation_dataframes['assigned_trips']['trip_length'], bins=40)\n",
    "plt.show()"
   ],
   "metadata": {
    "collapsed": false,
    "pycharm": {
     "name": "#%%\n"
    }
   }
  },
  {
   "cell_type": "code",
   "execution_count": 145,
   "outputs": [
    {
     "data": {
      "text/plain": "<Figure size 432x288 with 1 Axes>",
      "image/png": "[encoded data removed]"
     },
     "metadata": {
      "needs_background": "light"
     },
     "output_type": "display_data"
    }
   ],
   "source": [
    "# Plot the segment distances in a histogram\n",
    "plt.hist(aggregator.simulation_dataframes['assigned_segments']['trip_length'], bins=20)\n",
    "plt.show()"
   ],
   "metadata": {
    "collapsed": false,
    "pycharm": {
     "name": "#%%\n"
    }
   }
  },
  {
   "cell_type": "code",
   "execution_count": 146,
   "outputs": [
    {
     "data": {
      "text/plain": "76.787"
     },
     "execution_count": 146,
     "metadata": {},
     "output_type": "execute_result"
    }
   ],
   "source": [
    "aggregator.simulation_dataframes['assigned_trips']['trip_length'].mean()"
   ],
   "metadata": {
    "collapsed": false,
    "pycharm": {
     "name": "#%%\n"
    }
   }
  },
  {
   "cell_type": "code",
   "execution_count": 147,
   "outputs": [
    {
     "data": {
      "text/plain": "                   start_time                   end_time  start_soc   end_soc  \\\n0  2023-01-01 19:19:50.513960 2023-01-01 21:27:30.198808   0.430699  0.943070   \n1  2023-01-02 19:24:23.035712 2023-01-02 21:32:29.149651   0.428735  0.942873   \n2  2023-01-03 19:28:54.651562 2023-01-03 21:45:11.359926   0.392272  0.939227   \n3  2023-01-04 19:18:25.141326 2023-01-04 21:25:30.472768   0.433252  0.943325   \n4  2023-01-05 19:19:44.505313 2023-01-05 21:30:10.311185   0.418352  0.941835   \n..                        ...                        ...        ...       ...   \n77 2023-01-02 18:54:07.456429 2023-01-02 23:05:01.326799   0.766405  0.976641   \n78 2023-01-03 18:49:43.448094 2023-01-03 22:34:50.810440   0.790403  0.979040   \n79 2023-01-04 18:56:28.639441 2023-01-04 22:48:14.375676   0.784221  0.978422   \n80 2023-01-05 18:59:08.235540 2023-01-05 22:45:34.056077   0.789186  0.978919   \n81 2023-01-06 18:54:04.717370 2023-01-06 22:33:45.398189   0.795472  0.979547   \n\n                               ev_id                   station_type  \\\n0   4203ddc00280e94fd40564a2c4e77168  Residential Semi-fast (22 kW)   \n1   4203ddc00280e94fd40564a2c4e77168  Residential Semi-fast (22 kW)   \n2   4203ddc00280e94fd40564a2c4e77168  Residential Semi-fast (22 kW)   \n3   4203ddc00280e94fd40564a2c4e77168  Residential Semi-fast (22 kW)   \n4   4203ddc00280e94fd40564a2c4e77168  Residential Semi-fast (22 kW)   \n..                               ...                            ...   \n77  ee07ccd67756841e3264fcb247c6b3f9      Residential Slow (3.6 kW)   \n78  ee07ccd67756841e3264fcb247c6b3f9      Residential Slow (3.6 kW)   \n79  ee07ccd67756841e3264fcb247c6b3f9      Residential Slow (3.6 kW)   \n80  ee07ccd67756841e3264fcb247c6b3f9      Residential Slow (3.6 kW)   \n81  ee07ccd67756841e3264fcb247c6b3f9      Residential Slow (3.6 kW)   \n\n    station_power  \n0            22.0  \n1            22.0  \n2            22.0  \n3            22.0  \n4            22.0  \n..            ...  \n77            3.6  \n78            3.6  \n79            3.6  \n80            3.6  \n81            3.6  \n\n[82 rows x 7 columns]",
      "text/html": "<div>\n<style scoped>\n    .dataframe tbody tr th:only-of-type {\n        vertical-align: middle;\n    }\n\n    .dataframe tbody tr th {\n        vertical-align: top;\n    }\n\n    .dataframe thead th {\n        text-align: right;\n    }\n</style>\n<table border=\"1\" class=\"dataframe\">\n  <thead>\n    <tr style=\"text-align: right;\">\n      <th></th>\n      <th>start_time</th>\n      <th>end_time</th>\n      <th>start_soc</th>\n      <th>end_soc</th>\n      <th>ev_id</th>\n      <th>station_type</th>\n      <th>station_power</th>\n    </tr>\n  </thead>\n  <tbody>\n    <tr>\n      <th>0</th>\n      <td>2023-01-01 19:19:50.513960</td>\n      <td>2023-01-01 21:27:30.198808</td>\n      <td>0.430699</td>\n      <td>0.943070</td>\n      <td>4203ddc00280e94fd40564a2c4e77168</td>\n      <td>Residential Semi-fast (22 kW)</td>\n      <td>22.0</td>\n    </tr>\n    <tr>\n      <th>1</th>\n      <td>2023-01-02 19:24:23.035712</td>\n      <td>2023-01-02 21:32:29.149651</td>\n      <td>0.428735</td>\n      <td>0.942873</td>\n      <td>4203ddc00280e94fd40564a2c4e77168</td>\n      <td>Residential Semi-fast (22 kW)</td>\n      <td>22.0</td>\n    </tr>\n    <tr>\n      <th>2</th>\n      <td>2023-01-03 19:28:54.651562</td>\n      <td>2023-01-03 21:45:11.359926</td>\n      <td>0.392272</td>\n      <td>0.939227</td>\n      <td>4203ddc00280e94fd40564a2c4e77168</td>\n      <td>Residential Semi-fast (22 kW)</td>\n      <td>22.0</td>\n    </tr>\n    <tr>\n      <th>3</th>\n      <td>2023-01-04 19:18:25.141326</td>\n      <td>2023-01-04 21:25:30.472768</td>\n      <td>0.433252</td>\n      <td>0.943325</td>\n      <td>4203ddc00280e94fd40564a2c4e77168</td>\n      <td>Residential Semi-fast (22 kW)</td>\n      <td>22.0</td>\n    </tr>\n    <tr>\n      <th>4</th>\n      <td>2023-01-05 19:19:44.505313</td>\n      <td>2023-01-05 21:30:10.311185</td>\n      <td>0.418352</td>\n      <td>0.941835</td>\n      <td>4203ddc00280e94fd40564a2c4e77168</td>\n      <td>Residential Semi-fast (22 kW)</td>\n      <td>22.0</td>\n    </tr>\n    <tr>\n      <th>...</th>\n      <td>...</td>\n      <td>...</td>\n      <td>...</td>\n      <td>...</td>\n      <td>...</td>\n      <td>...</td>\n      <td>...</td>\n    </tr>\n    <tr>\n      <th>77</th>\n      <td>2023-01-02 18:54:07.456429</td>\n      <td>2023-01-02 23:05:01.326799</td>\n      <td>0.766405</td>\n      <td>0.976641</td>\n      <td>ee07ccd67756841e3264fcb247c6b3f9</td>\n      <td>Residential Slow (3.6 kW)</td>\n      <td>3.6</td>\n    </tr>\n    <tr>\n      <th>78</th>\n      <td>2023-01-03 18:49:43.448094</td>\n      <td>2023-01-03 22:34:50.810440</td>\n      <td>0.790403</td>\n      <td>0.979040</td>\n      <td>ee07ccd67756841e3264fcb247c6b3f9</td>\n      <td>Residential Slow (3.6 kW)</td>\n      <td>3.6</td>\n    </tr>\n    <tr>\n      <th>79</th>\n      <td>2023-01-04 18:56:28.639441</td>\n      <td>2023-01-04 22:48:14.375676</td>\n      <td>0.784221</td>\n      <td>0.978422</td>\n      <td>ee07ccd67756841e3264fcb247c6b3f9</td>\n      <td>Residential Slow (3.6 kW)</td>\n      <td>3.6</td>\n    </tr>\n    <tr>\n      <th>80</th>\n      <td>2023-01-05 18:59:08.235540</td>\n      <td>2023-01-05 22:45:34.056077</td>\n      <td>0.789186</td>\n      <td>0.978919</td>\n      <td>ee07ccd67756841e3264fcb247c6b3f9</td>\n      <td>Residential Slow (3.6 kW)</td>\n      <td>3.6</td>\n    </tr>\n    <tr>\n      <th>81</th>\n      <td>2023-01-06 18:54:04.717370</td>\n      <td>2023-01-06 22:33:45.398189</td>\n      <td>0.795472</td>\n      <td>0.979547</td>\n      <td>ee07ccd67756841e3264fcb247c6b3f9</td>\n      <td>Residential Slow (3.6 kW)</td>\n      <td>3.6</td>\n    </tr>\n  </tbody>\n</table>\n<p>82 rows × 7 columns</p>\n</div>"
     },
     "execution_count": 147,
     "metadata": {},
     "output_type": "execute_result"
    }
   ],
   "source": [
    "# EV charging history\n",
    "\n",
    "aggregator.simulation_dataframes['cs_history']"
   ],
   "metadata": {
    "collapsed": false,
    "pycharm": {
     "name": "#%%\n"
    }
   }
  },
  {
   "cell_type": "code",
   "execution_count": 148,
   "outputs": [
    {
     "data": {
      "text/plain": "2023-01-01 00:00:00    0\n2023-01-01 01:00:00    0\n2023-01-01 02:00:00    0\n2023-01-01 03:00:00    0\n2023-01-01 04:00:00    0\n                      ..\n2023-01-07 19:00:00    1\n2023-01-07 20:00:00    1\n2023-01-07 21:00:00    1\n2023-01-07 22:00:00    0\n2023-01-07 23:00:00    0\nFreq: H, Length: 168, dtype: int64"
     },
     "execution_count": 148,
     "metadata": {},
     "output_type": "execute_result"
    }
   ],
   "source": [
    "np.sum(aggregator.simulation_dataframes['ev_charging_history'] > 0)"
   ],
   "metadata": {
    "collapsed": false,
    "pycharm": {
     "name": "#%%\n"
    }
   }
  },
  {
   "cell_type": "code",
   "execution_count": 149,
   "outputs": [
    {
     "data": {
      "text/plain": "<Figure size 1440x720 with 1 Axes>",
      "image/png": "[encoded data removed]"
     },
     "metadata": {
      "needs_background": "light"
     },
     "output_type": "display_data"
    }
   ],
   "source": [
    "\n",
    "# Pick a Day. If None, every day is plotted\n",
    "\n",
    "DAY = None\n",
    "\n",
    "# Create a figure\n",
    "fig = plt.figure(figsize=(20, 10))\n",
    "\n",
    "# Plot the data\n",
    "if DAY is not None:\n",
    "    plt.plot(np.sum(aggregator.simulation_dataframes['ev_charging_history'].transpose().loc[DAY].transpose() > 0, axis=0).ravel())\n",
    "else:\n",
    "    for i in range(1, aggregator.simulation_cycles + 1):\n",
    "        plt.plot(np.sum(aggregator.simulation_dataframes['ev_charging_history'].transpose().loc['2023-01-{:02d}'.format(i)].transpose() > 0, axis=0).ravel())\n",
    "\n",
    "# Set the title\n",
    "plt.title('Charging Station Usage')\n",
    "\n",
    "# Set the x-axis label\n",
    "plt.xlabel('Hour')\n",
    "\n",
    "# Set the y-axis label\n",
    "plt.ylabel('Number of EVs')\n",
    "\n",
    "# Set the legend\n",
    "if DAY is not None:\n",
    "    plt.legend(['Day {}'.format(DAY)])\n",
    "else:\n",
    "    plt.legend(['Day {}'.format(i) for i in range(1, len(aggregator.simulation_dataframes) + 1)])\n",
    "\n",
    "plt.show()"
   ],
   "metadata": {
    "collapsed": false,
    "pycharm": {
     "name": "#%%\n"
    }
   }
  },
  {
   "cell_type": "code",
   "execution_count": 150,
   "outputs": [
    {
     "data": {
      "text/plain": "                                  2023-01-01 00:00:00  2023-01-01 01:00:00  \\\n4203ddc00280e94fd40564a2c4e77168                    0                    0   \nc3bdb2b4133c785067b090b83b25245c                    0                    0   \n880dce00cd783e072875369b92198054                    0                    0   \n1a59bc663ed5d1b7c78dbe329aaaba81                    0                    0   \n0a82095e858d37b29296aaa41da89fb3                    0                    0   \n1ef20796a48bc68def0ea6c72ac15a57                    0                    0   \n6072d6ba636b772e4631eb25826b1571                    0                    0   \n3aec5551abb6897284e3ea54cb125310                    0                    0   \n6dabcf8d0dad7012a9c4c67ad21363c6                    0                    0   \nee07ccd67756841e3264fcb247c6b3f9                    0                    0   \n\n                                  2023-01-01 02:00:00  2023-01-01 03:00:00  \\\n4203ddc00280e94fd40564a2c4e77168                    0                    0   \nc3bdb2b4133c785067b090b83b25245c                    0                    0   \n880dce00cd783e072875369b92198054                    0                    0   \n1a59bc663ed5d1b7c78dbe329aaaba81                    0                    0   \n0a82095e858d37b29296aaa41da89fb3                    0                    0   \n1ef20796a48bc68def0ea6c72ac15a57                    0                    0   \n6072d6ba636b772e4631eb25826b1571                    0                    0   \n3aec5551abb6897284e3ea54cb125310                    0                    0   \n6dabcf8d0dad7012a9c4c67ad21363c6                    0                    0   \nee07ccd67756841e3264fcb247c6b3f9                    0                    0   \n\n                                  2023-01-01 04:00:00  2023-01-01 05:00:00  \\\n4203ddc00280e94fd40564a2c4e77168                    0                    0   \nc3bdb2b4133c785067b090b83b25245c                    0                    0   \n880dce00cd783e072875369b92198054                    0                    0   \n1a59bc663ed5d1b7c78dbe329aaaba81                    0                    0   \n0a82095e858d37b29296aaa41da89fb3                    0                    0   \n1ef20796a48bc68def0ea6c72ac15a57                    0                    0   \n6072d6ba636b772e4631eb25826b1571                    0                    0   \n3aec5551abb6897284e3ea54cb125310                    0                    0   \n6dabcf8d0dad7012a9c4c67ad21363c6                    0                    0   \nee07ccd67756841e3264fcb247c6b3f9                    0                    0   \n\n                                  2023-01-01 06:00:00  2023-01-01 07:00:00  \\\n4203ddc00280e94fd40564a2c4e77168                    0                    0   \nc3bdb2b4133c785067b090b83b25245c                    0                    0   \n880dce00cd783e072875369b92198054                    0                    0   \n1a59bc663ed5d1b7c78dbe329aaaba81                    0                    0   \n0a82095e858d37b29296aaa41da89fb3                    0                    0   \n1ef20796a48bc68def0ea6c72ac15a57                    0                    0   \n6072d6ba636b772e4631eb25826b1571                    0                    0   \n3aec5551abb6897284e3ea54cb125310                    0                    0   \n6dabcf8d0dad7012a9c4c67ad21363c6                    0                    0   \nee07ccd67756841e3264fcb247c6b3f9                    0                    0   \n\n                                        2023-01-01 08:00:00  \\\n4203ddc00280e94fd40564a2c4e77168                          0   \nc3bdb2b4133c785067b090b83b25245c                          0   \n880dce00cd783e072875369b92198054                          0   \n1a59bc663ed5d1b7c78dbe329aaaba81                          0   \n0a82095e858d37b29296aaa41da89fb3  Private Semi-fast (22 kW)   \n1ef20796a48bc68def0ea6c72ac15a57                          0   \n6072d6ba636b772e4631eb25826b1571                          0   \n3aec5551abb6897284e3ea54cb125310                          0   \n6dabcf8d0dad7012a9c4c67ad21363c6                          0   \nee07ccd67756841e3264fcb247c6b3f9                          0   \n\n                                        2023-01-01 09:00:00  ...  \\\n4203ddc00280e94fd40564a2c4e77168                          0  ...   \nc3bdb2b4133c785067b090b83b25245c                          0  ...   \n880dce00cd783e072875369b92198054                          0  ...   \n1a59bc663ed5d1b7c78dbe329aaaba81                          0  ...   \n0a82095e858d37b29296aaa41da89fb3  Private Semi-fast (22 kW)  ...   \n1ef20796a48bc68def0ea6c72ac15a57                          0  ...   \n6072d6ba636b772e4631eb25826b1571                          0  ...   \n3aec5551abb6897284e3ea54cb125310                          0  ...   \n6dabcf8d0dad7012a9c4c67ad21363c6                          0  ...   \nee07ccd67756841e3264fcb247c6b3f9                          0  ...   \n\n                                        2023-01-07 14:00:00  \\\n4203ddc00280e94fd40564a2c4e77168                          0   \nc3bdb2b4133c785067b090b83b25245c                          0   \n880dce00cd783e072875369b92198054                          0   \n1a59bc663ed5d1b7c78dbe329aaaba81                          0   \n0a82095e858d37b29296aaa41da89fb3  Private Semi-fast (22 kW)   \n1ef20796a48bc68def0ea6c72ac15a57                          0   \n6072d6ba636b772e4631eb25826b1571                          0   \n3aec5551abb6897284e3ea54cb125310                          0   \n6dabcf8d0dad7012a9c4c67ad21363c6                          0   \nee07ccd67756841e3264fcb247c6b3f9                          0   \n\n                                  2023-01-07 15:00:00  2023-01-07 16:00:00  \\\n4203ddc00280e94fd40564a2c4e77168                    0                    0   \nc3bdb2b4133c785067b090b83b25245c                    0                    0   \n880dce00cd783e072875369b92198054                    0                    0   \n1a59bc663ed5d1b7c78dbe329aaaba81                    0                    0   \n0a82095e858d37b29296aaa41da89fb3                    0                    0   \n1ef20796a48bc68def0ea6c72ac15a57                    0                    0   \n6072d6ba636b772e4631eb25826b1571                    0                    0   \n3aec5551abb6897284e3ea54cb125310                    0                    0   \n6dabcf8d0dad7012a9c4c67ad21363c6                    0                    0   \nee07ccd67756841e3264fcb247c6b3f9                    0                    0   \n\n                                 2023-01-07 17:00:00  2023-01-07 18:00:00  \\\n4203ddc00280e94fd40564a2c4e77168                   0                    0   \nc3bdb2b4133c785067b090b83b25245c                   0                    0   \n880dce00cd783e072875369b92198054                   0                    0   \n1a59bc663ed5d1b7c78dbe329aaaba81                   0                    0   \n0a82095e858d37b29296aaa41da89fb3                   0                    0   \n1ef20796a48bc68def0ea6c72ac15a57                   0                    0   \n6072d6ba636b772e4631eb25826b1571                   0                    0   \n3aec5551abb6897284e3ea54cb125310                   0                    0   \n6dabcf8d0dad7012a9c4c67ad21363c6                   0                    0   \nee07ccd67756841e3264fcb247c6b3f9                   0                    0   \n\n                                  2023-01-07 19:00:00  2023-01-07 20:00:00  \\\n4203ddc00280e94fd40564a2c4e77168                    0                    0   \nc3bdb2b4133c785067b090b83b25245c                    0                    0   \n880dce00cd783e072875369b92198054                    0                    0   \n1a59bc663ed5d1b7c78dbe329aaaba81                    0                    0   \n0a82095e858d37b29296aaa41da89fb3                    0                    0   \n1ef20796a48bc68def0ea6c72ac15a57                    0                    0   \n6072d6ba636b772e4631eb25826b1571                    0                    0   \n3aec5551abb6897284e3ea54cb125310                    0                    0   \n6dabcf8d0dad7012a9c4c67ad21363c6  Public Fast (50 kW)  Public Fast (50 kW)   \nee07ccd67756841e3264fcb247c6b3f9                    0                    0   \n\n                                  2023-01-07 21:00:00 2023-01-07 22:00:00  \\\n4203ddc00280e94fd40564a2c4e77168                    0                   0   \nc3bdb2b4133c785067b090b83b25245c                    0                   0   \n880dce00cd783e072875369b92198054                    0                   0   \n1a59bc663ed5d1b7c78dbe329aaaba81                    0                   0   \n0a82095e858d37b29296aaa41da89fb3                    0                   0   \n1ef20796a48bc68def0ea6c72ac15a57                    0                   0   \n6072d6ba636b772e4631eb25826b1571                    0                   0   \n3aec5551abb6897284e3ea54cb125310                    0                   0   \n6dabcf8d0dad7012a9c4c67ad21363c6  Public Fast (50 kW)                   0   \nee07ccd67756841e3264fcb247c6b3f9                    0                   0   \n\n                                 2023-01-07 23:00:00  \n4203ddc00280e94fd40564a2c4e77168                   0  \nc3bdb2b4133c785067b090b83b25245c                   0  \n880dce00cd783e072875369b92198054                   0  \n1a59bc663ed5d1b7c78dbe329aaaba81                   0  \n0a82095e858d37b29296aaa41da89fb3                   0  \n1ef20796a48bc68def0ea6c72ac15a57                   0  \n6072d6ba636b772e4631eb25826b1571                   0  \n3aec5551abb6897284e3ea54cb125310                   0  \n6dabcf8d0dad7012a9c4c67ad21363c6                   0  \nee07ccd67756841e3264fcb247c6b3f9                   0  \n\n[10 rows x 168 columns]",
      "text/html": "<div>\n<style scoped>\n    .dataframe tbody tr th:only-of-type {\n        vertical-align: middle;\n    }\n\n    .dataframe tbody tr th {\n        vertical-align: top;\n    }\n\n    .dataframe thead th {\n        text-align: right;\n    }\n</style>\n<table border=\"1\" class=\"dataframe\">\n  <thead>\n    <tr style=\"text-align: right;\">\n      <th></th>\n      <th>2023-01-01 00:00:00</th>\n      <th>2023-01-01 01:00:00</th>\n      <th>2023-01-01 02:00:00</th>\n      <th>2023-01-01 03:00:00</th>\n      <th>2023-01-01 04:00:00</th>\n      <th>2023-01-01 05:00:00</th>\n      <th>2023-01-01 06:00:00</th>\n      <th>2023-01-01 07:00:00</th>\n      <th>2023-01-01 08:00:00</th>\n      <th>2023-01-01 09:00:00</th>\n      <th>...</th>\n      <th>2023-01-07 14:00:00</th>\n      <th>2023-01-07 15:00:00</th>\n      <th>2023-01-07 16:00:00</th>\n      <th>2023-01-07 17:00:00</th>\n      <th>2023-01-07 18:00:00</th>\n      <th>2023-01-07 19:00:00</th>\n      <th>2023-01-07 20:00:00</th>\n      <th>2023-01-07 21:00:00</th>\n      <th>2023-01-07 22:00:00</th>\n      <th>2023-01-07 23:00:00</th>\n    </tr>\n  </thead>\n  <tbody>\n    <tr>\n      <th>4203ddc00280e94fd40564a2c4e77168</th>\n      <td>0</td>\n      <td>0</td>\n      <td>0</td>\n      <td>0</td>\n      <td>0</td>\n      <td>0</td>\n      <td>0</td>\n      <td>0</td>\n      <td>0</td>\n      <td>0</td>\n      <td>...</td>\n      <td>0</td>\n      <td>0</td>\n      <td>0</td>\n      <td>0</td>\n      <td>0</td>\n      <td>0</td>\n      <td>0</td>\n      <td>0</td>\n      <td>0</td>\n      <td>0</td>\n    </tr>\n    <tr>\n      <th>c3bdb2b4133c785067b090b83b25245c</th>\n      <td>0</td>\n      <td>0</td>\n      <td>0</td>\n      <td>0</td>\n      <td>0</td>\n      <td>0</td>\n      <td>0</td>\n      <td>0</td>\n      <td>0</td>\n      <td>0</td>\n      <td>...</td>\n      <td>0</td>\n      <td>0</td>\n      <td>0</td>\n      <td>0</td>\n      <td>0</td>\n      <td>0</td>\n      <td>0</td>\n      <td>0</td>\n      <td>0</td>\n      <td>0</td>\n    </tr>\n    <tr>\n      <th>880dce00cd783e072875369b92198054</th>\n      <td>0</td>\n      <td>0</td>\n      <td>0</td>\n      <td>0</td>\n      <td>0</td>\n      <td>0</td>\n      <td>0</td>\n      <td>0</td>\n      <td>0</td>\n      <td>0</td>\n      <td>...</td>\n      <td>0</td>\n      <td>0</td>\n      <td>0</td>\n      <td>0</td>\n      <td>0</td>\n      <td>0</td>\n      <td>0</td>\n      <td>0</td>\n      <td>0</td>\n      <td>0</td>\n    </tr>\n    <tr>\n      <th>1a59bc663ed5d1b7c78dbe329aaaba81</th>\n      <td>0</td>\n      <td>0</td>\n      <td>0</td>\n      <td>0</td>\n      <td>0</td>\n      <td>0</td>\n      <td>0</td>\n      <td>0</td>\n      <td>0</td>\n      <td>0</td>\n      <td>...</td>\n      <td>0</td>\n      <td>0</td>\n      <td>0</td>\n      <td>0</td>\n      <td>0</td>\n      <td>0</td>\n      <td>0</td>\n      <td>0</td>\n      <td>0</td>\n      <td>0</td>\n    </tr>\n    <tr>\n      <th>0a82095e858d37b29296aaa41da89fb3</th>\n      <td>0</td>\n      <td>0</td>\n      <td>0</td>\n      <td>0</td>\n      <td>0</td>\n      <td>0</td>\n      <td>0</td>\n      <td>0</td>\n      <td>Private Semi-fast (22 kW)</td>\n      <td>Private Semi-fast (22 kW)</td>\n      <td>...</td>\n      <td>Private Semi-fast (22 kW)</td>\n      <td>0</td>\n      <td>0</td>\n      <td>0</td>\n      <td>0</td>\n      <td>0</td>\n      <td>0</td>\n      <td>0</td>\n      <td>0</td>\n      <td>0</td>\n    </tr>\n    <tr>\n      <th>1ef20796a48bc68def0ea6c72ac15a57</th>\n      <td>0</td>\n      <td>0</td>\n      <td>0</td>\n      <td>0</td>\n      <td>0</td>\n      <td>0</td>\n      <td>0</td>\n      <td>0</td>\n      <td>0</td>\n      <td>0</td>\n      <td>...</td>\n      <td>0</td>\n      <td>0</td>\n      <td>0</td>\n      <td>0</td>\n      <td>0</td>\n      <td>0</td>\n      <td>0</td>\n      <td>0</td>\n      <td>0</td>\n      <td>0</td>\n    </tr>\n    <tr>\n      <th>6072d6ba636b772e4631eb25826b1571</th>\n      <td>0</td>\n      <td>0</td>\n      <td>0</td>\n      <td>0</td>\n      <td>0</td>\n      <td>0</td>\n      <td>0</td>\n      <td>0</td>\n      <td>0</td>\n      <td>0</td>\n      <td>...</td>\n      <td>0</td>\n      <td>0</td>\n      <td>0</td>\n      <td>0</td>\n      <td>0</td>\n      <td>0</td>\n      <td>0</td>\n      <td>0</td>\n      <td>0</td>\n      <td>0</td>\n    </tr>\n    <tr>\n      <th>3aec5551abb6897284e3ea54cb125310</th>\n      <td>0</td>\n      <td>0</td>\n      <td>0</td>\n      <td>0</td>\n      <td>0</td>\n      <td>0</td>\n      <td>0</td>\n      <td>0</td>\n      <td>0</td>\n      <td>0</td>\n      <td>...</td>\n      <td>0</td>\n      <td>0</td>\n      <td>0</td>\n      <td>0</td>\n      <td>0</td>\n      <td>0</td>\n      <td>0</td>\n      <td>0</td>\n      <td>0</td>\n      <td>0</td>\n    </tr>\n    <tr>\n      <th>6dabcf8d0dad7012a9c4c67ad21363c6</th>\n      <td>0</td>\n      <td>0</td>\n      <td>0</td>\n      <td>0</td>\n      <td>0</td>\n      <td>0</td>\n      <td>0</td>\n      <td>0</td>\n      <td>0</td>\n      <td>0</td>\n      <td>...</td>\n      <td>0</td>\n      <td>0</td>\n      <td>0</td>\n      <td>0</td>\n      <td>0</td>\n      <td>Public Fast (50 kW)</td>\n      <td>Public Fast (50 kW)</td>\n      <td>Public Fast (50 kW)</td>\n      <td>0</td>\n      <td>0</td>\n    </tr>\n    <tr>\n      <th>ee07ccd67756841e3264fcb247c6b3f9</th>\n      <td>0</td>\n      <td>0</td>\n      <td>0</td>\n      <td>0</td>\n      <td>0</td>\n      <td>0</td>\n      <td>0</td>\n      <td>0</td>\n      <td>0</td>\n      <td>0</td>\n      <td>...</td>\n      <td>0</td>\n      <td>0</td>\n      <td>0</td>\n      <td>0</td>\n      <td>0</td>\n      <td>0</td>\n      <td>0</td>\n      <td>0</td>\n      <td>0</td>\n      <td>0</td>\n    </tr>\n  </tbody>\n</table>\n<p>10 rows × 168 columns</p>\n</div>"
     },
     "execution_count": 150,
     "metadata": {},
     "output_type": "execute_result"
    }
   ],
   "source": [
    "aggregator.simulation_dataframes['ev_charging_type']"
   ],
   "metadata": {
    "collapsed": false,
    "pycharm": {
     "name": "#%%\n"
    }
   }
  },
  {
   "cell_type": "code",
   "execution_count": 151,
   "outputs": [
    {
     "data": {
      "text/plain": "<Figure size 1440x720 with 1 Axes>",
      "image/png": "[encoded data removed]"
     },
     "metadata": {
      "needs_background": "light"
     },
     "output_type": "display_data"
    }
   ],
   "source": [
    "# Plot a stacked bar chart of the ev_charging_history_type_hourly DataFrame\n",
    "\n",
    "DAY = 2\n",
    "\n",
    "# Get the value counts of each charging type at each hour\n",
    "ev_charging_history_type_hourly_value_counts = aggregator.simulation_dataframes['ev_charging_type'].transpose().loc['2023-01-{:02d}'.format(DAY)].transpose().apply(pd.value_counts, axis=0)\n",
    "ev_charging_history_type_hourly_value_counts.drop(0, inplace=True)\n",
    "ev_charging_history_type_hourly_value_counts = ev_charging_history_type_hourly_value_counts.fillna(0)\n",
    "\n",
    "# Plot the data\n",
    "ev_charging_history_type_hourly_value_counts.transpose().plot(kind='bar', stacked=True, figsize=(20, 10))\n",
    "\n",
    "# Set the title\n",
    "plt.title('Charging Station Usage - Day {}'.format(DAY))\n",
    "\n",
    "# Set the x-axis label\n",
    "plt.xlabel('Hour')\n",
    "\n",
    "# Set the y-axis label\n",
    "plt.ylabel('Number of EVs')\n",
    "\n",
    "plt.show()"
   ],
   "metadata": {
    "collapsed": false,
    "pycharm": {
     "name": "#%%\n"
    }
   }
  },
  {
   "cell_type": "code",
   "execution_count": 152,
   "outputs": [
    {
     "data": {
      "text/plain": "                                  2023-01-01 00:00:00  2023-01-01 01:00:00  \\\n4203ddc00280e94fd40564a2c4e77168                    0                    0   \nc3bdb2b4133c785067b090b83b25245c                    0                    0   \n880dce00cd783e072875369b92198054                    0                    0   \n1a59bc663ed5d1b7c78dbe329aaaba81                    0                    0   \n0a82095e858d37b29296aaa41da89fb3                    0                    0   \n1ef20796a48bc68def0ea6c72ac15a57                    0                    0   \n6072d6ba636b772e4631eb25826b1571                    0                    0   \n3aec5551abb6897284e3ea54cb125310                    0                    0   \n6dabcf8d0dad7012a9c4c67ad21363c6                    0                    0   \nee07ccd67756841e3264fcb247c6b3f9                    0                    0   \n\n                                  2023-01-01 02:00:00  2023-01-01 03:00:00  \\\n4203ddc00280e94fd40564a2c4e77168                    0                    0   \nc3bdb2b4133c785067b090b83b25245c                    0                    0   \n880dce00cd783e072875369b92198054                    0                    0   \n1a59bc663ed5d1b7c78dbe329aaaba81                    0                    0   \n0a82095e858d37b29296aaa41da89fb3                    0                    0   \n1ef20796a48bc68def0ea6c72ac15a57                    0                    0   \n6072d6ba636b772e4631eb25826b1571                    0                    0   \n3aec5551abb6897284e3ea54cb125310                    0                    0   \n6dabcf8d0dad7012a9c4c67ad21363c6                    0                    0   \nee07ccd67756841e3264fcb247c6b3f9                    0                    0   \n\n                                  2023-01-01 04:00:00  2023-01-01 05:00:00  \\\n4203ddc00280e94fd40564a2c4e77168                    0                    0   \nc3bdb2b4133c785067b090b83b25245c                    0                    0   \n880dce00cd783e072875369b92198054                    0                    0   \n1a59bc663ed5d1b7c78dbe329aaaba81                    0                    0   \n0a82095e858d37b29296aaa41da89fb3                    0                    0   \n1ef20796a48bc68def0ea6c72ac15a57                    0                    0   \n6072d6ba636b772e4631eb25826b1571                    0                    0   \n3aec5551abb6897284e3ea54cb125310                    0                    0   \n6dabcf8d0dad7012a9c4c67ad21363c6                    0                    0   \nee07ccd67756841e3264fcb247c6b3f9                    0                    0   \n\n                                  2023-01-01 06:00:00  2023-01-01 07:00:00  \\\n4203ddc00280e94fd40564a2c4e77168                    0                    0   \nc3bdb2b4133c785067b090b83b25245c                    0                    0   \n880dce00cd783e072875369b92198054                    0                    0   \n1a59bc663ed5d1b7c78dbe329aaaba81                    0                    0   \n0a82095e858d37b29296aaa41da89fb3                    0                    0   \n1ef20796a48bc68def0ea6c72ac15a57                    0                    0   \n6072d6ba636b772e4631eb25826b1571                    0                    0   \n3aec5551abb6897284e3ea54cb125310                    0                    0   \n6dabcf8d0dad7012a9c4c67ad21363c6                    0                    0   \nee07ccd67756841e3264fcb247c6b3f9                    0                    0   \n\n                                  2023-01-01 08:00:00  2023-01-01 09:00:00  \\\n4203ddc00280e94fd40564a2c4e77168                    0                    0   \nc3bdb2b4133c785067b090b83b25245c                    0                    0   \n880dce00cd783e072875369b92198054                    0                    0   \n1a59bc663ed5d1b7c78dbe329aaaba81                    0                    0   \n0a82095e858d37b29296aaa41da89fb3                    1                    1   \n1ef20796a48bc68def0ea6c72ac15a57                    0                    0   \n6072d6ba636b772e4631eb25826b1571                    0                    0   \n3aec5551abb6897284e3ea54cb125310                    0                    0   \n6dabcf8d0dad7012a9c4c67ad21363c6                    0                    0   \nee07ccd67756841e3264fcb247c6b3f9                    0                    0   \n\n                                  ...  2023-01-07 14:00:00  \\\n4203ddc00280e94fd40564a2c4e77168  ...                    0   \nc3bdb2b4133c785067b090b83b25245c  ...                    0   \n880dce00cd783e072875369b92198054  ...                    0   \n1a59bc663ed5d1b7c78dbe329aaaba81  ...                    0   \n0a82095e858d37b29296aaa41da89fb3  ...                    1   \n1ef20796a48bc68def0ea6c72ac15a57  ...                    0   \n6072d6ba636b772e4631eb25826b1571  ...                    0   \n3aec5551abb6897284e3ea54cb125310  ...                    0   \n6dabcf8d0dad7012a9c4c67ad21363c6  ...                    0   \nee07ccd67756841e3264fcb247c6b3f9  ...                    0   \n\n                                  2023-01-07 15:00:00  2023-01-07 16:00:00  \\\n4203ddc00280e94fd40564a2c4e77168                    0                    0   \nc3bdb2b4133c785067b090b83b25245c                    0                    0   \n880dce00cd783e072875369b92198054                    0                    0   \n1a59bc663ed5d1b7c78dbe329aaaba81                    0                    0   \n0a82095e858d37b29296aaa41da89fb3                    0                    0   \n1ef20796a48bc68def0ea6c72ac15a57                    0                    0   \n6072d6ba636b772e4631eb25826b1571                    0                    0   \n3aec5551abb6897284e3ea54cb125310                    0                    0   \n6dabcf8d0dad7012a9c4c67ad21363c6                    0                    0   \nee07ccd67756841e3264fcb247c6b3f9                    0                    0   \n\n                                  2023-01-07 17:00:00  2023-01-07 18:00:00  \\\n4203ddc00280e94fd40564a2c4e77168                    0                    0   \nc3bdb2b4133c785067b090b83b25245c                    0                    0   \n880dce00cd783e072875369b92198054                    0                    0   \n1a59bc663ed5d1b7c78dbe329aaaba81                    0                    0   \n0a82095e858d37b29296aaa41da89fb3                    0                    0   \n1ef20796a48bc68def0ea6c72ac15a57                    0                    0   \n6072d6ba636b772e4631eb25826b1571                    0                    0   \n3aec5551abb6897284e3ea54cb125310                    0                    0   \n6dabcf8d0dad7012a9c4c67ad21363c6                    0                    0   \nee07ccd67756841e3264fcb247c6b3f9                    0                    0   \n\n                                  2023-01-07 19:00:00  2023-01-07 20:00:00  \\\n4203ddc00280e94fd40564a2c4e77168                    0                    0   \nc3bdb2b4133c785067b090b83b25245c                    0                    0   \n880dce00cd783e072875369b92198054                    0                    0   \n1a59bc663ed5d1b7c78dbe329aaaba81                    0                    0   \n0a82095e858d37b29296aaa41da89fb3                    0                    0   \n1ef20796a48bc68def0ea6c72ac15a57                    0                    0   \n6072d6ba636b772e4631eb25826b1571                    0                    0   \n3aec5551abb6897284e3ea54cb125310                    0                    0   \n6dabcf8d0dad7012a9c4c67ad21363c6                    1                    1   \nee07ccd67756841e3264fcb247c6b3f9                    0                    0   \n\n                                  2023-01-07 21:00:00  2023-01-07 22:00:00  \\\n4203ddc00280e94fd40564a2c4e77168                    0                    0   \nc3bdb2b4133c785067b090b83b25245c                    0                    0   \n880dce00cd783e072875369b92198054                    0                    0   \n1a59bc663ed5d1b7c78dbe329aaaba81                    0                    0   \n0a82095e858d37b29296aaa41da89fb3                    0                    0   \n1ef20796a48bc68def0ea6c72ac15a57                    0                    0   \n6072d6ba636b772e4631eb25826b1571                    0                    0   \n3aec5551abb6897284e3ea54cb125310                    0                    0   \n6dabcf8d0dad7012a9c4c67ad21363c6                    1                    0   \nee07ccd67756841e3264fcb247c6b3f9                    0                    0   \n\n                                  2023-01-07 23:00:00  \n4203ddc00280e94fd40564a2c4e77168                    0  \nc3bdb2b4133c785067b090b83b25245c                    0  \n880dce00cd783e072875369b92198054                    0  \n1a59bc663ed5d1b7c78dbe329aaaba81                    0  \n0a82095e858d37b29296aaa41da89fb3                    0  \n1ef20796a48bc68def0ea6c72ac15a57                    0  \n6072d6ba636b772e4631eb25826b1571                    0  \n3aec5551abb6897284e3ea54cb125310                    0  \n6dabcf8d0dad7012a9c4c67ad21363c6                    0  \nee07ccd67756841e3264fcb247c6b3f9                    0  \n\n[10 rows x 168 columns]",
      "text/html": "<div>\n<style scoped>\n    .dataframe tbody tr th:only-of-type {\n        vertical-align: middle;\n    }\n\n    .dataframe tbody tr th {\n        vertical-align: top;\n    }\n\n    .dataframe thead th {\n        text-align: right;\n    }\n</style>\n<table border=\"1\" class=\"dataframe\">\n  <thead>\n    <tr style=\"text-align: right;\">\n      <th></th>\n      <th>2023-01-01 00:00:00</th>\n      <th>2023-01-01 01:00:00</th>\n      <th>2023-01-01 02:00:00</th>\n      <th>2023-01-01 03:00:00</th>\n      <th>2023-01-01 04:00:00</th>\n      <th>2023-01-01 05:00:00</th>\n      <th>2023-01-01 06:00:00</th>\n      <th>2023-01-01 07:00:00</th>\n      <th>2023-01-01 08:00:00</th>\n      <th>2023-01-01 09:00:00</th>\n      <th>...</th>\n      <th>2023-01-07 14:00:00</th>\n      <th>2023-01-07 15:00:00</th>\n      <th>2023-01-07 16:00:00</th>\n      <th>2023-01-07 17:00:00</th>\n      <th>2023-01-07 18:00:00</th>\n      <th>2023-01-07 19:00:00</th>\n      <th>2023-01-07 20:00:00</th>\n      <th>2023-01-07 21:00:00</th>\n      <th>2023-01-07 22:00:00</th>\n      <th>2023-01-07 23:00:00</th>\n    </tr>\n  </thead>\n  <tbody>\n    <tr>\n      <th>4203ddc00280e94fd40564a2c4e77168</th>\n      <td>0</td>\n      <td>0</td>\n      <td>0</td>\n      <td>0</td>\n      <td>0</td>\n      <td>0</td>\n      <td>0</td>\n      <td>0</td>\n      <td>0</td>\n      <td>0</td>\n      <td>...</td>\n      <td>0</td>\n      <td>0</td>\n      <td>0</td>\n      <td>0</td>\n      <td>0</td>\n      <td>0</td>\n      <td>0</td>\n      <td>0</td>\n      <td>0</td>\n      <td>0</td>\n    </tr>\n    <tr>\n      <th>c3bdb2b4133c785067b090b83b25245c</th>\n      <td>0</td>\n      <td>0</td>\n      <td>0</td>\n      <td>0</td>\n      <td>0</td>\n      <td>0</td>\n      <td>0</td>\n      <td>0</td>\n      <td>0</td>\n      <td>0</td>\n      <td>...</td>\n      <td>0</td>\n      <td>0</td>\n      <td>0</td>\n      <td>0</td>\n      <td>0</td>\n      <td>0</td>\n      <td>0</td>\n      <td>0</td>\n      <td>0</td>\n      <td>0</td>\n    </tr>\n    <tr>\n      <th>880dce00cd783e072875369b92198054</th>\n      <td>0</td>\n      <td>0</td>\n      <td>0</td>\n      <td>0</td>\n      <td>0</td>\n      <td>0</td>\n      <td>0</td>\n      <td>0</td>\n      <td>0</td>\n      <td>0</td>\n      <td>...</td>\n      <td>0</td>\n      <td>0</td>\n      <td>0</td>\n      <td>0</td>\n      <td>0</td>\n      <td>0</td>\n      <td>0</td>\n      <td>0</td>\n      <td>0</td>\n      <td>0</td>\n    </tr>\n    <tr>\n      <th>1a59bc663ed5d1b7c78dbe329aaaba81</th>\n      <td>0</td>\n      <td>0</td>\n      <td>0</td>\n      <td>0</td>\n      <td>0</td>\n      <td>0</td>\n      <td>0</td>\n      <td>0</td>\n      <td>0</td>\n      <td>0</td>\n      <td>...</td>\n      <td>0</td>\n      <td>0</td>\n      <td>0</td>\n      <td>0</td>\n      <td>0</td>\n      <td>0</td>\n      <td>0</td>\n      <td>0</td>\n      <td>0</td>\n      <td>0</td>\n    </tr>\n    <tr>\n      <th>0a82095e858d37b29296aaa41da89fb3</th>\n      <td>0</td>\n      <td>0</td>\n      <td>0</td>\n      <td>0</td>\n      <td>0</td>\n      <td>0</td>\n      <td>0</td>\n      <td>0</td>\n      <td>1</td>\n      <td>1</td>\n      <td>...</td>\n      <td>1</td>\n      <td>0</td>\n      <td>0</td>\n      <td>0</td>\n      <td>0</td>\n      <td>0</td>\n      <td>0</td>\n      <td>0</td>\n      <td>0</td>\n      <td>0</td>\n    </tr>\n    <tr>\n      <th>1ef20796a48bc68def0ea6c72ac15a57</th>\n      <td>0</td>\n      <td>0</td>\n      <td>0</td>\n      <td>0</td>\n      <td>0</td>\n      <td>0</td>\n      <td>0</td>\n      <td>0</td>\n      <td>0</td>\n      <td>0</td>\n      <td>...</td>\n      <td>0</td>\n      <td>0</td>\n      <td>0</td>\n      <td>0</td>\n      <td>0</td>\n      <td>0</td>\n      <td>0</td>\n      <td>0</td>\n      <td>0</td>\n      <td>0</td>\n    </tr>\n    <tr>\n      <th>6072d6ba636b772e4631eb25826b1571</th>\n      <td>0</td>\n      <td>0</td>\n      <td>0</td>\n      <td>0</td>\n      <td>0</td>\n      <td>0</td>\n      <td>0</td>\n      <td>0</td>\n      <td>0</td>\n      <td>0</td>\n      <td>...</td>\n      <td>0</td>\n      <td>0</td>\n      <td>0</td>\n      <td>0</td>\n      <td>0</td>\n      <td>0</td>\n      <td>0</td>\n      <td>0</td>\n      <td>0</td>\n      <td>0</td>\n    </tr>\n    <tr>\n      <th>3aec5551abb6897284e3ea54cb125310</th>\n      <td>0</td>\n      <td>0</td>\n      <td>0</td>\n      <td>0</td>\n      <td>0</td>\n      <td>0</td>\n      <td>0</td>\n      <td>0</td>\n      <td>0</td>\n      <td>0</td>\n      <td>...</td>\n      <td>0</td>\n      <td>0</td>\n      <td>0</td>\n      <td>0</td>\n      <td>0</td>\n      <td>0</td>\n      <td>0</td>\n      <td>0</td>\n      <td>0</td>\n      <td>0</td>\n    </tr>\n    <tr>\n      <th>6dabcf8d0dad7012a9c4c67ad21363c6</th>\n      <td>0</td>\n      <td>0</td>\n      <td>0</td>\n      <td>0</td>\n      <td>0</td>\n      <td>0</td>\n      <td>0</td>\n      <td>0</td>\n      <td>0</td>\n      <td>0</td>\n      <td>...</td>\n      <td>0</td>\n      <td>0</td>\n      <td>0</td>\n      <td>0</td>\n      <td>0</td>\n      <td>1</td>\n      <td>1</td>\n      <td>1</td>\n      <td>0</td>\n      <td>0</td>\n    </tr>\n    <tr>\n      <th>ee07ccd67756841e3264fcb247c6b3f9</th>\n      <td>0</td>\n      <td>0</td>\n      <td>0</td>\n      <td>0</td>\n      <td>0</td>\n      <td>0</td>\n      <td>0</td>\n      <td>0</td>\n      <td>0</td>\n      <td>0</td>\n      <td>...</td>\n      <td>0</td>\n      <td>0</td>\n      <td>0</td>\n      <td>0</td>\n      <td>0</td>\n      <td>0</td>\n      <td>0</td>\n      <td>0</td>\n      <td>0</td>\n      <td>0</td>\n    </tr>\n  </tbody>\n</table>\n<p>10 rows × 168 columns</p>\n</div>"
     },
     "execution_count": 152,
     "metadata": {},
     "output_type": "execute_result"
    }
   ],
   "source": [
    "# EV Stopped History\n",
    "\n",
    "aggregator.simulation_dataframes['ev_stopped']"
   ],
   "metadata": {
    "collapsed": false,
    "pycharm": {
     "name": "#%%\n"
    }
   }
  },
  {
   "cell_type": "code",
   "execution_count": 153,
   "outputs": [
    {
     "data": {
      "text/plain": "                     Driving  Stopped\n2023-01-01 00:00:00     10.0      0.0\n2023-01-01 01:00:00     10.0      0.0\n2023-01-01 02:00:00     10.0      0.0\n2023-01-01 03:00:00     10.0      0.0\n2023-01-01 04:00:00     10.0      0.0\n...                      ...      ...\n2023-01-07 19:00:00      9.0      1.0\n2023-01-07 20:00:00      9.0      1.0\n2023-01-07 21:00:00      9.0      1.0\n2023-01-07 22:00:00     10.0      0.0\n2023-01-07 23:00:00     10.0      0.0\n\n[168 rows x 2 columns]",
      "text/html": "<div>\n<style scoped>\n    .dataframe tbody tr th:only-of-type {\n        vertical-align: middle;\n    }\n\n    .dataframe tbody tr th {\n        vertical-align: top;\n    }\n\n    .dataframe thead th {\n        text-align: right;\n    }\n</style>\n<table border=\"1\" class=\"dataframe\">\n  <thead>\n    <tr style=\"text-align: right;\">\n      <th></th>\n      <th>Driving</th>\n      <th>Stopped</th>\n    </tr>\n  </thead>\n  <tbody>\n    <tr>\n      <th>2023-01-01 00:00:00</th>\n      <td>10.0</td>\n      <td>0.0</td>\n    </tr>\n    <tr>\n      <th>2023-01-01 01:00:00</th>\n      <td>10.0</td>\n      <td>0.0</td>\n    </tr>\n    <tr>\n      <th>2023-01-01 02:00:00</th>\n      <td>10.0</td>\n      <td>0.0</td>\n    </tr>\n    <tr>\n      <th>2023-01-01 03:00:00</th>\n      <td>10.0</td>\n      <td>0.0</td>\n    </tr>\n    <tr>\n      <th>2023-01-01 04:00:00</th>\n      <td>10.0</td>\n      <td>0.0</td>\n    </tr>\n    <tr>\n      <th>...</th>\n      <td>...</td>\n      <td>...</td>\n    </tr>\n    <tr>\n      <th>2023-01-07 19:00:00</th>\n      <td>9.0</td>\n      <td>1.0</td>\n    </tr>\n    <tr>\n      <th>2023-01-07 20:00:00</th>\n      <td>9.0</td>\n      <td>1.0</td>\n    </tr>\n    <tr>\n      <th>2023-01-07 21:00:00</th>\n      <td>9.0</td>\n      <td>1.0</td>\n    </tr>\n    <tr>\n      <th>2023-01-07 22:00:00</th>\n      <td>10.0</td>\n      <td>0.0</td>\n    </tr>\n    <tr>\n      <th>2023-01-07 23:00:00</th>\n      <td>10.0</td>\n      <td>0.0</td>\n    </tr>\n  </tbody>\n</table>\n<p>168 rows × 2 columns</p>\n</div>"
     },
     "execution_count": 153,
     "metadata": {},
     "output_type": "execute_result"
    }
   ],
   "source": [
    "# Check when the EVs are stopped\n",
    "\n",
    "stopped_df = aggregator.simulation_dataframes['ev_stopped'].apply(pd.value_counts, axis=0)\n",
    "stopped_df.fillna(0, inplace=True)\n",
    "stopped_df = stopped_df.transpose()\n",
    "stopped_df.columns = ['Driving', 'Stopped']\n",
    "\n",
    "stopped_df"
   ],
   "metadata": {
    "collapsed": false,
    "pycharm": {
     "name": "#%%\n"
    }
   }
  },
  {
   "cell_type": "code",
   "execution_count": 154,
   "outputs": [
    {
     "data": {
      "text/plain": "<Figure size 432x288 with 1 Axes>",
      "image/png": "[encoded data removed]"
     },
     "metadata": {
      "needs_background": "light"
     },
     "output_type": "display_data"
    }
   ],
   "source": [
    "# Plot a stacked bar chart of the ev_stopped DataFrame\n",
    "\n",
    "DAY = 3\n",
    "\n",
    "# Get the value counts of each charging type at each hour\n",
    "np.sum(aggregator.simulation_dataframes['ev_flexibility'].transpose().loc['2023-01-{:02d}'.format(DAY)], axis=1).plot()\n",
    "\n",
    "# Set the title\n",
    "plt.title('Flexibility - Day {}'.format(DAY))\n",
    "\n",
    "# Set the x-axis label\n",
    "plt.xlabel('Hour')\n",
    "\n",
    "# Set the y-axis label\n",
    "plt.ylabel('Number of EVs')\n",
    "\n",
    "# Set the y-axis to an integer\n",
    "plt.yticks(np.arange(0, aggregator.number_of_evs))\n",
    "\n",
    "plt.show()"
   ],
   "metadata": {
    "collapsed": false,
    "pycharm": {
     "name": "#%%\n"
    }
   }
  },
  {
   "cell_type": "code",
   "execution_count": 155,
   "outputs": [
    {
     "data": {
      "text/plain": "<Figure size 432x288 with 1 Axes>",
      "image/png": "[encoded data removed]"
     },
     "metadata": {},
     "output_type": "display_data"
    }
   ],
   "source": [
    "# Plot a pie chart of the user profiles\n",
    "\n",
    "# Values of each group\n",
    "profile_values = aggregator.simulation_dataframes['population']['user_profile'].value_counts()\n",
    "plt.pie(profile_values, labels=profile_values.index, autopct='%1.1f%%')\n",
    "\n",
    "# View the plot\n",
    "plt.axis('equal')\n",
    "\n",
    "plt.show()"
   ],
   "metadata": {
    "collapsed": false,
    "pycharm": {
     "name": "#%%\n"
    }
   }
  },
  {
   "cell_type": "code",
   "execution_count": 159,
   "outputs": [
    {
     "data": {
      "text/plain": "                                  2023-01-01 00:00:00  2023-01-01 01:00:00  \\\n4203ddc00280e94fd40564a2c4e77168                    0                    0   \nc3bdb2b4133c785067b090b83b25245c                    0                    0   \n880dce00cd783e072875369b92198054                    0                    0   \n1a59bc663ed5d1b7c78dbe329aaaba81                    0                    0   \n0a82095e858d37b29296aaa41da89fb3                    0                    0   \n1ef20796a48bc68def0ea6c72ac15a57                    0                    0   \n6072d6ba636b772e4631eb25826b1571                    0                    0   \n3aec5551abb6897284e3ea54cb125310                    0                    0   \n6dabcf8d0dad7012a9c4c67ad21363c6                    0                    0   \nee07ccd67756841e3264fcb247c6b3f9                    0                    0   \n\n                                  2023-01-01 02:00:00  2023-01-01 03:00:00  \\\n4203ddc00280e94fd40564a2c4e77168                    0                    0   \nc3bdb2b4133c785067b090b83b25245c                    0                    0   \n880dce00cd783e072875369b92198054                    0                    0   \n1a59bc663ed5d1b7c78dbe329aaaba81                    0                    0   \n0a82095e858d37b29296aaa41da89fb3                    0                    0   \n1ef20796a48bc68def0ea6c72ac15a57                    0                    0   \n6072d6ba636b772e4631eb25826b1571                    0                    0   \n3aec5551abb6897284e3ea54cb125310                    0                    0   \n6dabcf8d0dad7012a9c4c67ad21363c6                    0                    0   \nee07ccd67756841e3264fcb247c6b3f9                    0                    0   \n\n                                  2023-01-01 04:00:00  2023-01-01 05:00:00  \\\n4203ddc00280e94fd40564a2c4e77168                    0                    0   \nc3bdb2b4133c785067b090b83b25245c                    0                    0   \n880dce00cd783e072875369b92198054                    0                    0   \n1a59bc663ed5d1b7c78dbe329aaaba81                    0                    0   \n0a82095e858d37b29296aaa41da89fb3                    0                    0   \n1ef20796a48bc68def0ea6c72ac15a57                    0                    0   \n6072d6ba636b772e4631eb25826b1571                    0                    0   \n3aec5551abb6897284e3ea54cb125310                    0                    0   \n6dabcf8d0dad7012a9c4c67ad21363c6                    0                    0   \nee07ccd67756841e3264fcb247c6b3f9                    0                    0   \n\n                                  2023-01-01 06:00:00  2023-01-01 07:00:00  \\\n4203ddc00280e94fd40564a2c4e77168                    0                    0   \nc3bdb2b4133c785067b090b83b25245c                    0                    0   \n880dce00cd783e072875369b92198054                    0                    0   \n1a59bc663ed5d1b7c78dbe329aaaba81                    0                    0   \n0a82095e858d37b29296aaa41da89fb3                    0                    0   \n1ef20796a48bc68def0ea6c72ac15a57                    0                    0   \n6072d6ba636b772e4631eb25826b1571                    0                    0   \n3aec5551abb6897284e3ea54cb125310                    0                    0   \n6dabcf8d0dad7012a9c4c67ad21363c6                    0                    0   \nee07ccd67756841e3264fcb247c6b3f9                    0                    0   \n\n                                  2023-01-01 08:00:00  2023-01-01 09:00:00  \\\n4203ddc00280e94fd40564a2c4e77168                    0                    0   \nc3bdb2b4133c785067b090b83b25245c                    0                    0   \n880dce00cd783e072875369b92198054                    0                    0   \n1a59bc663ed5d1b7c78dbe329aaaba81                    0                    0   \n0a82095e858d37b29296aaa41da89fb3                   22                   22   \n1ef20796a48bc68def0ea6c72ac15a57                    0                    0   \n6072d6ba636b772e4631eb25826b1571                    0                    0   \n3aec5551abb6897284e3ea54cb125310                    0                    0   \n6dabcf8d0dad7012a9c4c67ad21363c6                    0                    0   \nee07ccd67756841e3264fcb247c6b3f9                    0                    0   \n\n                                  ...  2023-01-07 14:00:00  \\\n4203ddc00280e94fd40564a2c4e77168  ...                    0   \nc3bdb2b4133c785067b090b83b25245c  ...                    0   \n880dce00cd783e072875369b92198054  ...                    0   \n1a59bc663ed5d1b7c78dbe329aaaba81  ...                    0   \n0a82095e858d37b29296aaa41da89fb3  ...                   22   \n1ef20796a48bc68def0ea6c72ac15a57  ...                    0   \n6072d6ba636b772e4631eb25826b1571  ...                    0   \n3aec5551abb6897284e3ea54cb125310  ...                    0   \n6dabcf8d0dad7012a9c4c67ad21363c6  ...                    0   \nee07ccd67756841e3264fcb247c6b3f9  ...                    0   \n\n                                  2023-01-07 15:00:00  2023-01-07 16:00:00  \\\n4203ddc00280e94fd40564a2c4e77168                    0                    0   \nc3bdb2b4133c785067b090b83b25245c                    0                    0   \n880dce00cd783e072875369b92198054                    0                    0   \n1a59bc663ed5d1b7c78dbe329aaaba81                    0                    0   \n0a82095e858d37b29296aaa41da89fb3                   22                   22   \n1ef20796a48bc68def0ea6c72ac15a57                    0                    0   \n6072d6ba636b772e4631eb25826b1571                    0                    0   \n3aec5551abb6897284e3ea54cb125310                    0                    0   \n6dabcf8d0dad7012a9c4c67ad21363c6                    0                    0   \nee07ccd67756841e3264fcb247c6b3f9                    0                    0   \n\n                                  2023-01-07 17:00:00  2023-01-07 18:00:00  \\\n4203ddc00280e94fd40564a2c4e77168                    0                    0   \nc3bdb2b4133c785067b090b83b25245c                    0                    0   \n880dce00cd783e072875369b92198054                    0                    0   \n1a59bc663ed5d1b7c78dbe329aaaba81                    0                    0   \n0a82095e858d37b29296aaa41da89fb3                   22                   22   \n1ef20796a48bc68def0ea6c72ac15a57                    0                    0   \n6072d6ba636b772e4631eb25826b1571                    0                    0   \n3aec5551abb6897284e3ea54cb125310                    0                    0   \n6dabcf8d0dad7012a9c4c67ad21363c6                    0                    0   \nee07ccd67756841e3264fcb247c6b3f9                    0                    0   \n\n                                  2023-01-07 19:00:00  2023-01-07 20:00:00  \\\n4203ddc00280e94fd40564a2c4e77168                    0                    0   \nc3bdb2b4133c785067b090b83b25245c                    0                    0   \n880dce00cd783e072875369b92198054                    0                    0   \n1a59bc663ed5d1b7c78dbe329aaaba81                    0                    0   \n0a82095e858d37b29296aaa41da89fb3                    0                    0   \n1ef20796a48bc68def0ea6c72ac15a57                    0                    0   \n6072d6ba636b772e4631eb25826b1571                    0                    0   \n3aec5551abb6897284e3ea54cb125310                    0                    0   \n6dabcf8d0dad7012a9c4c67ad21363c6                    0                    0   \nee07ccd67756841e3264fcb247c6b3f9                    0                    0   \n\n                                  2023-01-07 21:00:00  2023-01-07 22:00:00  \\\n4203ddc00280e94fd40564a2c4e77168                    0                    0   \nc3bdb2b4133c785067b090b83b25245c                    0                    0   \n880dce00cd783e072875369b92198054                    0                    0   \n1a59bc663ed5d1b7c78dbe329aaaba81                    0                    0   \n0a82095e858d37b29296aaa41da89fb3                    0                    0   \n1ef20796a48bc68def0ea6c72ac15a57                    0                    0   \n6072d6ba636b772e4631eb25826b1571                    0                    0   \n3aec5551abb6897284e3ea54cb125310                    0                    0   \n6dabcf8d0dad7012a9c4c67ad21363c6                    0                    0   \nee07ccd67756841e3264fcb247c6b3f9                    0                    0   \n\n                                  2023-01-07 23:00:00  \n4203ddc00280e94fd40564a2c4e77168                    0  \nc3bdb2b4133c785067b090b83b25245c                    0  \n880dce00cd783e072875369b92198054                    0  \n1a59bc663ed5d1b7c78dbe329aaaba81                    0  \n0a82095e858d37b29296aaa41da89fb3                    0  \n1ef20796a48bc68def0ea6c72ac15a57                    0  \n6072d6ba636b772e4631eb25826b1571                    0  \n3aec5551abb6897284e3ea54cb125310                    0  \n6dabcf8d0dad7012a9c4c67ad21363c6                    0  \nee07ccd67756841e3264fcb247c6b3f9                    0  \n\n[10 rows x 168 columns]",
      "text/html": "<div>\n<style scoped>\n    .dataframe tbody tr th:only-of-type {\n        vertical-align: middle;\n    }\n\n    .dataframe tbody tr th {\n        vertical-align: top;\n    }\n\n    .dataframe thead th {\n        text-align: right;\n    }\n</style>\n<table border=\"1\" class=\"dataframe\">\n  <thead>\n    <tr style=\"text-align: right;\">\n      <th></th>\n      <th>2023-01-01 00:00:00</th>\n      <th>2023-01-01 01:00:00</th>\n      <th>2023-01-01 02:00:00</th>\n      <th>2023-01-01 03:00:00</th>\n      <th>2023-01-01 04:00:00</th>\n      <th>2023-01-01 05:00:00</th>\n      <th>2023-01-01 06:00:00</th>\n      <th>2023-01-01 07:00:00</th>\n      <th>2023-01-01 08:00:00</th>\n      <th>2023-01-01 09:00:00</th>\n      <th>...</th>\n      <th>2023-01-07 14:00:00</th>\n      <th>2023-01-07 15:00:00</th>\n      <th>2023-01-07 16:00:00</th>\n      <th>2023-01-07 17:00:00</th>\n      <th>2023-01-07 18:00:00</th>\n      <th>2023-01-07 19:00:00</th>\n      <th>2023-01-07 20:00:00</th>\n      <th>2023-01-07 21:00:00</th>\n      <th>2023-01-07 22:00:00</th>\n      <th>2023-01-07 23:00:00</th>\n    </tr>\n  </thead>\n  <tbody>\n    <tr>\n      <th>4203ddc00280e94fd40564a2c4e77168</th>\n      <td>0</td>\n      <td>0</td>\n      <td>0</td>\n      <td>0</td>\n      <td>0</td>\n      <td>0</td>\n      <td>0</td>\n      <td>0</td>\n      <td>0</td>\n      <td>0</td>\n      <td>...</td>\n      <td>0</td>\n      <td>0</td>\n      <td>0</td>\n      <td>0</td>\n      <td>0</td>\n      <td>0</td>\n      <td>0</td>\n      <td>0</td>\n      <td>0</td>\n      <td>0</td>\n    </tr>\n    <tr>\n      <th>c3bdb2b4133c785067b090b83b25245c</th>\n      <td>0</td>\n      <td>0</td>\n      <td>0</td>\n      <td>0</td>\n      <td>0</td>\n      <td>0</td>\n      <td>0</td>\n      <td>0</td>\n      <td>0</td>\n      <td>0</td>\n      <td>...</td>\n      <td>0</td>\n      <td>0</td>\n      <td>0</td>\n      <td>0</td>\n      <td>0</td>\n      <td>0</td>\n      <td>0</td>\n      <td>0</td>\n      <td>0</td>\n      <td>0</td>\n    </tr>\n    <tr>\n      <th>880dce00cd783e072875369b92198054</th>\n      <td>0</td>\n      <td>0</td>\n      <td>0</td>\n      <td>0</td>\n      <td>0</td>\n      <td>0</td>\n      <td>0</td>\n      <td>0</td>\n      <td>0</td>\n      <td>0</td>\n      <td>...</td>\n      <td>0</td>\n      <td>0</td>\n      <td>0</td>\n      <td>0</td>\n      <td>0</td>\n      <td>0</td>\n      <td>0</td>\n      <td>0</td>\n      <td>0</td>\n      <td>0</td>\n    </tr>\n    <tr>\n      <th>1a59bc663ed5d1b7c78dbe329aaaba81</th>\n      <td>0</td>\n      <td>0</td>\n      <td>0</td>\n      <td>0</td>\n      <td>0</td>\n      <td>0</td>\n      <td>0</td>\n      <td>0</td>\n      <td>0</td>\n      <td>0</td>\n      <td>...</td>\n      <td>0</td>\n      <td>0</td>\n      <td>0</td>\n      <td>0</td>\n      <td>0</td>\n      <td>0</td>\n      <td>0</td>\n      <td>0</td>\n      <td>0</td>\n      <td>0</td>\n    </tr>\n    <tr>\n      <th>0a82095e858d37b29296aaa41da89fb3</th>\n      <td>0</td>\n      <td>0</td>\n      <td>0</td>\n      <td>0</td>\n      <td>0</td>\n      <td>0</td>\n      <td>0</td>\n      <td>0</td>\n      <td>22</td>\n      <td>22</td>\n      <td>...</td>\n      <td>22</td>\n      <td>22</td>\n      <td>22</td>\n      <td>22</td>\n      <td>22</td>\n      <td>0</td>\n      <td>0</td>\n      <td>0</td>\n      <td>0</td>\n      <td>0</td>\n    </tr>\n    <tr>\n      <th>1ef20796a48bc68def0ea6c72ac15a57</th>\n      <td>0</td>\n      <td>0</td>\n      <td>0</td>\n      <td>0</td>\n      <td>0</td>\n      <td>0</td>\n      <td>0</td>\n      <td>0</td>\n      <td>0</td>\n      <td>0</td>\n      <td>...</td>\n      <td>0</td>\n      <td>0</td>\n      <td>0</td>\n      <td>0</td>\n      <td>0</td>\n      <td>0</td>\n      <td>0</td>\n      <td>0</td>\n      <td>0</td>\n      <td>0</td>\n    </tr>\n    <tr>\n      <th>6072d6ba636b772e4631eb25826b1571</th>\n      <td>0</td>\n      <td>0</td>\n      <td>0</td>\n      <td>0</td>\n      <td>0</td>\n      <td>0</td>\n      <td>0</td>\n      <td>0</td>\n      <td>0</td>\n      <td>0</td>\n      <td>...</td>\n      <td>0</td>\n      <td>0</td>\n      <td>0</td>\n      <td>0</td>\n      <td>0</td>\n      <td>0</td>\n      <td>0</td>\n      <td>0</td>\n      <td>0</td>\n      <td>0</td>\n    </tr>\n    <tr>\n      <th>3aec5551abb6897284e3ea54cb125310</th>\n      <td>0</td>\n      <td>0</td>\n      <td>0</td>\n      <td>0</td>\n      <td>0</td>\n      <td>0</td>\n      <td>0</td>\n      <td>0</td>\n      <td>0</td>\n      <td>0</td>\n      <td>...</td>\n      <td>0</td>\n      <td>0</td>\n      <td>0</td>\n      <td>0</td>\n      <td>0</td>\n      <td>0</td>\n      <td>0</td>\n      <td>0</td>\n      <td>0</td>\n      <td>0</td>\n    </tr>\n    <tr>\n      <th>6dabcf8d0dad7012a9c4c67ad21363c6</th>\n      <td>0</td>\n      <td>0</td>\n      <td>0</td>\n      <td>0</td>\n      <td>0</td>\n      <td>0</td>\n      <td>0</td>\n      <td>0</td>\n      <td>0</td>\n      <td>0</td>\n      <td>...</td>\n      <td>0</td>\n      <td>0</td>\n      <td>0</td>\n      <td>0</td>\n      <td>0</td>\n      <td>0</td>\n      <td>0</td>\n      <td>0</td>\n      <td>0</td>\n      <td>0</td>\n    </tr>\n    <tr>\n      <th>ee07ccd67756841e3264fcb247c6b3f9</th>\n      <td>0</td>\n      <td>0</td>\n      <td>0</td>\n      <td>0</td>\n      <td>0</td>\n      <td>0</td>\n      <td>0</td>\n      <td>0</td>\n      <td>0</td>\n      <td>0</td>\n      <td>...</td>\n      <td>0</td>\n      <td>0</td>\n      <td>0</td>\n      <td>0</td>\n      <td>0</td>\n      <td>0</td>\n      <td>0</td>\n      <td>0</td>\n      <td>0</td>\n      <td>0</td>\n    </tr>\n  </tbody>\n</table>\n<p>10 rows × 168 columns</p>\n</div>"
     },
     "execution_count": 159,
     "metadata": {},
     "output_type": "execute_result"
    }
   ],
   "source": [
    "# Flexibility power\n",
    "\n",
    "aggregator.simulation_dataframes['ev_flexibility_power']"
   ],
   "metadata": {
    "collapsed": false,
    "pycharm": {
     "name": "#%%\n"
    }
   }
  },
  {
   "cell_type": "code",
   "execution_count": null,
   "outputs": [],
   "source": [],
   "metadata": {
    "collapsed": false,
    "pycharm": {
     "name": "#%%\n"
    }
   }
  }
 ],
 "metadata": {
  "kernelspec": {
   "display_name": "Python 3",
   "language": "python",
   "name": "python3"
  },
  "language_info": {
   "codemirror_mode": {
    "name": "ipython",
    "version": 2
   },
   "file_extension": ".py",
   "mimetype": "text/x-python",
   "name": "python",
   "nbconvert_exporter": "python",
   "pygments_lexer": "ipython2",
   "version": "2.7.6"
  }
 },
 "nbformat": 4,
 "nbformat_minor": 0
}