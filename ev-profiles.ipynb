{
 "cells": [
  {
   "cell_type": "code",
   "execution_count": 1,
   "outputs": [],
   "source": [
    "# Imports\n",
    "\n",
    "import numpy as np\n",
    "import pandas as pd\n",
    "import matplotlib.pyplot as plt"
   ],
   "metadata": {
    "collapsed": false,
    "pycharm": {
     "name": "#%%\n"
    }
   }
  },
  {
   "cell_type": "code",
   "execution_count": 48,
   "outputs": [],
   "source": [
    "# Create an EV class with the following attributes:\n",
    "# - Brand\n",
    "# - Model\n",
    "# - Battery type\n",
    "# - Battery size\n",
    "# - Charging Efficiency\n",
    "# - Discharging Efficiency\n",
    "# - Energy per km\n",
    "# - SOC min\n",
    "# - SOC max\n",
    "# - Probability in population - this is the probability that a car of this type will be chosen from the population\n",
    "\n",
    "class EV:\n",
    "    def __init__(self, brand, model, battery_type, battery_size, charging_efficiency, discharging_efficiency, energy_per_km, soc_min, soc_max, probability_in_population):\n",
    "        self.brand = brand\n",
    "        self.model = model\n",
    "        self.battery_type = battery_type\n",
    "        self.battery_size = battery_size\n",
    "        self.charging_efficiency = charging_efficiency if charging_efficiency <= 1 or charging_efficiency >= 0 else 0.9\n",
    "        self.discharging_efficiency = discharging_efficiency if discharging_efficiency <= 1 or discharging_efficiency >= 0 else 0.9\n",
    "        self.energy_per_km = energy_per_km\n",
    "        self.soc_min = soc_min if soc_min >= 0.0 else 0.0\n",
    "        self.soc_max = soc_max if soc_max <= 1.0 else 1.0\n",
    "        self.probability_in_population = probability_in_population if probability_in_population <= 1.0 else 1.0\n",
    "\n",
    "\n",
    "# Extend the class to create drivable EVs\n",
    "class DrivableEV(EV):\n",
    "\n",
    "    # __init__ method is inherited from EV class, extended with the state of charge. Creates the following attributes:\n",
    "    # - State of Charge\n",
    "    # - List of trips\n",
    "    # - Current trip\n",
    "    def __init__(self, brand, model, battery_type, battery_size, charging_efficiency, discharging_efficiency, energy_per_km, soc_min, soc_max, probability_in_population, initial_soc=None):\n",
    "        super().__init__(brand, model, battery_type, battery_size, charging_efficiency, discharging_efficiency, energy_per_km, soc_min, soc_max, probability_in_population)\n",
    "\n",
    "        # SOC variables\n",
    "        self.soc = [initial_soc]\n",
    "        self.current_soc = initial_soc\n",
    "\n",
    "        # List of trips and current trip\n",
    "        self.trips = []\n",
    "        self.current_trip = None\n",
    "\n",
    "        # Information about the charging stations\n",
    "        self.current_charging_station = None\n",
    "\n",
    "\n",
    "    # Format the print\n",
    "    def __repr__(self):\n",
    "        return f\"{self.brand} {self.model} with {self.battery_size} kWh battery\"\n",
    "\n",
    "    # Create a method to add a trip to the EV\n",
    "    def add_trip(self, trip):\n",
    "        self.trips.append(trip)\n",
    "        self.current_trip = trip\n",
    "\n",
    "\n",
    "    # Create a method to charge the EV\n",
    "    def charge(self, charge_amount):\n",
    "        self.current_soc += charge_amount * self.charging_efficiency\n",
    "\n",
    "        if self.current_soc > self.battery_size:\n",
    "            self.current_soc = self.battery_size\n",
    "\n",
    "\n",
    "    # Create a method to discharge the EV\n",
    "    def discharge(self, discharge_amount):\n",
    "        self.current_soc -= discharge_amount * self.discharging_efficiency\n",
    "\n",
    "        if self.current_soc < 0:\n",
    "            self.current_soc = 0"
   ],
   "metadata": {
    "collapsed": false,
    "pycharm": {
     "name": "#%%\n"
    }
   }
  },
  {
   "cell_type": "code",
   "execution_count": 49,
   "outputs": [
    {
     "name": "stdout",
     "output_type": "stream",
     "text": [
      "1.0\n"
     ]
    }
   ],
   "source": [
    "# Create a list of EVs to use in the simulation\n",
    "\n",
    "EVs = [EV(brand='Nissa', model='Leaf', battery_type='BEV', battery_size=40,\n",
    "          charging_efficiency=0.9, discharging_efficiency=0.9,\n",
    "          probability_in_population=0.16, energy_per_km=0.2, soc_min=0.7, soc_max=1.0),\n",
    "       EV(brand='Tesla', model='Model 3', battery_type='BEV', battery_size=75,\n",
    "          charging_efficiency=0.9, discharging_efficiency=0.9,\n",
    "          probability_in_population=0.13, energy_per_km=0.2, soc_min=0.7, soc_max=1.0),\n",
    "       EV(brand='BMW', model='i3', battery_type='BEV', battery_size=42,\n",
    "          charging_efficiency=0.9, discharging_efficiency=0.9,\n",
    "          probability_in_population=0.1, energy_per_km=0.2, soc_min=0.7, soc_max=1.0),\n",
    "       EV(brand='Renault', model='Zoe', battery_type='BEV', battery_size=41,\n",
    "          charging_efficiency=0.9, discharging_efficiency=0.9,\n",
    "          probability_in_population=0.1, energy_per_km=0.2, soc_min=0.7, soc_max=1.0),\n",
    "       EV(brand='Jaguar', model='I-Pace', battery_type='BEV', battery_size=90,\n",
    "          charging_efficiency=0.9, discharging_efficiency=0.9,\n",
    "          probability_in_population=0.09, energy_per_km=0.2, soc_min=0.7, soc_max=1.0),\n",
    "       EV(brand='Mercedes', model='E300', battery_type='PHEV', battery_size=135,\n",
    "          charging_efficiency=0.9, discharging_efficiency=0.9,\n",
    "          probability_in_population=0.08, energy_per_km=0.2, soc_min=0.7, soc_max=1.0),\n",
    "       EV(brand='BMW', model='530e', battery_type='PHEV', battery_size=120,\n",
    "          charging_efficiency=0.9, discharging_efficiency=0.9,\n",
    "          probability_in_population=0.08, energy_per_km=0.2, soc_min=0.7, soc_max=1.0),\n",
    "       EV(brand='Mini', model='Countrymen', battery_type='PHEV', battery_size=76,\n",
    "          charging_efficiency=0.9, discharging_efficiency=0.9,\n",
    "          probability_in_population=0.07, energy_per_km=0.2, soc_min=0.7, soc_max=1.0),\n",
    "       EV(brand='Hyundai', model='Kauai', battery_type='BEV', battery_size=39,\n",
    "          charging_efficiency=0.9, discharging_efficiency=0.9,\n",
    "          probability_in_population=0.06, energy_per_km=0.2, soc_min=0.7, soc_max=1.0),\n",
    "       EV(brand='Mitshubishi', model='Outlander', battery_type='PHEV', battery_size=12,\n",
    "          charging_efficiency=0.9, discharging_efficiency=0.9,\n",
    "          probability_in_population=0.05, energy_per_km=0.2, soc_min=0.7, soc_max=1.0),\n",
    "       EV(brand='Smart', model='Fortwo', battery_type='PHEV', battery_size=17.6,\n",
    "          charging_efficiency=0.9, discharging_efficiency=0.9,\n",
    "          probability_in_population=0.05, energy_per_km=0.2, soc_min=0.7, soc_max=1.0),\n",
    "       EV(brand='Others', model='Others', battery_type='PEV', battery_size=20,\n",
    "          charging_efficiency=0.9, discharging_efficiency=0.9,\n",
    "          probability_in_population=0.03, energy_per_km=0.2, soc_min=0.7, soc_max=1.0)]\n",
    "\n",
    "# Print the sum of the probabilities in the population of EVs\n",
    "sum_of_probabilities = 0\n",
    "for ev in EVs:\n",
    "    sum_of_probabilities += ev.probability_in_population\n",
    "print(sum_of_probabilities)"
   ],
   "metadata": {
    "collapsed": false,
    "pycharm": {
     "name": "#%%\n"
    }
   }
  },
  {
   "cell_type": "code",
   "execution_count": 50,
   "outputs": [],
   "source": [
    "# Define a Trip class, that will assign a trip to an EV. Has the following parameters:\n",
    "# - EV\n",
    "# - Trip length\n",
    "# - Trip start time (can be a range)\n",
    "# - Trip end time (can be a range)\n",
    "# - Trip start SOC\n",
    "# - Trip end SOC\n",
    "# - Trip energy consumption\n",
    "# - Trip stops\n",
    "\n",
    "class Trip:\n",
    "    def __init__(self, ev, trip_length, trip_start_time, trip_end_time, trip_start_soc, trip_end_soc, trip_energy_consumption, trip_stops):\n",
    "        self.ev = ev\n",
    "        self.trip_length = trip_length\n",
    "        self.trip_start_time = trip_start_time\n",
    "        self.trip_end_time = trip_end_time\n",
    "        self.trip_start_soc = trip_start_soc\n",
    "        self.trip_end_soc = trip_end_soc\n",
    "        self.trip_energy_consumption = trip_energy_consumption\n",
    "        self.trip_stops = trip_stops\n"
   ],
   "metadata": {
    "collapsed": false,
    "pycharm": {
     "name": "#%%\n"
    }
   }
  },
  {
   "cell_type": "code",
   "execution_count": 51,
   "outputs": [],
   "source": [
    "# Define a Charging Station class, that will charge the EVs. Has the following parameters:\n",
    "# - Charging station name\n",
    "# - Charging station location\n",
    "# - Charging station type\n",
    "# - Charging station power\n",
    "# - Charging station efficiency\n",
    "# - Charging station availability\n",
    "# - Charging station cost\n",
    "\n",
    "class ChargingStation:\n",
    "    def __init__(self, charging_station_name, charging_station_location, charging_station_type, charging_station_power, charging_station_efficiency, charging_station_availability, charging_station_cost):\n",
    "        self.charging_station_name = charging_station_name\n",
    "        self.charging_station_location = charging_station_location\n",
    "        self.charging_station_type = charging_station_type\n",
    "        self.charging_station_power = charging_station_power\n",
    "        self.charging_station_efficiency = charging_station_efficiency\n",
    "        self.charging_station_availability = charging_station_availability\n",
    "        self.charging_station_cost = charging_station_cost\n"
   ],
   "metadata": {
    "collapsed": false,
    "pycharm": {
     "name": "#%%\n"
    }
   }
  },
  {
   "cell_type": "code",
   "execution_count": 99,
   "outputs": [],
   "source": [
    "# Define an Aggregator class, that will aggregate the trips and EVs. Has the following parameters:\n",
    "# - EVs\n",
    "# - Trips\n",
    "# - Number of EVs\n",
    "\n",
    "class Aggregator:\n",
    "    def __init__(self, evs, trips, number_of_evs):\n",
    "        self.evs = evs\n",
    "        self.trips = trips\n",
    "        self.number_of_evs = number_of_evs\n",
    "        self.population = None\n",
    "\n",
    "    # Add an EV to the fleet\n",
    "    def add_ev(self, ev):\n",
    "        self.evs.append(ev)\n",
    "\n",
    "    # Assign a trip to an EV\n",
    "    def assign_trip(self, ev, trip):\n",
    "        ev.add_trip(trip)\n",
    "\n",
    "    # Assign a charging station to an EV, and charge the EV if:\n",
    "    # - The charging station is available\n",
    "    # - The charging station is of the correct type\n",
    "    # - The charging station has enough power to charge the EV\n",
    "    def assign_charging_station(self, ev, charging_station):\n",
    "        if charging_station.charging_station_availability == True and charging_station.charging_station_type == ev.battery_type and charging_station.charging_station_power >= ev.battery_size:\n",
    "            ev.current_charging_station = charging_station\n",
    "            ev.charge(charging_station.charging_station_power)\n",
    "            charging_station.charging_station_availability = False\n",
    "\n",
    "\n",
    "    # Create the population of DrivableEVs according to NumPy's random.choice\n",
    "    def create_population(self):\n",
    "        population_choice = np.random.choice(self.evs, self.number_of_evs,\n",
    "                                             p=[ev.probability_in_population for ev in self.evs])\n",
    "\n",
    "        # Create a list of DrivableEVs\n",
    "        self.population = [DrivableEV(ev.brand, ev.model, ev.battery_type, ev.battery_size,\n",
    "                                      ev.charging_efficiency, ev.discharging_efficiency,\n",
    "                                      ev.energy_per_km, ev.soc_min, ev.soc_max,\n",
    "                                      ev.probability_in_population,\n",
    "                                      initial_soc=np.round(np.random.uniform(ev.soc_min,\n",
    "                                                                             ev.soc_max, 1)[0], 2))\n",
    "                           for ev in population_choice]\n",
    "\n",
    "\n",
    "    # Create a DataFrame of the population\n",
    "    def population_dataframe(self):\n",
    "        # Create a DataFrame of the population\n",
    "        population_dataframe = pd.DataFrame([ev.__dict__ for ev in self.population])\n",
    "\n",
    "        # Return the DataFrame\n",
    "        return population_dataframe"
   ],
   "metadata": {
    "collapsed": false,
    "pycharm": {
     "name": "#%%\n"
    }
   }
  },
  {
   "cell_type": "code",
   "execution_count": 100,
   "outputs": [
    {
     "data": {
      "text/plain": "       brand       model battery_type  battery_size  charging_efficiency  \\\n0      Nissa        Leaf          BEV          40.0                  0.9   \n1       Mini  Countrymen         PHEV          76.0                  0.9   \n2   Mercedes        E300         PHEV         135.0                  0.9   \n3      Smart      Fortwo         PHEV          17.6                  0.9   \n4    Renault         Zoe          BEV          41.0                  0.9   \n..       ...         ...          ...           ...                  ...   \n95       BMW          i3          BEV          42.0                  0.9   \n96     Nissa        Leaf          BEV          40.0                  0.9   \n97     Tesla     Model 3          BEV          75.0                  0.9   \n98  Mercedes        E300         PHEV         135.0                  0.9   \n99     Tesla     Model 3          BEV          75.0                  0.9   \n\n    discharging_efficiency  energy_per_km  soc_min  soc_max  \\\n0                      0.9            0.2      0.7      1.0   \n1                      0.9            0.2      0.7      1.0   \n2                      0.9            0.2      0.7      1.0   \n3                      0.9            0.2      0.7      1.0   \n4                      0.9            0.2      0.7      1.0   \n..                     ...            ...      ...      ...   \n95                     0.9            0.2      0.7      1.0   \n96                     0.9            0.2      0.7      1.0   \n97                     0.9            0.2      0.7      1.0   \n98                     0.9            0.2      0.7      1.0   \n99                     0.9            0.2      0.7      1.0   \n\n    probability_in_population     soc  current_soc trips current_trip  \\\n0                        0.16  [0.76]         0.76    []         None   \n1                        0.07  [0.72]         0.72    []         None   \n2                        0.08  [0.79]         0.79    []         None   \n3                        0.05   [0.8]         0.80    []         None   \n4                        0.10  [0.88]         0.88    []         None   \n..                        ...     ...          ...   ...          ...   \n95                       0.10  [0.86]         0.86    []         None   \n96                       0.16  [0.86]         0.86    []         None   \n97                       0.13  [0.86]         0.86    []         None   \n98                       0.08  [0.95]         0.95    []         None   \n99                       0.13  [0.96]         0.96    []         None   \n\n   current_charging_station  \n0                      None  \n1                      None  \n2                      None  \n3                      None  \n4                      None  \n..                      ...  \n95                     None  \n96                     None  \n97                     None  \n98                     None  \n99                     None  \n\n[100 rows x 15 columns]",
      "text/html": "<div>\n<style scoped>\n    .dataframe tbody tr th:only-of-type {\n        vertical-align: middle;\n    }\n\n    .dataframe tbody tr th {\n        vertical-align: top;\n    }\n\n    .dataframe thead th {\n        text-align: right;\n    }\n</style>\n<table border=\"1\" class=\"dataframe\">\n  <thead>\n    <tr style=\"text-align: right;\">\n      <th></th>\n      <th>brand</th>\n      <th>model</th>\n      <th>battery_type</th>\n      <th>battery_size</th>\n      <th>charging_efficiency</th>\n      <th>discharging_efficiency</th>\n      <th>energy_per_km</th>\n      <th>soc_min</th>\n      <th>soc_max</th>\n      <th>probability_in_population</th>\n      <th>soc</th>\n      <th>current_soc</th>\n      <th>trips</th>\n      <th>current_trip</th>\n      <th>current_charging_station</th>\n    </tr>\n  </thead>\n  <tbody>\n    <tr>\n      <th>0</th>\n      <td>Nissa</td>\n      <td>Leaf</td>\n      <td>BEV</td>\n      <td>40.0</td>\n      <td>0.9</td>\n      <td>0.9</td>\n      <td>0.2</td>\n      <td>0.7</td>\n      <td>1.0</td>\n      <td>0.16</td>\n      <td>[0.76]</td>\n      <td>0.76</td>\n      <td>[]</td>\n      <td>None</td>\n      <td>None</td>\n    </tr>\n    <tr>\n      <th>1</th>\n      <td>Mini</td>\n      <td>Countrymen</td>\n      <td>PHEV</td>\n      <td>76.0</td>\n      <td>0.9</td>\n      <td>0.9</td>\n      <td>0.2</td>\n      <td>0.7</td>\n      <td>1.0</td>\n      <td>0.07</td>\n      <td>[0.72]</td>\n      <td>0.72</td>\n      <td>[]</td>\n      <td>None</td>\n      <td>None</td>\n    </tr>\n    <tr>\n      <th>2</th>\n      <td>Mercedes</td>\n      <td>E300</td>\n      <td>PHEV</td>\n      <td>135.0</td>\n      <td>0.9</td>\n      <td>0.9</td>\n      <td>0.2</td>\n      <td>0.7</td>\n      <td>1.0</td>\n      <td>0.08</td>\n      <td>[0.79]</td>\n      <td>0.79</td>\n      <td>[]</td>\n      <td>None</td>\n      <td>None</td>\n    </tr>\n    <tr>\n      <th>3</th>\n      <td>Smart</td>\n      <td>Fortwo</td>\n      <td>PHEV</td>\n      <td>17.6</td>\n      <td>0.9</td>\n      <td>0.9</td>\n      <td>0.2</td>\n      <td>0.7</td>\n      <td>1.0</td>\n      <td>0.05</td>\n      <td>[0.8]</td>\n      <td>0.80</td>\n      <td>[]</td>\n      <td>None</td>\n      <td>None</td>\n    </tr>\n    <tr>\n      <th>4</th>\n      <td>Renault</td>\n      <td>Zoe</td>\n      <td>BEV</td>\n      <td>41.0</td>\n      <td>0.9</td>\n      <td>0.9</td>\n      <td>0.2</td>\n      <td>0.7</td>\n      <td>1.0</td>\n      <td>0.10</td>\n      <td>[0.88]</td>\n      <td>0.88</td>\n      <td>[]</td>\n      <td>None</td>\n      <td>None</td>\n    </tr>\n    <tr>\n      <th>...</th>\n      <td>...</td>\n      <td>...</td>\n      <td>...</td>\n      <td>...</td>\n      <td>...</td>\n      <td>...</td>\n      <td>...</td>\n      <td>...</td>\n      <td>...</td>\n      <td>...</td>\n      <td>...</td>\n      <td>...</td>\n      <td>...</td>\n      <td>...</td>\n      <td>...</td>\n    </tr>\n    <tr>\n      <th>95</th>\n      <td>BMW</td>\n      <td>i3</td>\n      <td>BEV</td>\n      <td>42.0</td>\n      <td>0.9</td>\n      <td>0.9</td>\n      <td>0.2</td>\n      <td>0.7</td>\n      <td>1.0</td>\n      <td>0.10</td>\n      <td>[0.86]</td>\n      <td>0.86</td>\n      <td>[]</td>\n      <td>None</td>\n      <td>None</td>\n    </tr>\n    <tr>\n      <th>96</th>\n      <td>Nissa</td>\n      <td>Leaf</td>\n      <td>BEV</td>\n      <td>40.0</td>\n      <td>0.9</td>\n      <td>0.9</td>\n      <td>0.2</td>\n      <td>0.7</td>\n      <td>1.0</td>\n      <td>0.16</td>\n      <td>[0.86]</td>\n      <td>0.86</td>\n      <td>[]</td>\n      <td>None</td>\n      <td>None</td>\n    </tr>\n    <tr>\n      <th>97</th>\n      <td>Tesla</td>\n      <td>Model 3</td>\n      <td>BEV</td>\n      <td>75.0</td>\n      <td>0.9</td>\n      <td>0.9</td>\n      <td>0.2</td>\n      <td>0.7</td>\n      <td>1.0</td>\n      <td>0.13</td>\n      <td>[0.86]</td>\n      <td>0.86</td>\n      <td>[]</td>\n      <td>None</td>\n      <td>None</td>\n    </tr>\n    <tr>\n      <th>98</th>\n      <td>Mercedes</td>\n      <td>E300</td>\n      <td>PHEV</td>\n      <td>135.0</td>\n      <td>0.9</td>\n      <td>0.9</td>\n      <td>0.2</td>\n      <td>0.7</td>\n      <td>1.0</td>\n      <td>0.08</td>\n      <td>[0.95]</td>\n      <td>0.95</td>\n      <td>[]</td>\n      <td>None</td>\n      <td>None</td>\n    </tr>\n    <tr>\n      <th>99</th>\n      <td>Tesla</td>\n      <td>Model 3</td>\n      <td>BEV</td>\n      <td>75.0</td>\n      <td>0.9</td>\n      <td>0.9</td>\n      <td>0.2</td>\n      <td>0.7</td>\n      <td>1.0</td>\n      <td>0.13</td>\n      <td>[0.96]</td>\n      <td>0.96</td>\n      <td>[]</td>\n      <td>None</td>\n      <td>None</td>\n    </tr>\n  </tbody>\n</table>\n<p>100 rows × 15 columns</p>\n</div>"
     },
     "execution_count": 100,
     "metadata": {},
     "output_type": "execute_result"
    }
   ],
   "source": [
    "# Create an Aggregator object\n",
    "aggregator = Aggregator(EVs, [], 100)\n",
    "\n",
    "# Create the population of EVs\n",
    "aggregator.create_population()\n",
    "\n",
    "# Print the population\n",
    "aggregator.population_dataframe()\n"
   ],
   "metadata": {
    "collapsed": false,
    "pycharm": {
     "name": "#%%\n"
    }
   }
  },
  {
   "cell_type": "code",
   "execution_count": 101,
   "outputs": [
    {
     "data": {
      "text/plain": "<Figure size 640x480 with 1 Axes>",
      "image/png": "[encoded data removed]"
     },
     "metadata": {},
     "output_type": "display_data"
    }
   ],
   "source": [
    "# Plot the population brand in a pie chart\n",
    "\n",
    "# Values of each group\n",
    "brand_values = aggregator.population_dataframe()['brand'].value_counts()\n",
    "plt.pie(brand_values, labels=brand_values.index, autopct='%1.1f%%')\n",
    "\n",
    "# View the plot\n",
    "plt.axis('equal')\n",
    "plt.show()"
   ],
   "metadata": {
    "collapsed": false,
    "pycharm": {
     "name": "#%%\n"
    }
   }
  },
  {
   "cell_type": "code",
   "execution_count": null,
   "outputs": [],
   "source": [],
   "metadata": {
    "collapsed": false,
    "pycharm": {
     "name": "#%%\n"
    }
   }
  }
 ],
 "metadata": {
  "kernelspec": {
   "display_name": "Python 3",
   "language": "python",
   "name": "python3"
  },
  "language_info": {
   "codemirror_mode": {
    "name": "ipython",
    "version": 2
   },
   "file_extension": ".py",
   "mimetype": "text/x-python",
   "name": "python",
   "nbconvert_exporter": "python",
   "pygments_lexer": "ipython2",
   "version": "2.7.6"
  }
 },
 "nbformat": 4,
 "nbformat_minor": 0
}