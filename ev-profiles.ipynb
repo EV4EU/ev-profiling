{
 "cells": [
  {
   "cell_type": "code",
   "execution_count": 1,
   "outputs": [],
   "source": [
    "# Imports\n",
    "\n",
    "import numpy as np\n",
    "import pandas as pd\n",
    "import matplotlib.pyplot as plt\n",
    "import secrets\n",
    "import datetime\n",
    "import tqdm.notebook as tqdm"
   ],
   "metadata": {
    "collapsed": false,
    "pycharm": {
     "name": "#%%\n"
    }
   }
  },
  {
   "cell_type": "code",
   "execution_count": 2,
   "outputs": [],
   "source": [
    "# Create an EV class with the following attributes:\n",
    "# - Brand\n",
    "# - Model\n",
    "# - Battery type\n",
    "# - Battery size\n",
    "# - Charging Efficiency\n",
    "# - Discharging Efficiency\n",
    "# - Energy per km\n",
    "# - SOC min\n",
    "# - SOC max\n",
    "# - Probability in population - this is the probability that a car of this type will be chosen from the population\n",
    "\n",
    "class EV:\n",
    "    def __init__(self, brand, model, battery_type, battery_size, charging_efficiency, discharging_efficiency, energy_per_km, soc_min, soc_max, probability_in_population):\n",
    "        self.brand = brand\n",
    "        self.model = model\n",
    "        self.battery_type = battery_type\n",
    "        self.battery_size = battery_size\n",
    "        self.charging_efficiency = charging_efficiency if charging_efficiency <= 1 or charging_efficiency >= 0 else 0.9\n",
    "        self.discharging_efficiency = discharging_efficiency if discharging_efficiency <= 1 or discharging_efficiency >= 0 else 0.9\n",
    "        self.energy_per_km = energy_per_km\n",
    "        self.soc_min = soc_min if soc_min >= 0.0 else 0.0\n",
    "        self.soc_max = soc_max if soc_max <= 1.0 else 1.0\n",
    "        self.probability_in_population = probability_in_population if probability_in_population <= 1.0 else 1.0\n",
    "\n",
    "\n",
    "# Extend the class to create drivable EVs\n",
    "class DrivableEV(EV):\n",
    "\n",
    "    # __init__ method is inherited from EV class, extended with the state of charge. Creates the following attributes:\n",
    "    # - State of Charge\n",
    "    # - List of trips\n",
    "    # - Current trip\n",
    "    def __init__(self, brand, model, battery_type, battery_size, charging_efficiency, discharging_efficiency, energy_per_km, soc_min, soc_max, probability_in_population, initial_soc=None, stopping_soc=None):\n",
    "        super().__init__(brand, model, battery_type, battery_size, charging_efficiency, discharging_efficiency, energy_per_km, soc_min, soc_max, probability_in_population)\n",
    "\n",
    "        # EV ID\n",
    "        self.ev_id = secrets.token_hex(16)\n",
    "\n",
    "        # SOC variables\n",
    "        self.soc = [initial_soc]\n",
    "        self.current_soc = initial_soc\n",
    "        # Attribute a random SOC to stop the EV if none is provided\n",
    "        self.stopping_soc = stopping_soc if stopping_soc is not None else np.random.uniform(0.2, 0.3, 1)[0]\n",
    "\n",
    "        # List of trips and current trip\n",
    "        self.trips = []\n",
    "        self.split_trips = []\n",
    "\n",
    "        # User profile\n",
    "        self.user_profile = None\n",
    "\n",
    "        # Placeholder for the charging station pools that the EV will use\n",
    "        self.default_charging_stations_pool = None\n",
    "        self.segment_charging_stations_pool = None\n",
    "\n",
    "        # Placeholder for the charging station that the EV will use\n",
    "        self.default_charging_station = None\n",
    "        self.segment_charging_station = None\n",
    "\n",
    "        # Create a list of charging stations\n",
    "        self.charging_stations_list = []\n",
    "\n",
    "        # Number of stops\n",
    "        self.number_of_stops = 0\n",
    "\n",
    "        # Charging times\n",
    "        self.charging_start_time = []\n",
    "        self.charging_end_time = []\n",
    "        self.charging_type = []\n",
    "        self.charging_power = []\n",
    "        self.charging_start_soc = []\n",
    "        self.charging_end_soc = []\n",
    "\n",
    "        # Driving Logs\n",
    "        self.driving_start_time = []\n",
    "        self.driving_end_time = []\n",
    "        self.driving_start_soc = []\n",
    "        self.driving_end_soc = []\n",
    "        self.driving_distance = []\n",
    "        self.driving_energy_consumption = []\n",
    "\n",
    "        # Flexibility logs\n",
    "        self.flexibility_start_time = []\n",
    "        self.flexibility_end_time = []\n",
    "        self.flexibility_type = []\n",
    "        self.flexibility_power = []\n",
    "        self.flexibility_start_soc = []\n",
    "        self.flexibility_end_soc = []\n",
    "\n",
    "\n",
    "    # Format the print\n",
    "    def __repr__(self):\n",
    "        return f\"{self.brand} {self.model} with {self.battery_size} kWh battery\"\n",
    "\n",
    "\n",
    "    # Create a method to add a trip to the EV\n",
    "    def add_trip(self, trip):\n",
    "        self.trips.append(trip)\n",
    "\n",
    "\n",
    "    # Create a method to charge the EV\n",
    "    def charge(self, charge_amount):\n",
    "        self.current_soc += charge_amount * self.charging_efficiency\n",
    "\n",
    "        if self.current_soc > 1.0:\n",
    "            self.current_soc = 1.0\n",
    "\n",
    "        self.soc.append(self.current_soc)\n",
    "\n",
    "\n",
    "    # Create a method to charge the EV to a certain SOC. This is used for the segment charging and outputs the amount of energy charged and time taken to charge\n",
    "    def charge_to_soc(self, target_soc, cs_charging_power, cs_charging_efficiency, charge_ev=True):\n",
    "        # Calculate the amount of energy needed to charge the EV\n",
    "        energy_needed = (target_soc - self.current_soc) * self.battery_size if target_soc > self.current_soc else 0.0\n",
    "\n",
    "        cs_charging_efficiency = min(cs_charging_efficiency, self.charging_efficiency)\n",
    "\n",
    "        # Calculate the time needed to charge the EV\n",
    "        time_needed = energy_needed / (cs_charging_power * cs_charging_efficiency)\n",
    "        time_needed = datetime.timedelta(hours=time_needed)\n",
    "\n",
    "        # Charge the EV\n",
    "        if charge_ev:\n",
    "            self.charge(energy_needed / self.battery_size)\n",
    "\n",
    "        return energy_needed, time_needed\n",
    "\n",
    "\n",
    "    # Create a method to log the charging of the EV\n",
    "    def log_charging(self, charging_start_time, charging_end_time, charging_type, charging_power, charging_start_soc, charging_end_soc):\n",
    "        self.charging_start_time.append(charging_start_time)\n",
    "        self.charging_end_time.append(charging_end_time)\n",
    "        self.charging_type.append(charging_type)\n",
    "        self.charging_power.append(charging_power)\n",
    "        self.charging_start_soc.append(charging_start_soc)\n",
    "        self.charging_end_soc.append(charging_end_soc)\n",
    "\n",
    "\n",
    "    # Create a method to log the flexibility of charge of the EV\n",
    "    def log_flexibility(self, flexibility_start_time, flexibility_end_time, flexibility_type, flexibility_power, flexibility_start_soc, flexibility_end_soc):\n",
    "        self.flexibility_start_time.append(flexibility_start_time)\n",
    "        self.flexibility_end_time.append(flexibility_end_time)\n",
    "        self.flexibility_type.append(flexibility_type)\n",
    "        self.flexibility_power.append(flexibility_power)\n",
    "        self.flexibility_start_soc.append(flexibility_start_soc)\n",
    "        self.flexibility_end_soc.append(flexibility_end_soc)\n",
    "\n",
    "\n",
    "    # Create a method to log the driving of the EV\n",
    "    def log_driving(self, driving_start_time, driving_end_time, driving_start_soc, driving_end_soc, driving_distance, driving_energy_consumption):\n",
    "        self.driving_start_time.append(driving_start_time)\n",
    "        self.driving_end_time.append(driving_end_time)\n",
    "        self.driving_start_soc.append(driving_start_soc)\n",
    "        self.driving_end_soc.append(driving_end_soc)\n",
    "        self.driving_distance.append(driving_distance)\n",
    "        self.driving_energy_consumption.append(driving_energy_consumption)\n",
    "\n",
    "\n",
    "    # Create a method to discharge the EV\n",
    "    def discharge(self, discharge_amount):\n",
    "        self.current_soc -= discharge_amount / self.discharging_efficiency\n",
    "\n",
    "        if self.current_soc < 0:\n",
    "            self.current_soc = 0\n",
    "\n",
    "        self.soc.append(self.current_soc)\n",
    "\n",
    "\n",
    "    # Create a method to assign the allowed charging stations by the profile\n",
    "    def assign_charging_stations(self):\n",
    "\n",
    "        # Check if charging stations were already assigned\n",
    "        if len(self.charging_stations_list) > 0:\n",
    "            return\n",
    "\n",
    "        # Get the charging stations from the profile\n",
    "        allowed_charging_stations = self.trips[0].profile.allowed_charging_stations\n",
    "\n",
    "        # Default stations\n",
    "        self.default_charging_stations_pool = allowed_charging_stations['Default']\n",
    "\n",
    "        # Segment stations\n",
    "        self.segment_charging_stations_pool = allowed_charging_stations['Segment']\n",
    "\n",
    "        # Pick the default charging station\n",
    "        self.default_charging_station = np.random.choice(self.default_charging_stations_pool, 1,\n",
    "                                                         p=[x.charging_station_probability for x in self.default_charging_stations_pool])[0]\n",
    "        self.default_charging_station.ev_id = self.ev_id\n",
    "\n",
    "        # Pick the segment charging station\n",
    "        self.segment_charging_station = np.random.choice(self.segment_charging_stations_pool, 1,\n",
    "                                                         p=[x.charging_station_probability for x in self.segment_charging_stations_pool])[0]\n",
    "        self.segment_charging_station.ev_id = self.ev_id\n",
    "\n",
    "        # Create a list of charging stations\n",
    "        self.charging_stations_list = [self.default_charging_station, self.segment_charging_station]\n",
    "\n",
    "\n",
    "    # Create a method to check necessity of trip splitting and charging\n",
    "    def trip_splitting(self):\n",
    "\n",
    "        # Placeholder for the list of trips\n",
    "        list_split_trips = []\n",
    "\n",
    "        # Placeholder for the current time\n",
    "        current_time = datetime.datetime(2023, 1, 1, 0, 0, 0)\n",
    "\n",
    "        # Check if the profile allows charging during the day\n",
    "        charge_during_day = self.user_profile.charge_during_day\n",
    "        charge_during_night = self.user_profile.charge_during_night\n",
    "        soc_min_tocharge = self.user_profile.soc_min_tocharge\n",
    "\n",
    "        # Check if SOC is below the minimum. If yes, charge the EV to capacity specified on the Profile.\n",
    "        if self.current_soc < self.stopping_soc:\n",
    "\n",
    "            temp_soc = self.current_soc\n",
    "\n",
    "            charge_energy, charge_time = self.charge_to_soc(soc_min_tocharge,\n",
    "                                                            self.default_charging_station.charging_station_power,\n",
    "                                                            self.default_charging_station.charging_station_efficiency)\n",
    "            self.log_charging(current_time, current_time + charge_time,\n",
    "                              self.default_charging_station.charging_station_type,\n",
    "                              self.default_charging_station.charging_station_power,\n",
    "                              temp_soc,\n",
    "                              self.current_soc)\n",
    "\n",
    "            # Update current time\n",
    "            current_time += charge_time\n",
    "\n",
    "        # Loop over the trips\n",
    "        for i in range(len(self.trips)):\n",
    "\n",
    "            trip = self.trips[i]\n",
    "\n",
    "            # Check how much the EV can cover with the current SOC\n",
    "            possible_trip_length = np.round((self.current_soc - self.stopping_soc) * self.battery_size / self.energy_per_km, 2)\n",
    "\n",
    "            # If the trip can be covered, add it to the list\n",
    "            if possible_trip_length >= trip.trip_length:\n",
    "                list_split_trips.append(trip)\n",
    "\n",
    "                # SOC before the trip\n",
    "                temp_soc = self.current_soc\n",
    "\n",
    "                # Discharge the required SOC\n",
    "                self.discharge(trip.trip_required_soc)\n",
    "\n",
    "                # Register driving logs\n",
    "                self.log_driving(trip.trip_start_time, trip.trip_end_time,\n",
    "                                 temp_soc, self.current_soc, trip.trip_length, trip.trip_required_soc)\n",
    "\n",
    "                # Update the current time\n",
    "                current_time = trip.trip_end_time\n",
    "\n",
    "                trip.covered_distance = trip.trip_length\n",
    "\n",
    "            # If the trip cannot be covered, split it\n",
    "            else:\n",
    "\n",
    "                current_covered_distance = 0\n",
    "                current_trip_start_time = trip.trip_start_time\n",
    "\n",
    "                # Loop over the trip\n",
    "                while current_covered_distance < trip.trip_length:\n",
    "\n",
    "                    # Calculate the possible trip length\n",
    "                    possible_trip_length = np.round((self.current_soc - self.stopping_soc) * self.battery_size / self.energy_per_km, 2)\n",
    "\n",
    "                    # Calculate the trip length\n",
    "                    trip_length = min(possible_trip_length, trip.trip_length - current_covered_distance)\n",
    "\n",
    "                    # Calculate the trip duration\n",
    "                    trip_duration = datetime.timedelta(hours=trip_length / trip.trip_speed)\n",
    "\n",
    "                    # Calculate the trip end time\n",
    "                    trip_end_time = current_trip_start_time + trip_duration\n",
    "\n",
    "                    # Create a new trip\n",
    "                    new_trip = DrivableTrip(trip_length, trip.trip_speed,\n",
    "                                            current_trip_start_time, trip_end_time,\n",
    "                                            trip_duration, profile=trip.profile, trip_id=trip.trip_id)\n",
    "                    new_trip.ev = self\n",
    "                    new_trip.ev_id = self.ev_id\n",
    "                    new_trip.trip_energy_consumption = trip_length * self.energy_per_km\n",
    "                    new_trip.trip_required_soc = new_trip.trip_energy_consumption / self.battery_size\n",
    "                    new_trip.assign_ev_battery_size()\n",
    "                    new_trip.covered_trip_length = trip_length\n",
    "\n",
    "\n",
    "                    # Add the trip to the list\n",
    "                    list_split_trips.append(new_trip)\n",
    "\n",
    "                    # SOC before the trip\n",
    "                    temp_soc = self.current_soc\n",
    "\n",
    "                    # Discharge the required SOC\n",
    "                    self.discharge(new_trip.trip_required_soc)\n",
    "\n",
    "                    # Register driving logs\n",
    "                    self.log_driving(new_trip.trip_start_time, new_trip.trip_end_time,\n",
    "                                     temp_soc, self.current_soc, new_trip.trip_length, new_trip.trip_required_soc)\n",
    "\n",
    "                    # Update the current time\n",
    "                    current_time = new_trip.trip_end_time\n",
    "\n",
    "                    # Update the current covered distance\n",
    "                    current_covered_distance += trip_length\n",
    "\n",
    "                    # Charge the EV using a segment charging station\n",
    "                    charge_energy, charge_time = self.charge_to_soc(soc_min_tocharge,\n",
    "                                                                    self.segment_charging_station.charging_station_power,\n",
    "                                                                    self.segment_charging_station.charging_station_efficiency)\n",
    "\n",
    "                    # Register charging logs\n",
    "                    self.log_charging(current_time, current_time + charge_time,\n",
    "                                      self.segment_charging_station.charging_station_type,\n",
    "                                      self.segment_charging_station.charging_station_power,\n",
    "                                      temp_soc,\n",
    "                                      self.current_soc)\n",
    "\n",
    "                    # Update the current time\n",
    "                    current_time += charge_time\n",
    "\n",
    "                    # Update the current trip start time\n",
    "                    current_trip_start_time = current_time\n",
    "\n",
    "                    # Break the loop if the trip is the last one\n",
    "                    if current_covered_distance >= trip.trip_length:\n",
    "                        break\n",
    "\n",
    "            # Check if there are more trips\n",
    "            if i == len(self.trips) - 1:\n",
    "                break\n",
    "\n",
    "            # Check if the next trip is in the same day as this one\n",
    "            if self.trips[i + 1].trip_start_time.day == trip.trip_start_time.day:\n",
    "                # Check if can charge during day\n",
    "                if charge_during_day & (self.current_soc <= soc_min_tocharge):\n",
    "\n",
    "                    # Log the flexibility\n",
    "                    self.log_flexibility(current_time, self.trips[i + 1].trip_start_time,\n",
    "                                         self.default_charging_station.charging_station_type,\n",
    "                                         self.default_charging_station.charging_station_power,\n",
    "                                         0.0,\n",
    "                                         0.0)\n",
    "\n",
    "                    # Get the current soc\n",
    "                    temp_soc = self.current_soc\n",
    "\n",
    "                    # Charge the EV using a segment charging station\n",
    "                    charge_energy, charge_time = self.charge_to_soc(soc_min_tocharge,\n",
    "                                                                    self.default_charging_station.charging_station_power,\n",
    "                                                                    self.default_charging_station.charging_station_efficiency)\n",
    "\n",
    "                    # Register charging logs\n",
    "                    self.log_charging(current_time, current_time + charge_time,\n",
    "                                      self.default_charging_station.charging_station_type,\n",
    "                                      self.default_charging_station.charging_station_power,\n",
    "                                      temp_soc,\n",
    "                                      self.current_soc)\n",
    "\n",
    "                    # Update the current time\n",
    "                    current_time += charge_time\n",
    "\n",
    "            # If the next trip is in the next day, charge the EV using a default charging station\n",
    "            else:\n",
    "                # Check if can charge during night\n",
    "                if charge_during_night & (self.current_soc <= soc_min_tocharge):\n",
    "\n",
    "                    #rint('during night')\n",
    "\n",
    "                    # Log the flexibility\n",
    "                    self.log_flexibility(current_time, self.trips[i + 1].trip_start_time,\n",
    "                                         self.default_charging_station.charging_station_type,\n",
    "                                         self.default_charging_station.charging_station_power,\n",
    "                                         0.0,\n",
    "                                         0.0)\n",
    "\n",
    "                    # Get the current soc\n",
    "                    temp_soc = self.current_soc\n",
    "\n",
    "                    # Charge the EV using a default charging station\n",
    "                    charge_energy, charge_time = self.charge_to_soc(soc_min_tocharge,\n",
    "                                                                    self.default_charging_station.charging_station_power,\n",
    "                                                                    self.default_charging_station.charging_station_efficiency)\n",
    "\n",
    "                    # Register charging logs\n",
    "                    self.log_charging(current_time, current_time + charge_time,\n",
    "                                      self.default_charging_station.charging_station_type,\n",
    "                                      self.default_charging_station.charging_station_power,\n",
    "                                      temp_soc,\n",
    "                                      self.current_soc)\n",
    "\n",
    "                    # Update the current time\n",
    "                    current_time += charge_time\n",
    "\n",
    "        # Update the trips\n",
    "        self.split_trips = list_split_trips\n",
    "\n",
    "\n",
    "    # Assign a profile if none is assigned\n",
    "    def assign_profile(self, profile):\n",
    "        # Check if the profile is already assigned\n",
    "        if self.user_profile is None:\n",
    "            # Assign the profile\n",
    "            self.user_profile = profile\n"
   ],
   "metadata": {
    "collapsed": false,
    "pycharm": {
     "name": "#%%\n"
    }
   }
  },
  {
   "cell_type": "code",
   "execution_count": 3,
   "outputs": [],
   "source": [
    "# Define a Trip class, that will assign a trip to an EV. Has the following parameters:\n",
    "# - EV\n",
    "# - Trip length\n",
    "# - Trip start time (can be a range)\n",
    "# - Trip end time (can be a range)\n",
    "# - Trip start SOC\n",
    "# - Trip end SOC\n",
    "# - Trip energy consumption\n",
    "# - Trip stops\n",
    "\n",
    "class Trip:\n",
    "    def __init__(self, trip_length, trip_start_time, trip_end_time, trip_duration):\n",
    "        self.trip_length = trip_length\n",
    "        self.trip_start_time = trip_start_time\n",
    "        self.trip_end_time = trip_end_time\n",
    "        self.trip_duration = trip_duration\n",
    "\n",
    "\n",
    "class DrivableTrip(Trip):\n",
    "    # Init method is the same as Trip class\n",
    "    def __init__(self, trip_length, trip_speed, trip_start_time, trip_end_time, trip_duration, profile=None, trip_id=None):\n",
    "        super().__init__(trip_length, trip_start_time, trip_end_time, trip_duration)\n",
    "\n",
    "        # Information about EV\n",
    "        self.ev = None\n",
    "        self.ev_id = None\n",
    "\n",
    "        # Information about the trip\n",
    "        self.trip_speed = trip_speed\n",
    "        self.trip_energy_consumption = None\n",
    "        self.trip_required_soc = None\n",
    "        self.ev_battery_size = None\n",
    "        self.trip_estimate_arrival = trip_end_time\n",
    "        self.profile = profile\n",
    "\n",
    "        # Assign a trip ID\n",
    "        self.trip_id = trip_id if trip_id is not None else secrets.token_hex(16)\n",
    "\n",
    "\n",
    "    # Formatted print method\n",
    "    def __repr__(self):\n",
    "        return f'Trip length: {self.trip_length} km, trip start time: {self.trip_start_time}, ' \\\n",
    "               f'trip end time: {self.trip_end_time}, trip energy consumption: {self.trip_energy_consumption} kWh, ' \\\n",
    "               f'trip required SOC: {self.trip_required_soc} %'\n",
    "\n",
    "    # Create a method to calculate the trip energy consumption\n",
    "    def calculate_trip_energy_consumption(self):\n",
    "        self.trip_energy_consumption = self.trip_length * self.ev.energy_per_km\n",
    "\n",
    "\n",
    "    # Create a method to calculate the trip required SOC\n",
    "    def calculate_trip_required_soc(self):\n",
    "        self.trip_required_soc = self.trip_energy_consumption / self.ev.battery_size\n",
    "\n",
    "\n",
    "    # Create a method to assign the battery size of the EV to the trip\n",
    "    def assign_ev_battery_size(self):\n",
    "        self.ev_battery_size = self.ev.battery_size\n"
   ],
   "metadata": {
    "collapsed": false,
    "pycharm": {
     "name": "#%%\n"
    }
   }
  },
  {
   "cell_type": "code",
   "execution_count": 4,
   "outputs": [],
   "source": [
    "# Define a Charging Station class, that will charge the EVs. Has the following parameters:\n",
    "# - Charging station name\n",
    "# - Charging station location\n",
    "# - Charging station type\n",
    "# - Charging station power\n",
    "# - Charging station efficiency\n",
    "# - Charging station availability\n",
    "# - Charging station cost\n",
    "\n",
    "class ChargingStation:\n",
    "    def __init__(self, charging_station_type, charging_station_power, charging_station_efficiency, charging_station_cost,\n",
    "                 charging_station_probability, ev_id=None):\n",
    "        # Parameters Assign\n",
    "        self.charging_station_type = charging_station_type\n",
    "        self.charging_station_power = charging_station_power\n",
    "        self.charging_station_cost = charging_station_cost\n",
    "        self.charging_station_efficiency = charging_station_efficiency\n",
    "        self.charging_station_probability = charging_station_probability\n",
    "\n",
    "        # Charging station history\n",
    "        self.charging_station_history = []\n",
    "\n",
    "        # EV ID\n",
    "        self.ev_id = ev_id\n",
    "\n",
    "\n",
    "    # Formatted print method\n",
    "    def __repr__(self):\n",
    "        return f'Charging station type: {self.charging_station_type}, charging station power: {self.charging_station_power}'\n"
   ],
   "metadata": {
    "collapsed": false,
    "pycharm": {
     "name": "#%%\n"
    }
   }
  },
  {
   "cell_type": "code",
   "execution_count": 5,
   "outputs": [],
   "source": [
    "# Define a User class, that will have the following parameters:\n",
    "# - User name\n",
    "# - User location\n",
    "# - User trips\n",
    "# - User EV\n",
    "# - User type\n",
    "\n",
    "class User:\n",
    "    def __init__(self, user_name, user_profile):\n",
    "        # Parameters Assign\n",
    "        self.user_ev = None\n",
    "        self.user_name = user_name\n",
    "        self.user_profile = user_profile\n",
    "\n",
    "    # Method to assign an EV to the user\n",
    "    def assign_ev(self, ev):\n",
    "        self.user_ev = ev\n",
    "\n",
    "\n",
    "# Create a Profile class that will determine the behaviour of the Users. Has the following parameters:\n",
    "# - Profile name\n",
    "# - Profile type\n",
    "# - Profile trip schedule\n",
    "# - Trip type\n",
    "\n",
    "#TODO: charge_during_night\n",
    "class Profile:\n",
    "    def __init__(self, profile_name, trip_type, profile_trip_schedule, allowed_charging_stations, charge_during_day=True, charge_during_night=True, soc_min_tocharge=0.2, profile_probability=0.2):\n",
    "        # Parameters Assign\n",
    "        self.profile_name = profile_name\n",
    "        self.trip_type = trip_type\n",
    "        self.profile_trip_schedule = profile_trip_schedule\n",
    "        self.allowed_charging_stations = allowed_charging_stations\n",
    "        self.charge_during_day = charge_during_day\n",
    "        self.charge_during_night = charge_during_night\n",
    "        self.soc_min_tocharge = soc_min_tocharge\n",
    "        self.profile_probability = profile_probability\n",
    "\n",
    "    # Format printing\n",
    "    def __repr__(self):\n",
    "        return f'N:{self.profile_name}, T:{self.trip_type}'\n",
    "\n",
    "\n",
    "# Create a Schedule class with the following parameters:\n",
    "# - Schedule start\n",
    "# - Schedule end\n",
    "class Schedule:\n",
    "    def __init__(self, schedule_start):\n",
    "        # Parameters Assign\n",
    "        self.schedule_start = schedule_start\n",
    "\n",
    "    # Format printing\n",
    "    def __repr__(self):\n",
    "        return f'Schedule start hours: {self.schedule_start}'"
   ],
   "metadata": {
    "collapsed": false,
    "pycharm": {
     "name": "#%%\n"
    }
   }
  },
  {
   "cell_type": "code",
   "execution_count": 6,
   "outputs": [],
   "source": [
    " # Define an Aggregator class, that will aggregate the trips and EVs. Has the following parameters:\n",
    "# - EVs\n",
    "# - Number of EVs\n",
    "class Aggregator:\n",
    "    def __init__(self, profiles, evs,\n",
    "                 n_evs=1, time_resolution=1,\n",
    "                 avg_speed_short=60, avg_speed_medium=80, avg_speed_long=100,\n",
    "                 medium_trip_min=50, medium_trip_max=100, trip_length_variation=0.05, trip_start_variation=1.0, avg_speed_variation=1.0,\n",
    "                 simulation_cycles=1, show_progress=True):\n",
    "        # Profile assign\n",
    "        self.profiles = profiles\n",
    "\n",
    "        # Temporal resolution\n",
    "        self.time_resolution = time_resolution\n",
    "\n",
    "        # Simulation cycle definition\n",
    "        self.simulation_cycles = simulation_cycles\n",
    "\n",
    "        # Assign the EVs to the aggregator\n",
    "        self.evs = evs\n",
    "\n",
    "        # Number of EVs of the simulation\n",
    "        self.number_of_evs = n_evs\n",
    "\n",
    "        # Create a list of trips\n",
    "        self.trips = None\n",
    "        self.segments = []\n",
    "        self.population = None\n",
    "        self.assigned_evs = []\n",
    "\n",
    "        # Trip creation parameters\n",
    "        self.avg_speed_short = avg_speed_short\n",
    "        self.avg_speed_medium = avg_speed_medium\n",
    "        self.avg_speed_long = avg_speed_long\n",
    "        self.medium_trip_min = medium_trip_min\n",
    "        self.medium_trip_max = medium_trip_max\n",
    "        self.trip_length_variation = trip_length_variation\n",
    "        self.trip_start_variation = trip_start_variation\n",
    "        self.avg_speed_variation = avg_speed_variation\n",
    "\n",
    "        # Placeholder for simulation results\n",
    "        self.simulation_variables = {}\n",
    "        self.simulation_dataframes = {}\n",
    "        self.simulation_step = 1\n",
    "\n",
    "        # Verbose flags\n",
    "        self.show_progress = show_progress\n",
    "        self.show_bars = np.logical_not(show_progress)\n",
    "\n",
    "    # Add an EV to the fleet\n",
    "    def add_ev(self, ev):\n",
    "        self.evs.append(ev)\n",
    "\n",
    "\n",
    "    # Assign a trip to an EV\n",
    "    def assign_trip(self, ev, trip):\n",
    "        ev.add_trip(trip)\n",
    "\n",
    "\n",
    "    # Create the population of DrivableEVs according to NumPy's random.choice\n",
    "    def create_evs(self, n_evs):\n",
    "        # Assign the number of EVs to the aggregator\n",
    "        self.number_of_evs = n_evs\n",
    "\n",
    "        # Print the progress\n",
    "        if self.show_progress:\n",
    "            print('Creating EVs...')\n",
    "\n",
    "        # Create an EV population according to the given probabilities of the EVs\n",
    "        population_choice = np.random.choice(self.evs, n_evs,\n",
    "                                             p=[ev.probability_in_population for ev in self.evs])\n",
    "\n",
    "        # Create a list of DrivableEVs\n",
    "        self.population = np.array([DrivableEV(ev.brand, ev.model, ev.battery_type, ev.battery_size,\n",
    "                                      ev.charging_efficiency, ev.discharging_efficiency,\n",
    "                                      ev.energy_per_km, ev.soc_min, ev.soc_max,\n",
    "                                      ev.probability_in_population,\n",
    "                                      initial_soc=np.round(np.random.uniform(ev.soc_min,\n",
    "                                                                             ev.soc_max, 1)[0], 2))\n",
    "                                    for ev in tqdm.tqdm(population_choice, disable=self.show_bars)])\n",
    "\n",
    "\n",
    "    # Create trips for a day based on the number of EVs\n",
    "    def generate_trips_distances(self):\n",
    "\n",
    "        # Based on a Gamma distribution\n",
    "        shape, scale = 46.*.01, 46.*2\n",
    "        trip_lengths = np.round(np.random.gamma(shape, scale, self.number_of_evs), 2)\n",
    "\n",
    "        return trip_lengths\n",
    "\n",
    "\n",
    "    # Get a user profile based on the trip type\n",
    "    def get_user_profile(self, trip_type):\n",
    "        user_profiles = [profile for profile in self.profiles if profile.trip_type == trip_type]\n",
    "        user_profile = np.random.choice(user_profiles, 1)[0]\n",
    "        return user_profile\n",
    "\n",
    "\n",
    "    # Trips for all the simulated days\n",
    "    def create_all_trips(self):\n",
    "\n",
    "        # Show progress\n",
    "        if self.show_progress:\n",
    "            print('Creating trips...')\n",
    "\n",
    "        # Placeholder for all the trips\n",
    "        self.trips = []\n",
    "\n",
    "        # Get the generated trips for a day\n",
    "        trip_lengths = self.generate_trips_distances()\n",
    "\n",
    "        # Create the initial trip objects\n",
    "        self.trips = [Trip(trip_length, None, None, None) for trip_length in trip_lengths]\n",
    "        return\n",
    "\n",
    "\n",
    "    # Create the drivable trips for the EV based on the profile\n",
    "    def create_drivable_trip(self, ev, trip, day, user_profile):\n",
    "\n",
    "        # Calculate trip type based on distance\n",
    "        trip_type = 'Short' if trip.trip_length <= self.medium_trip_min else 'Medium' if self.medium_trip_min < trip.trip_length <= self.medium_trip_max else 'Long'\n",
    "\n",
    "        # Get the trip length\n",
    "        trip_length = trip.trip_length\n",
    "\n",
    "        # Add some variation to the trip length\n",
    "        trip_length = np.round(trip_length * np.random.uniform(1 - self.trip_length_variation,\n",
    "                                                               1 + self.trip_length_variation, 1)[0], 2)\n",
    "\n",
    "        # Set the trip length while respecting the type\n",
    "        if trip_type == 'Short':\n",
    "            if trip_length > self.medium_trip_min:\n",
    "                trip_length = self.medium_trip_min\n",
    "        elif trip_type == 'Medium':\n",
    "            if trip_length < self.medium_trip_min:\n",
    "                trip_length = self.medium_trip_min\n",
    "            elif trip_length > self.medium_trip_max:\n",
    "                trip_length = self.medium_trip_max\n",
    "        elif trip_type == 'Long':\n",
    "            if trip_length < self.medium_trip_max:\n",
    "                trip_length = self.medium_trip_max\n",
    "\n",
    "        # Check how many trips the user has\n",
    "        user_trips = len(user_profile.profile_trip_schedule.schedule_start)\n",
    "\n",
    "        # Calculate average speed based on trip type\n",
    "        avg_speed = self.avg_speed_short if trip_type == 'Short' else self.avg_speed_medium if trip_type == 'Medium' else self.avg_speed_long\n",
    "\n",
    "        # Calculate the required socs for trip segment\n",
    "        for i in range(user_trips):\n",
    "            # Get a random start centered around schedule start\n",
    "            segment_start = np.random.uniform(user_profile.profile_trip_schedule.schedule_start[i] - self.trip_start_variation,\n",
    "                                              user_profile.profile_trip_schedule.schedule_start[i] + self.trip_start_variation, 1)[0]\n",
    "\n",
    "            # Segment start in datetime\n",
    "            segment_start = datetime.datetime(2023, 1, 1, int(segment_start), int((segment_start - int(segment_start)) * 60))\n",
    "            segment_start = segment_start + datetime.timedelta(days=day)\n",
    "\n",
    "\n",
    "            # Get a random average speed centered on avg_speed with variation\n",
    "            segment_avg_speed = np.random.uniform(avg_speed - self.avg_speed_variation,\n",
    "                                                  avg_speed + self.avg_speed_variation, 1)[0]\n",
    "\n",
    "            # Duration is the trip length divided by the average speed\n",
    "            duration = trip_length / user_trips / segment_avg_speed if segment_avg_speed > 0 else trip_length / avg_speed\n",
    "            duration = datetime.timedelta(hours=duration)\n",
    "\n",
    "            # Segment end in datetime\n",
    "            segment_end = segment_start + duration\n",
    "\n",
    "\n",
    "            # Create the drivable trip\n",
    "            drivable_trip = DrivableTrip(trip_length / user_trips,\n",
    "                                         segment_avg_speed,\n",
    "                                         segment_start, segment_end,\n",
    "                                         duration, profile=user_profile)\n",
    "\n",
    "            # Establish the required parameters for the trip\n",
    "            drivable_trip.ev = ev\n",
    "            drivable_trip.ev_id = ev.ev_id\n",
    "            drivable_trip.calculate_trip_energy_consumption()\n",
    "            drivable_trip.calculate_trip_required_soc()\n",
    "            drivable_trip.assign_ev_battery_size()\n",
    "\n",
    "            # Append the drivable trip to the EV\n",
    "            ev.add_trip(drivable_trip)\n",
    "            ev.assign_charging_stations()\n",
    "\n",
    "        return\n",
    "\n",
    "\n",
    "    # Assign all the trips for all the days\n",
    "    def assign_all_trips(self):\n",
    "\n",
    "        # Show progress\n",
    "        if self.show_progress:\n",
    "            print('Assigning trips to EVs...')\n",
    "\n",
    "        # Assigned EVs\n",
    "        ev_ids = [ev.ev_id for ev in self.population]\n",
    "\n",
    "        # Get the sum of the battery sizes\n",
    "        battery_sizes = np.array([ev.battery_size for ev in self.population])\n",
    "        battery_sizes_unique = np.unique(battery_sizes)\n",
    "\n",
    "        # Sum of unique battery sizes\n",
    "        battery_sizes_unique_sum = sum(battery_sizes_unique)\n",
    "\n",
    "        # Create a dictionary with the battery sizes and their index in the population\n",
    "        battery_sizes_dict = {}\n",
    "        for i in range(len(battery_sizes_unique)):\n",
    "            battery_sizes_dict['B{}'.format(battery_sizes_unique[i])] = [ev for ev in self.population if ev.battery_size == battery_sizes_unique[i]]\n",
    "\n",
    "        # Create a list with the probabilities of the EVs to get a trip\n",
    "        probabilities = battery_sizes_unique  / battery_sizes_unique_sum\n",
    "\n",
    "        # Sort the segments by trip length and assign it to a temporary variable\n",
    "        sorted_trips = sorted(self.trips, key=lambda x: x.trip_length, reverse=True)\n",
    "        #print([trip.trip_length for trip in sorted_trips])\n",
    "        #trip_type = ['Short' if trip.trip_length <= self.medium_trip_min else 'Medium' if self.medium_trip_min < trip.trip_length <= self.medium_trip_max else 'Long' for trip in sorted_trips]\n",
    "        #user_profiles = [self.get_user_profile(trip_type) for trip_type in trip_type]\n",
    "\n",
    "        # Created profiles\n",
    "        user_profiles = []\n",
    "        for profile in self.profiles:\n",
    "            # Append the profile to the created profiles, based on the probability and the number of EVs\n",
    "            user_profiles += [profile] * int(np.round(profile.profile_probability * self.number_of_evs))\n",
    "\n",
    "        # Sort the profiles by trip length\n",
    "        user_profiles = sorted(user_profiles, key=lambda x: x.trip_type, reverse=False)\n",
    "\n",
    "        for idx in tqdm.tqdm(range(len(sorted_trips)), disable=self.show_bars):\n",
    "            #for idx in range(len(sorted_trips)):\n",
    "            trip = sorted_trips[idx]\n",
    "            user_profile = user_profiles[idx]\n",
    "\n",
    "            # Choose an EV from the population based on the battery size\n",
    "            chosen_battery_size = np.random.choice(battery_sizes_unique, 1, p=probabilities)[0]\n",
    "\n",
    "            # Get a random EV from the population with the chosen battery size\n",
    "            choice_ev = np.random.choice(battery_sizes_dict['B{}'.format(chosen_battery_size)], 1)[0]\n",
    "\n",
    "            # Get the respective EV from the assigned EVs\n",
    "            ev = self.population[ev_ids.index(choice_ev.ev_id)]\n",
    "\n",
    "            # Assign the profile to the EV\n",
    "            ev.assign_profile(user_profile)\n",
    "\n",
    "            for day in range(self.simulation_cycles):\n",
    "                # Create the drivable trip\n",
    "                self.create_drivable_trip(ev, trip, day, user_profile)\n",
    "\n",
    "\n",
    "            # Remove the EV from the population\n",
    "            battery_sizes_dict['B{}'.format(chosen_battery_size)].remove(choice_ev)\n",
    "\n",
    "            # Update the probabilities\n",
    "            if len(battery_sizes_dict['B{}'.format(chosen_battery_size)]) == 0:\n",
    "                battery_sizes_unique = np.delete(battery_sizes_unique, np.where(battery_sizes_unique == chosen_battery_size)[0][0])\n",
    "                battery_sizes_unique_sum = sum(battery_sizes_unique)\n",
    "                probabilities = battery_sizes_unique  / battery_sizes_unique_sum\n",
    "\n",
    "\n",
    "        return\n",
    "\n",
    "\n",
    "    # Split the EV trips\n",
    "    def split_all_trips(self):\n",
    "\n",
    "        if self.show_progress:\n",
    "            print('Splitting trips...')\n",
    "\n",
    "        for ev in tqdm.tqdm(self.population, disable=self.show_bars):\n",
    "            ev.trip_splitting()\n",
    "\n",
    "\n",
    "    def run_sim(self):\n",
    "        # If the simulation's number of days is less than 1, set to 1 and run the first day\n",
    "        if self.simulation_cycles < 1:\n",
    "            print('Simulation days must be greater than 0. Setting to 1.')\n",
    "            self.simulation_cycles = 1\n",
    "\n",
    "        # Print the simulation progress\n",
    "        if self.show_progress:\n",
    "            print('Simulating  {:003d} cycles...'.format(self.simulation_cycles))\n",
    "\n",
    "        # Run the simulation\n",
    "        self.create_evs(self.number_of_evs)\n",
    "        self.create_all_trips()\n",
    "        self.assign_all_trips()\n",
    "        self.split_all_trips()\n",
    "\n",
    "        self.simulation_dataframes = self.get_dataframes()\n",
    "\n",
    "\n",
    "    # Create a DataFrame of the population\n",
    "    def population_dataframe(self):\n",
    "        # Create a DataFrame of the population\n",
    "        population_dataframe = pd.DataFrame([ev.__dict__ for ev in self.population])\n",
    "\n",
    "        # Return the DataFrame\n",
    "        return population_dataframe\n",
    "\n",
    "\n",
    "    # Create a DataFrame of the trips\n",
    "    def assigned_trips_dataframe(self):\n",
    "        # Create a DataFrame of the trips\n",
    "        trips_dataframe = pd.DataFrame([trip.trip_length for trip in self.trips])\n",
    "        trips_dataframe.columns = [\"trip_length\"]\n",
    "\n",
    "        # Return the DataFrame\n",
    "        return trips_dataframe\n",
    "\n",
    "\n",
    "    # Create a DataFrame of assigned Trips and all the information in the list\n",
    "    def assigned_segments_dataframe(self):\n",
    "        # Create a DataFrame of the population\n",
    "        assigned_trips_dataframe = pd.DataFrame([trip.__dict__ for ev in self.population for trip in ev.trips])\n",
    "\n",
    "        # Return the DataFrame\n",
    "        return assigned_trips_dataframe\n",
    "\n",
    "\n",
    "    # Create a DataFrame of the EVs' split trips\n",
    "    def assigned_split_trips_dataframe(self):\n",
    "        # Create a DataFrame of the population\n",
    "        assigned_split_trips_dataframe = pd.DataFrame([trip.__dict__ for ev in self.population for trip in ev.split_trips])\n",
    "\n",
    "        # Return the DataFrame\n",
    "        return assigned_split_trips_dataframe\n",
    "\n",
    "\n",
    "    # Create a DataFrame of the charging stations used by the EVs\n",
    "    def assigned_cs_dataframe(self):\n",
    "        # Create a DataFrame of the population\n",
    "        assigned_cs_dataframe = pd.DataFrame([cs.__dict__ for ev in self.assigned_evs for cs in ev.charging_stations_list])\n",
    "\n",
    "        # Return the DataFrame\n",
    "        return assigned_cs_dataframe\n",
    "\n",
    "\n",
    "    # Create a DataFrame composed by:\n",
    "    # EV charging start time, EV charging end time, EV charging start soc, EV charging end soc, EV ID\n",
    "    def cs_charging_dataframe(self):\n",
    "\n",
    "        # Create placeholder lists\n",
    "        start_times = []\n",
    "        end_times = []\n",
    "\n",
    "        station_type = []\n",
    "        station_power = []\n",
    "\n",
    "        start_socs = []\n",
    "        end_socs = []\n",
    "\n",
    "        ev_ids = []\n",
    "\n",
    "        # Iterate through the EVs\n",
    "        for ev in self.population:\n",
    "\n",
    "            # Check if there were any events\n",
    "            if len(ev.charging_start_time) == 0:\n",
    "                continue\n",
    "\n",
    "            # Iterate through the events\n",
    "            for i in range(len(ev.charging_start_time)):\n",
    "                start_times.append(ev.charging_start_time[i])\n",
    "                end_times.append(ev.charging_end_time[i])\n",
    "\n",
    "                station_type.append(ev.charging_type[i])\n",
    "                station_power.append(ev.charging_power[i])\n",
    "\n",
    "                start_socs.append(ev.charging_start_soc[i])\n",
    "                end_socs.append(ev.charging_end_soc[i])\n",
    "\n",
    "                ev_ids.append(ev.ev_id)\n",
    "\n",
    "        # Create the DataFrame\n",
    "        charging_dataframe = pd.DataFrame({\"start_time\": start_times, \"end_time\": end_times, \"start_soc\": start_socs,\n",
    "                                           \"end_soc\": end_socs, \"ev_id\": ev_ids, \"station_type\": station_type, \"station_power\": station_power})\n",
    "\n",
    "        # Return the DataFrame\n",
    "        return charging_dataframe\n",
    "\n",
    "\n",
    "    # Create a DataFrame of EV charging history\n",
    "    def ev_charging_history_dataframe(self):\n",
    "\n",
    "        # Create a date range with a frequency of 1 hour\n",
    "        date_range = pd.date_range(start='1/1/2023', periods=aggregator.simulation_cycles * 24, freq='H')\n",
    "\n",
    "        # Create the index for the dataframe\n",
    "        cs_df = self.cs_charging_dataframe()\n",
    "        index = cs_df['ev_id'].unique()\n",
    "\n",
    "        # Create the dataframe\n",
    "        ev_charging_history = pd.DataFrame(index=index, columns=date_range)\n",
    "        ev_charging_type = pd.DataFrame(index=index, columns=date_range)\n",
    "\n",
    "        if self.show_progress:\n",
    "            print('Creating EV charging history DataFrame...')\n",
    "\n",
    "        # Fill the dataframe with the charging data\n",
    "        for i in tqdm.tqdm(range(len(cs_df)), disable=self.show_bars):\n",
    "            ev_id = cs_df['ev_id'][i]\n",
    "            start = pd.to_datetime(cs_df['start_time'][i]).floor('H')\n",
    "            end = pd.to_datetime(cs_df['end_time'][i]).floor('H')\n",
    "            #end = cs_df['end_time'][i]\n",
    "            power = cs_df['station_power'][i]\n",
    "            ev_charging_history.loc[ev_id, start:end] = power\n",
    "            ev_charging_type.loc[ev_id, start:end] = cs_df['station_type'][i]\n",
    "\n",
    "        # Fill the NaN values with 0\n",
    "        ev_charging_history.fillna(0.0, inplace=True)\n",
    "        ev_charging_type.fillna(0, inplace=True)\n",
    "\n",
    "        # Return the dataframe\n",
    "        return ev_charging_history, ev_charging_type\n",
    "\n",
    "\n",
    "    # Create a DataFrame of the EVs' driving history\n",
    "    def ev_driving_dataframe(self):\n",
    "\n",
    "        # Create placeholder lists\n",
    "        start_times = []\n",
    "        end_times = []\n",
    "\n",
    "        distance = []\n",
    "\n",
    "        ev_ids = []\n",
    "\n",
    "        # Iterate through the EVs\n",
    "        for ev in self.population:\n",
    "\n",
    "            # Check if there were any events\n",
    "            if len(ev.driving_start_time) == 0:\n",
    "                continue\n",
    "\n",
    "            # Iterate through the events\n",
    "            for i in range(len(ev.driving_start_time)):\n",
    "                start_times.append(ev.driving_start_time[i])\n",
    "                end_times.append(ev.driving_end_time[i])\n",
    "\n",
    "                distance.append(ev.driving_distance[i])\n",
    "\n",
    "                ev_ids.append(ev.ev_id)\n",
    "\n",
    "        # Create the DataFrame\n",
    "        driving_dataframe = pd.DataFrame({\"start_time\": start_times, \"end_time\": end_times, \"distance\": distance,\n",
    "                                          \"ev_id\": ev_ids})\n",
    "\n",
    "        # Return the DataFrame\n",
    "        return driving_dataframe\n",
    "\n",
    "\n",
    "    # Create a DataFrame of EV driving history\n",
    "    def ev_driving_history_dataframe(self):\n",
    "\n",
    "        # Create a date range with a frequency of 1 hour\n",
    "        date_range = pd.date_range(start='1/1/2023', periods=aggregator.simulation_cycles * 24, freq='H')\n",
    "\n",
    "        # Create the index for the dataframe\n",
    "        drv_df = self.ev_driving_dataframe()\n",
    "        index = drv_df['ev_id'].unique()\n",
    "\n",
    "        # Create the dataframe\n",
    "        ev_driving_history = pd.DataFrame(index=index, columns=date_range)\n",
    "\n",
    "        if self.show_progress:\n",
    "            print('Creating EV driving history DataFrame...')\n",
    "\n",
    "        # Fill the dataframe with the charging data\n",
    "        for i in tqdm.tqdm(range(len(drv_df)), disable=self.show_bars):\n",
    "            ev_id = drv_df['ev_id'][i]\n",
    "            start = pd.to_datetime(drv_df['start_time'][i]).floor('H')\n",
    "            end = pd.to_datetime(drv_df['end_time'][i]).floor('H')\n",
    "            ev_driving_history.loc[ev_id, start:end] = 1\n",
    "\n",
    "        # Fill the NaN values with 0\n",
    "        ev_driving_history.fillna(0, inplace=True)\n",
    "\n",
    "        # Return the dataframe\n",
    "        return ev_driving_history\n",
    "\n",
    "\n",
    "    # Create a DataFrame of when the EVs are not charging or driving\n",
    "    def ev_stopped(self):\n",
    "\n",
    "        # Create a date range with a frequency of 1 hour\n",
    "        date_range = pd.date_range(start='1/1/2023', periods=aggregator.simulation_cycles * 24, freq='H')\n",
    "\n",
    "        # Create the index for the dataframe\n",
    "        drv_df = self.ev_driving_dataframe()\n",
    "        index = drv_df['ev_id'].unique()\n",
    "\n",
    "        # Create the dataframe\n",
    "        ev_stopped = pd.DataFrame(index=index, columns=date_range)\n",
    "\n",
    "        if self.show_progress:\n",
    "            print('Creating EV stopped DataFrame...')\n",
    "\n",
    "        # Fill the dataframe with the driving data\n",
    "        for i in tqdm.tqdm(range(len(drv_df)), disable=self.show_bars):\n",
    "            ev_id = drv_df['ev_id'][i]\n",
    "            start = pd.to_datetime(drv_df['start_time'][i]).floor('H')\n",
    "            end = pd.to_datetime(drv_df['end_time'][i]).floor('H')\n",
    "            ev_stopped.loc[ev_id, start:end] = 1\n",
    "\n",
    "\n",
    "        # Reverse the dataframe for the driving information\n",
    "        ev_stopped = 1 - ev_stopped\n",
    "\n",
    "        # Do the same thing for the charging data\n",
    "        cs_df = self.cs_charging_dataframe()\n",
    "\n",
    "        for i in tqdm.tqdm(range(len(cs_df)), disable=self.show_bars):\n",
    "            ev_id = cs_df['ev_id'][i]\n",
    "            start = pd.to_datetime(cs_df['start_time'][i]).floor('H')\n",
    "            end = pd.to_datetime(cs_df['end_time'][i]).floor('H')\n",
    "            ev_stopped.loc[ev_id, start:end] = 1\n",
    "\n",
    "        # Fill the NaN values with 0\n",
    "        ev_stopped.fillna(0, inplace=True)\n",
    "\n",
    "        # Return the dataframe\n",
    "        return ev_stopped\n",
    "\n",
    "\n",
    "    # Create a DataFrame of EV driving history\n",
    "    def ev_flexibility_dataframe(self):\n",
    "\n",
    "        # Create placeholder lists\n",
    "        start_times = []\n",
    "        end_times = []\n",
    "\n",
    "        power = []\n",
    "\n",
    "        ev_ids = []\n",
    "\n",
    "        # Iterate through the EVs\n",
    "        for ev in self.population:\n",
    "\n",
    "            # Check if there were any events\n",
    "            if len(ev.flexibility_start_time) == 0:\n",
    "                continue\n",
    "\n",
    "            # Iterate through the events\n",
    "            for i in range(len(ev.flexibility_start_time)):\n",
    "                start_times.append(ev.flexibility_start_time[i])\n",
    "                end_times.append(ev.flexibility_end_time[i])\n",
    "\n",
    "                power.append(ev.flexibility_power[i])\n",
    "\n",
    "                ev_ids.append(ev.ev_id)\n",
    "\n",
    "        # Create the DataFrame\n",
    "        flex_dataframe = pd.DataFrame({\"start_time\": start_times, \"end_time\": end_times, \"power\": power,\n",
    "                                          \"ev_id\": ev_ids})\n",
    "\n",
    "        # Return the DataFrame\n",
    "        return flex_dataframe\n",
    "\n",
    "\n",
    "    # Create a DataFrame of EV flexibility\n",
    "    def ev_flexibility_history_dataframe(self):\n",
    "\n",
    "        # Create a date range with a frequency of 1 hour\n",
    "        date_range = pd.date_range(start='1/1/2023', periods=aggregator.simulation_cycles * 24, freq='H')\n",
    "\n",
    "        # Create the index for the dataframe\n",
    "        flex_df = self.ev_flexibility_dataframe()\n",
    "        index = flex_df['ev_id'].unique()\n",
    "\n",
    "        # Create the dataframe\n",
    "        ev_flex = pd.DataFrame(index=index, columns=date_range)\n",
    "\n",
    "        if self.show_progress:\n",
    "            print('Creating EV flexibility DataFrame...')\n",
    "\n",
    "\n",
    "        # Fill the dataframe with the driving data\n",
    "        for i in tqdm.tqdm(range(len(flex_df)), disable=self.show_bars):\n",
    "            ev_id = flex_df['ev_id'][i]\n",
    "            start = pd.to_datetime(flex_df['start_time'][i]).floor('H')\n",
    "            end = pd.to_datetime(flex_df['end_time'][i]).floor('H')\n",
    "            ev_flex.loc[ev_id, start:end] = 1\n",
    "\n",
    "        # Fill the NaN values with 0\n",
    "        ev_flex.fillna(0, inplace=True)\n",
    "\n",
    "        return ev_flex\n",
    "\n",
    "\n",
    "    # Get all the DataFrames for storage\n",
    "    def get_dataframes(self):\n",
    "\n",
    "        if self.show_progress:\n",
    "            print('Creating DataFrames...')\n",
    "\n",
    "        # Population DataFrame\n",
    "        population_dataframe = self.population_dataframe()\n",
    "\n",
    "        # Assigned Trips\n",
    "        assigned_trips_dataframe = self.assigned_trips_dataframe()\n",
    "\n",
    "        # Assigned Segments\n",
    "        assigned_segments_dataframe = self.assigned_segments_dataframe()\n",
    "\n",
    "        # Assigned Split Trips\n",
    "        assigned_split_trips_dataframe = self.assigned_split_trips_dataframe()\n",
    "\n",
    "        # Assigned Charging Stations\n",
    "        assigned_charging_stations_dataframe = self.assigned_cs_dataframe()\n",
    "\n",
    "\n",
    "        # Get the DataFrames\n",
    "        cs_history_dataframe = self.cs_charging_dataframe()\n",
    "        ev_charging_history_dataframe, ev_charging_type_dataframe = self.ev_charging_history_dataframe()\n",
    "        ev_driving_dataframe = self.ev_driving_dataframe()\n",
    "        ev_driving_history_dataframe = self.ev_driving_history_dataframe()\n",
    "        ev_stopped = self.ev_stopped()\n",
    "        ev_flex = self.ev_flexibility_history_dataframe()\n",
    "\n",
    "        ev_flex_power = ev_flex.copy(deep=True)\n",
    "        for id in ev_flex_power.index:\n",
    "            temp_power = self.population_dataframe().loc[self.population_dataframe()['ev_id'] == id]['default_charging_station'].values[0].charging_station_power\n",
    "            ev_flex_power.loc[ev_flex_power.index == id] = ev_flex_power.loc[ev_flex_power.index == id] * temp_power\n",
    "\n",
    "        # Place everything in a dictionary\n",
    "        dataframes = {\"population\": population_dataframe,\n",
    "                      \"assigned_trips\": assigned_trips_dataframe,\n",
    "                      \"assigned_segments\": assigned_segments_dataframe,\n",
    "                      \"assigned_split_trips\": assigned_split_trips_dataframe,\n",
    "                      \"assigned_charging_stations\": assigned_charging_stations_dataframe,\n",
    "                      \"cs_history\": cs_history_dataframe,\n",
    "                      \"ev_charging_history\": ev_charging_history_dataframe,\n",
    "                      \"ev_charging_type\": ev_charging_type_dataframe,\n",
    "                      \"ev_driving\": ev_driving_dataframe,\n",
    "                      \"ev_driving_history\": ev_driving_history_dataframe,\n",
    "                      \"ev_stopped\": ev_stopped,\n",
    "                      \"ev_flexibility\": ev_flex,\n",
    "                      \"ev_flexibility_power\": ev_flex_power}\n",
    "\n",
    "        # Return the DataFrames\n",
    "        return dataframes"
   ],
   "metadata": {
    "collapsed": false,
    "pycharm": {
     "name": "#%%\n"
    }
   }
  },
  {
   "cell_type": "code",
   "execution_count": 7,
   "outputs": [
    {
     "name": "stdout",
     "output_type": "stream",
     "text": [
      "1.0\n"
     ]
    }
   ],
   "source": [
    "# Create a list of EVs to use in the simulation\n",
    "\n",
    "EVs = [EV(brand='Nissan', model='Leaf', battery_type='BEV', battery_size=59,\n",
    "          charging_efficiency=0.9, discharging_efficiency=0.9,\n",
    "          probability_in_population=0.16, energy_per_km=0.17, soc_min=0.8, soc_max=1.0),\n",
    "       EV(brand='Tesla', model='Model 3', battery_type='BEV', battery_size=95,\n",
    "          charging_efficiency=0.9, discharging_efficiency=0.9,\n",
    "          probability_in_population=0.13, energy_per_km=0.18, soc_min=0.8, soc_max=1.0),\n",
    "       EV(brand='Peugeot', model='e-Expert', battery_type='BEV', battery_size=68,\n",
    "          charging_efficiency=0.9, discharging_efficiency=0.9,\n",
    "          probability_in_population=0.1, energy_per_km=0.26, soc_min=0.8, soc_max=1.0),\n",
    "       EV(brand='Renault', model='Zoe', battery_type='BEV', battery_size=52,\n",
    "          charging_efficiency=0.9, discharging_efficiency=0.9,\n",
    "          probability_in_population=0.1, energy_per_km=0.17, soc_min=0.8, soc_max=1.0),\n",
    "       EV(brand='Jaguar', model='I-Pace', battery_type='BEV', battery_size=85,\n",
    "          charging_efficiency=0.9, discharging_efficiency=0.9,\n",
    "          probability_in_population=0.09, energy_per_km=0.22, soc_min=0.8, soc_max=1.0),\n",
    "       EV(brand='Mercedes', model='E300', battery_type='PHEV', battery_size=13.5,\n",
    "          charging_efficiency=0.9, discharging_efficiency=0.9,\n",
    "          probability_in_population=0.08, energy_per_km=0.18, soc_min=0.8, soc_max=1.0),\n",
    "       EV(brand='BMW', model='530e', battery_type='PHEV', battery_size=70.2,\n",
    "          charging_efficiency=0.9, discharging_efficiency=0.9,\n",
    "          probability_in_population=0.08, energy_per_km=0.16, soc_min=0.8, soc_max=1.0),\n",
    "       EV(brand='Audi Q4', model='e-tron', battery_type='PHEV', battery_size=55,\n",
    "          charging_efficiency=0.9, discharging_efficiency=0.9,\n",
    "          probability_in_population=0.07, energy_per_km=0.17, soc_min=0.8, soc_max=1.0),\n",
    "       EV(brand='Hyundai', model='Kauai', battery_type='BEV', battery_size=74,\n",
    "          charging_efficiency=0.9, discharging_efficiency=0.9,\n",
    "          probability_in_population=0.06, energy_per_km=0.192, soc_min=0.8, soc_max=1.0),\n",
    "       EV(brand='Volvo', model='XC40', battery_type='PHEV', battery_size=78,\n",
    "          charging_efficiency=0.9, discharging_efficiency=0.9,\n",
    "          probability_in_population=0.05, energy_per_km=0.176, soc_min=0.8, soc_max=1.0),\n",
    "       EV(brand='Wolkswagen', model='ID.3', battery_type='PHEV', battery_size=58,\n",
    "          charging_efficiency=0.9, discharging_efficiency=0.9,\n",
    "          probability_in_population=0.05, energy_per_km=0.155, soc_min=0.8, soc_max=1.0),\n",
    "       EV(brand='Others', model='Others', battery_type='PEV', battery_size=20,\n",
    "          charging_efficiency=0.9, discharging_efficiency=0.9,\n",
    "          probability_in_population=0.03, energy_per_km=0.2, soc_min=0.8, soc_max=1.0)]\n",
    "\n",
    "# Print the sum of the probabilities in the population of EVs\n",
    "sum_of_probabilities = 0\n",
    "for ev in EVs:\n",
    "    sum_of_probabilities += ev.probability_in_population\n",
    "print(sum_of_probabilities)"
   ],
   "metadata": {
    "collapsed": false,
    "pycharm": {
     "name": "#%%\n"
    }
   }
  },
  {
   "cell_type": "code",
   "execution_count": 8,
   "outputs": [],
   "source": [
    "# Create a list of Charging Stations to use in the simulation\n",
    "\n",
    "CS = [ChargingStation(charging_station_type='Slow',\n",
    "                      charging_station_power=3.6,\n",
    "                      charging_station_efficiency=0.9,\n",
    "                      charging_station_cost=0.15,\n",
    "                      charging_station_probability=0.25),\n",
    "      ChargingStation(charging_station_type='Slow',\n",
    "                      charging_station_power=7.2,\n",
    "                      charging_station_efficiency=0.9,\n",
    "                      charging_station_cost=0.15,\n",
    "                      charging_station_probability=0.25),\n",
    "      ChargingStation(charging_station_type='Fast',\n",
    "                      charging_station_power=3.6,\n",
    "                      charging_station_efficiency=0.9,\n",
    "                      charging_station_cost=0.15,\n",
    "                      charging_station_probability=0.25),\n",
    "      ChargingStation(charging_station_type='Fast',\n",
    "                      charging_station_power=7.2,\n",
    "                      charging_station_efficiency=0.9,\n",
    "                      charging_station_cost=0.15,\n",
    "                      charging_station_probability=0.25)]\n"
   ],
   "metadata": {
    "collapsed": false,
    "pycharm": {
     "name": "#%%\n"
    }
   }
  },
  {
   "cell_type": "code",
   "execution_count": 9,
   "outputs": [],
   "source": [
    "# Create a list of Charging Stations to use in the simulation\n",
    "\n",
    "PUBLIC_STATIONS = [ChargingStation(charging_station_type='Public Ultrafast (150 kW)',\n",
    "                                   charging_station_power=150,\n",
    "                                   charging_station_efficiency=0.9,\n",
    "                                   charging_station_cost=0.297,\n",
    "                                   charging_station_probability=0.0233),\n",
    "                   ChargingStation(charging_station_type='Public Fast (50 kW)',\n",
    "                                   charging_station_power=50,\n",
    "                                   charging_station_efficiency=0.9,\n",
    "                                   charging_station_cost=0.297,\n",
    "                                   charging_station_probability=0.434),\n",
    "                   ChargingStation(charging_station_type='Public Semi-fast (22 kW)',\n",
    "                                   charging_station_power=22,\n",
    "                                   charging_station_efficiency=0.9,\n",
    "                                   charging_station_cost=0.297,\n",
    "                                   charging_station_probability=0.4394),\n",
    "                   ChargingStation(charging_station_type='Public Slow (7.2 kW)',\n",
    "                                   charging_station_power=7.2,\n",
    "                                   charging_station_efficiency=0.9,\n",
    "                                   charging_station_cost=0.297,\n",
    "                                   charging_station_probability=0.1033)]\n",
    "\n",
    "PRIVATE_STATIONS = [ChargingStation(charging_station_type='Private Fast (50 kW)',\n",
    "                                    charging_station_power=50,\n",
    "                                    charging_station_efficiency=0.9,\n",
    "                                    charging_station_cost=0.297,\n",
    "                                    charging_station_probability=0.0405),\n",
    "                    ChargingStation(charging_station_type='Private Semi-fast (22 kW)',\n",
    "                                    charging_station_power=22,\n",
    "                                    charging_station_efficiency=0.9,\n",
    "                                    charging_station_cost=0.297,\n",
    "                                    charging_station_probability=0.9595)]\n",
    "\n",
    "RESIDENTIAL_CS1 = [ChargingStation(charging_station_type='Residential Slow (3.6 kW)',\n",
    "                                   charging_station_power=3.6,\n",
    "                                   charging_station_efficiency=0.9,\n",
    "                                   charging_station_cost=0.297,\n",
    "                                   charging_station_probability=0.6),\n",
    "                   ChargingStation(charging_station_type='Residential Slow (7.2 kW)',\n",
    "                                   charging_station_power=7.2,\n",
    "                                   charging_station_efficiency=0.9,\n",
    "                                   charging_station_cost=0.297,\n",
    "                                   charging_station_probability=0.4)]\n",
    "\n",
    "RESIDENTIAL_CS2 = [ChargingStation(charging_station_type='Residential Slow (3.6 kW)',\n",
    "                                   charging_station_power=3.6,\n",
    "                                   charging_station_efficiency=0.9,\n",
    "                                   charging_station_cost=0.297,\n",
    "                                   charging_station_probability=0.3),\n",
    "                   ChargingStation(charging_station_type='Residential Slow (7.2 kW)',\n",
    "                                   charging_station_power=7.2,\n",
    "                                   charging_station_efficiency=0.9,\n",
    "                                   charging_station_cost=0.297,\n",
    "                                   charging_station_probability=0.6),\n",
    "                   ChargingStation(charging_station_type='Residential Semi-fast (22 kW)',\n",
    "                                   charging_station_power=22,\n",
    "                                   charging_station_efficiency=0.9,\n",
    "                                   charging_station_cost=0.297,\n",
    "                                   charging_station_probability=0.1)]\n"
   ],
   "metadata": {
    "collapsed": false,
    "pycharm": {
     "name": "#%%\n"
    }
   }
  },
  {
   "cell_type": "code",
   "execution_count": 10,
   "outputs": [],
   "source": [
    "# Create the profiles to use in the simulation\n",
    "\n",
    "# Create a list of profiles\n",
    "PROFILES = [Profile(profile_name='Residential1', profile_trip_schedule=Schedule([8, 18.5]), trip_type='Short',\n",
    "                    allowed_charging_stations={'Segment': PUBLIC_STATIONS, 'Default': RESIDENTIAL_CS1},\n",
    "                    charge_during_day=False, charge_during_night=True, soc_min_tocharge=1.0,\n",
    "                    profile_probability=0.3),\n",
    "            Profile(profile_name='Residential2', profile_trip_schedule=Schedule([5, 18.5]), trip_type='Medium',\n",
    "                    allowed_charging_stations={'Segment': PUBLIC_STATIONS, 'Default': RESIDENTIAL_CS1},\n",
    "                    charge_during_day=False, charge_during_night=True, soc_min_tocharge=1.0,\n",
    "                    profile_probability=0.2),\n",
    "            Profile(profile_name='Residential3', profile_trip_schedule=Schedule([8, 18.5]), trip_type='Short',\n",
    "                    allowed_charging_stations={'Segment': PUBLIC_STATIONS, 'Default': RESIDENTIAL_CS2},\n",
    "                    charge_during_day=False, charge_during_night=True, soc_min_tocharge=1.0,\n",
    "                    profile_probability=0.2),\n",
    "            Profile(profile_name='Residential4', profile_trip_schedule=Schedule([8, 18.5]), trip_type='Long',\n",
    "                    allowed_charging_stations={'Segment': PUBLIC_STATIONS, 'Default': RESIDENTIAL_CS2},\n",
    "                    charge_during_day=False, charge_during_night=True, soc_min_tocharge=1.0,\n",
    "                    profile_probability=0.2),\n",
    "            Profile(profile_name='Work1', profile_trip_schedule=Schedule([8, 13, 18.5]), trip_type='Long',\n",
    "                    allowed_charging_stations={'Segment': PUBLIC_STATIONS, 'Default': PRIVATE_STATIONS},\n",
    "                    charge_during_day=True, charge_during_night=False, soc_min_tocharge=1.0,\n",
    "                    profile_probability=0.1)]\n"
   ],
   "metadata": {
    "collapsed": false,
    "pycharm": {
     "name": "#%%\n"
    }
   }
  },
  {
   "cell_type": "code",
   "execution_count": 11,
   "outputs": [
    {
     "name": "stdout",
     "output_type": "stream",
     "text": [
      "Simulating  365 cycles...\n",
      "Creating EVs...\n"
     ]
    },
    {
     "data": {
      "text/plain": "  0%|          | 0/100 [00:00<?, ?it/s]",
      "application/vnd.jupyter.widget-view+json": {
       "version_major": 2,
       "version_minor": 0,
       "model_id": "83f4cc823efa460487e0ff88524576ec"
      }
     },
     "metadata": {},
     "output_type": "display_data"
    },
    {
     "name": "stdout",
     "output_type": "stream",
     "text": [
      "Creating trips...\n",
      "Assigning trips to EVs...\n"
     ]
    },
    {
     "data": {
      "text/plain": "  0%|          | 0/100 [00:00<?, ?it/s]",
      "application/vnd.jupyter.widget-view+json": {
       "version_major": 2,
       "version_minor": 0,
       "model_id": "039973882b344ba88d3762035dba75eb"
      }
     },
     "metadata": {},
     "output_type": "display_data"
    },
    {
     "name": "stdout",
     "output_type": "stream",
     "text": [
      "Splitting trips...\n"
     ]
    },
    {
     "data": {
      "text/plain": "  0%|          | 0/100 [00:00<?, ?it/s]",
      "application/vnd.jupyter.widget-view+json": {
       "version_major": 2,
       "version_minor": 0,
       "model_id": "30d50d62f17f498da2591de2473c4b24"
      }
     },
     "metadata": {},
     "output_type": "display_data"
    },
    {
     "name": "stdout",
     "output_type": "stream",
     "text": [
      "Creating DataFrames...\n",
      "Creating EV charging history DataFrame...\n"
     ]
    },
    {
     "data": {
      "text/plain": "  0%|          | 0/45304 [00:00<?, ?it/s]",
      "application/vnd.jupyter.widget-view+json": {
       "version_major": 2,
       "version_minor": 0,
       "model_id": "20002fba624045d49f19ab592f212ba3"
      }
     },
     "metadata": {},
     "output_type": "display_data"
    },
    {
     "name": "stdout",
     "output_type": "stream",
     "text": [
      "Creating EV driving history DataFrame...\n"
     ]
    },
    {
     "data": {
      "text/plain": "  0%|          | 0/79374 [00:00<?, ?it/s]",
      "application/vnd.jupyter.widget-view+json": {
       "version_major": 2,
       "version_minor": 0,
       "model_id": "437cdff77ca84e9d85f32824e0631d2b"
      }
     },
     "metadata": {},
     "output_type": "display_data"
    },
    {
     "name": "stdout",
     "output_type": "stream",
     "text": [
      "Creating EV stopped DataFrame...\n"
     ]
    },
    {
     "data": {
      "text/plain": "  0%|          | 0/79374 [00:00<?, ?it/s]",
      "application/vnd.jupyter.widget-view+json": {
       "version_major": 2,
       "version_minor": 0,
       "model_id": "d5c5af4a156a4f6abe1b5c815a2398fa"
      }
     },
     "metadata": {},
     "output_type": "display_data"
    },
    {
     "data": {
      "text/plain": "  0%|          | 0/45304 [00:00<?, ?it/s]",
      "application/vnd.jupyter.widget-view+json": {
       "version_major": 2,
       "version_minor": 0,
       "model_id": "5d9fcaf2788e4b43be55f1175c98f844"
      }
     },
     "metadata": {},
     "output_type": "display_data"
    },
    {
     "name": "stdout",
     "output_type": "stream",
     "text": [
      "Creating EV flexibility DataFrame...\n"
     ]
    },
    {
     "data": {
      "text/plain": "  0%|          | 0/40060 [00:00<?, ?it/s]",
      "application/vnd.jupyter.widget-view+json": {
       "version_major": 2,
       "version_minor": 0,
       "model_id": "e42f2d5bb5ea48468f6789b32fe5ec3f"
      }
     },
     "metadata": {},
     "output_type": "display_data"
    }
   ],
   "source": [
    "# Create the simulation\n",
    "\n",
    "aggregator = Aggregator(profiles=PROFILES, evs=EVs, n_evs=100,\n",
    "                        avg_speed_short=60, avg_speed_medium=80, avg_speed_long=100, avg_speed_variation=1.0,\n",
    "                        simulation_cycles=365, show_progress=True, trip_start_variation=0.1)\n",
    "\n",
    "aggregator.run_sim()"
   ],
   "metadata": {
    "collapsed": false,
    "pycharm": {
     "name": "#%%\n"
    }
   }
  },
  {
   "cell_type": "code",
   "execution_count": 12,
   "outputs": [
    {
     "data": {
      "text/plain": "      brand    model battery_type  battery_size  charging_efficiency  \\\n0     Tesla  Model 3          BEV          95.0                  0.9   \n1    Nissan     Leaf          BEV          59.0                  0.9   \n2     Tesla  Model 3          BEV          95.0                  0.9   \n3     Volvo     XC40         PHEV          78.0                  0.9   \n4     Tesla  Model 3          BEV          95.0                  0.9   \n..      ...      ...          ...           ...                  ...   \n95   Nissan     Leaf          BEV          59.0                  0.9   \n96   Nissan     Leaf          BEV          59.0                  0.9   \n97    Tesla  Model 3          BEV          95.0                  0.9   \n98  Renault      Zoe          BEV          52.0                  0.9   \n99    Volvo     XC40         PHEV          78.0                  0.9   \n\n    discharging_efficiency  energy_per_km  soc_min  soc_max  \\\n0                      0.9          0.180      0.8      1.0   \n1                      0.9          0.170      0.8      1.0   \n2                      0.9          0.180      0.8      1.0   \n3                      0.9          0.176      0.8      1.0   \n4                      0.9          0.180      0.8      1.0   \n..                     ...            ...      ...      ...   \n95                     0.9          0.170      0.8      1.0   \n96                     0.9          0.170      0.8      1.0   \n97                     0.9          0.180      0.8      1.0   \n98                     0.9          0.170      0.8      1.0   \n99                     0.9          0.176      0.8      1.0   \n\n    probability_in_population  ...  \\\n0                        0.13  ...   \n1                        0.16  ...   \n2                        0.13  ...   \n3                        0.05  ...   \n4                        0.13  ...   \n..                        ...  ...   \n95                       0.16  ...   \n96                       0.16  ...   \n97                       0.13  ...   \n98                       0.10  ...   \n99                       0.05  ...   \n\n                                    driving_start_soc  \\\n0   [0.92, 0.9868, 0.99348, 0.9414800000000001, 0....   \n1   [0.94, 0.9333408662900188, 0.9926681732580037,...   \n2   [0.98, 0.9555263157894737, 0.9931052631578947,...   \n3   [0.98, 0.8217002849002849, 0.966340056980057, ...   \n4   [0.96, 0.9409368421052631, 0.9921873684210526,...   \n..                                                ...   \n95  [0.95, 0.9499359698681732, 0.9949871939736347,...   \n96  [0.83, 0.8276468926553672, 0.9825293785310735,...   \n97  [0.91, 0.881221052631579, 0.9852442105263158, ...   \n98  [0.89, 0.8684594017094017, 0.9846918803418804,...   \n99  [0.98, 0.9640547008547008, 0.9948109401709402,...   \n\n                                      driving_end_soc  \\\n0   [0.8680000000000001, 0.9348000000000001, 0.941...   \n1   [0.9333408662900188, 0.9266817325800376, 0.986...   \n2   [0.9555263157894737, 0.9310526315789474, 0.968...   \n3   [0.8217002849002849, 0.6634005698005698, 0.818...   \n4   [0.9409368421052631, 0.9218736842105262, 0.972...   \n..                                                ...   \n95  [0.9499359698681732, 0.9498719397363464, 0.994...   \n96  [0.8276468926553672, 0.8252937853107344, 0.980...   \n97  [0.881221052631579, 0.852442105263158, 0.95727...   \n98  [0.8684594017094017, 0.8469188034188034, 0.963...   \n99  [0.9640547008547008, 0.9481094017094016, 0.978...   \n\n                                     driving_distance  \\\n0   [24.7, 24.7, 24.7, 25.540000000000003, 25.5400...   \n1   [2.08, 2.08, 2.06, 2.06, 2.025, 2.025, 1.98, 1...   \n2   [11.625, 11.625, 11.72, 11.72, 11.325, 11.325,...   \n3   [63.14, 63.14, 58.795, 58.795, 61.26, 61.26, 6...   \n4   [9.055, 9.055, 9.55, 9.55, 9.07, 9.07, 9.85, 9...   \n..                                                ...   \n95  [0.02, 0.02, 0.02, 0.02, 0.02, 0.02, 0.02, 0.0...   \n96  [0.735, 0.735, 0.725, 0.725, 0.745, 0.745, 0.7...   \n97  [13.67, 13.67, 13.285, 13.285, 13.805, 13.805,...   \n98  [5.93, 5.93, 5.955, 5.955, 6.03, 6.03, 6.02, 6...   \n99  [6.36, 6.36, 6.335, 6.335, 6.695, 6.695, 6.7, ...   \n\n                           driving_energy_consumption  \\\n0   [0.046799999999999994, 0.046799999999999994, 0...   \n1   [0.005993220338983051, 0.005993220338983051, 0...   \n2   [0.022026315789473682, 0.022026315789473682, 0...   \n3   [0.14246974358974357, 0.14246974358974357, 0.1...   \n4   [0.017156842105263158, 0.017156842105263158, 0...   \n..                                                ...   \n95  [5.76271186440678e-05, 5.76271186440678e-05, 5...   \n96  [0.0021177966101694917, 0.0021177966101694917,...   \n97  [0.025901052631578946, 0.025901052631578946, 0...   \n98  [0.019386538461538462, 0.019386538461538462, 0...   \n99  [0.01435076923076923, 0.01435076923076923, 0.0...   \n\n                               flexibility_start_time  \\\n0   [2023-01-01 08:15:36.892886, 2023-01-01 13:20:...   \n1   [2023-01-01 18:28:05.930873, 2023-01-02 18:28:...   \n2   [2023-01-01 18:42:31.375112, 2023-01-02 18:35:...   \n3   [2023-01-01 19:05:59.114308, 2023-01-02 19:00:...   \n4   [2023-01-01 18:40:58.441626, 2023-01-02 18:41:...   \n..                                                ...   \n95  [2023-01-01 18:28:01.199739, 2023-01-02 18:34:...   \n96  [2023-01-01 18:24:44.432570, 2023-01-02 18:25:...   \n97  [2023-01-01 18:45:48.140826, 2023-01-02 18:42:...   \n98  [2023-01-01 18:36:59.601538, 2023-01-02 18:29:...   \n99  [2023-01-01 18:35:25.252341, 2023-01-02 18:40:...   \n\n                                 flexibility_end_time  \\\n0   [2023-01-01 13:02:00, 2023-01-01 18:31:00, 202...   \n1   [2023-01-02 08:02:00, 2023-01-03 07:56:00, 202...   \n2   [2023-01-02 07:56:00, 2023-01-03 08:00:00, 202...   \n3   [2023-01-02 08:05:00, 2023-01-03 07:57:00, 202...   \n4   [2023-01-02 07:55:00, 2023-01-03 08:00:00, 202...   \n..                                                ...   \n95  [2023-01-02 08:00:00, 2023-01-03 07:59:00, 202...   \n96  [2023-01-02 08:03:00, 2023-01-03 07:56:00, 202...   \n97  [2023-01-02 08:04:00, 2023-01-03 08:05:00, 202...   \n98  [2023-01-02 08:04:00, 2023-01-03 08:00:00, 202...   \n99  [2023-01-02 08:04:00, 2023-01-03 08:01:00, 202...   \n\n                                     flexibility_type  \\\n0   [Private Semi-fast (22 kW), Private Semi-fast ...   \n1   [Residential Slow (7.2 kW), Residential Slow (...   \n2   [Residential Slow (7.2 kW), Residential Slow (...   \n3   [Residential Slow (7.2 kW), Residential Slow (...   \n4   [Residential Slow (7.2 kW), Residential Slow (...   \n..                                                ...   \n95  [Residential Slow (7.2 kW), Residential Slow (...   \n96  [Residential Slow (7.2 kW), Residential Slow (...   \n97  [Residential Slow (7.2 kW), Residential Slow (...   \n98  [Residential Slow (7.2 kW), Residential Slow (...   \n99  [Residential Slow (3.6 kW), Residential Slow (...   \n\n                                    flexibility_power  \\\n0   [22, 22, 22, 22, 22, 22, 22, 22, 22, 22, 22, 2...   \n1   [7.2, 7.2, 7.2, 7.2, 7.2, 7.2, 7.2, 7.2, 7.2, ...   \n2   [7.2, 7.2, 7.2, 7.2, 7.2, 7.2, 7.2, 7.2, 7.2, ...   \n3   [7.2, 7.2, 7.2, 7.2, 7.2, 7.2, 7.2, 7.2, 7.2, ...   \n4   [7.2, 7.2, 7.2, 7.2, 7.2, 7.2, 7.2, 7.2, 7.2, ...   \n..                                                ...   \n95  [7.2, 7.2, 7.2, 7.2, 7.2, 7.2, 7.2, 7.2, 7.2, ...   \n96  [7.2, 7.2, 7.2, 7.2, 7.2, 7.2, 7.2, 7.2, 7.2, ...   \n97  [7.2, 7.2, 7.2, 7.2, 7.2, 7.2, 7.2, 7.2, 7.2, ...   \n98  [7.2, 7.2, 7.2, 7.2, 7.2, 7.2, 7.2, 7.2, 7.2, ...   \n99  [3.6, 3.6, 3.6, 3.6, 3.6, 3.6, 3.6, 3.6, 3.6, ...   \n\n                                flexibility_start_soc  \\\n0   [0.0, 0.0, 0.0, 0.0, 0.0, 0.0, 0.0, 0.0, 0.0, ...   \n1   [0.0, 0.0, 0.0, 0.0, 0.0, 0.0, 0.0, 0.0, 0.0, ...   \n2   [0.0, 0.0, 0.0, 0.0, 0.0, 0.0, 0.0, 0.0, 0.0, ...   \n3   [0.0, 0.0, 0.0, 0.0, 0.0, 0.0, 0.0, 0.0, 0.0, ...   \n4   [0.0, 0.0, 0.0, 0.0, 0.0, 0.0, 0.0, 0.0, 0.0, ...   \n..                                                ...   \n95  [0.0, 0.0, 0.0, 0.0, 0.0, 0.0, 0.0, 0.0, 0.0, ...   \n96  [0.0, 0.0, 0.0, 0.0, 0.0, 0.0, 0.0, 0.0, 0.0, ...   \n97  [0.0, 0.0, 0.0, 0.0, 0.0, 0.0, 0.0, 0.0, 0.0, ...   \n98  [0.0, 0.0, 0.0, 0.0, 0.0, 0.0, 0.0, 0.0, 0.0, ...   \n99  [0.0, 0.0, 0.0, 0.0, 0.0, 0.0, 0.0, 0.0, 0.0, ...   \n\n                                  flexibility_end_soc  \n0   [0.0, 0.0, 0.0, 0.0, 0.0, 0.0, 0.0, 0.0, 0.0, ...  \n1   [0.0, 0.0, 0.0, 0.0, 0.0, 0.0, 0.0, 0.0, 0.0, ...  \n2   [0.0, 0.0, 0.0, 0.0, 0.0, 0.0, 0.0, 0.0, 0.0, ...  \n3   [0.0, 0.0, 0.0, 0.0, 0.0, 0.0, 0.0, 0.0, 0.0, ...  \n4   [0.0, 0.0, 0.0, 0.0, 0.0, 0.0, 0.0, 0.0, 0.0, ...  \n..                                                ...  \n95  [0.0, 0.0, 0.0, 0.0, 0.0, 0.0, 0.0, 0.0, 0.0, ...  \n96  [0.0, 0.0, 0.0, 0.0, 0.0, 0.0, 0.0, 0.0, 0.0, ...  \n97  [0.0, 0.0, 0.0, 0.0, 0.0, 0.0, 0.0, 0.0, 0.0, ...  \n98  [0.0, 0.0, 0.0, 0.0, 0.0, 0.0, 0.0, 0.0, 0.0, ...  \n99  [0.0, 0.0, 0.0, 0.0, 0.0, 0.0, 0.0, 0.0, 0.0, ...  \n\n[100 rows x 41 columns]",
      "text/html": "<div>\n<style scoped>\n    .dataframe tbody tr th:only-of-type {\n        vertical-align: middle;\n    }\n\n    .dataframe tbody tr th {\n        vertical-align: top;\n    }\n\n    .dataframe thead th {\n        text-align: right;\n    }\n</style>\n<table border=\"1\" class=\"dataframe\">\n  <thead>\n    <tr style=\"text-align: right;\">\n      <th></th>\n      <th>brand</th>\n      <th>model</th>\n      <th>battery_type</th>\n      <th>battery_size</th>\n      <th>charging_efficiency</th>\n      <th>discharging_efficiency</th>\n      <th>energy_per_km</th>\n      <th>soc_min</th>\n      <th>soc_max</th>\n      <th>probability_in_population</th>\n      <th>...</th>\n      <th>driving_start_soc</th>\n      <th>driving_end_soc</th>\n      <th>driving_distance</th>\n      <th>driving_energy_consumption</th>\n      <th>flexibility_start_time</th>\n      <th>flexibility_end_time</th>\n      <th>flexibility_type</th>\n      <th>flexibility_power</th>\n      <th>flexibility_start_soc</th>\n      <th>flexibility_end_soc</th>\n    </tr>\n  </thead>\n  <tbody>\n    <tr>\n      <th>0</th>\n      <td>Tesla</td>\n      <td>Model 3</td>\n      <td>BEV</td>\n      <td>95.0</td>\n      <td>0.9</td>\n      <td>0.9</td>\n      <td>0.180</td>\n      <td>0.8</td>\n      <td>1.0</td>\n      <td>0.13</td>\n      <td>...</td>\n      <td>[0.92, 0.9868, 0.99348, 0.9414800000000001, 0....</td>\n      <td>[0.8680000000000001, 0.9348000000000001, 0.941...</td>\n      <td>[24.7, 24.7, 24.7, 25.540000000000003, 25.5400...</td>\n      <td>[0.046799999999999994, 0.046799999999999994, 0...</td>\n      <td>[2023-01-01 08:15:36.892886, 2023-01-01 13:20:...</td>\n      <td>[2023-01-01 13:02:00, 2023-01-01 18:31:00, 202...</td>\n      <td>[Private Semi-fast (22 kW), Private Semi-fast ...</td>\n      <td>[22, 22, 22, 22, 22, 22, 22, 22, 22, 22, 22, 2...</td>\n      <td>[0.0, 0.0, 0.0, 0.0, 0.0, 0.0, 0.0, 0.0, 0.0, ...</td>\n      <td>[0.0, 0.0, 0.0, 0.0, 0.0, 0.0, 0.0, 0.0, 0.0, ...</td>\n    </tr>\n    <tr>\n      <th>1</th>\n      <td>Nissan</td>\n      <td>Leaf</td>\n      <td>BEV</td>\n      <td>59.0</td>\n      <td>0.9</td>\n      <td>0.9</td>\n      <td>0.170</td>\n      <td>0.8</td>\n      <td>1.0</td>\n      <td>0.16</td>\n      <td>...</td>\n      <td>[0.94, 0.9333408662900188, 0.9926681732580037,...</td>\n      <td>[0.9333408662900188, 0.9266817325800376, 0.986...</td>\n      <td>[2.08, 2.08, 2.06, 2.06, 2.025, 2.025, 1.98, 1...</td>\n      <td>[0.005993220338983051, 0.005993220338983051, 0...</td>\n      <td>[2023-01-01 18:28:05.930873, 2023-01-02 18:28:...</td>\n      <td>[2023-01-02 08:02:00, 2023-01-03 07:56:00, 202...</td>\n      <td>[Residential Slow (7.2 kW), Residential Slow (...</td>\n      <td>[7.2, 7.2, 7.2, 7.2, 7.2, 7.2, 7.2, 7.2, 7.2, ...</td>\n      <td>[0.0, 0.0, 0.0, 0.0, 0.0, 0.0, 0.0, 0.0, 0.0, ...</td>\n      <td>[0.0, 0.0, 0.0, 0.0, 0.0, 0.0, 0.0, 0.0, 0.0, ...</td>\n    </tr>\n    <tr>\n      <th>2</th>\n      <td>Tesla</td>\n      <td>Model 3</td>\n      <td>BEV</td>\n      <td>95.0</td>\n      <td>0.9</td>\n      <td>0.9</td>\n      <td>0.180</td>\n      <td>0.8</td>\n      <td>1.0</td>\n      <td>0.13</td>\n      <td>...</td>\n      <td>[0.98, 0.9555263157894737, 0.9931052631578947,...</td>\n      <td>[0.9555263157894737, 0.9310526315789474, 0.968...</td>\n      <td>[11.625, 11.625, 11.72, 11.72, 11.325, 11.325,...</td>\n      <td>[0.022026315789473682, 0.022026315789473682, 0...</td>\n      <td>[2023-01-01 18:42:31.375112, 2023-01-02 18:35:...</td>\n      <td>[2023-01-02 07:56:00, 2023-01-03 08:00:00, 202...</td>\n      <td>[Residential Slow (7.2 kW), Residential Slow (...</td>\n      <td>[7.2, 7.2, 7.2, 7.2, 7.2, 7.2, 7.2, 7.2, 7.2, ...</td>\n      <td>[0.0, 0.0, 0.0, 0.0, 0.0, 0.0, 0.0, 0.0, 0.0, ...</td>\n      <td>[0.0, 0.0, 0.0, 0.0, 0.0, 0.0, 0.0, 0.0, 0.0, ...</td>\n    </tr>\n    <tr>\n      <th>3</th>\n      <td>Volvo</td>\n      <td>XC40</td>\n      <td>PHEV</td>\n      <td>78.0</td>\n      <td>0.9</td>\n      <td>0.9</td>\n      <td>0.176</td>\n      <td>0.8</td>\n      <td>1.0</td>\n      <td>0.05</td>\n      <td>...</td>\n      <td>[0.98, 0.8217002849002849, 0.966340056980057, ...</td>\n      <td>[0.8217002849002849, 0.6634005698005698, 0.818...</td>\n      <td>[63.14, 63.14, 58.795, 58.795, 61.26, 61.26, 6...</td>\n      <td>[0.14246974358974357, 0.14246974358974357, 0.1...</td>\n      <td>[2023-01-01 19:05:59.114308, 2023-01-02 19:00:...</td>\n      <td>[2023-01-02 08:05:00, 2023-01-03 07:57:00, 202...</td>\n      <td>[Residential Slow (7.2 kW), Residential Slow (...</td>\n      <td>[7.2, 7.2, 7.2, 7.2, 7.2, 7.2, 7.2, 7.2, 7.2, ...</td>\n      <td>[0.0, 0.0, 0.0, 0.0, 0.0, 0.0, 0.0, 0.0, 0.0, ...</td>\n      <td>[0.0, 0.0, 0.0, 0.0, 0.0, 0.0, 0.0, 0.0, 0.0, ...</td>\n    </tr>\n    <tr>\n      <th>4</th>\n      <td>Tesla</td>\n      <td>Model 3</td>\n      <td>BEV</td>\n      <td>95.0</td>\n      <td>0.9</td>\n      <td>0.9</td>\n      <td>0.180</td>\n      <td>0.8</td>\n      <td>1.0</td>\n      <td>0.13</td>\n      <td>...</td>\n      <td>[0.96, 0.9409368421052631, 0.9921873684210526,...</td>\n      <td>[0.9409368421052631, 0.9218736842105262, 0.972...</td>\n      <td>[9.055, 9.055, 9.55, 9.55, 9.07, 9.07, 9.85, 9...</td>\n      <td>[0.017156842105263158, 0.017156842105263158, 0...</td>\n      <td>[2023-01-01 18:40:58.441626, 2023-01-02 18:41:...</td>\n      <td>[2023-01-02 07:55:00, 2023-01-03 08:00:00, 202...</td>\n      <td>[Residential Slow (7.2 kW), Residential Slow (...</td>\n      <td>[7.2, 7.2, 7.2, 7.2, 7.2, 7.2, 7.2, 7.2, 7.2, ...</td>\n      <td>[0.0, 0.0, 0.0, 0.0, 0.0, 0.0, 0.0, 0.0, 0.0, ...</td>\n      <td>[0.0, 0.0, 0.0, 0.0, 0.0, 0.0, 0.0, 0.0, 0.0, ...</td>\n    </tr>\n    <tr>\n      <th>...</th>\n      <td>...</td>\n      <td>...</td>\n      <td>...</td>\n      <td>...</td>\n      <td>...</td>\n      <td>...</td>\n      <td>...</td>\n      <td>...</td>\n      <td>...</td>\n      <td>...</td>\n      <td>...</td>\n      <td>...</td>\n      <td>...</td>\n      <td>...</td>\n      <td>...</td>\n      <td>...</td>\n      <td>...</td>\n      <td>...</td>\n      <td>...</td>\n      <td>...</td>\n      <td>...</td>\n    </tr>\n    <tr>\n      <th>95</th>\n      <td>Nissan</td>\n      <td>Leaf</td>\n      <td>BEV</td>\n      <td>59.0</td>\n      <td>0.9</td>\n      <td>0.9</td>\n      <td>0.170</td>\n      <td>0.8</td>\n      <td>1.0</td>\n      <td>0.16</td>\n      <td>...</td>\n      <td>[0.95, 0.9499359698681732, 0.9949871939736347,...</td>\n      <td>[0.9499359698681732, 0.9498719397363464, 0.994...</td>\n      <td>[0.02, 0.02, 0.02, 0.02, 0.02, 0.02, 0.02, 0.0...</td>\n      <td>[5.76271186440678e-05, 5.76271186440678e-05, 5...</td>\n      <td>[2023-01-01 18:28:01.199739, 2023-01-02 18:34:...</td>\n      <td>[2023-01-02 08:00:00, 2023-01-03 07:59:00, 202...</td>\n      <td>[Residential Slow (7.2 kW), Residential Slow (...</td>\n      <td>[7.2, 7.2, 7.2, 7.2, 7.2, 7.2, 7.2, 7.2, 7.2, ...</td>\n      <td>[0.0, 0.0, 0.0, 0.0, 0.0, 0.0, 0.0, 0.0, 0.0, ...</td>\n      <td>[0.0, 0.0, 0.0, 0.0, 0.0, 0.0, 0.0, 0.0, 0.0, ...</td>\n    </tr>\n    <tr>\n      <th>96</th>\n      <td>Nissan</td>\n      <td>Leaf</td>\n      <td>BEV</td>\n      <td>59.0</td>\n      <td>0.9</td>\n      <td>0.9</td>\n      <td>0.170</td>\n      <td>0.8</td>\n      <td>1.0</td>\n      <td>0.16</td>\n      <td>...</td>\n      <td>[0.83, 0.8276468926553672, 0.9825293785310735,...</td>\n      <td>[0.8276468926553672, 0.8252937853107344, 0.980...</td>\n      <td>[0.735, 0.735, 0.725, 0.725, 0.745, 0.745, 0.7...</td>\n      <td>[0.0021177966101694917, 0.0021177966101694917,...</td>\n      <td>[2023-01-01 18:24:44.432570, 2023-01-02 18:25:...</td>\n      <td>[2023-01-02 08:03:00, 2023-01-03 07:56:00, 202...</td>\n      <td>[Residential Slow (7.2 kW), Residential Slow (...</td>\n      <td>[7.2, 7.2, 7.2, 7.2, 7.2, 7.2, 7.2, 7.2, 7.2, ...</td>\n      <td>[0.0, 0.0, 0.0, 0.0, 0.0, 0.0, 0.0, 0.0, 0.0, ...</td>\n      <td>[0.0, 0.0, 0.0, 0.0, 0.0, 0.0, 0.0, 0.0, 0.0, ...</td>\n    </tr>\n    <tr>\n      <th>97</th>\n      <td>Tesla</td>\n      <td>Model 3</td>\n      <td>BEV</td>\n      <td>95.0</td>\n      <td>0.9</td>\n      <td>0.9</td>\n      <td>0.180</td>\n      <td>0.8</td>\n      <td>1.0</td>\n      <td>0.13</td>\n      <td>...</td>\n      <td>[0.91, 0.881221052631579, 0.9852442105263158, ...</td>\n      <td>[0.881221052631579, 0.852442105263158, 0.95727...</td>\n      <td>[13.67, 13.67, 13.285, 13.285, 13.805, 13.805,...</td>\n      <td>[0.025901052631578946, 0.025901052631578946, 0...</td>\n      <td>[2023-01-01 18:45:48.140826, 2023-01-02 18:42:...</td>\n      <td>[2023-01-02 08:04:00, 2023-01-03 08:05:00, 202...</td>\n      <td>[Residential Slow (7.2 kW), Residential Slow (...</td>\n      <td>[7.2, 7.2, 7.2, 7.2, 7.2, 7.2, 7.2, 7.2, 7.2, ...</td>\n      <td>[0.0, 0.0, 0.0, 0.0, 0.0, 0.0, 0.0, 0.0, 0.0, ...</td>\n      <td>[0.0, 0.0, 0.0, 0.0, 0.0, 0.0, 0.0, 0.0, 0.0, ...</td>\n    </tr>\n    <tr>\n      <th>98</th>\n      <td>Renault</td>\n      <td>Zoe</td>\n      <td>BEV</td>\n      <td>52.0</td>\n      <td>0.9</td>\n      <td>0.9</td>\n      <td>0.170</td>\n      <td>0.8</td>\n      <td>1.0</td>\n      <td>0.10</td>\n      <td>...</td>\n      <td>[0.89, 0.8684594017094017, 0.9846918803418804,...</td>\n      <td>[0.8684594017094017, 0.8469188034188034, 0.963...</td>\n      <td>[5.93, 5.93, 5.955, 5.955, 6.03, 6.03, 6.02, 6...</td>\n      <td>[0.019386538461538462, 0.019386538461538462, 0...</td>\n      <td>[2023-01-01 18:36:59.601538, 2023-01-02 18:29:...</td>\n      <td>[2023-01-02 08:04:00, 2023-01-03 08:00:00, 202...</td>\n      <td>[Residential Slow (7.2 kW), Residential Slow (...</td>\n      <td>[7.2, 7.2, 7.2, 7.2, 7.2, 7.2, 7.2, 7.2, 7.2, ...</td>\n      <td>[0.0, 0.0, 0.0, 0.0, 0.0, 0.0, 0.0, 0.0, 0.0, ...</td>\n      <td>[0.0, 0.0, 0.0, 0.0, 0.0, 0.0, 0.0, 0.0, 0.0, ...</td>\n    </tr>\n    <tr>\n      <th>99</th>\n      <td>Volvo</td>\n      <td>XC40</td>\n      <td>PHEV</td>\n      <td>78.0</td>\n      <td>0.9</td>\n      <td>0.9</td>\n      <td>0.176</td>\n      <td>0.8</td>\n      <td>1.0</td>\n      <td>0.05</td>\n      <td>...</td>\n      <td>[0.98, 0.9640547008547008, 0.9948109401709402,...</td>\n      <td>[0.9640547008547008, 0.9481094017094016, 0.978...</td>\n      <td>[6.36, 6.36, 6.335, 6.335, 6.695, 6.695, 6.7, ...</td>\n      <td>[0.01435076923076923, 0.01435076923076923, 0.0...</td>\n      <td>[2023-01-01 18:35:25.252341, 2023-01-02 18:40:...</td>\n      <td>[2023-01-02 08:04:00, 2023-01-03 08:01:00, 202...</td>\n      <td>[Residential Slow (3.6 kW), Residential Slow (...</td>\n      <td>[3.6, 3.6, 3.6, 3.6, 3.6, 3.6, 3.6, 3.6, 3.6, ...</td>\n      <td>[0.0, 0.0, 0.0, 0.0, 0.0, 0.0, 0.0, 0.0, 0.0, ...</td>\n      <td>[0.0, 0.0, 0.0, 0.0, 0.0, 0.0, 0.0, 0.0, 0.0, ...</td>\n    </tr>\n  </tbody>\n</table>\n<p>100 rows × 41 columns</p>\n</div>"
     },
     "execution_count": 12,
     "metadata": {},
     "output_type": "execute_result"
    }
   ],
   "source": [
    "# Print the population\n",
    "aggregator.simulation_dataframes['population']"
   ],
   "metadata": {
    "collapsed": false,
    "pycharm": {
     "name": "#%%\n"
    }
   }
  },
  {
   "cell_type": "code",
   "execution_count": 44,
   "outputs": [
    {
     "name": "stdout",
     "output_type": "stream",
     "text": [
      "[80.17, 25.32, 1.66, 34.81, 56.24, 19.9, 0.03, 23.41, 142.19, 0.03]\n"
     ]
    }
   ],
   "source": [
    "print([trip.trip_length for trip in aggregator.trips])"
   ],
   "metadata": {
    "collapsed": false,
    "pycharm": {
     "name": "#%%\n"
    }
   }
  },
  {
   "cell_type": "code",
   "execution_count": 45,
   "outputs": [
    {
     "data": {
      "text/plain": "     trip_length     trip_start_time              trip_end_time  \\\n0          0.015 2023-01-01 07:59:00 2023-01-01 07:59:00.902561   \n1          0.015 2023-01-01 18:29:00 2023-01-01 18:29:00.904849   \n2          0.015 2023-01-02 07:59:00 2023-01-02 07:59:00.906752   \n3          0.015 2023-01-02 18:31:00 2023-01-02 18:31:00.896636   \n4          0.015 2023-01-03 08:05:00 2023-01-03 08:05:00.903533   \n..           ...                 ...                        ...   \n142       12.985 2023-01-05 18:26:00 2023-01-05 18:38:50.487938   \n143       12.410 2023-01-06 05:02:00 2023-01-06 05:14:12.453407   \n144       12.410 2023-01-06 18:27:00 2023-01-06 18:39:28.019236   \n145       12.185 2023-01-07 05:04:00 2023-01-07 05:16:04.406880   \n146       12.185 2023-01-07 18:31:00 2023-01-07 18:43:12.707991   \n\n             trip_duration                                   ev  \\\n0   0 days 00:00:00.902561      Renault Zoe with 52 kWh battery   \n1   0 days 00:00:00.904849      Renault Zoe with 52 kWh battery   \n2   0 days 00:00:00.906752      Renault Zoe with 52 kWh battery   \n3   0 days 00:00:00.896636      Renault Zoe with 52 kWh battery   \n4   0 days 00:00:00.903533      Renault Zoe with 52 kWh battery   \n..                     ...                                  ...   \n142 0 days 00:12:50.487938  Mercedes E300 with 13.5 kWh battery   \n143 0 days 00:12:12.453407  Mercedes E300 with 13.5 kWh battery   \n144 0 days 00:12:28.019236  Mercedes E300 with 13.5 kWh battery   \n145 0 days 00:12:04.406880  Mercedes E300 with 13.5 kWh battery   \n146 0 days 00:12:12.707991  Mercedes E300 with 13.5 kWh battery   \n\n                                ev_id  trip_speed  trip_energy_consumption  \\\n0    60e6ccdbd1e5c4f9b7ab8c7fe73c1707   59.829769                  0.00255   \n1    60e6ccdbd1e5c4f9b7ab8c7fe73c1707   59.678441                  0.00255   \n2    60e6ccdbd1e5c4f9b7ab8c7fe73c1707   59.553212                  0.00255   \n3    60e6ccdbd1e5c4f9b7ab8c7fe73c1707   60.225107                  0.00255   \n4    60e6ccdbd1e5c4f9b7ab8c7fe73c1707   59.765372                  0.00255   \n..                                ...         ...                      ...   \n142  29ec69f035940b4800c087c8324eccc1   60.670645                  2.33730   \n143  29ec69f035940b4800c087c8324eccc1   60.995006                  2.23380   \n144  29ec69f035940b4800c087c8324eccc1   59.725737                  2.23380   \n145  29ec69f035940b4800c087c8324eccc1   60.554367                  2.19330   \n146  29ec69f035940b4800c087c8324eccc1   59.868325                  2.19330   \n\n     trip_required_soc  ev_battery_size      trip_estimate_arrival  \\\n0             0.000049             52.0 2023-01-01 07:59:00.902561   \n1             0.000049             52.0 2023-01-01 18:29:00.904849   \n2             0.000049             52.0 2023-01-02 07:59:00.906752   \n3             0.000049             52.0 2023-01-02 18:31:00.896636   \n4             0.000049             52.0 2023-01-03 08:05:00.903533   \n..                 ...              ...                        ...   \n142           0.173133             13.5 2023-01-05 18:38:50.487938   \n143           0.165467             13.5 2023-01-06 05:14:12.453407   \n144           0.165467             13.5 2023-01-06 18:39:28.019236   \n145           0.162467             13.5 2023-01-07 05:16:04.406880   \n146           0.162467             13.5 2023-01-07 18:43:12.707991   \n\n                      profile                           trip_id  \\\n0     N:Residential3, T:Short  391d2c642ffd762c3197c6298f961680   \n1     N:Residential3, T:Short  4164357195e99498f5db9eaeff9f019d   \n2     N:Residential3, T:Short  b4654ac21d3d0577f62b1856b369995a   \n3     N:Residential3, T:Short  78842aa8e452f59d46f83d4049d4f459   \n4     N:Residential3, T:Short  0af1b5c04ac3bf872e207fff489c4d3c   \n..                        ...                               ...   \n142  N:Residential2, T:Medium  f34d802b3cb94276b8b9d36cfb688824   \n143  N:Residential2, T:Medium  365c8dc322777f73c0d8693dfc6d0dfe   \n144  N:Residential2, T:Medium  380e928295467ea23ed2917aedcdb33a   \n145  N:Residential2, T:Medium  edb88b042d43eef46cdce156aff221de   \n146  N:Residential2, T:Medium  3cb09f1fbff9ac5e9097a76a1523f16d   \n\n     covered_distance  \n0               0.015  \n1               0.015  \n2               0.015  \n3               0.015  \n4               0.015  \n..                ...  \n142            12.985  \n143            12.410  \n144            12.410  \n145            12.185  \n146            12.185  \n\n[147 rows x 14 columns]",
      "text/html": "<div>\n<style scoped>\n    .dataframe tbody tr th:only-of-type {\n        vertical-align: middle;\n    }\n\n    .dataframe tbody tr th {\n        vertical-align: top;\n    }\n\n    .dataframe thead th {\n        text-align: right;\n    }\n</style>\n<table border=\"1\" class=\"dataframe\">\n  <thead>\n    <tr style=\"text-align: right;\">\n      <th></th>\n      <th>trip_length</th>\n      <th>trip_start_time</th>\n      <th>trip_end_time</th>\n      <th>trip_duration</th>\n      <th>ev</th>\n      <th>ev_id</th>\n      <th>trip_speed</th>\n      <th>trip_energy_consumption</th>\n      <th>trip_required_soc</th>\n      <th>ev_battery_size</th>\n      <th>trip_estimate_arrival</th>\n      <th>profile</th>\n      <th>trip_id</th>\n      <th>covered_distance</th>\n    </tr>\n  </thead>\n  <tbody>\n    <tr>\n      <th>0</th>\n      <td>0.015</td>\n      <td>2023-01-01 07:59:00</td>\n      <td>2023-01-01 07:59:00.902561</td>\n      <td>0 days 00:00:00.902561</td>\n      <td>Renault Zoe with 52 kWh battery</td>\n      <td>60e6ccdbd1e5c4f9b7ab8c7fe73c1707</td>\n      <td>59.829769</td>\n      <td>0.00255</td>\n      <td>0.000049</td>\n      <td>52.0</td>\n      <td>2023-01-01 07:59:00.902561</td>\n      <td>N:Residential3, T:Short</td>\n      <td>391d2c642ffd762c3197c6298f961680</td>\n      <td>0.015</td>\n    </tr>\n    <tr>\n      <th>1</th>\n      <td>0.015</td>\n      <td>2023-01-01 18:29:00</td>\n      <td>2023-01-01 18:29:00.904849</td>\n      <td>0 days 00:00:00.904849</td>\n      <td>Renault Zoe with 52 kWh battery</td>\n      <td>60e6ccdbd1e5c4f9b7ab8c7fe73c1707</td>\n      <td>59.678441</td>\n      <td>0.00255</td>\n      <td>0.000049</td>\n      <td>52.0</td>\n      <td>2023-01-01 18:29:00.904849</td>\n      <td>N:Residential3, T:Short</td>\n      <td>4164357195e99498f5db9eaeff9f019d</td>\n      <td>0.015</td>\n    </tr>\n    <tr>\n      <th>2</th>\n      <td>0.015</td>\n      <td>2023-01-02 07:59:00</td>\n      <td>2023-01-02 07:59:00.906752</td>\n      <td>0 days 00:00:00.906752</td>\n      <td>Renault Zoe with 52 kWh battery</td>\n      <td>60e6ccdbd1e5c4f9b7ab8c7fe73c1707</td>\n      <td>59.553212</td>\n      <td>0.00255</td>\n      <td>0.000049</td>\n      <td>52.0</td>\n      <td>2023-01-02 07:59:00.906752</td>\n      <td>N:Residential3, T:Short</td>\n      <td>b4654ac21d3d0577f62b1856b369995a</td>\n      <td>0.015</td>\n    </tr>\n    <tr>\n      <th>3</th>\n      <td>0.015</td>\n      <td>2023-01-02 18:31:00</td>\n      <td>2023-01-02 18:31:00.896636</td>\n      <td>0 days 00:00:00.896636</td>\n      <td>Renault Zoe with 52 kWh battery</td>\n      <td>60e6ccdbd1e5c4f9b7ab8c7fe73c1707</td>\n      <td>60.225107</td>\n      <td>0.00255</td>\n      <td>0.000049</td>\n      <td>52.0</td>\n      <td>2023-01-02 18:31:00.896636</td>\n      <td>N:Residential3, T:Short</td>\n      <td>78842aa8e452f59d46f83d4049d4f459</td>\n      <td>0.015</td>\n    </tr>\n    <tr>\n      <th>4</th>\n      <td>0.015</td>\n      <td>2023-01-03 08:05:00</td>\n      <td>2023-01-03 08:05:00.903533</td>\n      <td>0 days 00:00:00.903533</td>\n      <td>Renault Zoe with 52 kWh battery</td>\n      <td>60e6ccdbd1e5c4f9b7ab8c7fe73c1707</td>\n      <td>59.765372</td>\n      <td>0.00255</td>\n      <td>0.000049</td>\n      <td>52.0</td>\n      <td>2023-01-03 08:05:00.903533</td>\n      <td>N:Residential3, T:Short</td>\n      <td>0af1b5c04ac3bf872e207fff489c4d3c</td>\n      <td>0.015</td>\n    </tr>\n    <tr>\n      <th>...</th>\n      <td>...</td>\n      <td>...</td>\n      <td>...</td>\n      <td>...</td>\n      <td>...</td>\n      <td>...</td>\n      <td>...</td>\n      <td>...</td>\n      <td>...</td>\n      <td>...</td>\n      <td>...</td>\n      <td>...</td>\n      <td>...</td>\n      <td>...</td>\n    </tr>\n    <tr>\n      <th>142</th>\n      <td>12.985</td>\n      <td>2023-01-05 18:26:00</td>\n      <td>2023-01-05 18:38:50.487938</td>\n      <td>0 days 00:12:50.487938</td>\n      <td>Mercedes E300 with 13.5 kWh battery</td>\n      <td>29ec69f035940b4800c087c8324eccc1</td>\n      <td>60.670645</td>\n      <td>2.33730</td>\n      <td>0.173133</td>\n      <td>13.5</td>\n      <td>2023-01-05 18:38:50.487938</td>\n      <td>N:Residential2, T:Medium</td>\n      <td>f34d802b3cb94276b8b9d36cfb688824</td>\n      <td>12.985</td>\n    </tr>\n    <tr>\n      <th>143</th>\n      <td>12.410</td>\n      <td>2023-01-06 05:02:00</td>\n      <td>2023-01-06 05:14:12.453407</td>\n      <td>0 days 00:12:12.453407</td>\n      <td>Mercedes E300 with 13.5 kWh battery</td>\n      <td>29ec69f035940b4800c087c8324eccc1</td>\n      <td>60.995006</td>\n      <td>2.23380</td>\n      <td>0.165467</td>\n      <td>13.5</td>\n      <td>2023-01-06 05:14:12.453407</td>\n      <td>N:Residential2, T:Medium</td>\n      <td>365c8dc322777f73c0d8693dfc6d0dfe</td>\n      <td>12.410</td>\n    </tr>\n    <tr>\n      <th>144</th>\n      <td>12.410</td>\n      <td>2023-01-06 18:27:00</td>\n      <td>2023-01-06 18:39:28.019236</td>\n      <td>0 days 00:12:28.019236</td>\n      <td>Mercedes E300 with 13.5 kWh battery</td>\n      <td>29ec69f035940b4800c087c8324eccc1</td>\n      <td>59.725737</td>\n      <td>2.23380</td>\n      <td>0.165467</td>\n      <td>13.5</td>\n      <td>2023-01-06 18:39:28.019236</td>\n      <td>N:Residential2, T:Medium</td>\n      <td>380e928295467ea23ed2917aedcdb33a</td>\n      <td>12.410</td>\n    </tr>\n    <tr>\n      <th>145</th>\n      <td>12.185</td>\n      <td>2023-01-07 05:04:00</td>\n      <td>2023-01-07 05:16:04.406880</td>\n      <td>0 days 00:12:04.406880</td>\n      <td>Mercedes E300 with 13.5 kWh battery</td>\n      <td>29ec69f035940b4800c087c8324eccc1</td>\n      <td>60.554367</td>\n      <td>2.19330</td>\n      <td>0.162467</td>\n      <td>13.5</td>\n      <td>2023-01-07 05:16:04.406880</td>\n      <td>N:Residential2, T:Medium</td>\n      <td>edb88b042d43eef46cdce156aff221de</td>\n      <td>12.185</td>\n    </tr>\n    <tr>\n      <th>146</th>\n      <td>12.185</td>\n      <td>2023-01-07 18:31:00</td>\n      <td>2023-01-07 18:43:12.707991</td>\n      <td>0 days 00:12:12.707991</td>\n      <td>Mercedes E300 with 13.5 kWh battery</td>\n      <td>29ec69f035940b4800c087c8324eccc1</td>\n      <td>59.868325</td>\n      <td>2.19330</td>\n      <td>0.162467</td>\n      <td>13.5</td>\n      <td>2023-01-07 18:43:12.707991</td>\n      <td>N:Residential2, T:Medium</td>\n      <td>3cb09f1fbff9ac5e9097a76a1523f16d</td>\n      <td>12.185</td>\n    </tr>\n  </tbody>\n</table>\n<p>147 rows × 14 columns</p>\n</div>"
     },
     "execution_count": 45,
     "metadata": {},
     "output_type": "execute_result"
    }
   ],
   "source": [
    "# Assigned segments\n",
    "aggregator.simulation_dataframes['assigned_segments']"
   ],
   "metadata": {
    "collapsed": false,
    "pycharm": {
     "name": "#%%\n"
    }
   }
  },
  {
   "cell_type": "code",
   "execution_count": 13,
   "outputs": [
    {
     "data": {
      "text/plain": "                      start_time                   end_time  start_soc  \\\n0     2023-01-01 08:15:36.892886 2023-01-01 08:53:36.892886   0.868000   \n1     2023-01-01 13:20:32.079378 2023-01-01 13:39:18.261196   0.934800   \n2     2023-01-02 08:16:05.677323 2023-01-02 08:48:25.204596   0.887712   \n3     2023-01-02 13:23:13.593464 2023-01-02 13:41:56.273464   0.935003   \n4     2023-01-03 08:23:18.286017 2023-01-03 08:55:19.644926   0.888763   \n...                          ...                        ...        ...   \n45299 2023-12-26 18:32:29.739585 2023-12-26 19:24:56.691146   0.963689   \n45300 2023-12-27 18:38:25.301358 2023-12-27 19:29:50.366884   0.964403   \n45301 2023-12-28 18:36:39.883012 2023-12-28 19:30:19.994503   0.962845   \n45302 2023-12-29 18:38:43.540310 2023-12-29 19:32:15.428002   0.962940   \n45303 2023-12-30 18:30:46.006499 2023-12-30 19:24:27.936009   0.962824   \n\n        end_soc                             ev_id               station_type  \\\n0      0.986800  93b0f1c076d43bd4898664ea5ce59fea  Private Semi-fast (22 kW)   \n1      0.993480  93b0f1c076d43bd4898664ea5ce59fea  Private Semi-fast (22 kW)   \n2      0.988771  93b0f1c076d43bd4898664ea5ce59fea  Private Semi-fast (22 kW)   \n3      0.993500  93b0f1c076d43bd4898664ea5ce59fea  Private Semi-fast (22 kW)   \n4      0.988876  93b0f1c076d43bd4898664ea5ce59fea  Private Semi-fast (22 kW)   \n...         ...                               ...                        ...   \n45299  0.996369  ef252b6e2a031d0410d30c1ff3d5313c  Residential Slow (3.6 kW)   \n45300  0.996440  ef252b6e2a031d0410d30c1ff3d5313c  Residential Slow (3.6 kW)   \n45301  0.996284  ef252b6e2a031d0410d30c1ff3d5313c  Residential Slow (3.6 kW)   \n45302  0.996294  ef252b6e2a031d0410d30c1ff3d5313c  Residential Slow (3.6 kW)   \n45303  0.996282  ef252b6e2a031d0410d30c1ff3d5313c  Residential Slow (3.6 kW)   \n\n       station_power  \n0               22.0  \n1               22.0  \n2               22.0  \n3               22.0  \n4               22.0  \n...              ...  \n45299            3.6  \n45300            3.6  \n45301            3.6  \n45302            3.6  \n45303            3.6  \n\n[45304 rows x 7 columns]",
      "text/html": "<div>\n<style scoped>\n    .dataframe tbody tr th:only-of-type {\n        vertical-align: middle;\n    }\n\n    .dataframe tbody tr th {\n        vertical-align: top;\n    }\n\n    .dataframe thead th {\n        text-align: right;\n    }\n</style>\n<table border=\"1\" class=\"dataframe\">\n  <thead>\n    <tr style=\"text-align: right;\">\n      <th></th>\n      <th>start_time</th>\n      <th>end_time</th>\n      <th>start_soc</th>\n      <th>end_soc</th>\n      <th>ev_id</th>\n      <th>station_type</th>\n      <th>station_power</th>\n    </tr>\n  </thead>\n  <tbody>\n    <tr>\n      <th>0</th>\n      <td>2023-01-01 08:15:36.892886</td>\n      <td>2023-01-01 08:53:36.892886</td>\n      <td>0.868000</td>\n      <td>0.986800</td>\n      <td>93b0f1c076d43bd4898664ea5ce59fea</td>\n      <td>Private Semi-fast (22 kW)</td>\n      <td>22.0</td>\n    </tr>\n    <tr>\n      <th>1</th>\n      <td>2023-01-01 13:20:32.079378</td>\n      <td>2023-01-01 13:39:18.261196</td>\n      <td>0.934800</td>\n      <td>0.993480</td>\n      <td>93b0f1c076d43bd4898664ea5ce59fea</td>\n      <td>Private Semi-fast (22 kW)</td>\n      <td>22.0</td>\n    </tr>\n    <tr>\n      <th>2</th>\n      <td>2023-01-02 08:16:05.677323</td>\n      <td>2023-01-02 08:48:25.204596</td>\n      <td>0.887712</td>\n      <td>0.988771</td>\n      <td>93b0f1c076d43bd4898664ea5ce59fea</td>\n      <td>Private Semi-fast (22 kW)</td>\n      <td>22.0</td>\n    </tr>\n    <tr>\n      <th>3</th>\n      <td>2023-01-02 13:23:13.593464</td>\n      <td>2023-01-02 13:41:56.273464</td>\n      <td>0.935003</td>\n      <td>0.993500</td>\n      <td>93b0f1c076d43bd4898664ea5ce59fea</td>\n      <td>Private Semi-fast (22 kW)</td>\n      <td>22.0</td>\n    </tr>\n    <tr>\n      <th>4</th>\n      <td>2023-01-03 08:23:18.286017</td>\n      <td>2023-01-03 08:55:19.644926</td>\n      <td>0.888763</td>\n      <td>0.988876</td>\n      <td>93b0f1c076d43bd4898664ea5ce59fea</td>\n      <td>Private Semi-fast (22 kW)</td>\n      <td>22.0</td>\n    </tr>\n    <tr>\n      <th>...</th>\n      <td>...</td>\n      <td>...</td>\n      <td>...</td>\n      <td>...</td>\n      <td>...</td>\n      <td>...</td>\n      <td>...</td>\n    </tr>\n    <tr>\n      <th>45299</th>\n      <td>2023-12-26 18:32:29.739585</td>\n      <td>2023-12-26 19:24:56.691146</td>\n      <td>0.963689</td>\n      <td>0.996369</td>\n      <td>ef252b6e2a031d0410d30c1ff3d5313c</td>\n      <td>Residential Slow (3.6 kW)</td>\n      <td>3.6</td>\n    </tr>\n    <tr>\n      <th>45300</th>\n      <td>2023-12-27 18:38:25.301358</td>\n      <td>2023-12-27 19:29:50.366884</td>\n      <td>0.964403</td>\n      <td>0.996440</td>\n      <td>ef252b6e2a031d0410d30c1ff3d5313c</td>\n      <td>Residential Slow (3.6 kW)</td>\n      <td>3.6</td>\n    </tr>\n    <tr>\n      <th>45301</th>\n      <td>2023-12-28 18:36:39.883012</td>\n      <td>2023-12-28 19:30:19.994503</td>\n      <td>0.962845</td>\n      <td>0.996284</td>\n      <td>ef252b6e2a031d0410d30c1ff3d5313c</td>\n      <td>Residential Slow (3.6 kW)</td>\n      <td>3.6</td>\n    </tr>\n    <tr>\n      <th>45302</th>\n      <td>2023-12-29 18:38:43.540310</td>\n      <td>2023-12-29 19:32:15.428002</td>\n      <td>0.962940</td>\n      <td>0.996294</td>\n      <td>ef252b6e2a031d0410d30c1ff3d5313c</td>\n      <td>Residential Slow (3.6 kW)</td>\n      <td>3.6</td>\n    </tr>\n    <tr>\n      <th>45303</th>\n      <td>2023-12-30 18:30:46.006499</td>\n      <td>2023-12-30 19:24:27.936009</td>\n      <td>0.962824</td>\n      <td>0.996282</td>\n      <td>ef252b6e2a031d0410d30c1ff3d5313c</td>\n      <td>Residential Slow (3.6 kW)</td>\n      <td>3.6</td>\n    </tr>\n  </tbody>\n</table>\n<p>45304 rows × 7 columns</p>\n</div>"
     },
     "execution_count": 13,
     "metadata": {},
     "output_type": "execute_result"
    }
   ],
   "source": [
    "# Print the charging stations\n",
    "\n",
    "aggregator.simulation_dataframes['cs_history']"
   ],
   "metadata": {
    "collapsed": false,
    "pycharm": {
     "name": "#%%\n"
    }
   }
  },
  {
   "cell_type": "code",
   "execution_count": 47,
   "outputs": [
    {
     "data": {
      "text/plain": "                     60e6ccdbd1e5c4f9b7ab8c7fe73c1707  \\\n2023-01-01 00:00:00                               0.0   \n2023-01-01 01:00:00                               0.0   \n2023-01-01 02:00:00                               0.0   \n2023-01-01 03:00:00                               0.0   \n2023-01-01 04:00:00                               0.0   \n...                                               ...   \n2023-01-07 19:00:00                               0.0   \n2023-01-07 20:00:00                               0.0   \n2023-01-07 21:00:00                               0.0   \n2023-01-07 22:00:00                               0.0   \n2023-01-07 23:00:00                               0.0   \n\n                     f609b88f3e96af8fb0dc57c97cf3c64a  \\\n2023-01-01 00:00:00                               0.0   \n2023-01-01 01:00:00                               0.0   \n2023-01-01 02:00:00                               0.0   \n2023-01-01 03:00:00                               0.0   \n2023-01-01 04:00:00                               0.0   \n...                                               ...   \n2023-01-07 19:00:00                               0.0   \n2023-01-07 20:00:00                               0.0   \n2023-01-07 21:00:00                               0.0   \n2023-01-07 22:00:00                               0.0   \n2023-01-07 23:00:00                               0.0   \n\n                     73ed7a52159d7182ccdbc3d27bd618dd  \\\n2023-01-01 00:00:00                               0.0   \n2023-01-01 01:00:00                               0.0   \n2023-01-01 02:00:00                               0.0   \n2023-01-01 03:00:00                               0.0   \n2023-01-01 04:00:00                               0.0   \n...                                               ...   \n2023-01-07 19:00:00                               0.0   \n2023-01-07 20:00:00                               0.0   \n2023-01-07 21:00:00                               0.0   \n2023-01-07 22:00:00                               0.0   \n2023-01-07 23:00:00                               0.0   \n\n                     324fce82ce405dba34ed2bda2ef5e1b1  \\\n2023-01-01 00:00:00                               0.0   \n2023-01-01 01:00:00                               0.0   \n2023-01-01 02:00:00                               0.0   \n2023-01-01 03:00:00                               0.0   \n2023-01-01 04:00:00                               0.0   \n...                                               ...   \n2023-01-07 19:00:00                               0.0   \n2023-01-07 20:00:00                               0.0   \n2023-01-07 21:00:00                               0.0   \n2023-01-07 22:00:00                               0.0   \n2023-01-07 23:00:00                               0.0   \n\n                     c224a4e2c8c84b016c13b8625f7feaeb  \\\n2023-01-01 00:00:00                               0.0   \n2023-01-01 01:00:00                               0.0   \n2023-01-01 02:00:00                               0.0   \n2023-01-01 03:00:00                               0.0   \n2023-01-01 04:00:00                               0.0   \n...                                               ...   \n2023-01-07 19:00:00                              50.0   \n2023-01-07 20:00:00                               0.0   \n2023-01-07 21:00:00                               0.0   \n2023-01-07 22:00:00                               0.0   \n2023-01-07 23:00:00                               0.0   \n\n                     109647cfbf344aafe275a11202c75cf8  \\\n2023-01-01 00:00:00                               0.0   \n2023-01-01 01:00:00                               0.0   \n2023-01-01 02:00:00                               0.0   \n2023-01-01 03:00:00                               0.0   \n2023-01-01 04:00:00                               0.0   \n...                                               ...   \n2023-01-07 19:00:00                               0.0   \n2023-01-07 20:00:00                               0.0   \n2023-01-07 21:00:00                               0.0   \n2023-01-07 22:00:00                               0.0   \n2023-01-07 23:00:00                               0.0   \n\n                     2e5462a851a28200237dd6193778934b  \\\n2023-01-01 00:00:00                               0.0   \n2023-01-01 01:00:00                               0.0   \n2023-01-01 02:00:00                               0.0   \n2023-01-01 03:00:00                               0.0   \n2023-01-01 04:00:00                               0.0   \n...                                               ...   \n2023-01-07 19:00:00                               0.0   \n2023-01-07 20:00:00                               0.0   \n2023-01-07 21:00:00                               0.0   \n2023-01-07 22:00:00                               0.0   \n2023-01-07 23:00:00                               0.0   \n\n                     1a96f639364a8320e86446cb72375da6  \\\n2023-01-01 00:00:00                               0.0   \n2023-01-01 01:00:00                               0.0   \n2023-01-01 02:00:00                               0.0   \n2023-01-01 03:00:00                               0.0   \n2023-01-01 04:00:00                               0.0   \n...                                               ...   \n2023-01-07 19:00:00                               0.0   \n2023-01-07 20:00:00                               0.0   \n2023-01-07 21:00:00                               0.0   \n2023-01-07 22:00:00                               0.0   \n2023-01-07 23:00:00                               0.0   \n\n                     fe01331fc0b4317f73fc47feb5e0e0e2  \\\n2023-01-01 00:00:00                               0.0   \n2023-01-01 01:00:00                               0.0   \n2023-01-01 02:00:00                               0.0   \n2023-01-01 03:00:00                               0.0   \n2023-01-01 04:00:00                               0.0   \n...                                               ...   \n2023-01-07 19:00:00                               0.0   \n2023-01-07 20:00:00                               0.0   \n2023-01-07 21:00:00                               0.0   \n2023-01-07 22:00:00                               0.0   \n2023-01-07 23:00:00                               0.0   \n\n                     29ec69f035940b4800c087c8324eccc1  \n2023-01-01 00:00:00                               0.0  \n2023-01-01 01:00:00                               0.0  \n2023-01-01 02:00:00                               0.0  \n2023-01-01 03:00:00                               0.0  \n2023-01-01 04:00:00                               0.0  \n...                                               ...  \n2023-01-07 19:00:00                               0.0  \n2023-01-07 20:00:00                               0.0  \n2023-01-07 21:00:00                               0.0  \n2023-01-07 22:00:00                               0.0  \n2023-01-07 23:00:00                               0.0  \n\n[168 rows x 10 columns]",
      "text/html": "<div>\n<style scoped>\n    .dataframe tbody tr th:only-of-type {\n        vertical-align: middle;\n    }\n\n    .dataframe tbody tr th {\n        vertical-align: top;\n    }\n\n    .dataframe thead th {\n        text-align: right;\n    }\n</style>\n<table border=\"1\" class=\"dataframe\">\n  <thead>\n    <tr style=\"text-align: right;\">\n      <th></th>\n      <th>60e6ccdbd1e5c4f9b7ab8c7fe73c1707</th>\n      <th>f609b88f3e96af8fb0dc57c97cf3c64a</th>\n      <th>73ed7a52159d7182ccdbc3d27bd618dd</th>\n      <th>324fce82ce405dba34ed2bda2ef5e1b1</th>\n      <th>c224a4e2c8c84b016c13b8625f7feaeb</th>\n      <th>109647cfbf344aafe275a11202c75cf8</th>\n      <th>2e5462a851a28200237dd6193778934b</th>\n      <th>1a96f639364a8320e86446cb72375da6</th>\n      <th>fe01331fc0b4317f73fc47feb5e0e0e2</th>\n      <th>29ec69f035940b4800c087c8324eccc1</th>\n    </tr>\n  </thead>\n  <tbody>\n    <tr>\n      <th>2023-01-01 00:00:00</th>\n      <td>0.0</td>\n      <td>0.0</td>\n      <td>0.0</td>\n      <td>0.0</td>\n      <td>0.0</td>\n      <td>0.0</td>\n      <td>0.0</td>\n      <td>0.0</td>\n      <td>0.0</td>\n      <td>0.0</td>\n    </tr>\n    <tr>\n      <th>2023-01-01 01:00:00</th>\n      <td>0.0</td>\n      <td>0.0</td>\n      <td>0.0</td>\n      <td>0.0</td>\n      <td>0.0</td>\n      <td>0.0</td>\n      <td>0.0</td>\n      <td>0.0</td>\n      <td>0.0</td>\n      <td>0.0</td>\n    </tr>\n    <tr>\n      <th>2023-01-01 02:00:00</th>\n      <td>0.0</td>\n      <td>0.0</td>\n      <td>0.0</td>\n      <td>0.0</td>\n      <td>0.0</td>\n      <td>0.0</td>\n      <td>0.0</td>\n      <td>0.0</td>\n      <td>0.0</td>\n      <td>0.0</td>\n    </tr>\n    <tr>\n      <th>2023-01-01 03:00:00</th>\n      <td>0.0</td>\n      <td>0.0</td>\n      <td>0.0</td>\n      <td>0.0</td>\n      <td>0.0</td>\n      <td>0.0</td>\n      <td>0.0</td>\n      <td>0.0</td>\n      <td>0.0</td>\n      <td>0.0</td>\n    </tr>\n    <tr>\n      <th>2023-01-01 04:00:00</th>\n      <td>0.0</td>\n      <td>0.0</td>\n      <td>0.0</td>\n      <td>0.0</td>\n      <td>0.0</td>\n      <td>0.0</td>\n      <td>0.0</td>\n      <td>0.0</td>\n      <td>0.0</td>\n      <td>0.0</td>\n    </tr>\n    <tr>\n      <th>...</th>\n      <td>...</td>\n      <td>...</td>\n      <td>...</td>\n      <td>...</td>\n      <td>...</td>\n      <td>...</td>\n      <td>...</td>\n      <td>...</td>\n      <td>...</td>\n      <td>...</td>\n    </tr>\n    <tr>\n      <th>2023-01-07 19:00:00</th>\n      <td>0.0</td>\n      <td>0.0</td>\n      <td>0.0</td>\n      <td>0.0</td>\n      <td>50.0</td>\n      <td>0.0</td>\n      <td>0.0</td>\n      <td>0.0</td>\n      <td>0.0</td>\n      <td>0.0</td>\n    </tr>\n    <tr>\n      <th>2023-01-07 20:00:00</th>\n      <td>0.0</td>\n      <td>0.0</td>\n      <td>0.0</td>\n      <td>0.0</td>\n      <td>0.0</td>\n      <td>0.0</td>\n      <td>0.0</td>\n      <td>0.0</td>\n      <td>0.0</td>\n      <td>0.0</td>\n    </tr>\n    <tr>\n      <th>2023-01-07 21:00:00</th>\n      <td>0.0</td>\n      <td>0.0</td>\n      <td>0.0</td>\n      <td>0.0</td>\n      <td>0.0</td>\n      <td>0.0</td>\n      <td>0.0</td>\n      <td>0.0</td>\n      <td>0.0</td>\n      <td>0.0</td>\n    </tr>\n    <tr>\n      <th>2023-01-07 22:00:00</th>\n      <td>0.0</td>\n      <td>0.0</td>\n      <td>0.0</td>\n      <td>0.0</td>\n      <td>0.0</td>\n      <td>0.0</td>\n      <td>0.0</td>\n      <td>0.0</td>\n      <td>0.0</td>\n      <td>0.0</td>\n    </tr>\n    <tr>\n      <th>2023-01-07 23:00:00</th>\n      <td>0.0</td>\n      <td>0.0</td>\n      <td>0.0</td>\n      <td>0.0</td>\n      <td>0.0</td>\n      <td>0.0</td>\n      <td>0.0</td>\n      <td>0.0</td>\n      <td>0.0</td>\n      <td>0.0</td>\n    </tr>\n  </tbody>\n</table>\n<p>168 rows × 10 columns</p>\n</div>"
     },
     "execution_count": 47,
     "metadata": {},
     "output_type": "execute_result"
    }
   ],
   "source": [
    "# Print the EV charging history\n",
    "\n",
    "aggregator.simulation_dataframes['ev_charging_history'].transpose()"
   ],
   "metadata": {
    "collapsed": false,
    "pycharm": {
     "name": "#%%\n"
    }
   }
  },
  {
   "cell_type": "code",
   "execution_count": 48,
   "outputs": [
    {
     "data": {
      "text/plain": "             start_time                   end_time  distance  \\\n0   2023-01-01 07:59:00 2023-01-01 07:59:00.902561     0.015   \n1   2023-01-01 18:29:00 2023-01-01 18:29:00.904849     0.015   \n2   2023-01-02 07:59:00 2023-01-02 07:59:00.906752     0.015   \n3   2023-01-02 18:31:00 2023-01-02 18:31:00.896636     0.015   \n4   2023-01-03 08:05:00 2023-01-03 08:05:00.903533     0.015   \n..                  ...                        ...       ...   \n150 2023-01-05 18:26:00 2023-01-05 18:38:50.487938    12.985   \n151 2023-01-06 05:02:00 2023-01-06 05:14:12.453407    12.410   \n152 2023-01-06 18:27:00 2023-01-06 18:39:28.019236    12.410   \n153 2023-01-07 05:04:00 2023-01-07 05:16:04.406880    12.185   \n154 2023-01-07 18:31:00 2023-01-07 18:43:12.707991    12.185   \n\n                                ev_id  \n0    60e6ccdbd1e5c4f9b7ab8c7fe73c1707  \n1    60e6ccdbd1e5c4f9b7ab8c7fe73c1707  \n2    60e6ccdbd1e5c4f9b7ab8c7fe73c1707  \n3    60e6ccdbd1e5c4f9b7ab8c7fe73c1707  \n4    60e6ccdbd1e5c4f9b7ab8c7fe73c1707  \n..                                ...  \n150  29ec69f035940b4800c087c8324eccc1  \n151  29ec69f035940b4800c087c8324eccc1  \n152  29ec69f035940b4800c087c8324eccc1  \n153  29ec69f035940b4800c087c8324eccc1  \n154  29ec69f035940b4800c087c8324eccc1  \n\n[155 rows x 4 columns]",
      "text/html": "<div>\n<style scoped>\n    .dataframe tbody tr th:only-of-type {\n        vertical-align: middle;\n    }\n\n    .dataframe tbody tr th {\n        vertical-align: top;\n    }\n\n    .dataframe thead th {\n        text-align: right;\n    }\n</style>\n<table border=\"1\" class=\"dataframe\">\n  <thead>\n    <tr style=\"text-align: right;\">\n      <th></th>\n      <th>start_time</th>\n      <th>end_time</th>\n      <th>distance</th>\n      <th>ev_id</th>\n    </tr>\n  </thead>\n  <tbody>\n    <tr>\n      <th>0</th>\n      <td>2023-01-01 07:59:00</td>\n      <td>2023-01-01 07:59:00.902561</td>\n      <td>0.015</td>\n      <td>60e6ccdbd1e5c4f9b7ab8c7fe73c1707</td>\n    </tr>\n    <tr>\n      <th>1</th>\n      <td>2023-01-01 18:29:00</td>\n      <td>2023-01-01 18:29:00.904849</td>\n      <td>0.015</td>\n      <td>60e6ccdbd1e5c4f9b7ab8c7fe73c1707</td>\n    </tr>\n    <tr>\n      <th>2</th>\n      <td>2023-01-02 07:59:00</td>\n      <td>2023-01-02 07:59:00.906752</td>\n      <td>0.015</td>\n      <td>60e6ccdbd1e5c4f9b7ab8c7fe73c1707</td>\n    </tr>\n    <tr>\n      <th>3</th>\n      <td>2023-01-02 18:31:00</td>\n      <td>2023-01-02 18:31:00.896636</td>\n      <td>0.015</td>\n      <td>60e6ccdbd1e5c4f9b7ab8c7fe73c1707</td>\n    </tr>\n    <tr>\n      <th>4</th>\n      <td>2023-01-03 08:05:00</td>\n      <td>2023-01-03 08:05:00.903533</td>\n      <td>0.015</td>\n      <td>60e6ccdbd1e5c4f9b7ab8c7fe73c1707</td>\n    </tr>\n    <tr>\n      <th>...</th>\n      <td>...</td>\n      <td>...</td>\n      <td>...</td>\n      <td>...</td>\n    </tr>\n    <tr>\n      <th>150</th>\n      <td>2023-01-05 18:26:00</td>\n      <td>2023-01-05 18:38:50.487938</td>\n      <td>12.985</td>\n      <td>29ec69f035940b4800c087c8324eccc1</td>\n    </tr>\n    <tr>\n      <th>151</th>\n      <td>2023-01-06 05:02:00</td>\n      <td>2023-01-06 05:14:12.453407</td>\n      <td>12.410</td>\n      <td>29ec69f035940b4800c087c8324eccc1</td>\n    </tr>\n    <tr>\n      <th>152</th>\n      <td>2023-01-06 18:27:00</td>\n      <td>2023-01-06 18:39:28.019236</td>\n      <td>12.410</td>\n      <td>29ec69f035940b4800c087c8324eccc1</td>\n    </tr>\n    <tr>\n      <th>153</th>\n      <td>2023-01-07 05:04:00</td>\n      <td>2023-01-07 05:16:04.406880</td>\n      <td>12.185</td>\n      <td>29ec69f035940b4800c087c8324eccc1</td>\n    </tr>\n    <tr>\n      <th>154</th>\n      <td>2023-01-07 18:31:00</td>\n      <td>2023-01-07 18:43:12.707991</td>\n      <td>12.185</td>\n      <td>29ec69f035940b4800c087c8324eccc1</td>\n    </tr>\n  </tbody>\n</table>\n<p>155 rows × 4 columns</p>\n</div>"
     },
     "execution_count": 48,
     "metadata": {},
     "output_type": "execute_result"
    }
   ],
   "source": [
    "# Print the EV driving history\n",
    "\n",
    "aggregator.simulation_dataframes['ev_driving']"
   ],
   "metadata": {
    "collapsed": false,
    "pycharm": {
     "name": "#%%\n"
    }
   }
  },
  {
   "cell_type": "code",
   "execution_count": 49,
   "outputs": [
    {
     "data": {
      "text/plain": "                     60e6ccdbd1e5c4f9b7ab8c7fe73c1707  \\\n2023-01-01 00:00:00                                 0   \n2023-01-01 01:00:00                                 0   \n2023-01-01 02:00:00                                 0   \n2023-01-01 03:00:00                                 0   \n2023-01-01 04:00:00                                 0   \n...                                               ...   \n2023-01-07 19:00:00                                 0   \n2023-01-07 20:00:00                                 0   \n2023-01-07 21:00:00                                 0   \n2023-01-07 22:00:00                                 0   \n2023-01-07 23:00:00                                 0   \n\n                     f609b88f3e96af8fb0dc57c97cf3c64a  \\\n2023-01-01 00:00:00                                 0   \n2023-01-01 01:00:00                                 0   \n2023-01-01 02:00:00                                 0   \n2023-01-01 03:00:00                                 0   \n2023-01-01 04:00:00                                 0   \n...                                               ...   \n2023-01-07 19:00:00                                 1   \n2023-01-07 20:00:00                                 0   \n2023-01-07 21:00:00                                 0   \n2023-01-07 22:00:00                                 0   \n2023-01-07 23:00:00                                 0   \n\n                     73ed7a52159d7182ccdbc3d27bd618dd  \\\n2023-01-01 00:00:00                                 0   \n2023-01-01 01:00:00                                 0   \n2023-01-01 02:00:00                                 0   \n2023-01-01 03:00:00                                 0   \n2023-01-01 04:00:00                                 0   \n...                                               ...   \n2023-01-07 19:00:00                                 0   \n2023-01-07 20:00:00                                 0   \n2023-01-07 21:00:00                                 0   \n2023-01-07 22:00:00                                 0   \n2023-01-07 23:00:00                                 0   \n\n                     324fce82ce405dba34ed2bda2ef5e1b1  \\\n2023-01-01 00:00:00                                 0   \n2023-01-01 01:00:00                                 0   \n2023-01-01 02:00:00                                 0   \n2023-01-01 03:00:00                                 0   \n2023-01-01 04:00:00                                 0   \n...                                               ...   \n2023-01-07 19:00:00                                 0   \n2023-01-07 20:00:00                                 0   \n2023-01-07 21:00:00                                 0   \n2023-01-07 22:00:00                                 0   \n2023-01-07 23:00:00                                 0   \n\n                     c224a4e2c8c84b016c13b8625f7feaeb  \\\n2023-01-01 00:00:00                                 0   \n2023-01-01 01:00:00                                 0   \n2023-01-01 02:00:00                                 0   \n2023-01-01 03:00:00                                 0   \n2023-01-01 04:00:00                                 0   \n...                                               ...   \n2023-01-07 19:00:00                                 1   \n2023-01-07 20:00:00                                 0   \n2023-01-07 21:00:00                                 0   \n2023-01-07 22:00:00                                 0   \n2023-01-07 23:00:00                                 0   \n\n                     109647cfbf344aafe275a11202c75cf8  \\\n2023-01-01 00:00:00                                 0   \n2023-01-01 01:00:00                                 0   \n2023-01-01 02:00:00                                 0   \n2023-01-01 03:00:00                                 0   \n2023-01-01 04:00:00                                 0   \n...                                               ...   \n2023-01-07 19:00:00                                 0   \n2023-01-07 20:00:00                                 0   \n2023-01-07 21:00:00                                 0   \n2023-01-07 22:00:00                                 0   \n2023-01-07 23:00:00                                 0   \n\n                     2e5462a851a28200237dd6193778934b  \\\n2023-01-01 00:00:00                                 0   \n2023-01-01 01:00:00                                 0   \n2023-01-01 02:00:00                                 0   \n2023-01-01 03:00:00                                 0   \n2023-01-01 04:00:00                                 0   \n...                                               ...   \n2023-01-07 19:00:00                                 0   \n2023-01-07 20:00:00                                 0   \n2023-01-07 21:00:00                                 0   \n2023-01-07 22:00:00                                 0   \n2023-01-07 23:00:00                                 0   \n\n                     1a96f639364a8320e86446cb72375da6  \\\n2023-01-01 00:00:00                                 0   \n2023-01-01 01:00:00                                 0   \n2023-01-01 02:00:00                                 0   \n2023-01-01 03:00:00                                 0   \n2023-01-01 04:00:00                                 1   \n...                                               ...   \n2023-01-07 19:00:00                                 0   \n2023-01-07 20:00:00                                 0   \n2023-01-07 21:00:00                                 0   \n2023-01-07 22:00:00                                 0   \n2023-01-07 23:00:00                                 0   \n\n                     fe01331fc0b4317f73fc47feb5e0e0e2  \\\n2023-01-01 00:00:00                                 0   \n2023-01-01 01:00:00                                 0   \n2023-01-01 02:00:00                                 0   \n2023-01-01 03:00:00                                 0   \n2023-01-01 04:00:00                                 0   \n...                                               ...   \n2023-01-07 19:00:00                                 0   \n2023-01-07 20:00:00                                 0   \n2023-01-07 21:00:00                                 0   \n2023-01-07 22:00:00                                 0   \n2023-01-07 23:00:00                                 0   \n\n                     29ec69f035940b4800c087c8324eccc1  \n2023-01-01 00:00:00                                 0  \n2023-01-01 01:00:00                                 0  \n2023-01-01 02:00:00                                 0  \n2023-01-01 03:00:00                                 0  \n2023-01-01 04:00:00                                 1  \n...                                               ...  \n2023-01-07 19:00:00                                 0  \n2023-01-07 20:00:00                                 0  \n2023-01-07 21:00:00                                 0  \n2023-01-07 22:00:00                                 0  \n2023-01-07 23:00:00                                 0  \n\n[168 rows x 10 columns]",
      "text/html": "<div>\n<style scoped>\n    .dataframe tbody tr th:only-of-type {\n        vertical-align: middle;\n    }\n\n    .dataframe tbody tr th {\n        vertical-align: top;\n    }\n\n    .dataframe thead th {\n        text-align: right;\n    }\n</style>\n<table border=\"1\" class=\"dataframe\">\n  <thead>\n    <tr style=\"text-align: right;\">\n      <th></th>\n      <th>60e6ccdbd1e5c4f9b7ab8c7fe73c1707</th>\n      <th>f609b88f3e96af8fb0dc57c97cf3c64a</th>\n      <th>73ed7a52159d7182ccdbc3d27bd618dd</th>\n      <th>324fce82ce405dba34ed2bda2ef5e1b1</th>\n      <th>c224a4e2c8c84b016c13b8625f7feaeb</th>\n      <th>109647cfbf344aafe275a11202c75cf8</th>\n      <th>2e5462a851a28200237dd6193778934b</th>\n      <th>1a96f639364a8320e86446cb72375da6</th>\n      <th>fe01331fc0b4317f73fc47feb5e0e0e2</th>\n      <th>29ec69f035940b4800c087c8324eccc1</th>\n    </tr>\n  </thead>\n  <tbody>\n    <tr>\n      <th>2023-01-01 00:00:00</th>\n      <td>0</td>\n      <td>0</td>\n      <td>0</td>\n      <td>0</td>\n      <td>0</td>\n      <td>0</td>\n      <td>0</td>\n      <td>0</td>\n      <td>0</td>\n      <td>0</td>\n    </tr>\n    <tr>\n      <th>2023-01-01 01:00:00</th>\n      <td>0</td>\n      <td>0</td>\n      <td>0</td>\n      <td>0</td>\n      <td>0</td>\n      <td>0</td>\n      <td>0</td>\n      <td>0</td>\n      <td>0</td>\n      <td>0</td>\n    </tr>\n    <tr>\n      <th>2023-01-01 02:00:00</th>\n      <td>0</td>\n      <td>0</td>\n      <td>0</td>\n      <td>0</td>\n      <td>0</td>\n      <td>0</td>\n      <td>0</td>\n      <td>0</td>\n      <td>0</td>\n      <td>0</td>\n    </tr>\n    <tr>\n      <th>2023-01-01 03:00:00</th>\n      <td>0</td>\n      <td>0</td>\n      <td>0</td>\n      <td>0</td>\n      <td>0</td>\n      <td>0</td>\n      <td>0</td>\n      <td>0</td>\n      <td>0</td>\n      <td>0</td>\n    </tr>\n    <tr>\n      <th>2023-01-01 04:00:00</th>\n      <td>0</td>\n      <td>0</td>\n      <td>0</td>\n      <td>0</td>\n      <td>0</td>\n      <td>0</td>\n      <td>0</td>\n      <td>1</td>\n      <td>0</td>\n      <td>1</td>\n    </tr>\n    <tr>\n      <th>...</th>\n      <td>...</td>\n      <td>...</td>\n      <td>...</td>\n      <td>...</td>\n      <td>...</td>\n      <td>...</td>\n      <td>...</td>\n      <td>...</td>\n      <td>...</td>\n      <td>...</td>\n    </tr>\n    <tr>\n      <th>2023-01-07 19:00:00</th>\n      <td>0</td>\n      <td>1</td>\n      <td>0</td>\n      <td>0</td>\n      <td>1</td>\n      <td>0</td>\n      <td>0</td>\n      <td>0</td>\n      <td>0</td>\n      <td>0</td>\n    </tr>\n    <tr>\n      <th>2023-01-07 20:00:00</th>\n      <td>0</td>\n      <td>0</td>\n      <td>0</td>\n      <td>0</td>\n      <td>0</td>\n      <td>0</td>\n      <td>0</td>\n      <td>0</td>\n      <td>0</td>\n      <td>0</td>\n    </tr>\n    <tr>\n      <th>2023-01-07 21:00:00</th>\n      <td>0</td>\n      <td>0</td>\n      <td>0</td>\n      <td>0</td>\n      <td>0</td>\n      <td>0</td>\n      <td>0</td>\n      <td>0</td>\n      <td>0</td>\n      <td>0</td>\n    </tr>\n    <tr>\n      <th>2023-01-07 22:00:00</th>\n      <td>0</td>\n      <td>0</td>\n      <td>0</td>\n      <td>0</td>\n      <td>0</td>\n      <td>0</td>\n      <td>0</td>\n      <td>0</td>\n      <td>0</td>\n      <td>0</td>\n    </tr>\n    <tr>\n      <th>2023-01-07 23:00:00</th>\n      <td>0</td>\n      <td>0</td>\n      <td>0</td>\n      <td>0</td>\n      <td>0</td>\n      <td>0</td>\n      <td>0</td>\n      <td>0</td>\n      <td>0</td>\n      <td>0</td>\n    </tr>\n  </tbody>\n</table>\n<p>168 rows × 10 columns</p>\n</div>"
     },
     "execution_count": 49,
     "metadata": {},
     "output_type": "execute_result"
    }
   ],
   "source": [
    "# Print the EV driving timeseries\n",
    "\n",
    "aggregator.simulation_dataframes['ev_driving_history'].transpose()"
   ],
   "metadata": {
    "collapsed": false,
    "pycharm": {
     "name": "#%%\n"
    }
   }
  },
  {
   "cell_type": "code",
   "execution_count": 50,
   "outputs": [
    {
     "data": {
      "text/plain": "<Figure size 720x720 with 1 Axes>",
      "image/png": "[encoded data removed]"
     },
     "metadata": {},
     "output_type": "display_data"
    }
   ],
   "source": [
    "# Plot the population brand in a pie chart\n",
    "\n",
    "# Values of each group\n",
    "plt.figure(figsize=(10, 10))\n",
    "\n",
    "brand_values = aggregator.simulation_dataframes['population']['brand'].value_counts()\n",
    "plt.pie(brand_values, labels=brand_values.index, autopct='%1.1f%%')\n",
    "\n",
    "# View the plot\n",
    "plt.axis('equal')\n",
    "plt.show()"
   ],
   "metadata": {
    "collapsed": false,
    "pycharm": {
     "name": "#%%\n"
    }
   }
  },
  {
   "cell_type": "code",
   "execution_count": 51,
   "outputs": [
    {
     "data": {
      "text/plain": "<Figure size 1152x576 with 1 Axes>",
      "image/png": "[encoded data removed]"
     },
     "metadata": {
      "needs_background": "light"
     },
     "output_type": "display_data"
    }
   ],
   "source": [
    "# Plot the trip distances in a histogram\n",
    "\n",
    "plt.figure(figsize=(16, 8))\n",
    "\n",
    "plt.hist(aggregator.simulation_dataframes['assigned_trips']['trip_length'], bins=40)\n",
    "plt.show()"
   ],
   "metadata": {
    "collapsed": false,
    "pycharm": {
     "name": "#%%\n"
    }
   }
  },
  {
   "cell_type": "code",
   "execution_count": 52,
   "outputs": [
    {
     "data": {
      "text/plain": "<Figure size 1152x576 with 1 Axes>",
      "image/png": "[encoded data removed]"
     },
     "metadata": {
      "needs_background": "light"
     },
     "output_type": "display_data"
    }
   ],
   "source": [
    "# Plot the segment distances in a histogram\n",
    "\n",
    "plt.figure(figsize=(16, 8))\n",
    "\n",
    "plt.hist(aggregator.simulation_dataframes['assigned_segments']['trip_length'], bins=20)\n",
    "plt.show()"
   ],
   "metadata": {
    "collapsed": false,
    "pycharm": {
     "name": "#%%\n"
    }
   }
  },
  {
   "cell_type": "code",
   "execution_count": 53,
   "outputs": [
    {
     "data": {
      "text/plain": "38.376"
     },
     "execution_count": 53,
     "metadata": {},
     "output_type": "execute_result"
    }
   ],
   "source": [
    "aggregator.simulation_dataframes['assigned_trips']['trip_length'].mean()"
   ],
   "metadata": {
    "collapsed": false,
    "pycharm": {
     "name": "#%%\n"
    }
   }
  },
  {
   "cell_type": "code",
   "execution_count": 54,
   "outputs": [
    {
     "data": {
      "text/plain": "                   start_time                   end_time  start_soc   end_soc  \\\n0  2023-01-01 18:29:00.904849 2023-01-01 19:22:01.830775   0.889891  0.988989   \n1  2023-01-02 18:31:00.896636 2023-01-02 18:36:22.137377   0.988880  0.998888   \n2  2023-01-03 18:25:00.909281 2023-01-03 18:25:36.181503   0.998779  0.999878   \n3  2023-01-04 18:28:00.888419 2023-01-04 18:28:07.563789   0.999769  0.999977   \n4  2023-01-05 18:35:00.900878 2023-01-05 18:35:04.716563   0.999868  0.999987   \n..                        ...                        ...        ...       ...   \n78 2023-01-02 18:39:21.893260 2023-01-02 20:24:43.115482   0.578585  0.957859   \n79 2023-01-03 18:46:55.634849 2023-01-03 20:33:14.423738   0.574747  0.957475   \n80 2023-01-04 18:38:27.293186 2023-01-04 20:22:25.172075   0.584141  0.958414   \n81 2023-01-05 18:38:50.487938 2023-01-05 20:25:25.386938   0.573673  0.957367   \n82 2023-01-06 18:39:28.019236 2023-01-06 20:22:03.064692   0.589664  0.958966   \n\n                               ev_id               station_type  station_power  \n0   60e6ccdbd1e5c4f9b7ab8c7fe73c1707  Residential Slow (7.2 kW)            7.2  \n1   60e6ccdbd1e5c4f9b7ab8c7fe73c1707  Residential Slow (7.2 kW)            7.2  \n2   60e6ccdbd1e5c4f9b7ab8c7fe73c1707  Residential Slow (7.2 kW)            7.2  \n3   60e6ccdbd1e5c4f9b7ab8c7fe73c1707  Residential Slow (7.2 kW)            7.2  \n4   60e6ccdbd1e5c4f9b7ab8c7fe73c1707  Residential Slow (7.2 kW)            7.2  \n..                               ...                        ...            ...  \n78  29ec69f035940b4800c087c8324eccc1  Residential Slow (3.6 kW)            3.6  \n79  29ec69f035940b4800c087c8324eccc1  Residential Slow (3.6 kW)            3.6  \n80  29ec69f035940b4800c087c8324eccc1  Residential Slow (3.6 kW)            3.6  \n81  29ec69f035940b4800c087c8324eccc1  Residential Slow (3.6 kW)            3.6  \n82  29ec69f035940b4800c087c8324eccc1  Residential Slow (3.6 kW)            3.6  \n\n[83 rows x 7 columns]",
      "text/html": "<div>\n<style scoped>\n    .dataframe tbody tr th:only-of-type {\n        vertical-align: middle;\n    }\n\n    .dataframe tbody tr th {\n        vertical-align: top;\n    }\n\n    .dataframe thead th {\n        text-align: right;\n    }\n</style>\n<table border=\"1\" class=\"dataframe\">\n  <thead>\n    <tr style=\"text-align: right;\">\n      <th></th>\n      <th>start_time</th>\n      <th>end_time</th>\n      <th>start_soc</th>\n      <th>end_soc</th>\n      <th>ev_id</th>\n      <th>station_type</th>\n      <th>station_power</th>\n    </tr>\n  </thead>\n  <tbody>\n    <tr>\n      <th>0</th>\n      <td>2023-01-01 18:29:00.904849</td>\n      <td>2023-01-01 19:22:01.830775</td>\n      <td>0.889891</td>\n      <td>0.988989</td>\n      <td>60e6ccdbd1e5c4f9b7ab8c7fe73c1707</td>\n      <td>Residential Slow (7.2 kW)</td>\n      <td>7.2</td>\n    </tr>\n    <tr>\n      <th>1</th>\n      <td>2023-01-02 18:31:00.896636</td>\n      <td>2023-01-02 18:36:22.137377</td>\n      <td>0.988880</td>\n      <td>0.998888</td>\n      <td>60e6ccdbd1e5c4f9b7ab8c7fe73c1707</td>\n      <td>Residential Slow (7.2 kW)</td>\n      <td>7.2</td>\n    </tr>\n    <tr>\n      <th>2</th>\n      <td>2023-01-03 18:25:00.909281</td>\n      <td>2023-01-03 18:25:36.181503</td>\n      <td>0.998779</td>\n      <td>0.999878</td>\n      <td>60e6ccdbd1e5c4f9b7ab8c7fe73c1707</td>\n      <td>Residential Slow (7.2 kW)</td>\n      <td>7.2</td>\n    </tr>\n    <tr>\n      <th>3</th>\n      <td>2023-01-04 18:28:00.888419</td>\n      <td>2023-01-04 18:28:07.563789</td>\n      <td>0.999769</td>\n      <td>0.999977</td>\n      <td>60e6ccdbd1e5c4f9b7ab8c7fe73c1707</td>\n      <td>Residential Slow (7.2 kW)</td>\n      <td>7.2</td>\n    </tr>\n    <tr>\n      <th>4</th>\n      <td>2023-01-05 18:35:00.900878</td>\n      <td>2023-01-05 18:35:04.716563</td>\n      <td>0.999868</td>\n      <td>0.999987</td>\n      <td>60e6ccdbd1e5c4f9b7ab8c7fe73c1707</td>\n      <td>Residential Slow (7.2 kW)</td>\n      <td>7.2</td>\n    </tr>\n    <tr>\n      <th>...</th>\n      <td>...</td>\n      <td>...</td>\n      <td>...</td>\n      <td>...</td>\n      <td>...</td>\n      <td>...</td>\n      <td>...</td>\n    </tr>\n    <tr>\n      <th>78</th>\n      <td>2023-01-02 18:39:21.893260</td>\n      <td>2023-01-02 20:24:43.115482</td>\n      <td>0.578585</td>\n      <td>0.957859</td>\n      <td>29ec69f035940b4800c087c8324eccc1</td>\n      <td>Residential Slow (3.6 kW)</td>\n      <td>3.6</td>\n    </tr>\n    <tr>\n      <th>79</th>\n      <td>2023-01-03 18:46:55.634849</td>\n      <td>2023-01-03 20:33:14.423738</td>\n      <td>0.574747</td>\n      <td>0.957475</td>\n      <td>29ec69f035940b4800c087c8324eccc1</td>\n      <td>Residential Slow (3.6 kW)</td>\n      <td>3.6</td>\n    </tr>\n    <tr>\n      <th>80</th>\n      <td>2023-01-04 18:38:27.293186</td>\n      <td>2023-01-04 20:22:25.172075</td>\n      <td>0.584141</td>\n      <td>0.958414</td>\n      <td>29ec69f035940b4800c087c8324eccc1</td>\n      <td>Residential Slow (3.6 kW)</td>\n      <td>3.6</td>\n    </tr>\n    <tr>\n      <th>81</th>\n      <td>2023-01-05 18:38:50.487938</td>\n      <td>2023-01-05 20:25:25.386938</td>\n      <td>0.573673</td>\n      <td>0.957367</td>\n      <td>29ec69f035940b4800c087c8324eccc1</td>\n      <td>Residential Slow (3.6 kW)</td>\n      <td>3.6</td>\n    </tr>\n    <tr>\n      <th>82</th>\n      <td>2023-01-06 18:39:28.019236</td>\n      <td>2023-01-06 20:22:03.064692</td>\n      <td>0.589664</td>\n      <td>0.958966</td>\n      <td>29ec69f035940b4800c087c8324eccc1</td>\n      <td>Residential Slow (3.6 kW)</td>\n      <td>3.6</td>\n    </tr>\n  </tbody>\n</table>\n<p>83 rows × 7 columns</p>\n</div>"
     },
     "execution_count": 54,
     "metadata": {},
     "output_type": "execute_result"
    }
   ],
   "source": [
    "# EV charging history\n",
    "\n",
    "aggregator.simulation_dataframes['cs_history']"
   ],
   "metadata": {
    "collapsed": false,
    "pycharm": {
     "name": "#%%\n"
    }
   }
  },
  {
   "cell_type": "code",
   "execution_count": 55,
   "outputs": [
    {
     "data": {
      "text/plain": "2023-01-01 00:00:00    0\n2023-01-01 01:00:00    0\n2023-01-01 02:00:00    0\n2023-01-01 03:00:00    0\n2023-01-01 04:00:00    0\n                      ..\n2023-01-07 19:00:00    1\n2023-01-07 20:00:00    0\n2023-01-07 21:00:00    0\n2023-01-07 22:00:00    0\n2023-01-07 23:00:00    0\nFreq: H, Length: 168, dtype: int64"
     },
     "execution_count": 55,
     "metadata": {},
     "output_type": "execute_result"
    }
   ],
   "source": [
    "np.sum(aggregator.simulation_dataframes['ev_charging_history'] > 0)"
   ],
   "metadata": {
    "collapsed": false,
    "pycharm": {
     "name": "#%%\n"
    }
   }
  },
  {
   "cell_type": "code",
   "execution_count": 56,
   "outputs": [
    {
     "data": {
      "text/plain": "<Figure size 1440x720 with 1 Axes>",
      "image/png": "[encoded data removed]"
     },
     "metadata": {
      "needs_background": "light"
     },
     "output_type": "display_data"
    }
   ],
   "source": [
    "\n",
    "# Pick a Day. If None, every day is plotted\n",
    "\n",
    "DAY = None\n",
    "\n",
    "# Create a figure\n",
    "fig = plt.figure(figsize=(20, 10))\n",
    "\n",
    "# Plot the data\n",
    "if DAY is not None:\n",
    "    plt.plot(np.sum(aggregator.simulation_dataframes['ev_charging_history'].transpose().loc[DAY].transpose() > 0, axis=0).ravel())\n",
    "else:\n",
    "    for i in range(1, aggregator.simulation_cycles + 1):\n",
    "        plt.plot(np.sum(aggregator.simulation_dataframes['ev_charging_history'].transpose().loc['2023-01-{:02d}'.format(i)].transpose() > 0, axis=0).ravel())\n",
    "\n",
    "# Set the title\n",
    "plt.title('Charging Station Usage')\n",
    "\n",
    "# Set the x-axis label\n",
    "plt.xlabel('Hour')\n",
    "\n",
    "# Set the y-axis label\n",
    "plt.ylabel('Number of EVs')\n",
    "\n",
    "# Set the legend\n",
    "if DAY is not None:\n",
    "    plt.legend(['Day {}'.format(DAY)])\n",
    "else:\n",
    "    plt.legend(['Day {}'.format(i) for i in range(1, len(aggregator.simulation_dataframes) + 1)])\n",
    "\n",
    "plt.show()"
   ],
   "metadata": {
    "collapsed": false,
    "pycharm": {
     "name": "#%%\n"
    }
   }
  },
  {
   "cell_type": "code",
   "execution_count": 57,
   "outputs": [
    {
     "data": {
      "text/plain": "                                  2023-01-01 00:00:00  2023-01-01 01:00:00  \\\n60e6ccdbd1e5c4f9b7ab8c7fe73c1707                    0                    0   \nf609b88f3e96af8fb0dc57c97cf3c64a                    0                    0   \n73ed7a52159d7182ccdbc3d27bd618dd                    0                    0   \n324fce82ce405dba34ed2bda2ef5e1b1                    0                    0   \nc224a4e2c8c84b016c13b8625f7feaeb                    0                    0   \n109647cfbf344aafe275a11202c75cf8                    0                    0   \n2e5462a851a28200237dd6193778934b                    0                    0   \n1a96f639364a8320e86446cb72375da6                    0                    0   \nfe01331fc0b4317f73fc47feb5e0e0e2                    0                    0   \n29ec69f035940b4800c087c8324eccc1                    0                    0   \n\n                                  2023-01-01 02:00:00  2023-01-01 03:00:00  \\\n60e6ccdbd1e5c4f9b7ab8c7fe73c1707                    0                    0   \nf609b88f3e96af8fb0dc57c97cf3c64a                    0                    0   \n73ed7a52159d7182ccdbc3d27bd618dd                    0                    0   \n324fce82ce405dba34ed2bda2ef5e1b1                    0                    0   \nc224a4e2c8c84b016c13b8625f7feaeb                    0                    0   \n109647cfbf344aafe275a11202c75cf8                    0                    0   \n2e5462a851a28200237dd6193778934b                    0                    0   \n1a96f639364a8320e86446cb72375da6                    0                    0   \nfe01331fc0b4317f73fc47feb5e0e0e2                    0                    0   \n29ec69f035940b4800c087c8324eccc1                    0                    0   \n\n                                  2023-01-01 04:00:00  2023-01-01 05:00:00  \\\n60e6ccdbd1e5c4f9b7ab8c7fe73c1707                    0                    0   \nf609b88f3e96af8fb0dc57c97cf3c64a                    0                    0   \n73ed7a52159d7182ccdbc3d27bd618dd                    0                    0   \n324fce82ce405dba34ed2bda2ef5e1b1                    0                    0   \nc224a4e2c8c84b016c13b8625f7feaeb                    0                    0   \n109647cfbf344aafe275a11202c75cf8                    0                    0   \n2e5462a851a28200237dd6193778934b                    0                    0   \n1a96f639364a8320e86446cb72375da6                    0                    0   \nfe01331fc0b4317f73fc47feb5e0e0e2                    0                    0   \n29ec69f035940b4800c087c8324eccc1                    0                    0   \n\n                                  2023-01-01 06:00:00  2023-01-01 07:00:00  \\\n60e6ccdbd1e5c4f9b7ab8c7fe73c1707                    0                    0   \nf609b88f3e96af8fb0dc57c97cf3c64a                    0                    0   \n73ed7a52159d7182ccdbc3d27bd618dd                    0                    0   \n324fce82ce405dba34ed2bda2ef5e1b1                    0                    0   \nc224a4e2c8c84b016c13b8625f7feaeb                    0                    0   \n109647cfbf344aafe275a11202c75cf8                    0                    0   \n2e5462a851a28200237dd6193778934b                    0                    0   \n1a96f639364a8320e86446cb72375da6                    0                    0   \nfe01331fc0b4317f73fc47feb5e0e0e2                    0                    0   \n29ec69f035940b4800c087c8324eccc1                    0                    0   \n\n                                        2023-01-01 08:00:00  \\\n60e6ccdbd1e5c4f9b7ab8c7fe73c1707                          0   \nf609b88f3e96af8fb0dc57c97cf3c64a                          0   \n73ed7a52159d7182ccdbc3d27bd618dd                          0   \n324fce82ce405dba34ed2bda2ef5e1b1  Private Semi-fast (22 kW)   \nc224a4e2c8c84b016c13b8625f7feaeb                          0   \n109647cfbf344aafe275a11202c75cf8                          0   \n2e5462a851a28200237dd6193778934b                          0   \n1a96f639364a8320e86446cb72375da6                          0   \nfe01331fc0b4317f73fc47feb5e0e0e2                          0   \n29ec69f035940b4800c087c8324eccc1                          0   \n\n                                  2023-01-01 09:00:00  ...  \\\n60e6ccdbd1e5c4f9b7ab8c7fe73c1707                    0  ...   \nf609b88f3e96af8fb0dc57c97cf3c64a                    0  ...   \n73ed7a52159d7182ccdbc3d27bd618dd                    0  ...   \n324fce82ce405dba34ed2bda2ef5e1b1                    0  ...   \nc224a4e2c8c84b016c13b8625f7feaeb                    0  ...   \n109647cfbf344aafe275a11202c75cf8                    0  ...   \n2e5462a851a28200237dd6193778934b                    0  ...   \n1a96f639364a8320e86446cb72375da6                    0  ...   \nfe01331fc0b4317f73fc47feb5e0e0e2                    0  ...   \n29ec69f035940b4800c087c8324eccc1                    0  ...   \n\n                                  2023-01-07 14:00:00  2023-01-07 15:00:00  \\\n60e6ccdbd1e5c4f9b7ab8c7fe73c1707                    0                    0   \nf609b88f3e96af8fb0dc57c97cf3c64a                    0                    0   \n73ed7a52159d7182ccdbc3d27bd618dd                    0                    0   \n324fce82ce405dba34ed2bda2ef5e1b1                    0                    0   \nc224a4e2c8c84b016c13b8625f7feaeb                    0                    0   \n109647cfbf344aafe275a11202c75cf8                    0                    0   \n2e5462a851a28200237dd6193778934b                    0                    0   \n1a96f639364a8320e86446cb72375da6                    0                    0   \nfe01331fc0b4317f73fc47feb5e0e0e2                    0                    0   \n29ec69f035940b4800c087c8324eccc1                    0                    0   \n\n                                  2023-01-07 16:00:00 2023-01-07 17:00:00  \\\n60e6ccdbd1e5c4f9b7ab8c7fe73c1707                    0                   0   \nf609b88f3e96af8fb0dc57c97cf3c64a                    0                   0   \n73ed7a52159d7182ccdbc3d27bd618dd                    0                   0   \n324fce82ce405dba34ed2bda2ef5e1b1                    0                   0   \nc224a4e2c8c84b016c13b8625f7feaeb                    0                   0   \n109647cfbf344aafe275a11202c75cf8                    0                   0   \n2e5462a851a28200237dd6193778934b                    0                   0   \n1a96f639364a8320e86446cb72375da6                    0                   0   \nfe01331fc0b4317f73fc47feb5e0e0e2                    0                   0   \n29ec69f035940b4800c087c8324eccc1                    0                   0   \n\n                                  2023-01-07 18:00:00  2023-01-07 19:00:00  \\\n60e6ccdbd1e5c4f9b7ab8c7fe73c1707                    0                    0   \nf609b88f3e96af8fb0dc57c97cf3c64a                    0                    0   \n73ed7a52159d7182ccdbc3d27bd618dd                    0                    0   \n324fce82ce405dba34ed2bda2ef5e1b1                    0                    0   \nc224a4e2c8c84b016c13b8625f7feaeb  Public Fast (50 kW)  Public Fast (50 kW)   \n109647cfbf344aafe275a11202c75cf8                    0                    0   \n2e5462a851a28200237dd6193778934b                    0                    0   \n1a96f639364a8320e86446cb72375da6                    0                    0   \nfe01331fc0b4317f73fc47feb5e0e0e2                    0                    0   \n29ec69f035940b4800c087c8324eccc1                    0                    0   \n\n                                  2023-01-07 20:00:00  2023-01-07 21:00:00  \\\n60e6ccdbd1e5c4f9b7ab8c7fe73c1707                    0                    0   \nf609b88f3e96af8fb0dc57c97cf3c64a                    0                    0   \n73ed7a52159d7182ccdbc3d27bd618dd                    0                    0   \n324fce82ce405dba34ed2bda2ef5e1b1                    0                    0   \nc224a4e2c8c84b016c13b8625f7feaeb                    0                    0   \n109647cfbf344aafe275a11202c75cf8                    0                    0   \n2e5462a851a28200237dd6193778934b                    0                    0   \n1a96f639364a8320e86446cb72375da6                    0                    0   \nfe01331fc0b4317f73fc47feb5e0e0e2                    0                    0   \n29ec69f035940b4800c087c8324eccc1                    0                    0   \n\n                                 2023-01-07 22:00:00 2023-01-07 23:00:00  \n60e6ccdbd1e5c4f9b7ab8c7fe73c1707                   0                   0  \nf609b88f3e96af8fb0dc57c97cf3c64a                   0                   0  \n73ed7a52159d7182ccdbc3d27bd618dd                   0                   0  \n324fce82ce405dba34ed2bda2ef5e1b1                   0                   0  \nc224a4e2c8c84b016c13b8625f7feaeb                   0                   0  \n109647cfbf344aafe275a11202c75cf8                   0                   0  \n2e5462a851a28200237dd6193778934b                   0                   0  \n1a96f639364a8320e86446cb72375da6                   0                   0  \nfe01331fc0b4317f73fc47feb5e0e0e2                   0                   0  \n29ec69f035940b4800c087c8324eccc1                   0                   0  \n\n[10 rows x 168 columns]",
      "text/html": "<div>\n<style scoped>\n    .dataframe tbody tr th:only-of-type {\n        vertical-align: middle;\n    }\n\n    .dataframe tbody tr th {\n        vertical-align: top;\n    }\n\n    .dataframe thead th {\n        text-align: right;\n    }\n</style>\n<table border=\"1\" class=\"dataframe\">\n  <thead>\n    <tr style=\"text-align: right;\">\n      <th></th>\n      <th>2023-01-01 00:00:00</th>\n      <th>2023-01-01 01:00:00</th>\n      <th>2023-01-01 02:00:00</th>\n      <th>2023-01-01 03:00:00</th>\n      <th>2023-01-01 04:00:00</th>\n      <th>2023-01-01 05:00:00</th>\n      <th>2023-01-01 06:00:00</th>\n      <th>2023-01-01 07:00:00</th>\n      <th>2023-01-01 08:00:00</th>\n      <th>2023-01-01 09:00:00</th>\n      <th>...</th>\n      <th>2023-01-07 14:00:00</th>\n      <th>2023-01-07 15:00:00</th>\n      <th>2023-01-07 16:00:00</th>\n      <th>2023-01-07 17:00:00</th>\n      <th>2023-01-07 18:00:00</th>\n      <th>2023-01-07 19:00:00</th>\n      <th>2023-01-07 20:00:00</th>\n      <th>2023-01-07 21:00:00</th>\n      <th>2023-01-07 22:00:00</th>\n      <th>2023-01-07 23:00:00</th>\n    </tr>\n  </thead>\n  <tbody>\n    <tr>\n      <th>60e6ccdbd1e5c4f9b7ab8c7fe73c1707</th>\n      <td>0</td>\n      <td>0</td>\n      <td>0</td>\n      <td>0</td>\n      <td>0</td>\n      <td>0</td>\n      <td>0</td>\n      <td>0</td>\n      <td>0</td>\n      <td>0</td>\n      <td>...</td>\n      <td>0</td>\n      <td>0</td>\n      <td>0</td>\n      <td>0</td>\n      <td>0</td>\n      <td>0</td>\n      <td>0</td>\n      <td>0</td>\n      <td>0</td>\n      <td>0</td>\n    </tr>\n    <tr>\n      <th>f609b88f3e96af8fb0dc57c97cf3c64a</th>\n      <td>0</td>\n      <td>0</td>\n      <td>0</td>\n      <td>0</td>\n      <td>0</td>\n      <td>0</td>\n      <td>0</td>\n      <td>0</td>\n      <td>0</td>\n      <td>0</td>\n      <td>...</td>\n      <td>0</td>\n      <td>0</td>\n      <td>0</td>\n      <td>0</td>\n      <td>0</td>\n      <td>0</td>\n      <td>0</td>\n      <td>0</td>\n      <td>0</td>\n      <td>0</td>\n    </tr>\n    <tr>\n      <th>73ed7a52159d7182ccdbc3d27bd618dd</th>\n      <td>0</td>\n      <td>0</td>\n      <td>0</td>\n      <td>0</td>\n      <td>0</td>\n      <td>0</td>\n      <td>0</td>\n      <td>0</td>\n      <td>0</td>\n      <td>0</td>\n      <td>...</td>\n      <td>0</td>\n      <td>0</td>\n      <td>0</td>\n      <td>0</td>\n      <td>0</td>\n      <td>0</td>\n      <td>0</td>\n      <td>0</td>\n      <td>0</td>\n      <td>0</td>\n    </tr>\n    <tr>\n      <th>324fce82ce405dba34ed2bda2ef5e1b1</th>\n      <td>0</td>\n      <td>0</td>\n      <td>0</td>\n      <td>0</td>\n      <td>0</td>\n      <td>0</td>\n      <td>0</td>\n      <td>0</td>\n      <td>Private Semi-fast (22 kW)</td>\n      <td>0</td>\n      <td>...</td>\n      <td>0</td>\n      <td>0</td>\n      <td>0</td>\n      <td>0</td>\n      <td>0</td>\n      <td>0</td>\n      <td>0</td>\n      <td>0</td>\n      <td>0</td>\n      <td>0</td>\n    </tr>\n    <tr>\n      <th>c224a4e2c8c84b016c13b8625f7feaeb</th>\n      <td>0</td>\n      <td>0</td>\n      <td>0</td>\n      <td>0</td>\n      <td>0</td>\n      <td>0</td>\n      <td>0</td>\n      <td>0</td>\n      <td>0</td>\n      <td>0</td>\n      <td>...</td>\n      <td>0</td>\n      <td>0</td>\n      <td>0</td>\n      <td>0</td>\n      <td>Public Fast (50 kW)</td>\n      <td>Public Fast (50 kW)</td>\n      <td>0</td>\n      <td>0</td>\n      <td>0</td>\n      <td>0</td>\n    </tr>\n    <tr>\n      <th>109647cfbf344aafe275a11202c75cf8</th>\n      <td>0</td>\n      <td>0</td>\n      <td>0</td>\n      <td>0</td>\n      <td>0</td>\n      <td>0</td>\n      <td>0</td>\n      <td>0</td>\n      <td>0</td>\n      <td>0</td>\n      <td>...</td>\n      <td>0</td>\n      <td>0</td>\n      <td>0</td>\n      <td>0</td>\n      <td>0</td>\n      <td>0</td>\n      <td>0</td>\n      <td>0</td>\n      <td>0</td>\n      <td>0</td>\n    </tr>\n    <tr>\n      <th>2e5462a851a28200237dd6193778934b</th>\n      <td>0</td>\n      <td>0</td>\n      <td>0</td>\n      <td>0</td>\n      <td>0</td>\n      <td>0</td>\n      <td>0</td>\n      <td>0</td>\n      <td>0</td>\n      <td>0</td>\n      <td>...</td>\n      <td>0</td>\n      <td>0</td>\n      <td>0</td>\n      <td>0</td>\n      <td>0</td>\n      <td>0</td>\n      <td>0</td>\n      <td>0</td>\n      <td>0</td>\n      <td>0</td>\n    </tr>\n    <tr>\n      <th>1a96f639364a8320e86446cb72375da6</th>\n      <td>0</td>\n      <td>0</td>\n      <td>0</td>\n      <td>0</td>\n      <td>0</td>\n      <td>0</td>\n      <td>0</td>\n      <td>0</td>\n      <td>0</td>\n      <td>0</td>\n      <td>...</td>\n      <td>0</td>\n      <td>0</td>\n      <td>0</td>\n      <td>0</td>\n      <td>0</td>\n      <td>0</td>\n      <td>0</td>\n      <td>0</td>\n      <td>0</td>\n      <td>0</td>\n    </tr>\n    <tr>\n      <th>fe01331fc0b4317f73fc47feb5e0e0e2</th>\n      <td>0</td>\n      <td>0</td>\n      <td>0</td>\n      <td>0</td>\n      <td>0</td>\n      <td>0</td>\n      <td>0</td>\n      <td>0</td>\n      <td>0</td>\n      <td>0</td>\n      <td>...</td>\n      <td>0</td>\n      <td>0</td>\n      <td>0</td>\n      <td>0</td>\n      <td>0</td>\n      <td>0</td>\n      <td>0</td>\n      <td>0</td>\n      <td>0</td>\n      <td>0</td>\n    </tr>\n    <tr>\n      <th>29ec69f035940b4800c087c8324eccc1</th>\n      <td>0</td>\n      <td>0</td>\n      <td>0</td>\n      <td>0</td>\n      <td>0</td>\n      <td>0</td>\n      <td>0</td>\n      <td>0</td>\n      <td>0</td>\n      <td>0</td>\n      <td>...</td>\n      <td>0</td>\n      <td>0</td>\n      <td>0</td>\n      <td>0</td>\n      <td>0</td>\n      <td>0</td>\n      <td>0</td>\n      <td>0</td>\n      <td>0</td>\n      <td>0</td>\n    </tr>\n  </tbody>\n</table>\n<p>10 rows × 168 columns</p>\n</div>"
     },
     "execution_count": 57,
     "metadata": {},
     "output_type": "execute_result"
    }
   ],
   "source": [
    "aggregator.simulation_dataframes['ev_charging_type']"
   ],
   "metadata": {
    "collapsed": false,
    "pycharm": {
     "name": "#%%\n"
    }
   }
  },
  {
   "cell_type": "code",
   "execution_count": 58,
   "outputs": [
    {
     "data": {
      "text/plain": "<Figure size 1440x720 with 1 Axes>",
      "image/png": "[encoded data removed]"
     },
     "metadata": {
      "needs_background": "light"
     },
     "output_type": "display_data"
    }
   ],
   "source": [
    "# Plot a stacked bar chart of the ev_charging_history_type_hourly DataFrame\n",
    "\n",
    "DAY = 2\n",
    "\n",
    "# Get the value counts of each charging type at each hour\n",
    "ev_charging_history_type_hourly_value_counts = aggregator.simulation_dataframes['ev_charging_type'].transpose().loc['2023-01-{:02d}'.format(DAY)].transpose().apply(pd.value_counts, axis=0)\n",
    "ev_charging_history_type_hourly_value_counts.drop(0, inplace=True)\n",
    "ev_charging_history_type_hourly_value_counts = ev_charging_history_type_hourly_value_counts.fillna(0)\n",
    "\n",
    "# Plot the data\n",
    "ev_charging_history_type_hourly_value_counts.transpose().plot(kind='bar', stacked=True, figsize=(20, 10))\n",
    "\n",
    "# Set the title\n",
    "plt.title('Charging Station Usage - Day {}'.format(DAY))\n",
    "\n",
    "# Set the x-axis label\n",
    "plt.xlabel('Hour')\n",
    "\n",
    "# Set the y-axis label\n",
    "plt.ylabel('Number of EVs')\n",
    "\n",
    "plt.show()"
   ],
   "metadata": {
    "collapsed": false,
    "pycharm": {
     "name": "#%%\n"
    }
   }
  },
  {
   "cell_type": "code",
   "execution_count": 59,
   "outputs": [
    {
     "data": {
      "text/plain": "                                  2023-01-01 00:00:00  2023-01-01 01:00:00  \\\n60e6ccdbd1e5c4f9b7ab8c7fe73c1707                    0                    0   \nf609b88f3e96af8fb0dc57c97cf3c64a                    0                    0   \n73ed7a52159d7182ccdbc3d27bd618dd                    0                    0   \n324fce82ce405dba34ed2bda2ef5e1b1                    0                    0   \nc224a4e2c8c84b016c13b8625f7feaeb                    0                    0   \n109647cfbf344aafe275a11202c75cf8                    0                    0   \n2e5462a851a28200237dd6193778934b                    0                    0   \n1a96f639364a8320e86446cb72375da6                    0                    0   \nfe01331fc0b4317f73fc47feb5e0e0e2                    0                    0   \n29ec69f035940b4800c087c8324eccc1                    0                    0   \n\n                                  2023-01-01 02:00:00  2023-01-01 03:00:00  \\\n60e6ccdbd1e5c4f9b7ab8c7fe73c1707                    0                    0   \nf609b88f3e96af8fb0dc57c97cf3c64a                    0                    0   \n73ed7a52159d7182ccdbc3d27bd618dd                    0                    0   \n324fce82ce405dba34ed2bda2ef5e1b1                    0                    0   \nc224a4e2c8c84b016c13b8625f7feaeb                    0                    0   \n109647cfbf344aafe275a11202c75cf8                    0                    0   \n2e5462a851a28200237dd6193778934b                    0                    0   \n1a96f639364a8320e86446cb72375da6                    0                    0   \nfe01331fc0b4317f73fc47feb5e0e0e2                    0                    0   \n29ec69f035940b4800c087c8324eccc1                    0                    0   \n\n                                  2023-01-01 04:00:00  2023-01-01 05:00:00  \\\n60e6ccdbd1e5c4f9b7ab8c7fe73c1707                    0                    0   \nf609b88f3e96af8fb0dc57c97cf3c64a                    0                    0   \n73ed7a52159d7182ccdbc3d27bd618dd                    0                    0   \n324fce82ce405dba34ed2bda2ef5e1b1                    0                    0   \nc224a4e2c8c84b016c13b8625f7feaeb                    0                    0   \n109647cfbf344aafe275a11202c75cf8                    0                    0   \n2e5462a851a28200237dd6193778934b                    0                    0   \n1a96f639364a8320e86446cb72375da6                    0                    0   \nfe01331fc0b4317f73fc47feb5e0e0e2                    0                    0   \n29ec69f035940b4800c087c8324eccc1                    0                    0   \n\n                                  2023-01-01 06:00:00  2023-01-01 07:00:00  \\\n60e6ccdbd1e5c4f9b7ab8c7fe73c1707                    0                    0   \nf609b88f3e96af8fb0dc57c97cf3c64a                    0                    0   \n73ed7a52159d7182ccdbc3d27bd618dd                    0                    0   \n324fce82ce405dba34ed2bda2ef5e1b1                    0                    0   \nc224a4e2c8c84b016c13b8625f7feaeb                    0                    0   \n109647cfbf344aafe275a11202c75cf8                    0                    0   \n2e5462a851a28200237dd6193778934b                    0                    0   \n1a96f639364a8320e86446cb72375da6                    0                    0   \nfe01331fc0b4317f73fc47feb5e0e0e2                    0                    0   \n29ec69f035940b4800c087c8324eccc1                    0                    0   \n\n                                  2023-01-01 08:00:00  2023-01-01 09:00:00  \\\n60e6ccdbd1e5c4f9b7ab8c7fe73c1707                    0                    0   \nf609b88f3e96af8fb0dc57c97cf3c64a                    0                    0   \n73ed7a52159d7182ccdbc3d27bd618dd                    0                    0   \n324fce82ce405dba34ed2bda2ef5e1b1                    1                    0   \nc224a4e2c8c84b016c13b8625f7feaeb                    0                    0   \n109647cfbf344aafe275a11202c75cf8                    0                    0   \n2e5462a851a28200237dd6193778934b                    0                    0   \n1a96f639364a8320e86446cb72375da6                    0                    0   \nfe01331fc0b4317f73fc47feb5e0e0e2                    0                    0   \n29ec69f035940b4800c087c8324eccc1                    0                    0   \n\n                                  ...  2023-01-07 14:00:00  \\\n60e6ccdbd1e5c4f9b7ab8c7fe73c1707  ...                    0   \nf609b88f3e96af8fb0dc57c97cf3c64a  ...                    0   \n73ed7a52159d7182ccdbc3d27bd618dd  ...                    0   \n324fce82ce405dba34ed2bda2ef5e1b1  ...                    0   \nc224a4e2c8c84b016c13b8625f7feaeb  ...                    0   \n109647cfbf344aafe275a11202c75cf8  ...                    0   \n2e5462a851a28200237dd6193778934b  ...                    0   \n1a96f639364a8320e86446cb72375da6  ...                    0   \nfe01331fc0b4317f73fc47feb5e0e0e2  ...                    0   \n29ec69f035940b4800c087c8324eccc1  ...                    0   \n\n                                  2023-01-07 15:00:00  2023-01-07 16:00:00  \\\n60e6ccdbd1e5c4f9b7ab8c7fe73c1707                    0                    0   \nf609b88f3e96af8fb0dc57c97cf3c64a                    0                    0   \n73ed7a52159d7182ccdbc3d27bd618dd                    0                    0   \n324fce82ce405dba34ed2bda2ef5e1b1                    0                    0   \nc224a4e2c8c84b016c13b8625f7feaeb                    0                    0   \n109647cfbf344aafe275a11202c75cf8                    0                    0   \n2e5462a851a28200237dd6193778934b                    0                    0   \n1a96f639364a8320e86446cb72375da6                    0                    0   \nfe01331fc0b4317f73fc47feb5e0e0e2                    0                    0   \n29ec69f035940b4800c087c8324eccc1                    0                    0   \n\n                                  2023-01-07 17:00:00  2023-01-07 18:00:00  \\\n60e6ccdbd1e5c4f9b7ab8c7fe73c1707                    0                    0   \nf609b88f3e96af8fb0dc57c97cf3c64a                    0                    0   \n73ed7a52159d7182ccdbc3d27bd618dd                    0                    0   \n324fce82ce405dba34ed2bda2ef5e1b1                    0                    0   \nc224a4e2c8c84b016c13b8625f7feaeb                    0                    1   \n109647cfbf344aafe275a11202c75cf8                    0                    0   \n2e5462a851a28200237dd6193778934b                    0                    0   \n1a96f639364a8320e86446cb72375da6                    0                    0   \nfe01331fc0b4317f73fc47feb5e0e0e2                    0                    0   \n29ec69f035940b4800c087c8324eccc1                    0                    0   \n\n                                  2023-01-07 19:00:00  2023-01-07 20:00:00  \\\n60e6ccdbd1e5c4f9b7ab8c7fe73c1707                    0                    0   \nf609b88f3e96af8fb0dc57c97cf3c64a                    0                    0   \n73ed7a52159d7182ccdbc3d27bd618dd                    0                    0   \n324fce82ce405dba34ed2bda2ef5e1b1                    0                    0   \nc224a4e2c8c84b016c13b8625f7feaeb                    1                    0   \n109647cfbf344aafe275a11202c75cf8                    0                    0   \n2e5462a851a28200237dd6193778934b                    0                    0   \n1a96f639364a8320e86446cb72375da6                    0                    0   \nfe01331fc0b4317f73fc47feb5e0e0e2                    0                    0   \n29ec69f035940b4800c087c8324eccc1                    0                    0   \n\n                                  2023-01-07 21:00:00  2023-01-07 22:00:00  \\\n60e6ccdbd1e5c4f9b7ab8c7fe73c1707                    0                    0   \nf609b88f3e96af8fb0dc57c97cf3c64a                    0                    0   \n73ed7a52159d7182ccdbc3d27bd618dd                    0                    0   \n324fce82ce405dba34ed2bda2ef5e1b1                    0                    0   \nc224a4e2c8c84b016c13b8625f7feaeb                    0                    0   \n109647cfbf344aafe275a11202c75cf8                    0                    0   \n2e5462a851a28200237dd6193778934b                    0                    0   \n1a96f639364a8320e86446cb72375da6                    0                    0   \nfe01331fc0b4317f73fc47feb5e0e0e2                    0                    0   \n29ec69f035940b4800c087c8324eccc1                    0                    0   \n\n                                  2023-01-07 23:00:00  \n60e6ccdbd1e5c4f9b7ab8c7fe73c1707                    0  \nf609b88f3e96af8fb0dc57c97cf3c64a                    0  \n73ed7a52159d7182ccdbc3d27bd618dd                    0  \n324fce82ce405dba34ed2bda2ef5e1b1                    0  \nc224a4e2c8c84b016c13b8625f7feaeb                    0  \n109647cfbf344aafe275a11202c75cf8                    0  \n2e5462a851a28200237dd6193778934b                    0  \n1a96f639364a8320e86446cb72375da6                    0  \nfe01331fc0b4317f73fc47feb5e0e0e2                    0  \n29ec69f035940b4800c087c8324eccc1                    0  \n\n[10 rows x 168 columns]",
      "text/html": "<div>\n<style scoped>\n    .dataframe tbody tr th:only-of-type {\n        vertical-align: middle;\n    }\n\n    .dataframe tbody tr th {\n        vertical-align: top;\n    }\n\n    .dataframe thead th {\n        text-align: right;\n    }\n</style>\n<table border=\"1\" class=\"dataframe\">\n  <thead>\n    <tr style=\"text-align: right;\">\n      <th></th>\n      <th>2023-01-01 00:00:00</th>\n      <th>2023-01-01 01:00:00</th>\n      <th>2023-01-01 02:00:00</th>\n      <th>2023-01-01 03:00:00</th>\n      <th>2023-01-01 04:00:00</th>\n      <th>2023-01-01 05:00:00</th>\n      <th>2023-01-01 06:00:00</th>\n      <th>2023-01-01 07:00:00</th>\n      <th>2023-01-01 08:00:00</th>\n      <th>2023-01-01 09:00:00</th>\n      <th>...</th>\n      <th>2023-01-07 14:00:00</th>\n      <th>2023-01-07 15:00:00</th>\n      <th>2023-01-07 16:00:00</th>\n      <th>2023-01-07 17:00:00</th>\n      <th>2023-01-07 18:00:00</th>\n      <th>2023-01-07 19:00:00</th>\n      <th>2023-01-07 20:00:00</th>\n      <th>2023-01-07 21:00:00</th>\n      <th>2023-01-07 22:00:00</th>\n      <th>2023-01-07 23:00:00</th>\n    </tr>\n  </thead>\n  <tbody>\n    <tr>\n      <th>60e6ccdbd1e5c4f9b7ab8c7fe73c1707</th>\n      <td>0</td>\n      <td>0</td>\n      <td>0</td>\n      <td>0</td>\n      <td>0</td>\n      <td>0</td>\n      <td>0</td>\n      <td>0</td>\n      <td>0</td>\n      <td>0</td>\n      <td>...</td>\n      <td>0</td>\n      <td>0</td>\n      <td>0</td>\n      <td>0</td>\n      <td>0</td>\n      <td>0</td>\n      <td>0</td>\n      <td>0</td>\n      <td>0</td>\n      <td>0</td>\n    </tr>\n    <tr>\n      <th>f609b88f3e96af8fb0dc57c97cf3c64a</th>\n      <td>0</td>\n      <td>0</td>\n      <td>0</td>\n      <td>0</td>\n      <td>0</td>\n      <td>0</td>\n      <td>0</td>\n      <td>0</td>\n      <td>0</td>\n      <td>0</td>\n      <td>...</td>\n      <td>0</td>\n      <td>0</td>\n      <td>0</td>\n      <td>0</td>\n      <td>0</td>\n      <td>0</td>\n      <td>0</td>\n      <td>0</td>\n      <td>0</td>\n      <td>0</td>\n    </tr>\n    <tr>\n      <th>73ed7a52159d7182ccdbc3d27bd618dd</th>\n      <td>0</td>\n      <td>0</td>\n      <td>0</td>\n      <td>0</td>\n      <td>0</td>\n      <td>0</td>\n      <td>0</td>\n      <td>0</td>\n      <td>0</td>\n      <td>0</td>\n      <td>...</td>\n      <td>0</td>\n      <td>0</td>\n      <td>0</td>\n      <td>0</td>\n      <td>0</td>\n      <td>0</td>\n      <td>0</td>\n      <td>0</td>\n      <td>0</td>\n      <td>0</td>\n    </tr>\n    <tr>\n      <th>324fce82ce405dba34ed2bda2ef5e1b1</th>\n      <td>0</td>\n      <td>0</td>\n      <td>0</td>\n      <td>0</td>\n      <td>0</td>\n      <td>0</td>\n      <td>0</td>\n      <td>0</td>\n      <td>1</td>\n      <td>0</td>\n      <td>...</td>\n      <td>0</td>\n      <td>0</td>\n      <td>0</td>\n      <td>0</td>\n      <td>0</td>\n      <td>0</td>\n      <td>0</td>\n      <td>0</td>\n      <td>0</td>\n      <td>0</td>\n    </tr>\n    <tr>\n      <th>c224a4e2c8c84b016c13b8625f7feaeb</th>\n      <td>0</td>\n      <td>0</td>\n      <td>0</td>\n      <td>0</td>\n      <td>0</td>\n      <td>0</td>\n      <td>0</td>\n      <td>0</td>\n      <td>0</td>\n      <td>0</td>\n      <td>...</td>\n      <td>0</td>\n      <td>0</td>\n      <td>0</td>\n      <td>0</td>\n      <td>1</td>\n      <td>1</td>\n      <td>0</td>\n      <td>0</td>\n      <td>0</td>\n      <td>0</td>\n    </tr>\n    <tr>\n      <th>109647cfbf344aafe275a11202c75cf8</th>\n      <td>0</td>\n      <td>0</td>\n      <td>0</td>\n      <td>0</td>\n      <td>0</td>\n      <td>0</td>\n      <td>0</td>\n      <td>0</td>\n      <td>0</td>\n      <td>0</td>\n      <td>...</td>\n      <td>0</td>\n      <td>0</td>\n      <td>0</td>\n      <td>0</td>\n      <td>0</td>\n      <td>0</td>\n      <td>0</td>\n      <td>0</td>\n      <td>0</td>\n      <td>0</td>\n    </tr>\n    <tr>\n      <th>2e5462a851a28200237dd6193778934b</th>\n      <td>0</td>\n      <td>0</td>\n      <td>0</td>\n      <td>0</td>\n      <td>0</td>\n      <td>0</td>\n      <td>0</td>\n      <td>0</td>\n      <td>0</td>\n      <td>0</td>\n      <td>...</td>\n      <td>0</td>\n      <td>0</td>\n      <td>0</td>\n      <td>0</td>\n      <td>0</td>\n      <td>0</td>\n      <td>0</td>\n      <td>0</td>\n      <td>0</td>\n      <td>0</td>\n    </tr>\n    <tr>\n      <th>1a96f639364a8320e86446cb72375da6</th>\n      <td>0</td>\n      <td>0</td>\n      <td>0</td>\n      <td>0</td>\n      <td>0</td>\n      <td>0</td>\n      <td>0</td>\n      <td>0</td>\n      <td>0</td>\n      <td>0</td>\n      <td>...</td>\n      <td>0</td>\n      <td>0</td>\n      <td>0</td>\n      <td>0</td>\n      <td>0</td>\n      <td>0</td>\n      <td>0</td>\n      <td>0</td>\n      <td>0</td>\n      <td>0</td>\n    </tr>\n    <tr>\n      <th>fe01331fc0b4317f73fc47feb5e0e0e2</th>\n      <td>0</td>\n      <td>0</td>\n      <td>0</td>\n      <td>0</td>\n      <td>0</td>\n      <td>0</td>\n      <td>0</td>\n      <td>0</td>\n      <td>0</td>\n      <td>0</td>\n      <td>...</td>\n      <td>0</td>\n      <td>0</td>\n      <td>0</td>\n      <td>0</td>\n      <td>0</td>\n      <td>0</td>\n      <td>0</td>\n      <td>0</td>\n      <td>0</td>\n      <td>0</td>\n    </tr>\n    <tr>\n      <th>29ec69f035940b4800c087c8324eccc1</th>\n      <td>0</td>\n      <td>0</td>\n      <td>0</td>\n      <td>0</td>\n      <td>0</td>\n      <td>0</td>\n      <td>0</td>\n      <td>0</td>\n      <td>0</td>\n      <td>0</td>\n      <td>...</td>\n      <td>0</td>\n      <td>0</td>\n      <td>0</td>\n      <td>0</td>\n      <td>0</td>\n      <td>0</td>\n      <td>0</td>\n      <td>0</td>\n      <td>0</td>\n      <td>0</td>\n    </tr>\n  </tbody>\n</table>\n<p>10 rows × 168 columns</p>\n</div>"
     },
     "execution_count": 59,
     "metadata": {},
     "output_type": "execute_result"
    }
   ],
   "source": [
    "# EV Stopped History\n",
    "\n",
    "aggregator.simulation_dataframes['ev_stopped']"
   ],
   "metadata": {
    "collapsed": false,
    "pycharm": {
     "name": "#%%\n"
    }
   }
  },
  {
   "cell_type": "code",
   "execution_count": 60,
   "outputs": [
    {
     "data": {
      "text/plain": "                     Driving  Stopped\n2023-01-01 00:00:00     10.0      0.0\n2023-01-01 01:00:00     10.0      0.0\n2023-01-01 02:00:00     10.0      0.0\n2023-01-01 03:00:00     10.0      0.0\n2023-01-01 04:00:00     10.0      0.0\n...                      ...      ...\n2023-01-07 19:00:00      9.0      1.0\n2023-01-07 20:00:00     10.0      0.0\n2023-01-07 21:00:00     10.0      0.0\n2023-01-07 22:00:00     10.0      0.0\n2023-01-07 23:00:00     10.0      0.0\n\n[168 rows x 2 columns]",
      "text/html": "<div>\n<style scoped>\n    .dataframe tbody tr th:only-of-type {\n        vertical-align: middle;\n    }\n\n    .dataframe tbody tr th {\n        vertical-align: top;\n    }\n\n    .dataframe thead th {\n        text-align: right;\n    }\n</style>\n<table border=\"1\" class=\"dataframe\">\n  <thead>\n    <tr style=\"text-align: right;\">\n      <th></th>\n      <th>Driving</th>\n      <th>Stopped</th>\n    </tr>\n  </thead>\n  <tbody>\n    <tr>\n      <th>2023-01-01 00:00:00</th>\n      <td>10.0</td>\n      <td>0.0</td>\n    </tr>\n    <tr>\n      <th>2023-01-01 01:00:00</th>\n      <td>10.0</td>\n      <td>0.0</td>\n    </tr>\n    <tr>\n      <th>2023-01-01 02:00:00</th>\n      <td>10.0</td>\n      <td>0.0</td>\n    </tr>\n    <tr>\n      <th>2023-01-01 03:00:00</th>\n      <td>10.0</td>\n      <td>0.0</td>\n    </tr>\n    <tr>\n      <th>2023-01-01 04:00:00</th>\n      <td>10.0</td>\n      <td>0.0</td>\n    </tr>\n    <tr>\n      <th>...</th>\n      <td>...</td>\n      <td>...</td>\n    </tr>\n    <tr>\n      <th>2023-01-07 19:00:00</th>\n      <td>9.0</td>\n      <td>1.0</td>\n    </tr>\n    <tr>\n      <th>2023-01-07 20:00:00</th>\n      <td>10.0</td>\n      <td>0.0</td>\n    </tr>\n    <tr>\n      <th>2023-01-07 21:00:00</th>\n      <td>10.0</td>\n      <td>0.0</td>\n    </tr>\n    <tr>\n      <th>2023-01-07 22:00:00</th>\n      <td>10.0</td>\n      <td>0.0</td>\n    </tr>\n    <tr>\n      <th>2023-01-07 23:00:00</th>\n      <td>10.0</td>\n      <td>0.0</td>\n    </tr>\n  </tbody>\n</table>\n<p>168 rows × 2 columns</p>\n</div>"
     },
     "execution_count": 60,
     "metadata": {},
     "output_type": "execute_result"
    }
   ],
   "source": [
    "# Check when the EVs are stopped\n",
    "\n",
    "stopped_df = aggregator.simulation_dataframes['ev_stopped'].apply(pd.value_counts, axis=0)\n",
    "stopped_df.fillna(0, inplace=True)\n",
    "stopped_df = stopped_df.transpose()\n",
    "stopped_df.columns = ['Driving', 'Stopped']\n",
    "\n",
    "stopped_df"
   ],
   "metadata": {
    "collapsed": false,
    "pycharm": {
     "name": "#%%\n"
    }
   }
  },
  {
   "cell_type": "code",
   "execution_count": 61,
   "outputs": [
    {
     "data": {
      "text/plain": "<Figure size 1440x720 with 1 Axes>",
      "image/png": "[encoded data removed]"
     },
     "metadata": {
      "needs_background": "light"
     },
     "output_type": "display_data"
    }
   ],
   "source": [
    "# Plot a stacked bar chart of the ev_stopped DataFrame\n",
    "\n",
    "DAY = 3\n",
    "\n",
    "plt.figure(figsize=(20, 10))\n",
    "\n",
    "# Get the value counts of each charging type at each hour\n",
    "np.sum(aggregator.simulation_dataframes['ev_flexibility'].transpose().loc['2023-01-{:02d}'.format(DAY)], axis=1).plot()\n",
    "\n",
    "# Set the title\n",
    "plt.title('Flexibility - Day {}'.format(DAY))\n",
    "\n",
    "# Set the x-axis label\n",
    "plt.xlabel('Hour')\n",
    "\n",
    "# Set the y-axis label\n",
    "plt.ylabel('Number of EVs')\n",
    "\n",
    "# Set the y-axis to an integer\n",
    "#plt.yticks(np.arange(0, aggregator.number_of_evs))\n",
    "\n",
    "plt.show()"
   ],
   "metadata": {
    "collapsed": false,
    "pycharm": {
     "name": "#%%\n"
    }
   }
  },
  {
   "cell_type": "code",
   "execution_count": 62,
   "outputs": [
    {
     "data": {
      "text/plain": "<Figure size 720x720 with 1 Axes>",
      "image/png": "[encoded data removed]"
     },
     "metadata": {},
     "output_type": "display_data"
    }
   ],
   "source": [
    "# Plot a pie chart of the user profiles\n",
    "\n",
    "plt.figure(figsize=(10, 10))\n",
    "\n",
    "# Values of each group\n",
    "profile_values = aggregator.simulation_dataframes['population']['user_profile'].value_counts()\n",
    "plt.pie(profile_values, labels=profile_values.index, autopct='%1.1f%%')\n",
    "\n",
    "# View the plot\n",
    "plt.axis('equal')\n",
    "\n",
    "plt.show()"
   ],
   "metadata": {
    "collapsed": false,
    "pycharm": {
     "name": "#%%\n"
    }
   }
  },
  {
   "cell_type": "code",
   "execution_count": 63,
   "outputs": [
    {
     "data": {
      "text/plain": "                                  2023-01-01 00:00:00  2023-01-01 01:00:00  \\\n60e6ccdbd1e5c4f9b7ab8c7fe73c1707                    0                    0   \nf609b88f3e96af8fb0dc57c97cf3c64a                    0                    0   \n73ed7a52159d7182ccdbc3d27bd618dd                    0                    0   \n324fce82ce405dba34ed2bda2ef5e1b1                    0                    0   \nc224a4e2c8c84b016c13b8625f7feaeb                    0                    0   \n109647cfbf344aafe275a11202c75cf8                    0                    0   \n2e5462a851a28200237dd6193778934b                    0                    0   \n1a96f639364a8320e86446cb72375da6                    0                    0   \nfe01331fc0b4317f73fc47feb5e0e0e2                    0                    0   \n29ec69f035940b4800c087c8324eccc1                    0                    0   \n\n                                  2023-01-01 02:00:00  2023-01-01 03:00:00  \\\n60e6ccdbd1e5c4f9b7ab8c7fe73c1707                    0                    0   \nf609b88f3e96af8fb0dc57c97cf3c64a                    0                    0   \n73ed7a52159d7182ccdbc3d27bd618dd                    0                    0   \n324fce82ce405dba34ed2bda2ef5e1b1                    0                    0   \nc224a4e2c8c84b016c13b8625f7feaeb                    0                    0   \n109647cfbf344aafe275a11202c75cf8                    0                    0   \n2e5462a851a28200237dd6193778934b                    0                    0   \n1a96f639364a8320e86446cb72375da6                    0                    0   \nfe01331fc0b4317f73fc47feb5e0e0e2                    0                    0   \n29ec69f035940b4800c087c8324eccc1                    0                    0   \n\n                                  2023-01-01 04:00:00  2023-01-01 05:00:00  \\\n60e6ccdbd1e5c4f9b7ab8c7fe73c1707                    0                    0   \nf609b88f3e96af8fb0dc57c97cf3c64a                    0                    0   \n73ed7a52159d7182ccdbc3d27bd618dd                    0                    0   \n324fce82ce405dba34ed2bda2ef5e1b1                    0                    0   \nc224a4e2c8c84b016c13b8625f7feaeb                    0                    0   \n109647cfbf344aafe275a11202c75cf8                    0                    0   \n2e5462a851a28200237dd6193778934b                    0                    0   \n1a96f639364a8320e86446cb72375da6                    0                    0   \nfe01331fc0b4317f73fc47feb5e0e0e2                    0                    0   \n29ec69f035940b4800c087c8324eccc1                    0                    0   \n\n                                  2023-01-01 06:00:00  2023-01-01 07:00:00  \\\n60e6ccdbd1e5c4f9b7ab8c7fe73c1707                    0                    0   \nf609b88f3e96af8fb0dc57c97cf3c64a                    0                    0   \n73ed7a52159d7182ccdbc3d27bd618dd                    0                    0   \n324fce82ce405dba34ed2bda2ef5e1b1                    0                    0   \nc224a4e2c8c84b016c13b8625f7feaeb                    0                    0   \n109647cfbf344aafe275a11202c75cf8                    0                    0   \n2e5462a851a28200237dd6193778934b                    0                    0   \n1a96f639364a8320e86446cb72375da6                    0                    0   \nfe01331fc0b4317f73fc47feb5e0e0e2                    0                    0   \n29ec69f035940b4800c087c8324eccc1                    0                    0   \n\n                                  2023-01-01 08:00:00  2023-01-01 09:00:00  \\\n60e6ccdbd1e5c4f9b7ab8c7fe73c1707                    0                    0   \nf609b88f3e96af8fb0dc57c97cf3c64a                    0                    0   \n73ed7a52159d7182ccdbc3d27bd618dd                    0                    0   \n324fce82ce405dba34ed2bda2ef5e1b1                   22                   22   \nc224a4e2c8c84b016c13b8625f7feaeb                    0                    0   \n109647cfbf344aafe275a11202c75cf8                    0                    0   \n2e5462a851a28200237dd6193778934b                    0                    0   \n1a96f639364a8320e86446cb72375da6                    0                    0   \nfe01331fc0b4317f73fc47feb5e0e0e2                    0                    0   \n29ec69f035940b4800c087c8324eccc1                    0                    0   \n\n                                  ...  2023-01-07 14:00:00  \\\n60e6ccdbd1e5c4f9b7ab8c7fe73c1707  ...                    0   \nf609b88f3e96af8fb0dc57c97cf3c64a  ...                    0   \n73ed7a52159d7182ccdbc3d27bd618dd  ...                    0   \n324fce82ce405dba34ed2bda2ef5e1b1  ...                   22   \nc224a4e2c8c84b016c13b8625f7feaeb  ...                    0   \n109647cfbf344aafe275a11202c75cf8  ...                    0   \n2e5462a851a28200237dd6193778934b  ...                    0   \n1a96f639364a8320e86446cb72375da6  ...                    0   \nfe01331fc0b4317f73fc47feb5e0e0e2  ...                    0   \n29ec69f035940b4800c087c8324eccc1  ...                    0   \n\n                                  2023-01-07 15:00:00  2023-01-07 16:00:00  \\\n60e6ccdbd1e5c4f9b7ab8c7fe73c1707                    0                    0   \nf609b88f3e96af8fb0dc57c97cf3c64a                    0                    0   \n73ed7a52159d7182ccdbc3d27bd618dd                    0                    0   \n324fce82ce405dba34ed2bda2ef5e1b1                   22                   22   \nc224a4e2c8c84b016c13b8625f7feaeb                    0                    0   \n109647cfbf344aafe275a11202c75cf8                    0                    0   \n2e5462a851a28200237dd6193778934b                    0                    0   \n1a96f639364a8320e86446cb72375da6                    0                    0   \nfe01331fc0b4317f73fc47feb5e0e0e2                    0                    0   \n29ec69f035940b4800c087c8324eccc1                    0                    0   \n\n                                  2023-01-07 17:00:00  2023-01-07 18:00:00  \\\n60e6ccdbd1e5c4f9b7ab8c7fe73c1707                    0                    0   \nf609b88f3e96af8fb0dc57c97cf3c64a                    0                    0   \n73ed7a52159d7182ccdbc3d27bd618dd                    0                    0   \n324fce82ce405dba34ed2bda2ef5e1b1                   22                   22   \nc224a4e2c8c84b016c13b8625f7feaeb                    0                    0   \n109647cfbf344aafe275a11202c75cf8                    0                    0   \n2e5462a851a28200237dd6193778934b                    0                    0   \n1a96f639364a8320e86446cb72375da6                    0                    0   \nfe01331fc0b4317f73fc47feb5e0e0e2                    0                    0   \n29ec69f035940b4800c087c8324eccc1                    0                    0   \n\n                                  2023-01-07 19:00:00  2023-01-07 20:00:00  \\\n60e6ccdbd1e5c4f9b7ab8c7fe73c1707                    0                    0   \nf609b88f3e96af8fb0dc57c97cf3c64a                    0                    0   \n73ed7a52159d7182ccdbc3d27bd618dd                    0                    0   \n324fce82ce405dba34ed2bda2ef5e1b1                    0                    0   \nc224a4e2c8c84b016c13b8625f7feaeb                    0                    0   \n109647cfbf344aafe275a11202c75cf8                    0                    0   \n2e5462a851a28200237dd6193778934b                    0                    0   \n1a96f639364a8320e86446cb72375da6                    0                    0   \nfe01331fc0b4317f73fc47feb5e0e0e2                    0                    0   \n29ec69f035940b4800c087c8324eccc1                    0                    0   \n\n                                  2023-01-07 21:00:00  2023-01-07 22:00:00  \\\n60e6ccdbd1e5c4f9b7ab8c7fe73c1707                    0                    0   \nf609b88f3e96af8fb0dc57c97cf3c64a                    0                    0   \n73ed7a52159d7182ccdbc3d27bd618dd                    0                    0   \n324fce82ce405dba34ed2bda2ef5e1b1                    0                    0   \nc224a4e2c8c84b016c13b8625f7feaeb                    0                    0   \n109647cfbf344aafe275a11202c75cf8                    0                    0   \n2e5462a851a28200237dd6193778934b                    0                    0   \n1a96f639364a8320e86446cb72375da6                    0                    0   \nfe01331fc0b4317f73fc47feb5e0e0e2                    0                    0   \n29ec69f035940b4800c087c8324eccc1                    0                    0   \n\n                                  2023-01-07 23:00:00  \n60e6ccdbd1e5c4f9b7ab8c7fe73c1707                    0  \nf609b88f3e96af8fb0dc57c97cf3c64a                    0  \n73ed7a52159d7182ccdbc3d27bd618dd                    0  \n324fce82ce405dba34ed2bda2ef5e1b1                    0  \nc224a4e2c8c84b016c13b8625f7feaeb                    0  \n109647cfbf344aafe275a11202c75cf8                    0  \n2e5462a851a28200237dd6193778934b                    0  \n1a96f639364a8320e86446cb72375da6                    0  \nfe01331fc0b4317f73fc47feb5e0e0e2                    0  \n29ec69f035940b4800c087c8324eccc1                    0  \n\n[10 rows x 168 columns]",
      "text/html": "<div>\n<style scoped>\n    .dataframe tbody tr th:only-of-type {\n        vertical-align: middle;\n    }\n\n    .dataframe tbody tr th {\n        vertical-align: top;\n    }\n\n    .dataframe thead th {\n        text-align: right;\n    }\n</style>\n<table border=\"1\" class=\"dataframe\">\n  <thead>\n    <tr style=\"text-align: right;\">\n      <th></th>\n      <th>2023-01-01 00:00:00</th>\n      <th>2023-01-01 01:00:00</th>\n      <th>2023-01-01 02:00:00</th>\n      <th>2023-01-01 03:00:00</th>\n      <th>2023-01-01 04:00:00</th>\n      <th>2023-01-01 05:00:00</th>\n      <th>2023-01-01 06:00:00</th>\n      <th>2023-01-01 07:00:00</th>\n      <th>2023-01-01 08:00:00</th>\n      <th>2023-01-01 09:00:00</th>\n      <th>...</th>\n      <th>2023-01-07 14:00:00</th>\n      <th>2023-01-07 15:00:00</th>\n      <th>2023-01-07 16:00:00</th>\n      <th>2023-01-07 17:00:00</th>\n      <th>2023-01-07 18:00:00</th>\n      <th>2023-01-07 19:00:00</th>\n      <th>2023-01-07 20:00:00</th>\n      <th>2023-01-07 21:00:00</th>\n      <th>2023-01-07 22:00:00</th>\n      <th>2023-01-07 23:00:00</th>\n    </tr>\n  </thead>\n  <tbody>\n    <tr>\n      <th>60e6ccdbd1e5c4f9b7ab8c7fe73c1707</th>\n      <td>0</td>\n      <td>0</td>\n      <td>0</td>\n      <td>0</td>\n      <td>0</td>\n      <td>0</td>\n      <td>0</td>\n      <td>0</td>\n      <td>0</td>\n      <td>0</td>\n      <td>...</td>\n      <td>0</td>\n      <td>0</td>\n      <td>0</td>\n      <td>0</td>\n      <td>0</td>\n      <td>0</td>\n      <td>0</td>\n      <td>0</td>\n      <td>0</td>\n      <td>0</td>\n    </tr>\n    <tr>\n      <th>f609b88f3e96af8fb0dc57c97cf3c64a</th>\n      <td>0</td>\n      <td>0</td>\n      <td>0</td>\n      <td>0</td>\n      <td>0</td>\n      <td>0</td>\n      <td>0</td>\n      <td>0</td>\n      <td>0</td>\n      <td>0</td>\n      <td>...</td>\n      <td>0</td>\n      <td>0</td>\n      <td>0</td>\n      <td>0</td>\n      <td>0</td>\n      <td>0</td>\n      <td>0</td>\n      <td>0</td>\n      <td>0</td>\n      <td>0</td>\n    </tr>\n    <tr>\n      <th>73ed7a52159d7182ccdbc3d27bd618dd</th>\n      <td>0</td>\n      <td>0</td>\n      <td>0</td>\n      <td>0</td>\n      <td>0</td>\n      <td>0</td>\n      <td>0</td>\n      <td>0</td>\n      <td>0</td>\n      <td>0</td>\n      <td>...</td>\n      <td>0</td>\n      <td>0</td>\n      <td>0</td>\n      <td>0</td>\n      <td>0</td>\n      <td>0</td>\n      <td>0</td>\n      <td>0</td>\n      <td>0</td>\n      <td>0</td>\n    </tr>\n    <tr>\n      <th>324fce82ce405dba34ed2bda2ef5e1b1</th>\n      <td>0</td>\n      <td>0</td>\n      <td>0</td>\n      <td>0</td>\n      <td>0</td>\n      <td>0</td>\n      <td>0</td>\n      <td>0</td>\n      <td>22</td>\n      <td>22</td>\n      <td>...</td>\n      <td>22</td>\n      <td>22</td>\n      <td>22</td>\n      <td>22</td>\n      <td>22</td>\n      <td>0</td>\n      <td>0</td>\n      <td>0</td>\n      <td>0</td>\n      <td>0</td>\n    </tr>\n    <tr>\n      <th>c224a4e2c8c84b016c13b8625f7feaeb</th>\n      <td>0</td>\n      <td>0</td>\n      <td>0</td>\n      <td>0</td>\n      <td>0</td>\n      <td>0</td>\n      <td>0</td>\n      <td>0</td>\n      <td>0</td>\n      <td>0</td>\n      <td>...</td>\n      <td>0</td>\n      <td>0</td>\n      <td>0</td>\n      <td>0</td>\n      <td>0</td>\n      <td>0</td>\n      <td>0</td>\n      <td>0</td>\n      <td>0</td>\n      <td>0</td>\n    </tr>\n    <tr>\n      <th>109647cfbf344aafe275a11202c75cf8</th>\n      <td>0</td>\n      <td>0</td>\n      <td>0</td>\n      <td>0</td>\n      <td>0</td>\n      <td>0</td>\n      <td>0</td>\n      <td>0</td>\n      <td>0</td>\n      <td>0</td>\n      <td>...</td>\n      <td>0</td>\n      <td>0</td>\n      <td>0</td>\n      <td>0</td>\n      <td>0</td>\n      <td>0</td>\n      <td>0</td>\n      <td>0</td>\n      <td>0</td>\n      <td>0</td>\n    </tr>\n    <tr>\n      <th>2e5462a851a28200237dd6193778934b</th>\n      <td>0</td>\n      <td>0</td>\n      <td>0</td>\n      <td>0</td>\n      <td>0</td>\n      <td>0</td>\n      <td>0</td>\n      <td>0</td>\n      <td>0</td>\n      <td>0</td>\n      <td>...</td>\n      <td>0</td>\n      <td>0</td>\n      <td>0</td>\n      <td>0</td>\n      <td>0</td>\n      <td>0</td>\n      <td>0</td>\n      <td>0</td>\n      <td>0</td>\n      <td>0</td>\n    </tr>\n    <tr>\n      <th>1a96f639364a8320e86446cb72375da6</th>\n      <td>0</td>\n      <td>0</td>\n      <td>0</td>\n      <td>0</td>\n      <td>0</td>\n      <td>0</td>\n      <td>0</td>\n      <td>0</td>\n      <td>0</td>\n      <td>0</td>\n      <td>...</td>\n      <td>0</td>\n      <td>0</td>\n      <td>0</td>\n      <td>0</td>\n      <td>0</td>\n      <td>0</td>\n      <td>0</td>\n      <td>0</td>\n      <td>0</td>\n      <td>0</td>\n    </tr>\n    <tr>\n      <th>fe01331fc0b4317f73fc47feb5e0e0e2</th>\n      <td>0</td>\n      <td>0</td>\n      <td>0</td>\n      <td>0</td>\n      <td>0</td>\n      <td>0</td>\n      <td>0</td>\n      <td>0</td>\n      <td>0</td>\n      <td>0</td>\n      <td>...</td>\n      <td>0</td>\n      <td>0</td>\n      <td>0</td>\n      <td>0</td>\n      <td>0</td>\n      <td>0</td>\n      <td>0</td>\n      <td>0</td>\n      <td>0</td>\n      <td>0</td>\n    </tr>\n    <tr>\n      <th>29ec69f035940b4800c087c8324eccc1</th>\n      <td>0</td>\n      <td>0</td>\n      <td>0</td>\n      <td>0</td>\n      <td>0</td>\n      <td>0</td>\n      <td>0</td>\n      <td>0</td>\n      <td>0</td>\n      <td>0</td>\n      <td>...</td>\n      <td>0</td>\n      <td>0</td>\n      <td>0</td>\n      <td>0</td>\n      <td>0</td>\n      <td>0</td>\n      <td>0</td>\n      <td>0</td>\n      <td>0</td>\n      <td>0</td>\n    </tr>\n  </tbody>\n</table>\n<p>10 rows × 168 columns</p>\n</div>"
     },
     "execution_count": 63,
     "metadata": {},
     "output_type": "execute_result"
    }
   ],
   "source": [
    "# Flexibility power\n",
    "\n",
    "aggregator.simulation_dataframes['ev_flexibility_power']"
   ],
   "metadata": {
    "collapsed": false,
    "pycharm": {
     "name": "#%%\n"
    }
   }
  },
  {
   "cell_type": "code",
   "execution_count": null,
   "outputs": [],
   "source": [
    "\n",
    "# input - simulador - output\n",
    "# input - NN - output\n",
    "\n",
    "# modelação de sistemas ciberfisicos -> criar uma ferramenta para criar o simulador\n",
    "# building information models\n",
    "\n",
    "# domain specific languages\n",
    "# utilização modelica para simulação\n",
    "# comparação simulador com modelica\n",
    "\n",
    "# model driven engineering"
   ],
   "metadata": {
    "collapsed": false,
    "pycharm": {
     "name": "#%%\n"
    }
   }
  },
  {
   "cell_type": "code",
   "execution_count": 14,
   "outputs": [],
   "source": [
    "# Save all the simulation dataframes to a individual CSV files\n",
    "\n",
    "import os\n",
    "\n",
    "# Create the directory\n",
    "if not os.path.exists('simulation_dataframes'):\n",
    "    os.makedirs('simulation_dataframes')\n",
    "\n",
    "for current_df in aggregator.simulation_dataframes.keys():\n",
    "    aggregator.simulation_dataframes[current_df].to_csv('simulation_dataframes/{}_{}.csv'.format(current_df, aggregator.simulation_cycles))"
   ],
   "metadata": {
    "collapsed": false,
    "pycharm": {
     "name": "#%%\n"
    }
   }
  },
  {
   "cell_type": "code",
   "execution_count": null,
   "outputs": [],
   "source": [],
   "metadata": {
    "collapsed": false,
    "pycharm": {
     "name": "#%%\n"
    }
   }
  }
 ],
 "metadata": {
  "kernelspec": {
   "display_name": "Python 3",
   "language": "python",
   "name": "python3"
  },
  "language_info": {
   "codemirror_mode": {
    "name": "ipython",
    "version": 2
   },
   "file_extension": ".py",
   "mimetype": "text/x-python",
   "name": "python",
   "nbconvert_exporter": "python",
   "pygments_lexer": "ipython2",
   "version": "2.7.6"
  }
 },
 "nbformat": 4,
 "nbformat_minor": 0
}